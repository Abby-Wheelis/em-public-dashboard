{
 "cells": [
  {
   "cell_type": "markdown",
   "metadata": {},
   "source": [
    "## Generate Static Graphs"
   ]
  },
  {
   "cell_type": "markdown",
   "metadata": {},
   "source": [
    "These are the input parameters for the notebook. They will be automatically changed when the scripts to generate monthly statistics are run. You can modify them manually to generate multiple plots locally as well.\n",
    "\n",
    "Pass in `None` to remove the filters and plot all data. This is not recommended for production settings, but might be useful for reports based on data snapshots."
   ]
  },
  {
   "cell_type": "code",
   "execution_count": null,
   "metadata": {},
   "outputs": [],
   "source": [
    "year = 2021\n",
    "month = 9\n",
    "program = \"prepilot\"\n",
    "study_type = \"study\"\n",
    "mode_of_interest = None"
   ]
  },
  {
   "cell_type": "code",
   "execution_count": null,
   "metadata": {},
   "outputs": [],
   "source": [
    "from collections import defaultdict\n",
    "import datetime\n",
    "import sys\n",
    "\n",
    "import matplotlib.pyplot as plt\n",
    "import numpy as np\n",
    "import pandas as pd\n",
    "import seaborn as sns\n",
    "\n",
    "from plots import *\n",
    "import scaffolding\n",
    "from uuid import UUID\n",
    "\n",
    "sns.set_style(\"whitegrid\")\n",
    "sns.set()\n",
    "%matplotlib inline"
   ]
  },
  {
   "cell_type": "code",
   "execution_count": null,
   "metadata": {},
   "outputs": [],
   "source": [
    "# Loading mapping dictionaries from mapping_dictionaries notebook\n",
    "%store -r df_ei\n",
    "%store -r dic_re\n",
    "%store -r dic_pur\n",
    "%store -r dic_fuel\n",
    "\n",
    "# convert a dictionary to a defaultdict\n",
    "dic_re = defaultdict(lambda: 'Other',dic_re)\n",
    "dic_pur = defaultdict(lambda: 'Other',dic_pur)\n",
    "dic_fuel = defaultdict(lambda: 'Other',dic_fuel)"
   ]
  },
  {
   "cell_type": "markdown",
   "metadata": {},
   "source": [
    "## Collect Data From Database"
   ]
  },
  {
   "cell_type": "code",
   "execution_count": null,
   "metadata": {},
   "outputs": [],
   "source": [
    "tq = scaffolding.get_time_query(year, month)\n",
    "participant_ct_df = scaffolding.load_all_participant_trips(program, tq)\n",
    "labeled_ct = scaffolding.filter_labeled_trips(participant_ct_df)\n",
    "expanded_ct = scaffolding.expand_userinputs(labeled_ct)\n",
    "expanded_ct = scaffolding.data_quality_check(expanded_ct)"
   ]
  },
  {
   "cell_type": "code",
   "execution_count": null,
   "metadata": {},
   "outputs": [],
   "source": [
    "# Mapping new labels with dictionaries\n",
    "expanded_ct['Trip_purpose']= expanded_ct['purpose_confirm'].map(dic_pur)\n",
    "expanded_ct['Mode_confirm']= expanded_ct['mode_confirm'].map(dic_re)\n",
    "expanded_ct['Replaced_mode']= expanded_ct['replaced_mode'].map(dic_re)\n",
    "\n",
    "# Mapping fuel\n",
    "expanded_ct['Mode_confirm_fuel']= expanded_ct['Mode_confirm'].map(dic_fuel)\n",
    "expanded_ct['Replaced_mode_fuel']= expanded_ct['Replaced_mode'].map(dic_fuel)\n",
    "\n",
    "# Change meters to miles\n",
    "scaffolding.unit_conversions(expanded_ct)\n",
    "\n",
    "# Calculate energy impact\n",
    "expanded_ct = scaffolding.energy_intensity(expanded_ct, df_ei, 'distance_miles', 'Replaced_mode', 'Mode_confirm')\n",
    "expanded_ct = scaffolding.energy_impact_kWH(expanded_ct, 'distance_miles', 'Replaced_mode', 'Mode_confirm')\n",
    "expanded_ct = scaffolding.CO2_impact_lb(expanded_ct, 'distance_miles', 'Replaced_mode', 'Mode_confirm')"
   ]
  },
  {
   "cell_type": "code",
   "execution_count": null,
   "metadata": {},
   "outputs": [],
   "source": [
    "file_suffix = scaffolding.get_file_suffix(year, month, program)\n",
    "quality_text = scaffolding.get_quality_text(participant_ct_df, expanded_ct)"
   ]
  },
  {
   "cell_type": "markdown",
   "metadata": {},
   "source": [
    "## Data Preprocessing"
   ]
  },
  {
   "cell_type": "code",
   "execution_count": null,
   "metadata": {},
   "outputs": [],
   "source": [
    "# Get timestamp from known year/month/day aggregated to days\n",
    "data = expanded_ct[['user_id','start_local_dt_year','start_local_dt_month','start_local_dt_day','Mode_confirm','Mode_confirm_EI(kWH)','Mode_confirm_lb_CO2','distance_miles']].copy()\n",
    "data.rename(columns={'start_local_dt_year':'year','start_local_dt_month':'month','start_local_dt_day':'day'}, inplace=True)\n",
    "data['date_time'] = pd.to_datetime(data[['year','month','day']])\n",
    "data = data.drop(columns=['year','month','day'])\n",
    "\n",
    "# Categorical type will include all days/modes in groupby even if there is no data for a particular tabulation\n",
    "data.user_id = pd.Categorical(data.user_id)\n",
    "data.date_time = pd.Categorical(data.date_time)\n",
    "data.Mode_confirm = pd.Categorical(data.Mode_confirm,\n",
    "                                   ordered=True,\n",
    "                                   categories=['Car, drove alone',\n",
    "                                              'Car, with others',\n",
    "                                              'Taxi/Uber/Lyft',\n",
    "                                              'Bus',\n",
    "                                              'Free Shuttle',\n",
    "                                              'Train',\n",
    "                                              'Bikeshare',\n",
    "                                              'Pilot ebike',\n",
    "                                              'Regular Bike',\n",
    "                                              'Scooter share',\n",
    "                                              'Skate board',\n",
    "                                              'Walk',\n",
    "                                              'Other',\n",
    "                                              'Not a Trip'])\n",
    "\n",
    "data.head()"
   ]
  },
  {
   "cell_type": "code",
   "execution_count": null,
   "metadata": {
    "scrolled": true
   },
   "outputs": [],
   "source": [
    "# Count the number of trips for each confirmed mode\n",
    "mode_counts = data.groupby(['user_id','date_time','Mode_confirm'], as_index=False).size()\n",
    "mode_counts.rename(columns={'size':'trip_count'}, inplace=True)\n",
    "\n",
    "# Sum daily distance traveled for each mode\n",
    "mode_distance = data.groupby(['user_id','date_time','Mode_confirm'], as_index=False)[['distance_miles']].sum()\n",
    "mode_distance.rename(columns={'sum':'distance_miles'}, inplace=True)\n",
    "mode_distance['distance_miles'] = mode_distance['distance_miles'].fillna(0)\n",
    "\n",
    "# Sum daily emissions for each user\n",
    "emissions = data.groupby(['user_id','date_time'], as_index=False)[['Mode_confirm_lb_CO2', 'distance_miles']].sum()\n",
    "emissions['Mode_confirm_lb_CO2'] = emissions['Mode_confirm_lb_CO2'].fillna(0)\n",
    "emissions['distance_miles'] = emissions['Mode_confirm_lb_CO2'].fillna(0)\n",
    "\n",
    "# Sum daily energy for each user\n",
    "energy = data.groupby(['user_id','date_time'], as_index=False)[['Mode_confirm_EI(kWH)', 'distance_miles']].sum()\n",
    "energy['Mode_confirm_EI(kWH)'] = energy['Mode_confirm_EI(kWH)'].fillna(0)\n",
    "energy['distance_miles'] = energy['Mode_confirm_EI(kWH)'].fillna(0)\n",
    "\n",
    "# Get the count of unique users that were active on each given date\n",
    "active_users = pd.DataFrame(data.groupby(['date_time'], as_index=False)['user_id'].nunique())\n",
    "active_users.rename(columns={'user_id':'active_users'}, inplace=True)\n",
    "\n",
    "# Add 7-day rolling avg smoothing to better see trends\n",
    "mode_counts['trip_count_smooth'] = mode_counts.groupby(['user_id','Mode_confirm'])['trip_count'].apply(lambda x: x.rolling(7,1).mean())\n",
    "mode_distance['distance_miles_smooth'] = mode_distance.groupby(['user_id','Mode_confirm'])['distance_miles'].apply(lambda x: x.rolling(7,1).mean())\n",
    "emissions['distance_miles_smooth'] = emissions.groupby(['user_id'])['distance_miles'].apply(lambda x: x.rolling(7,1).mean())\n",
    "energy['distance_miles_smooth'] = energy.groupby(['user_id'])['distance_miles'].apply(lambda x: x.rolling(7,1).mean())"
   ]
  },
  {
   "cell_type": "markdown",
   "metadata": {},
   "source": [
    "## Generate Timeseries Plots"
   ]
  },
  {
   "cell_type": "markdown",
   "metadata": {},
   "source": [
    "### Emissions per week"
   ]
  },
  {
   "cell_type": "code",
   "execution_count": null,
   "metadata": {},
   "outputs": [],
   "source": [
    "# Emissions per week across all users (net impact)\n",
    "plot_data = emissions.groupby(['date_time'], as_index=False)['Mode_confirm_lb_CO2'].agg(['sum'])\n",
    "plot_data = plot_data.merge(active_users, on='date_time')\n",
    "plot_data['sum'] = plot_data['sum'] / plot_data['active_users']\n",
    "\n",
    "plot_title = 'Net Daily Emissions (All Users, excluding air)\\n%s'%quality_text\n",
    "ylab = 'Emissions (lb CO2/day/user)'\n",
    "file_name = \"ts_emissions_user%s.png\"%file_suffix\n",
    "timeseries_plot(plot_data['date_time'], plot_data['sum'], plot_title, ylab, file_name)\n",
    "alt_text = scaffolding.store_alt_text_timeseries(plot_data, file_name, plot_title, './alt_text_lookup.json')"
   ]
  },
  {
   "cell_type": "markdown",
   "metadata": {},
   "source": [
    "### Energy per week"
   ]
  },
  {
   "cell_type": "code",
   "execution_count": null,
   "metadata": {},
   "outputs": [],
   "source": [
    "# Energy per week across all users (net impact)\n",
    "plot_data = energy.groupby(['date_time'], as_index=False)['Mode_confirm_EI(kWH)'].agg(['sum'])\n",
    "plot_data = plot_data.merge(active_users, on='date_time')\n",
    "plot_data['sum'] = plot_data['sum'] / plot_data['active_users']\n",
    "\n",
    "plot_title = 'Net Daily Energy (All Users, excluding air)\\n%s'%quality_text\n",
    "ylab = 'Energy (kWH/day/user)'\n",
    "file_name = \"ts_energy_user%s.png\"%file_suffix\n",
    "timeseries_plot(plot_data['date_time'], plot_data['sum'], plot_title, ylab, file_name)\n",
    "alt_text = scaffolding.store_alt_text_timeseries(plot_data, file_name, plot_title, './alt_text_lookup.json')"
   ]
  },
  {
   "cell_type": "markdown",
   "metadata": {},
   "source": [
    "### Emissions per mile per day"
   ]
  },
  {
   "cell_type": "code",
   "execution_count": null,
   "metadata": {},
   "outputs": [],
   "source": [
    "# Emissions per mile per day across all users (travel efficiency)\n",
    "# Note that the energy plot will be identical to this one since scale factor is divided out\n",
    "emissions['CO2_per_mile'] = emissions['Mode_confirm_lb_CO2'] / emissions['distance_miles_smooth']\n",
    "emissions['CO2_per_mile'] = emissions['CO2_per_mile'].fillna(0)\n",
    "plot_data = emissions.groupby(['date_time'])['CO2_per_mile'].agg(['mean']).reset_index()\n",
    "\n",
    "plot_title = 'Average Daily Emission Rate (All Users, excluding air)\\n%s'%quality_text\n",
    "ylab = 'Emissions (lb CO2/mile/day)'\n",
    "file_name = \"ts_emissions_vmt%s.png\"%file_suffix\n",
    "timeseries_plot(plot_data['date_time'], plot_data['mean'], plot_title, ylab, file_name)\n",
    "alt_text = scaffolding.store_alt_text_timeseries(plot_data, file_name, plot_title, './alt_text_lookup.json')"
   ]
  },
  {
   "cell_type": "markdown",
   "metadata": {},
   "source": [
    "### Number of active users"
   ]
  },
  {
   "cell_type": "code",
   "execution_count": null,
   "metadata": {},
   "outputs": [],
   "source": [
    "# Plot of active users\n",
    "plot_data = active_users\n",
    "\n",
    "plot_title = 'Number of Active Users\\n%s'%quality_text\n",
    "ylab = 'Unique IDs'\n",
    "file_name = \"ts_users%s.png\"%file_suffix\n",
    "timeseries_plot(plot_data['date_time'], plot_data['active_users'], plot_title, ylab, file_name)\n",
    "alt_text = scaffolding.store_alt_text_timeseries(plot_data, file_name, plot_title, './alt_text_lookup.json')"
   ]
  },
  {
   "cell_type": "markdown",
   "metadata": {},
   "source": [
    "### Daily Mode share"
   ]
  },
  {
   "cell_type": "code",
   "execution_count": null,
   "metadata": {},
   "outputs": [],
   "source": [
    "# Plot of mode share proportions across all users\n",
    "# Consolidate modes\n",
    "plot_data = mode_counts.replace('Bikeshare', 'Shared Micromobility')\n",
    "plot_data = plot_data.replace('Scooter share', 'Shared Micromobility')\n",
    "plot_data = plot_data.replace('Regular Bike', 'Personal Micromobility')\n",
    "plot_data = plot_data.replace('Skate board', 'Personal Micromobility')\n",
    "plot_data = plot_data.replace('Train', 'Transit')\n",
    "plot_data = plot_data.replace('Free Shuttle', 'Transit')\n",
    "plot_data = plot_data.replace('Bus', 'Transit')\n",
    "plot_data = plot_data.replace('Walk', 'Walk')\n",
    "plot_data = plot_data.replace('Taxi/Uber/Lyft', 'Ridehail')\n",
    "plot_data = plot_data.replace('Pilot ebike', 'E-Bike')\n",
    "\n",
    "plot_data = plot_data.groupby(['date_time','Mode_confirm'], as_index=False)['trip_count_smooth'].sum()\n",
    "total_trips = plot_data.groupby(['date_time'], as_index=False).sum()\n",
    "plot_data = plot_data.merge(total_trips, on='date_time')\n",
    "plot_data['trip_proportion'] = plot_data['trip_count_smooth_x'] / plot_data['trip_count_smooth_y']\n",
    "\n",
    "# Re-establish categorical variable to not include Other and Non-trips\n",
    "plot_data = plot_data[~plot_data['Mode_confirm'].isin(['Not a Trip','Other'])]\n",
    "plot_data.Mode_confirm = pd.Categorical(plot_data.Mode_confirm,\n",
    "                                   categories=['Car, drove alone',\n",
    "                                              'Car, with others',\n",
    "                                              'Shared Micromobility',\n",
    "                                              'Personal Micromobility',\n",
    "                                              'Transit',\n",
    "                                              'Walk',\n",
    "                                              'Ridehail',\n",
    "                                              'E-Bike'])\n",
    "\n",
    "plot_title = 'Daily Aggregate Mode Share (excluding \"Other\" and \"Not a trip\"\\n%s'%quality_text\n",
    "ylab = 'Proportion of All Trips'\n",
    "legend_title = 'Confirmed Mode'\n",
    "file_name = \"ts_all_modes%s.png\"%file_suffix\n",
    "timeseries_multi_plot(plot_data, 'date_time','trip_proportion','Mode_confirm', plot_title, ylab, legend_title, file_name)\n",
    "alt_text = scaffolding.store_alt_text_generic('multivariate timeseries', file_name, plot_title, './alt_text_lookup.json')"
   ]
  }
 ],
 "metadata": {
  "kernelspec": {
   "display_name": "Python 3",
   "language": "python",
   "name": "python3"
  },
  "language_info": {
   "codemirror_mode": {
    "name": "ipython",
    "version": 3
   },
   "file_extension": ".py",
   "mimetype": "text/x-python",
   "name": "python",
   "nbconvert_exporter": "python",
   "pygments_lexer": "ipython3",
   "version": "3.7.9"
  }
 },
 "nbformat": 4,
 "nbformat_minor": 1
}

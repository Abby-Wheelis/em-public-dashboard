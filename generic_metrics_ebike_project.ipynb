{
 "cells": [
  {
   "cell_type": "markdown",
   "id": "academic-context",
   "metadata": {},
   "source": [
    "## Generate Static Graphs"
   ]
  },
  {
   "cell_type": "markdown",
   "id": "medium-siemens",
   "metadata": {},
   "source": [
    "These are the input parameters for the notebook. They will be automatically changed when the scripts to generate monthly statistics are run. You can modify them manually to generate multiple plots locally as well.\n",
    "\n",
    "Pass in `None` to remove the filters and plot all data. This is not recommended for production settings, but might be useful for reports based on data snapshots."
   ]
  },
  {
   "cell_type": "code",
   "execution_count": null,
   "id": "narrative-hunter",
   "metadata": {},
   "outputs": [],
   "source": [
    "year = 2021\n",
    "month = 9\n",
    "program = \"prepilot\"\n",
    "study_type = \"program\"\n",
    "mode_of_interest = \"Pilot ebike\""
   ]
  },
  {
   "cell_type": "code",
   "execution_count": null,
   "id": "activated-portugal",
   "metadata": {},
   "outputs": [],
   "source": [
    "from collections import defaultdict\n",
    "import datetime\n",
    "import matplotlib.pyplot as plt\n",
    "import numpy as np\n",
    "import pandas as pd\n",
    "import seaborn as sns\n",
    "\n",
    "import emission.core.get_database as edb\n",
    "import emission.core.wrapper.entry as ecwe\n",
    "import emission.storage.decorations.analysis_timeseries_queries as esda\n",
    "import emission.storage.decorations.trip_queries as esdt\n",
    "import emission.storage.decorations.timeline as esdl\n",
    "import emission.storage.timeseries.abstract_timeseries as esta\n",
    "import emission.storage.timeseries.timequery as estt\n",
    "from plots import *\n",
    "import scaffolding\n",
    "from uuid import UUID\n",
    "\n",
    "sns.set_style(\"whitegrid\")\n",
    "sns.set()\n",
    "%matplotlib inline"
   ]
  },
  {
   "cell_type": "code",
   "execution_count": null,
   "id": "alternative-voltage",
   "metadata": {},
   "outputs": [],
   "source": [
    "# Loading mapping dictionaries from mapping_dictionaries notebook\n",
    "%store -r df_ei\n",
    "%store -r dic_re\n",
    "%store -r dic_pur\n",
    "%store -r dic_fuel\n",
    "\n",
    "# convert a dictionary to a defaultdict\n",
    "dic_re = defaultdict(lambda: 'Other',dic_re)\n",
    "dic_pur = defaultdict(lambda: 'Other',dic_pur)\n",
    "dic_fuel = defaultdict(lambda: 'Other',dic_fuel)"
   ]
  },
  {
   "cell_type": "markdown",
   "id": "intellectual-columbus",
   "metadata": {},
   "source": [
    "## Collect Data From Database"
   ]
  },
  {
   "cell_type": "code",
   "execution_count": null,
   "id": "included-pride",
   "metadata": {},
   "outputs": [],
   "source": [
    "tq = scaffolding.get_time_query(year, month)\n",
    "participant_ct_df = scaffolding.load_all_participant_trips(program, tq)\n",
    "labeled_ct = scaffolding.filter_labeled_trips(participant_ct_df)\n",
    "expanded_ct = scaffolding.expand_userinputs(labeled_ct)\n",
    "expanded_ct = scaffolding.data_quality_check(expanded_ct)"
   ]
  },
  {
   "cell_type": "code",
   "execution_count": null,
   "id": "removed-retailer",
   "metadata": {},
   "outputs": [],
   "source": [
    "# Mapping new labels with dictionaries\n",
    "expanded_ct['Trip_purpose']= expanded_ct['purpose_confirm'].map(dic_pur)\n",
    "expanded_ct['Mode_confirm']= expanded_ct['mode_confirm'].map(dic_re)\n",
    "expanded_ct['Replaced_mode']= expanded_ct['replaced_mode'].map(dic_re)\n",
    "\n",
    "# Mapping fuel\n",
    "expanded_ct['Mode_confirm_fuel']= expanded_ct['Mode_confirm'].map(dic_fuel)\n",
    "expanded_ct['Replaced_mode_fuel']= expanded_ct['Replaced_mode'].map(dic_fuel)\n",
    "\n",
    "# Change meters to miles\n",
    "scaffolding.unit_conversions(expanded_ct)\n",
    "\n",
    "# Calculate energy impact\n",
    "expanded_ct = scaffolding.energy_intensity(expanded_ct, df_ei, 'distance_miles', 'Replaced_mode', 'Mode_confirm')\n",
    "expanded_ct = scaffolding.energy_impact_kWH(expanded_ct, 'distance_miles', 'Replaced_mode', 'Mode_confirm')\n",
    "expanded_ct = scaffolding.CO2_impact_lb(expanded_ct, 'distance_miles', 'Replaced_mode', 'Mode_confirm')"
   ]
  },
  {
   "cell_type": "code",
   "execution_count": null,
   "id": "organic-pitch",
   "metadata": {},
   "outputs": [],
   "source": [
    "file_suffix = scaffolding.get_file_suffix(year, month, program)\n",
    "quality_text = scaffolding.get_quality_text(participant_ct_df, expanded_ct)"
   ]
  },
  {
   "cell_type": "markdown",
   "id": "modified-skiing",
   "metadata": {},
   "source": [
    "## Generic Metrics"
   ]
  },
  {
   "cell_type": "code",
   "execution_count": null,
   "id": "blessed-leader",
   "metadata": {},
   "outputs": [],
   "source": [
    "data_eb = expanded_ct.query(f\"Mode_confirm == '{mode_of_interest}'\")"
   ]
  },
  {
   "cell_type": "code",
   "execution_count": null,
   "id": "seeing-court",
   "metadata": {},
   "outputs": [],
   "source": [
    "quality_text_mode = scaffolding.get_quality_text_ebike(expanded_ct, data_eb)"
   ]
  },
  {
   "cell_type": "markdown",
   "id": "distributed-peace",
   "metadata": {},
   "source": [
    "### Distribution of Mode_confirm attribute"
   ]
  },
  {
   "cell_type": "code",
   "execution_count": null,
   "id": "tracked-serbia",
   "metadata": {
    "scrolled": true
   },
   "outputs": [],
   "source": [
    "labels_mc = expanded_ct['Mode_confirm'].value_counts(dropna=True).keys().tolist()\n",
    "values_mc = expanded_ct['Mode_confirm'].value_counts(dropna=True).tolist()\n",
    "plot_title= \"Number of trips for each mode (selected by users)\\n%s\" % quality_text\n",
    "file_name= 'ntrips_mode_confirm%s.png' % file_suffix\n",
    "pie_chart_mode(plot_title,labels_mc,values_mc,file_name)\n",
    "print(expanded_ct['Mode_confirm'].value_counts(dropna=True))"
   ]
  },
  {
   "cell_type": "code",
   "execution_count": null,
   "id": "about-seafood",
   "metadata": {
    "scrolled": true
   },
   "outputs": [],
   "source": [
    "labels_mc = expanded_ct.query(\"Trip_purpose == 'Work'\").Mode_confirm.value_counts(dropna=True).keys().tolist()\n",
    "values_mc = expanded_ct.query(\"Trip_purpose == 'Work'\").Mode_confirm.value_counts(dropna=True).tolist()\n",
    "plot_title= \"Number of commute trips for each mode (selected by users)\\n%s\" % quality_text\n",
    "file_name= 'ntrips_commute_mode_confirm%s.png' % file_suffix\n",
    "pie_chart_mode(plot_title,labels_mc,values_mc,file_name)\n",
    "print(expanded_ct.query(\"Trip_purpose == 'Work'\").Mode_confirm.value_counts(dropna=True))"
   ]
  },
  {
   "cell_type": "markdown",
   "id": "biological-vancouver",
   "metadata": {},
   "source": [
    "### Distribution of Replaced_mode attribute"
   ]
  },
  {
   "cell_type": "code",
   "execution_count": null,
   "id": "comprehensive-august",
   "metadata": {
    "scrolled": true
   },
   "outputs": [],
   "source": [
    "# Note: The portion of pilot ebikes in the pie chart below is only when the mode_confirm is different that ebike. Example: mode_confirm was Walk, replaced_mode ebike.\n",
    "# mode_confrim was Car, drove alone, replaced_mode ebike.\n",
    "if study_type == 'program':\n",
    "    labels_rm = expanded_ct['Replaced_mode'].value_counts(dropna=True).keys().tolist()\n",
    "    values_rm = expanded_ct['Replaced_mode'].value_counts(dropna=True).tolist()\n",
    "    plot_title=\"Number of trips for each replaced mode (selected by users)\\n%s\" % quality_text\n",
    "    file_name= 'ntrips_replaced_mode%s.png' % file_suffix\n",
    "    pie_chart_mode(plot_title,labels_rm,values_rm,file_name)"
   ]
  },
  {
   "cell_type": "markdown",
   "id": "careful-spencer",
   "metadata": {},
   "source": [
    "### Distribution of Trip_purpose attribute"
   ]
  },
  {
   "cell_type": "code",
   "execution_count": null,
   "id": "conservative-september",
   "metadata": {},
   "outputs": [],
   "source": [
    "labels_tp = expanded_ct['Trip_purpose'].value_counts(dropna=True).keys().tolist()\n",
    "values_tp = expanded_ct['Trip_purpose'].value_counts(dropna=True).tolist()\n",
    "plot_title=\"Number of trips for each purposes (selected by users)\\n%s\" % quality_text\n",
    "file_name= 'ntrips_purpose%s.png' % file_suffix\n",
    "pie_chart_purpose(plot_title,labels_tp,values_tp,file_name)\n",
    "print(expanded_ct['Trip_purpose'].value_counts(dropna=True))"
   ]
  },
  {
   "cell_type": "markdown",
   "id": "crucial-keyboard",
   "metadata": {},
   "source": [
    "### Mode choice for trips under 10 miles"
   ]
  },
  {
   "cell_type": "code",
   "execution_count": null,
   "id": "identified-replica",
   "metadata": {
    "scrolled": true
   },
   "outputs": [],
   "source": [
    "labels_d10 = expanded_ct.loc[(expanded_ct['distance_miles'] <= 10)].Mode_confirm.value_counts(dropna=True).keys().tolist()\n",
    "values_d10 = expanded_ct.loc[(expanded_ct['distance_miles'] <= 10)].Mode_confirm.value_counts(dropna=True).tolist()\n",
    "plot_title=\"Mode confirmations for trips under 10 Miles\\n%s\" % quality_text\n",
    "file_name ='ntrips_under10miles_mode_confirm%s.png' % file_suffix\n",
    "pie_chart_mode(plot_title,labels_d10,values_d10,file_name)\n",
    "print(expanded_ct.loc[(expanded_ct['distance_miles'] <= 10)].Mode_confirm.value_counts(dropna=True))"
   ]
  },
  {
   "cell_type": "markdown",
   "id": "dominant-company",
   "metadata": {},
   "source": [
    "### Miles per chosen transport mode"
   ]
  },
  {
   "cell_type": "code",
   "execution_count": null,
   "id": "satisfied-sharing",
   "metadata": {
    "scrolled": true
   },
   "outputs": [],
   "source": [
    "miles = expanded_ct.groupby('Mode_confirm').agg({'distance_miles': ['sum', 'count' , 'mean']})\n",
    "miles.columns = ['Total (miles)', 'Count', 'Average (miles)']\n",
    "miles = miles.reset_index()\n",
    "miles =miles.sort_values(by=['Total (miles)'], ascending=False)\n",
    "\n",
    "#data\n",
    "miles_dict = dict(zip(miles['Mode_confirm'], miles['Total (miles)']))\n",
    "\n",
    "labels_m = []\n",
    "values_m = []\n",
    "\n",
    "for x, y in miles_dict.items():\n",
    "    labels_m.append(x)\n",
    "    values_m.append(y)\n",
    "\n",
    "plot_title=\"Miles for each mode (selected by users)\\n%s\" % quality_text\n",
    "file_name ='miles_mode_confirm%s.png' % file_suffix\n",
    "pie_chart_mode(plot_title,labels_m,values_m,file_name)\n",
    "print(miles)"
   ]
  },
  {
   "cell_type": "markdown",
   "id": "demanding-franklin",
   "metadata": {},
   "source": [
    "### Average miles per transport mode selected (Mode_confirm)"
   ]
  },
  {
   "cell_type": "code",
   "execution_count": null,
   "id": "patent-cliff",
   "metadata": {},
   "outputs": [],
   "source": [
    "data = miles.drop((miles.query(\"Count < 3\").index)).sort_values(by=['Average (miles)'], ascending=False)\n",
    "x='Mode_confirm'\n",
    "y='Average (miles)'\n",
    "\n",
    "plot_title=\" Average Miles for each mode with > 3 entries\\n%s\" % quality_text\n",
    "file_name ='average_miles_mode_confirm%s.png' % file_suffix\n",
    "\n",
    "barplot_mode(data,x,y,plot_title,file_name)"
   ]
  },
  {
   "cell_type": "code",
   "execution_count": null,
   "id": "swiss-cleanup",
   "metadata": {},
   "outputs": [],
   "source": [
    "data = miles.sort_values(by=['Average (miles)'], ascending=False)\n",
    "x='Mode_confirm'\n",
    "y='Average (miles)'\n",
    "y2 = \"Count\"\n",
    "\n",
    "plot_title=\" Average Miles for each mode (selected by users)\\n%s\" % quality_text\n",
    "file_name ='average_miles_mode_confirm2%s.png' % file_suffix\n",
    "\n",
    "barplot_mode2(data,x,y,y2,plot_title,file_name)"
   ]
  },
  {
   "cell_type": "markdown",
   "id": "sound-bradley",
   "metadata": {},
   "source": [
    "### Number of trips by day¶"
   ]
  },
  {
   "cell_type": "code",
   "execution_count": null,
   "id": "alleged-subsection",
   "metadata": {},
   "outputs": [],
   "source": [
    "fq_days = expanded_ct.groupby(['start_local_dt_day']).agg({'start_local_dt_day': ['sum', 'count']})\n",
    "fq_days = fq_days.reset_index()\n",
    "fq_days.columns = ['Day of the Month', 'Total', 'Number of Trips']\n",
    "\n",
    "data = fq_days\n",
    "x = 'Day of the Month'\n",
    "y = 'Number of Trips'\n",
    "\n",
    "plot_title=\"Number of trips by day\\n%s\" % quality_text\n",
    "file_name ='ntrips_per_day%s.png' % file_suffix\n",
    "\n",
    "barplot_day(data,x,y,plot_title,file_name)"
   ]
  },
  {
   "cell_type": "markdown",
   "id": "challenging-julian",
   "metadata": {},
   "source": [
    "### Number of trips by day of week¶"
   ]
  },
  {
   "cell_type": "code",
   "execution_count": null,
   "id": "hollywood-optimization",
   "metadata": {},
   "outputs": [],
   "source": [
    "fq_weekdays = expanded_ct.groupby(['start_local_dt_weekday']).agg({'start_local_dt_weekday': ['sum', 'count']})\n",
    "fq_weekdays = fq_weekdays.reset_index()\n",
    "fq_weekdays.columns = ['Weekday', 'Total', 'Number of Trips']\n",
    "weekday_labels = [\"Mon\", \"Tue\", \"Wed\", \"Thu\", \"Fri\", \"Sat\", \"Sun\"]\n",
    "fq_weekdays[\"Weekday\"] = fq_weekdays.Weekday.apply(lambda x: weekday_labels[x])\n",
    "\n",
    "data = fq_weekdays\n",
    "x = 'Weekday'\n",
    "y = 'Number of Trips'\n",
    "\n",
    "plot_title=\"Number of trips by weekday\\n%s\" % quality_text\n",
    "file_name ='ntrips_per_weekday%s.png' % file_suffix\n",
    "\n",
    "barplot_day(data,x,y,plot_title,file_name)"
   ]
  }
 ],
 "metadata": {
  "kernelspec": {
   "display_name": "Python 3",
   "language": "python",
   "name": "python3"
  },
  "language_info": {
   "codemirror_mode": {
    "name": "ipython",
    "version": 3
   },
   "file_extension": ".py",
   "mimetype": "text/x-python",
   "name": "python",
   "nbconvert_exporter": "python",
   "pygments_lexer": "ipython3",
   "version": "3.7.9"
  }
 },
 "nbformat": 4,
 "nbformat_minor": 5
}

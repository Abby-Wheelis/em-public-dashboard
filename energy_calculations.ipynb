{
 "cells": [
  {
   "cell_type": "markdown",
   "id": "united-feeding",
   "metadata": {},
   "source": [
    "## Generate Static Graphs"
   ]
  },
  {
   "cell_type": "markdown",
   "id": "outdoor-celebrity",
   "metadata": {},
   "source": [
    "These are the input parameters for the notebook. They will be automatically changed when the scripts to generate monthly statistics are run. You can modify them manually to generate multiple plots locally as well.\n",
    "\n",
    "Pass in `None` to remove the filters and plot all data. This is not recommended for production settings, but might be useful for reports based on data snapshots."
   ]
  },
  {
   "cell_type": "code",
   "execution_count": null,
   "id": "determined-matrix",
   "metadata": {},
   "outputs": [],
   "source": [
    "year = 2021\n",
    "month = 9\n",
    "program = \"prepilot\"\n",
    "study_type = \"program\"\n",
    "mode_of_interest = \"Pilot ebike\""
   ]
  },
  {
   "cell_type": "code",
   "execution_count": null,
   "id": "pharmaceutical-survival",
   "metadata": {},
   "outputs": [],
   "source": [
    "from collections import defaultdict\n",
    "import datetime\n",
    "import matplotlib.pyplot as plt\n",
    "import numpy as np\n",
    "import pandas as pd\n",
    "import seaborn as sns\n",
    "\n",
    "import emission.core.get_database as edb\n",
    "import emission.core.wrapper.entry as ecwe\n",
    "import emission.storage.decorations.analysis_timeseries_queries as esda\n",
    "import emission.storage.decorations.trip_queries as esdt\n",
    "import emission.storage.decorations.timeline as esdl\n",
    "import emission.storage.timeseries.abstract_timeseries as esta\n",
    "import emission.storage.timeseries.timequery as estt\n",
    "from plots import *\n",
    "import scaffolding\n",
    "from uuid import UUID\n",
    "\n",
    "sns.set_style(\"whitegrid\")\n",
    "sns.set()\n",
    "%matplotlib inline"
   ]
  },
  {
   "cell_type": "code",
   "execution_count": null,
   "id": "nearby-fruit",
   "metadata": {},
   "outputs": [],
   "source": [
    "# Loading mapping dictionaries from mapping_dictionaries notebook\n",
    "%store -r df_ei\n",
    "%store -r dic_re\n",
    "%store -r dic_pur\n",
    "%store -r dic_fuel\n",
    "\n",
    "# convert a dictionary to a defaultdict\n",
    "dic_re = defaultdict(lambda: 'Other',dic_re)\n",
    "dic_pur = defaultdict(lambda: 'Other',dic_pur)\n",
    "dic_fuel = defaultdict(lambda: 'Other',dic_fuel)"
   ]
  },
  {
   "cell_type": "markdown",
   "id": "parallel-patch",
   "metadata": {},
   "source": [
    "## Collect Data From Database"
   ]
  },
  {
   "cell_type": "code",
   "execution_count": null,
   "id": "flexible-training",
   "metadata": {},
   "outputs": [],
   "source": [
    "tq = scaffolding.get_time_query(year, month)\n",
    "participant_ct_df = scaffolding.load_all_participant_trips(program, tq)\n",
    "labeled_ct = scaffolding.filter_labeled_trips(participant_ct_df)\n",
    "expanded_ct = scaffolding.expand_userinputs(labeled_ct)\n",
    "expanded_ct = scaffolding.data_quality_check(expanded_ct)"
   ]
  },
  {
   "cell_type": "code",
   "execution_count": null,
   "id": "improved-venture",
   "metadata": {},
   "outputs": [],
   "source": [
    "# Mapping new labels with dictionaries\n",
    "expanded_ct['Trip_purpose']= expanded_ct['purpose_confirm'].map(dic_pur)\n",
    "expanded_ct['Mode_confirm']= expanded_ct['mode_confirm'].map(dic_re)\n",
    "expanded_ct['Replaced_mode']= expanded_ct['replaced_mode'].map(dic_re)\n",
    "\n",
    "# Mapping fuel\n",
    "expanded_ct['Mode_confirm_fuel']= expanded_ct['Mode_confirm'].map(dic_fuel)\n",
    "expanded_ct['Replaced_mode_fuel']= expanded_ct['Replaced_mode'].map(dic_fuel)\n",
    "\n",
    "# Change meters to miles\n",
    "scaffolding.unit_conversions(expanded_ct)\n",
    "\n",
    "# Calculate energy impact\n",
    "expanded_ct = scaffolding.energy_intensity(expanded_ct, df_ei, 'distance_miles', 'Replaced_mode', 'Mode_confirm')\n",
    "expanded_ct = scaffolding.energy_impact_kWH(expanded_ct, 'distance_miles', 'Replaced_mode', 'Mode_confirm')\n",
    "expanded_ct = scaffolding.CO2_impact_lb(expanded_ct, 'distance_miles', 'Replaced_mode', 'Mode_confirm')"
   ]
  },
  {
   "cell_type": "code",
   "execution_count": null,
   "id": "efficient-marking",
   "metadata": {},
   "outputs": [],
   "source": [
    "file_suffix = scaffolding.get_file_suffix(year, month, program)\n",
    "quality_text = scaffolding.get_quality_text(participant_ct_df, expanded_ct)"
   ]
  },
  {
   "cell_type": "markdown",
   "id": "caring-aruba",
   "metadata": {},
   "source": [
    "## Energy Impacts Relative to Specific Mode"
   ]
  },
  {
   "cell_type": "code",
   "execution_count": null,
   "id": "blessed-leader",
   "metadata": {},
   "outputs": [],
   "source": [
    "data_eb = expanded_ct.query(f\"Mode_confirm == '{mode_of_interest}'\")"
   ]
  },
  {
   "cell_type": "code",
   "execution_count": null,
   "id": "seeing-court",
   "metadata": {},
   "outputs": [],
   "source": [
    "quality_text_mode = scaffolding.get_quality_text_ebike(expanded_ct, data_eb)"
   ]
  },
  {
   "cell_type": "markdown",
   "id": "sized-drain",
   "metadata": {},
   "source": [
    "### Distance vs. energy impact (kWH) by Mode_confirm"
   ]
  },
  {
   "cell_type": "code",
   "execution_count": null,
   "id": "protecting-falls",
   "metadata": {
    "scrolled": false
   },
   "outputs": [],
   "source": [
    "data=expanded_ct.loc[(expanded_ct['distance_miles'] <= 40)].sort_values(by=['Energy_Impact(kWH)'], ascending=False)   \n",
    "x='Energy_Impact(kWH)'\n",
    "y='distance_miles'\n",
    "legend ='Mode_confirm'\n",
    "plot_title=\"Sketch of Energy Impact (kWH) by Travel Mode Selected\\n%s\" % quality_text\n",
    "file_name ='sketch_distance_energy_impact%s.png' % file_suffix\n",
    "distancevsenergy(data,x,y,legend,plot_title,file_name)"
   ]
  },
  {
   "cell_type": "markdown",
   "id": "ready-return",
   "metadata": {},
   "source": [
    "### Energy impact (kWH)"
   ]
  },
  {
   "cell_type": "code",
   "execution_count": null,
   "id": "adequate-oriental",
   "metadata": {
    "scrolled": false
   },
   "outputs": [],
   "source": [
    "if study_type == 'program':\n",
    "    #eirp : energy impact replaced_mode\n",
    "    eirc=expanded_ct.groupby('Replaced_mode').agg({'Energy_Impact(kWH)': ['sum', 'mean']},)\n",
    "    eirc.columns = ['Sketch of Total Energy_Impact(kWH)', 'Sketch of Average Energy_Impact(kWH)']\n",
    "    eirc = eirc.reset_index()\n",
    "    eirc = eirc.sort_values(by=['Sketch of Total Energy_Impact(kWH)'], ascending=False)\n",
    "    eirc['boolean'] = eirc['Sketch of Total Energy_Impact(kWH)'] > 0\n",
    "    \n",
    "    subset1 = eirc [['Replaced_mode', 'Sketch of Total Energy_Impact(kWH)']].copy()\n",
    "    subset1.rename(columns = {'Replaced_mode':'Transport Mode','Sketch of Total Energy_Impact(kWH)':'Replaced_Mode' }, inplace=True)\n",
    "\n",
    "    #eimc : energy impact mode_confirm\n",
    "    eimc=expanded_ct.groupby('Mode_confirm').agg({'Energy_Impact(kWH)': ['sum', 'mean']},)\n",
    "    eimc.columns = ['Sketch of Total Energy_Impact(kWH)', 'Sketch of Average Energy_Impact(kWH)']\n",
    "    eimc = eimc.reset_index()\n",
    "    eimc = eimc.sort_values(by=['Sketch of Total Energy_Impact(kWH)'], ascending=False)\n",
    "\n",
    "    subset2 = eimc [['Mode_confirm', 'Sketch of Total Energy_Impact(kWH)']].copy()\n",
    "    subset2.rename(columns = {'Mode_confirm':'Transport Mode','Sketch of Total Energy_Impact(kWH)':'Mode_Confirm' }, inplace=True)\n",
    "\n",
    "    df_plot = pd.merge(subset1, subset2, on=\"Transport Mode\")\n",
    "    df = pd.melt(df_plot , id_vars=['Transport Mode'], value_vars=['Replaced_Mode','Mode_Confirm'], var_name='selection')\n",
    "    df.rename(columns = {'value':'Energy Impact (kWH)'}, inplace = True)\n",
    "    \n",
    "    df= df.sort_values(by=['Energy Impact (kWH)'], ascending=False)\n",
    "    x= 'Energy Impact (kWH)'\n",
    "    y= 'Transport Mode'\n",
    "    color = 'selection'\n",
    "    plot_title=\"Sketch of Energy Impact (kWH) by Transport Mode\\n%s\" % quality_text\n",
    "    file_name ='sketch_all_energy_impact%s.png' % file_suffix\n",
    "    overeall_energy_impact(x,y,color,df,plot_title,file_name)"
   ]
  },
  {
   "cell_type": "markdown",
   "id": "loose-puppy",
   "metadata": {},
   "source": [
    "### Sketch of total energy_impact (kWH) by Replaced_mode"
   ]
  },
  {
   "cell_type": "code",
   "execution_count": null,
   "id": "emotional-universal",
   "metadata": {},
   "outputs": [],
   "source": [
    "if study_type == 'program':\n",
    "    net_energy_saved = round(sum(eirc['Sketch of Total Energy_Impact(kWH)']), 2)\n",
    "\n",
    "    x = eirc['Sketch of Total Energy_Impact(kWH)']\n",
    "    y = eirc['Replaced_mode']\n",
    "    color =eirc['boolean']\n",
    "\n",
    "    plot_title=\"Sketch of Energy Impact for all confirmed trips \\n Contribution by mode towards a total of %s (kWH) \\n%s\" % (net_energy_saved, quality_text)\n",
    "    file_name ='sketch_all_mode_energy_impact%s.png' % file_suffix\n",
    "    energy_impact(x,y,color,plot_title,file_name)"
   ]
  },
  {
   "cell_type": "markdown",
   "id": "advanced-complexity",
   "metadata": {},
   "source": [
    "### Sketch of energy impact by trips for specified mode"
   ]
  },
  {
   "cell_type": "code",
   "execution_count": null,
   "id": "dense-programmer",
   "metadata": {
    "scrolled": false
   },
   "outputs": [],
   "source": [
    "if study_type == 'program':\n",
    "    # ebei : ebike energy impact\n",
    "    ebei=data_eb.groupby('Replaced_mode').agg({'Energy_Impact(kWH)': ['sum', 'mean']},)\n",
    "    ebei.columns = ['Sketch of Total Energy_Impact(kWH)', 'Sketch of Average Energy_Impact(kWH)']\n",
    "    ebei= ebei.reset_index()\n",
    "    ebei = ebei.sort_values(by=['Sketch of Total Energy_Impact(kWH)'], ascending=False)\n",
    "    ebei['boolean'] = ebei['Sketch of Total Energy_Impact(kWH)'] > 0\n",
    "    net_energy_saved = round(sum(ebei['Sketch of Total Energy_Impact(kWH)']), 2)\n",
    "\n",
    "    x = ebei['Sketch of Total Energy_Impact(kWH)']\n",
    "    y = ebei['Replaced_mode']\n",
    "    color =ebei['boolean']\n",
    "\n",
    "    plot_title=\"Sketch of Energy Impact of E-Bike trips\\n Contribution by replaced mode towards a total of %s (kWH)\\n %s\" % (net_energy_saved, quality_text_mode)\n",
    "    file_name ='sketch_energy_impact_ebike%s.png' % file_suffix\n",
    "    energy_impact(x,y,color,plot_title,file_name)"
   ]
  },
  {
   "cell_type": "markdown",
   "id": "crazy-retreat",
   "metadata": {},
   "source": [
    "### Sketch of total CO2 emissions by Replaced_mode"
   ]
  },
  {
   "cell_type": "code",
   "execution_count": null,
   "id": "annoying-vault",
   "metadata": {},
   "outputs": [],
   "source": [
    "if study_type == 'program':\n",
    "    co2rp=expanded_ct.groupby('Replaced_mode').agg({'CO2_Impact(lb)': ['sum', 'mean']},)\n",
    "    co2rp.columns = ['total_lb_CO2_emissions', 'average_lb_CO2_emission']\n",
    "    co2rp = co2rp.reset_index()\n",
    "    co2rp= co2rp.sort_values(by=['total_lb_CO2_emissions'], ascending=False)\n",
    "    co2rp['boolean'] = co2rp['total_lb_CO2_emissions'] > 0\n",
    "\n",
    "\n",
    "    net_CO2_saved = round(sum(co2rp['total_lb_CO2_emissions']), 2)\n",
    "\n",
    "    x = co2rp['total_lb_CO2_emissions']\n",
    "    y = co2rp['Replaced_mode']\n",
    "    color =co2rp['boolean']\n",
    "\n",
    "    plot_title=\"Sketch of CO2 Emissions Impact for all confirmed trips \\n Contribution by mode towards a total of %s (kWH) \\n%s\" % (net_CO2_saved, quality_text)\n",
    "    file_name ='sketch_all_mode_CO2impact%s.png' % file_suffix\n",
    "    CO2_impact(x,y,color,plot_title,file_name)"
   ]
  },
  {
   "cell_type": "markdown",
   "id": "strategic-sheet",
   "metadata": {},
   "source": [
    "## Sketch of CO2 emissions impact by trips of specified mode"
   ]
  },
  {
   "cell_type": "code",
   "execution_count": null,
   "id": "animated-place",
   "metadata": {},
   "outputs": [],
   "source": [
    "if study_type == 'program':\n",
    "    ebco2=data_eb.groupby('Replaced_mode').agg({'CO2_Impact(lb)': ['sum', 'mean']},)\n",
    "    ebco2.columns = ['total_lb_CO2_emissions', 'average_lb_CO2_emission']\n",
    "    ebco2 = ebco2.reset_index()\n",
    "    ebco2 = ebco2.sort_values(by=['total_lb_CO2_emissions'], ascending=False)\n",
    "    ebco2['boolean'] = ebco2['total_lb_CO2_emissions'] > 0\n",
    "    net_CO2_emissions = round(sum(ebco2['total_lb_CO2_emissions']), 2)\n",
    "\n",
    "    x = ebco2['total_lb_CO2_emissions']\n",
    "    y = ebco2['Replaced_mode']\n",
    "    color = ebco2['boolean']\n",
    "\n",
    "    plot_title=\"Sketch of Total Pounds of CO2 Emissions of E-Bike trips\\n Contribution by replaced mode towards a total of %s (lb CO2 Emissions )\\n %s\" % (net_CO2_emissions, quality_text_mode)\n",
    "    file_name ='sketch_CO2impact_ebike%s.png' % file_suffix\n",
    "    CO2_impact(x,y,color,plot_title,file_name)"
   ]
  }
 ],
 "metadata": {
  "kernelspec": {
   "display_name": "Python 3",
   "language": "python",
   "name": "python3"
  },
  "language_info": {
   "codemirror_mode": {
    "name": "ipython",
    "version": 3
   },
   "file_extension": ".py",
   "mimetype": "text/x-python",
   "name": "python",
   "nbconvert_exporter": "python",
   "pygments_lexer": "ipython3",
   "version": "3.7.9"
  }
 },
 "nbformat": 4,
 "nbformat_minor": 5
}

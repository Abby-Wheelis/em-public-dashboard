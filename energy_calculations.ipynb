{
 "cells": [
  {
   "cell_type": "markdown",
   "id": "finnish-convergence",
   "metadata": {},
   "source": [
    "## Generate static graphs"
   ]
  },
  {
   "cell_type": "markdown",
   "id": "sixth-logic",
   "metadata": {},
   "source": [
    "These are the input parameters for the notebook. They will be automatically changed when the scripts to generate monthly statistics are run. You can modify them manually to generate multiple plots locally as well.\n",
    "\n",
    "Pass in `None` to remove the filters and plot all data. This is not recommended for production settings, but might be useful for reports based on data snapshots."
   ]
  },
  {
   "cell_type": "code",
   "execution_count": null,
   "id": "statistical-chuck",
   "metadata": {},
   "outputs": [],
   "source": [
    "year = None\n",
    "month = None\n",
    "program = None"
   ]
  },
  {
   "cell_type": "code",
   "execution_count": null,
   "id": "entire-offer",
   "metadata": {},
   "outputs": [],
   "source": [
    "import pandas as pd\n",
    "import numpy as np\n",
    "import matplotlib.pyplot as plt\n",
    "import seaborn as sns\n",
    "sns.set_style(\"whitegrid\")\n",
    "sns.set()\n",
    "%matplotlib inline"
   ]
  },
  {
   "cell_type": "code",
   "execution_count": null,
   "id": "delayed-preview",
   "metadata": {},
   "outputs": [],
   "source": [
    "import scaffolding \n",
    "from plots import *"
   ]
  },
  {
   "cell_type": "code",
   "execution_count": null,
   "id": "swedish-state",
   "metadata": {},
   "outputs": [],
   "source": [
    "# Loading mapping dictionaries from mapping_dictionaries notebook\n",
    "%store -r dic_ei\n",
    "%store -r dic_re\n",
    "%store -r dic_pur\n",
    "\n",
    "dic_pur = scaffolding.Missing_dict(dic_pur)\n",
    "dic_re  = scaffolding.Missing_dict(dic_re)"
   ]
  },
  {
   "cell_type": "code",
   "execution_count": null,
   "id": "signed-dealer",
   "metadata": {},
   "outputs": [],
   "source": [
    "tq = scaffolding.get_time_query(year, month)"
   ]
  },
  {
   "cell_type": "code",
   "execution_count": null,
   "id": "supreme-polyester",
   "metadata": {},
   "outputs": [],
   "source": [
    "participant_ct_df = scaffolding.load_all_participant_trips(program, tq)"
   ]
  },
  {
   "cell_type": "code",
   "execution_count": null,
   "id": "british-commission",
   "metadata": {},
   "outputs": [],
   "source": [
    "labeled_ct = scaffolding.filter_labeled_trips(participant_ct_df)"
   ]
  },
  {
   "cell_type": "code",
   "execution_count": null,
   "id": "municipal-refund",
   "metadata": {},
   "outputs": [],
   "source": [
    "expanded_ct = scaffolding.expand_userinputs(labeled_ct)"
   ]
  },
  {
   "cell_type": "code",
   "execution_count": null,
   "id": "abstract-recipe",
   "metadata": {},
   "outputs": [],
   "source": [
    "expanded_ct.shape"
   ]
  },
  {
   "cell_type": "code",
   "execution_count": null,
   "id": "spanish-telling",
   "metadata": {},
   "outputs": [],
   "source": [
    "expanded_ct = scaffolding.data_quality_check(expanded_ct)\n",
    "expanded_ct.shape"
   ]
  },
  {
   "cell_type": "code",
   "execution_count": null,
   "id": "conditional-marijuana",
   "metadata": {},
   "outputs": [],
   "source": [
    "## Mapping new labels with dictionaries\n",
    "expanded_ct['Trip_purpose'] = expanded_ct['purpose_confirm'].replace(dic_pur)\n",
    "expanded_ct['Mode_confirm'] = expanded_ct['mode_confirm'].replace(dic_re)\n",
    "expanded_ct['Replaced_mode']= expanded_ct['replaced_mode'].replace(dic_re)"
   ]
  },
  {
   "cell_type": "code",
   "execution_count": null,
   "id": "moral-editing",
   "metadata": {},
   "outputs": [],
   "source": [
    "# Energy Impact Calculation\n",
    "expanded_ct = scaffolding.energy_cal(expanded_ct,dic_ei)"
   ]
  },
  {
   "cell_type": "code",
   "execution_count": null,
   "id": "manufactured-hayes",
   "metadata": {},
   "outputs": [],
   "source": [
    "file_suffix = scaffolding.get_file_suffix(year, month, program)\n",
    "quality_text = scaffolding.get_quality_text(participant_ct_df, expanded_ct)"
   ]
  },
  {
   "cell_type": "markdown",
   "id": "together-antigua",
   "metadata": {},
   "source": [
    "# Distance vs. Energy_Impact (kWH) by Mode_confirm"
   ]
  },
  {
   "cell_type": "code",
   "execution_count": null,
   "id": "cooperative-runner",
   "metadata": {
    "scrolled": false
   },
   "outputs": [],
   "source": [
    "data=expanded_ct.loc[(expanded_ct['distance_miles'] <= 40)].sort_values(by=['Energy_Impact(kWH)'], ascending=False)   \n",
    "x='Energy_Impact(kWH)'\n",
    "y='distance_miles'\n",
    "legend ='Mode_confirm'\n",
    "plot_title=\"Sketch of Energy Impact (kWH) by Travel Mode Selected\\n%s\" % quality_text\n",
    "file_name ='sketch_distance_energy_impact_%s.png' % file_suffix\n",
    "distancevsenergy(data,x,y,legend,plot_title,file_name)"
   ]
  },
  {
   "cell_type": "markdown",
   "id": "selected-boost",
   "metadata": {},
   "source": [
    "# Energy_Impact (kWH)"
   ]
  },
  {
   "cell_type": "code",
   "execution_count": null,
   "id": "purple-museum",
   "metadata": {},
   "outputs": [],
   "source": [
    "#eirp : energy impact replaced_mode\n",
    "eirc=expanded_ct.groupby('Replaced_mode').agg({'Energy_Impact(kWH)': ['sum', 'mean']},)\n",
    "eirc.columns = ['Sketch of Total Energy_Impact(kWH)', 'Sketch of Average Energy_Impact(kWH)']\n",
    "eirc = eirc.reset_index()\n",
    "eirc = eirc.sort_values(by=['Sketch of Total Energy_Impact(kWH)'], ascending=False)\n",
    "eirc['boolean'] = eirc['Sketch of Total Energy_Impact(kWH)'] > 0\n",
    "\n",
    "#eimc : energy impact mode_confirm\n",
    "eimc=expanded_ct.groupby('Mode_confirm').agg({'Energy_Impact(kWH)': ['sum', 'mean']},)\n",
    "eimc.columns = ['Sketch of Total Energy_Impact(kWH)', 'Sketch of Average Energy_Impact(kWH)']\n",
    "eimc = eimc.reset_index()\n",
    "eimc = eimc.sort_values(by=['Sketch of Total Energy_Impact(kWH)'], ascending=False)\n",
    "\n",
    "\n",
    "subset1 = eirc [['Replaced_mode', 'Sketch of Total Energy_Impact(kWH)']].copy()\n",
    "subset1.rename(columns = {'Replaced_mode':'Transport Mode','Sketch of Total Energy_Impact(kWH)':'Replaced_Mode' }, inplace=True)\n",
    "\n",
    "subset2 = eimc [['Mode_confirm', 'Sketch of Total Energy_Impact(kWH)']].copy()\n",
    "subset2.rename(columns = {'Mode_confirm':'Transport Mode','Sketch of Total Energy_Impact(kWH)':'Mode_Confirm' }, inplace=True)\n",
    "\n",
    "df_plot = pd.merge(subset1, subset2, on=\"Transport Mode\")\n",
    "df = pd.melt(df_plot , id_vars=['Transport Mode'], value_vars=['Replaced_Mode','Mode_Confirm'], var_name='selection')\n",
    "df.rename(columns = {'value':'Energy Impact (kWH)'}, inplace = True)"
   ]
  },
  {
   "cell_type": "code",
   "execution_count": null,
   "id": "respiratory-clinton",
   "metadata": {
    "scrolled": false
   },
   "outputs": [],
   "source": [
    "df= df.sort_values(by=['Energy Impact (kWH)'], ascending=False)\n",
    "x= 'Energy Impact (kWH)'\n",
    "y= 'Transport Mode'\n",
    "color = 'selection'\n",
    "plot_title=\"Sketch of Energy Impact (kWH) by Transport Mode\\n%s\" % quality_text\n",
    "file_name ='sketch_all_energy_impact_%s.png' % file_suffix\n",
    "overeall_energy_impact(x,y,color,df,plot_title,file_name)"
   ]
  },
  {
   "cell_type": "markdown",
   "id": "matched-marks",
   "metadata": {},
   "source": [
    "# Sketch of Total Energy_Impact (kWH) by Replaced_mode"
   ]
  },
  {
   "cell_type": "code",
   "execution_count": null,
   "id": "transsexual-burke",
   "metadata": {},
   "outputs": [],
   "source": [
    "net_energy_saved = round(sum(eirc['Sketch of Total Energy_Impact(kWH)']), 2)\n",
    "\n",
    "x = eirc['Sketch of Total Energy_Impact(kWH)']\n",
    "y = eirc['Replaced_mode']\n",
    "color =eirc['boolean']\n",
    "\n",
    "plot_title=\"Sketch of Energy Impact for all confirmed trips \\n Contribution by mode towards a total of %s (kWH) \\n%s\" % (net_energy_saved, quality_text)\n",
    "file_name ='sketch_all_mode_energy_impact_%s.png' % file_suffix\n",
    "energy_impact(x,y,color,plot_title,file_name)"
   ]
  },
  {
   "cell_type": "markdown",
   "id": "abandoned-young",
   "metadata": {},
   "source": [
    "# Sketch of Energy Impact by E-bike trips"
   ]
  },
  {
   "cell_type": "code",
   "execution_count": null,
   "id": "resistant-learning",
   "metadata": {
    "scrolled": false
   },
   "outputs": [],
   "source": [
    "data_eb = expanded_ct.query(\"Mode_confirm == 'Pilot ebike'\")\n",
    "# ebei : ebike energy impact\n",
    "ebei=data_eb.groupby('Replaced_mode').agg({'Energy_Impact(kWH)': ['sum', 'mean']},)\n",
    "ebei.columns = ['Sketch of Total Energy_Impact(kWH)', 'Sketch of Average Energy_Impact(kWH)']\n",
    "ebei= ebei.reset_index()\n",
    "ebei = ebei.sort_values(by=['Sketch of Total Energy_Impact(kWH)'], ascending=False)\n",
    "ebei['boolean'] = ebei['Sketch of Total Energy_Impact(kWH)'] > 0\n",
    "net_energy_saved = round(sum(ebei['Sketch of Total Energy_Impact(kWH)']), 2)\n",
    "\n",
    "x = ebei['Sketch of Total Energy_Impact(kWH)']\n",
    "y = ebei['Replaced_mode']\n",
    "color =ebei['boolean']\n",
    "\n",
    "plot_title=\"Sketch of Energy Impact of E-Bike trips\\n Contribution by replaced mode towards a total of %s (kWH)\\n %s\" % (net_energy_saved, quality_text)\n",
    "file_name ='sketch_energy_impact_ebike_%s.png' % file_suffix\n",
    "energy_impact(x,y,color,plot_title,file_name)"
   ]
  }
 ],
 "metadata": {
  "kernelspec": {
   "display_name": "Python 3",
   "language": "python",
   "name": "python3"
  },
  "language_info": {
   "codemirror_mode": {
    "name": "ipython",
    "version": 3
   },
   "file_extension": ".py",
   "mimetype": "text/x-python",
   "name": "python",
   "nbconvert_exporter": "python",
   "pygments_lexer": "ipython3",
   "version": "3.7.9"
  }
 },
 "nbformat": 4,
 "nbformat_minor": 5
}

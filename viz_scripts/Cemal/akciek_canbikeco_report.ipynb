{
 "cells": [
  {
   "cell_type": "markdown",
   "id": "worldwide-portuguese",
   "metadata": {},
   "source": [
    "## Generate Static Graphs"
   ]
  },
  {
   "cell_type": "markdown",
   "id": "alive-integration",
   "metadata": {},
   "source": [
    "These are the input parameters for the notebook. They will be automatically changed when the scripts to generate monthly statistics are run. You can modify them manually to generate multiple plots locally as well.\n",
    "\n",
    "Pass in `None` to remove the filters and plot all data. This is not recommended for production settings, but might be useful for reports based on data snapshots."
   ]
  },
  {
   "cell_type": "code",
   "execution_count": null,
   "id": "former-luther",
   "metadata": {},
   "outputs": [],
   "source": [
    "year = None\n",
    "month = None\n",
    "program = \"prepilot\"\n",
    "study_type = \"program\"\n",
    "mode_of_interest = \"pilot_ebike\""
   ]
  },
  {
   "cell_type": "code",
   "execution_count": null,
   "id": "absolute-better",
   "metadata": {},
   "outputs": [],
   "source": [
    "SAVE_DIR = r'C:\\Users\\dakcicek\\Documents\\GitHub\\ceo_analysis\\viz_scripts\\plots'"
   ]
  },
  {
   "cell_type": "code",
   "execution_count": null,
   "id": "44ab495b",
   "metadata": {},
   "outputs": [],
   "source": [
    "import sys\n",
    " \n",
    "# adding emission folder to the system path\n",
    "sys.path.insert(0, r\"C:\\Users\\dakcicek\\Documents\\GitHub\\e-mission-server\")"
   ]
  },
  {
   "cell_type": "code",
   "execution_count": null,
   "id": "dated-compromise",
   "metadata": {},
   "outputs": [],
   "source": [
    "from collections import defaultdict\n",
    "\n",
    "import matplotlib.pyplot as plt\n",
    "import numpy as np\n",
    "import pandas as pd\n",
    "import seaborn as sns\n",
    "from sklearn import linear_model\n",
    "\n",
    "import emission.core.get_database as edb\n",
    "from plots import *\n",
    "import scaffolding\n",
    "\n",
    "sns.set_style(\"whitegrid\")\n",
    "sns.set()\n",
    "%matplotlib inline"
   ]
  },
  {
   "cell_type": "code",
   "execution_count": null,
   "id": "2b21136d",
   "metadata": {},
   "outputs": [],
   "source": [
    "import plots\n",
    "import importlib\n",
    "importlib.reload(plots)"
   ]
  },
  {
   "cell_type": "code",
   "execution_count": null,
   "id": "assisted-mathematics",
   "metadata": {},
   "outputs": [],
   "source": [
    "# Do not run this notebook at all unless it is for a program; nbclient will run up through this cell\n",
    "if study_type != \"program\":\n",
    "    raise Exception(\"The plots in this notebook are only relevant to programs\")"
   ]
  },
  {
   "cell_type": "code",
   "execution_count": null,
   "id": "cathedral-scanning",
   "metadata": {},
   "outputs": [],
   "source": [
    "# Loading mapping dictionaries from mapping_dictionaries notebook\n",
    "%store -r df_ei\n",
    "%store -r dic_re\n",
    "%store -r dic_pur\n",
    "%store -r dic_fuel\n",
    "\n",
    "# convert a dictionary to a defaultdict\n",
    "dic_re = defaultdict(lambda: 'Other',dic_re)\n",
    "dic_pur = defaultdict(lambda: 'Other',dic_pur)\n",
    "dic_fuel = defaultdict(lambda: 'Other',dic_fuel)"
   ]
  },
  {
   "cell_type": "markdown",
   "id": "cb53421a",
   "metadata": {},
   "source": [
    "## Get UUIDs by Program"
   ]
  },
  {
   "cell_type": "code",
   "execution_count": null,
   "id": "e427fd24",
   "metadata": {},
   "outputs": [],
   "source": [
    "# Split UUIDs by program\n",
    "program_uuid_map = {}\n",
    "for ue in edb.get_uuid_db().find():\n",
    "    program = ue['user_email'].split(\"_\")[0]\n",
    "    if program in program_uuid_map.keys():\n",
    "        program_uuid_map[program].append(str(ue['uuid']))\n",
    "    else:\n",
    "        print(f\"Found new program {program}, creating new list\")\n",
    "        program_uuid_map[program] = []\n",
    "        program_uuid_map[program].append(str(ue['uuid']))\n",
    "\n",
    "uuid_program_list = []\n",
    "for ue in edb.get_uuid_db().find():\n",
    "    program = ue['user_email'].split(\"_\")[0]\n",
    "    uuid_program_list.append({\"program\": program, \"opcode\": ue[\"user_email\"], \"user_id_str\": str(ue['uuid'])})"
   ]
  },
  {
   "cell_type": "code",
   "execution_count": null,
   "id": "a0401629",
   "metadata": {},
   "outputs": [],
   "source": [
    "uuid_program_df = pd.DataFrame.from_dict(uuid_program_list)\n",
    "uuid_program_df.head()"
   ]
  },
  {
   "cell_type": "markdown",
   "id": "built-occupation",
   "metadata": {},
   "source": [
    "## Collect Data From Database"
   ]
  },
  {
   "cell_type": "code",
   "execution_count": null,
   "id": "empty-intensity",
   "metadata": {
    "scrolled": true
   },
   "outputs": [],
   "source": [
    "expanded_ct, file_suffix, quality_text = scaffolding.load_viz_notebook_data(year,\n",
    "                                                                            month,\n",
    "                                                                            program,\n",
    "                                                                            study_type,\n",
    "                                                                            dic_re,\n",
    "                                                                            dic_pur=dic_pur)\n",
    "expanded_ct = scaffolding.add_energy_labels(expanded_ct, df_ei, dic_fuel)"
   ]
  },
  {
   "cell_type": "code",
   "execution_count": null,
   "id": "12c0c503",
   "metadata": {},
   "outputs": [],
   "source": [
    "file_suffix = '_all'"
   ]
  },
  {
   "cell_type": "code",
   "execution_count": null,
   "id": "6c7f2021",
   "metadata": {},
   "outputs": [],
   "source": [
    "# Join to the program df to get each user's program\n",
    "expanded_ct = expanded_ct.merge(uuid_program_df, on='user_id_str')"
   ]
  },
  {
   "cell_type": "code",
   "execution_count": null,
   "id": "3b881f15",
   "metadata": {},
   "outputs": [],
   "source": [
    "from collections import defaultdict\n",
    "\n",
    "import matplotlib.pyplot as plt\n",
    "import numpy as np\n",
    "import pandas as pd\n",
    "import seaborn as sns\n",
    "from sklearn import linear_model\n",
    "\n",
    "#import emission.core.get_database as edb\n",
    "from plots import *\n",
    "#import scaffolding\n",
    "\n",
    "sns.set_style(\"whitegrid\")\n",
    "sns.set()\n",
    "%matplotlib inline\n",
    "\n",
    "import plots\n",
    "import importlib\n",
    "importlib.reload(plots)"
   ]
  },
  {
   "cell_type": "code",
   "execution_count": null,
   "id": "3cc4410e",
   "metadata": {},
   "outputs": [],
   "source": [
    "df_pur = pd.read_csv(r'auxiliary_files/purpose_labels.csv')\n",
    "df_re = pd.read_csv(r'auxiliary_files/mode_labels.csv')\n",
    "df_ei = pd.read_csv(r'auxiliary_files/energy_intensity.csv')\n",
    "\n",
    "#dictionaries:\n",
    "dic_pur = dict(zip(df_pur['purpose_confirm'],df_pur['bin_purpose'])) # bin purpose\n",
    "dic_re  = dict(zip(df_re['replaced_mode'],df_re['mode_clean'])) # bin modes\n",
    "dic_fuel = dict(zip(df_ei['mode'],df_ei['fuel']))"
   ]
  },
  {
   "cell_type": "code",
   "execution_count": null,
   "id": "b2a57c02",
   "metadata": {},
   "outputs": [],
   "source": [
    "#reading the trip table\n",
    "#expanded_ct = pd.read_csv(\"C:\\\\Users\\\\dakcicek\\\\Desktop\\\\CEO_dumps_final\\\\trip_program.csv\")\n",
    "expanded_ct=pd.read_csv(\"C:\\\\Users\\\\dakcicek\\\\Documents\\\\GitHub\\\\ceo_analysis\\\\viz_scripts\\\\filtered_merged_trips_2.csv\")"
   ]
  },
  {
   "cell_type": "code",
   "execution_count": null,
   "id": "720be398",
   "metadata": {},
   "outputs": [],
   "source": [
    "trip_program=pd.read_csv(\"C:\\\\Users\\\\dakcicek\\\\Desktop\\\\CEO_dumps_final\\\\trip_program.csv\")"
   ]
  },
  {
   "cell_type": "code",
   "execution_count": null,
   "id": "d56661cc",
   "metadata": {},
   "outputs": [],
   "source": [
    "trip_program['program'].unique()"
   ]
  },
  {
   "cell_type": "code",
   "execution_count": null,
   "id": "0f58e65b",
   "metadata": {},
   "outputs": [],
   "source": [
    "trip_program['user_id'].nunique()"
   ]
  },
  {
   "cell_type": "code",
   "execution_count": null,
   "id": "ae968100",
   "metadata": {},
   "outputs": [],
   "source": [
    "print(len(trip_program))"
   ]
  },
  {
   "cell_type": "code",
   "execution_count": null,
   "id": "36e4e567",
   "metadata": {},
   "outputs": [],
   "source": [
    "data_non_stage = trip_program[trip_program.program != \"stage\"]\n",
    "print(len(data_non_stage))"
   ]
  },
  {
   "cell_type": "code",
   "execution_count": null,
   "id": "f3e8d125",
   "metadata": {},
   "outputs": [],
   "source": [
    "data_non_stage['user_id'].nunique()"
   ]
  },
  {
   "cell_type": "code",
   "execution_count": null,
   "id": "8c3cdc76",
   "metadata": {},
   "outputs": [],
   "source": [
    "data_non_stage_non_mini = data_non_stage[data_non_stage.program != \"prepilot\"]\n",
    "print(len(data_non_stage_non_mini))"
   ]
  },
  {
   "cell_type": "code",
   "execution_count": null,
   "id": "c96eac37",
   "metadata": {},
   "outputs": [],
   "source": [
    "data_non_stage_non_mini['user_id'].nunique()"
   ]
  },
  {
   "cell_type": "code",
   "execution_count": null,
   "id": "a32b6ce6",
   "metadata": {},
   "outputs": [],
   "source": [
    "expanded_ct=pd.read_csv(\"C:\\\\Users\\\\dakcicek\\\\Documents\\\\GitHub\\\\ceo_analysis\\\\viz_scripts\\\\expanded_ct.csv\")"
   ]
  },
  {
   "cell_type": "code",
   "execution_count": null,
   "id": "fc8ccbdf",
   "metadata": {},
   "outputs": [],
   "source": [
    "expanded_ct['user_id'].nunique()"
   ]
  },
  {
   "cell_type": "code",
   "execution_count": null,
   "id": "06e5046b",
   "metadata": {},
   "outputs": [],
   "source": [
    "data_non_stage = expanded_ct[expanded_ct.program != \"stage\"]\n",
    "print(len(data_non_stage))"
   ]
  },
  {
   "cell_type": "code",
   "execution_count": null,
   "id": "1e9b5a5f",
   "metadata": {},
   "outputs": [],
   "source": [
    "data_non_stage_non_mini = data_non_stage[data_non_stage.program != \"prepilot\"]\n",
    "print(len(data_non_stage_non_mini))"
   ]
  },
  {
   "cell_type": "code",
   "execution_count": null,
   "id": "6ae4c531",
   "metadata": {},
   "outputs": [],
   "source": [
    "expanded_ct = trip_program.copy()"
   ]
  },
  {
   "cell_type": "code",
   "execution_count": null,
   "id": "distinguished-firmware",
   "metadata": {},
   "outputs": [],
   "source": [
    "# Join the expanded database data to socioeconomic data\n",
    "socio_data = pd.read_csv(\"C:\\\\Users\\\\dakcicek\\\\Desktop\\\\CEO_dumps_final\\\\Can Do Colorado eBike Program - en.csv\")\n",
    "socio_data.rename(columns={'Unique User ID (auto-filled, do not edit)':'user_id',\n",
    "                          'Please identify which category represents your total household income, before taxes, for last year.':'HHINC',\n",
    "                          'How many motor vehicles are owned, leased, or available for regular use by the people who currently live in your household?':'VEH',\n",
    "                           'In which year were you born?':'AGE',\n",
    "                          'Including yourself, how many people live in your home?':'HHSIZE',\n",
    "                          'How many children under age 18 live in your home?':'CHILDREN',\n",
    "                          'What is your gender?':'GENDER',\n",
    "                          'If you were unable to use your household vehicle(s), which of the following options would be available to you to get you from place to place?':'available_modes',\n",
    "                          'Are you a student?':'STUDENT'}, inplace=True)\n",
    "socio_data = socio_data[~socio_data.user_id.isnull()]\n",
    "\n",
    "# Deal with people who have multiple responses by using most recent\n",
    "socio_data = socio_data.sort_values(by=['user_id', 'Timestamp'])\n",
    "socio_data.drop_duplicates(subset=['user_id'], keep='last', inplace=True)\n",
    "socio_data['user_id_socio'] = socio_data.user_id\n",
    "socio_data = socio_data.drop(labels='user_id', axis=1)\n",
    "\n",
    "# Lose some trips due to people with no survey responses\n",
    "expanded_ct['user_id_socio'] = expanded_ct.user_id.astype(str)\n",
    "expanded_ct.user_id_socio = [i.replace('-','') for i in expanded_ct.user_id_socio] # remove all dashes from strings\n",
    "expanded_ct = expanded_ct.merge(socio_data, on='user_id_socio')\n",
    "#expanded_ct.to_csv(\"expanded_ct.csv\")"
   ]
  },
  {
   "cell_type": "code",
   "execution_count": null,
   "id": "35f8056f",
   "metadata": {},
   "outputs": [],
   "source": [
    "print(len(expanded_ct))"
   ]
  },
  {
   "cell_type": "code",
   "execution_count": null,
   "id": "electronic-chest",
   "metadata": {
    "scrolled": true
   },
   "outputs": [],
   "source": [
    "# Optionally initialize from saved dataset\n",
    "#data = pd.read_csv(\"expanded_ct.csv\")\n",
    "# Or continue from data loaded from the database\n",
    "data = expanded_ct.copy()\n",
    "\n",
    "# # Add non-label category\n",
    "# expanded_ct['replaced_mode'] = expanded_ct['replaced_mode'].fillna('Unlabeled')\n",
    "# expanded_ct.loc[expanded_ct['replaced_mode'] == 'Unlabeled', 'Replaced_mode'] = \"Unlabeled\"\n",
    "\n",
    "# # List of variables to keep in data but not turn into categorical number variables\n",
    "# dont_categorize = ['user_id','_id','cleaned_trip']\n",
    "\n",
    "# # Make copy of user_id to be categorized since both versions are needed\n",
    "# data['user_id_int'] = data['user_id']\n",
    "\n",
    "# Get timestamp from known year/month/day aggregated to days\n",
    "data.rename(columns={'start_local_dt_year':'year','start_local_dt_month':'month','start_local_dt_day':'day'}, inplace=True)\n",
    "data['date_time'] = pd.to_datetime(data[['year','month','day']])\n",
    "\n",
    "# Fix age\n",
    "data['AGE'] = 2022 - data['AGE']\n",
    "\n",
    "# Number of workers\n",
    "data['WORKERS'] = data['HHSIZE'] - data['CHILDREN']\n",
    "\n",
    "# Duration in minutes\n",
    "data['duration'] = data['duration'] / 60\n",
    "\n",
    "# E-bike/not E-Bike variable\n",
    "data['is_ebike'] = \"E-Bike Trips\"\n",
    "data.loc[data['Mode_confirm']!=\"E-bike\", 'is_ebike'] = \"Non E-Bike Trips\"\n",
    "\n",
    "data = data[~data['HHINC'].isin(['Prefer not to say', '$150,000'])] # Side note why is 150k (n=7) its own bin?\n",
    "data['HHINC_NUM'] = data.HHINC.replace(['Less than $24,999',\n",
    "                                       '$25,000-$49,999',\n",
    "                                       '$50,000-$99,999',\n",
    "                                       '$100,000 -$149,999',\n",
    "                                       '$150,000-$199,999',\n",
    "                                       '$200,000 or more'], [12500,37500,75000,125000,175000,250000])\n",
    "\n",
    "# Calculate average income per adult in the household\n",
    "data['PINC'] = data['HHINC_NUM'] / data['WORKERS']\n",
    "\n",
    "# Combine variable categories\n",
    "data = data.replace('Gas Car, drove alone', 'Car')\n",
    "data = data.replace('Gas Car, with others', 'Shared Car')\n",
    "data = data.replace('Bikeshare', 'Shared Micromobility')\n",
    "data = data.replace('Scooter share', 'Shared Micromobility')\n",
    "data = data.replace('Regular Bike', 'Personal Micromobility')\n",
    "data = data.replace('Skate board', 'Personal Micromobility')\n",
    "data = data.replace('Train', 'Transit')\n",
    "data = data.replace('Free Shuttle', 'Transit')\n",
    "data = data.replace('Bus', 'Transit')\n",
    "data = data.replace('Walk', 'Walk')\n",
    "data = data.replace('Taxi/Uber/Lyft', 'Ridehail')\n",
    "data = data.replace('Pilot ebike', 'E-Bike')\n",
    "\n",
    "# Categorical type will include all days/modes in groupby even if there is no data for a particular tabulation\n",
    "data.user_id = pd.Categorical(data.user_id)\n",
    "data.date_time = pd.Categorical(data.date_time)\n",
    "data.mode_confirm = pd.Categorical(data.mode_confirm, ordered=True, categories=np.unique(list(dic_re.keys())))\n",
    "\n",
    "# Add order to categorical variables\n",
    "data.HHINC = pd.Categorical(data.HHINC, ordered=True, categories=['Less than $24,999',\n",
    "                                                                 '$25,000-$49,999',\n",
    "                                                                 '$50,000-$99,999'])\n",
    "data['Mode'] = pd.Categorical(data.Mode_confirm, ordered=True, categories=[\n",
    "    'E-bike',\n",
    "    'Car',\n",
    "    'Shared Car',\n",
    "    'Walk',\n",
    "    'Transit',\n",
    "    'Personal Micromobility',\n",
    "    'Shared Micromobility',\n",
    "    'Ridehail',\n",
    "    'Other'])\n",
    "data.VEH = pd.Categorical(data.VEH, ordered=True, categories=['0','1','2','3','4+'])\n",
    "data['PINC_NUM'] = data['PINC']\n",
    "data.PINC = pd.cut(data.PINC, bins=[0,10000,20000,30000,40000,50000,60000,70000,999999],\n",
    "                  labels=[\"$0-9\",\n",
    "                         \"$10-19\",\n",
    "                         \"$20-29\",\n",
    "                         \"$30-39\",\n",
    "                         \"$40-49\",\n",
    "                         \"$50-59\",\n",
    "                         \"$60-69\",\n",
    "                         \"$70+\"])\n",
    "\n",
    "# Vehicles per driver\n",
    "data['VEH_num'] = data['VEH'].replace(['1','2','3','4+'],[1,2,3,4]).astype(int)\n",
    "data['DRIVERS'] = data[\"Including yourself, how many people have a driver's license in your household?\"]\n",
    "data['DRIVERS_num'] = data['DRIVERS'].replace\n",
    "data['veh_per_driver'] = (data['VEH_num'] / data['DRIVERS']).fillna(0)\n",
    "data.loc[data['veh_per_driver']==np.inf, 'veh_per_driver'] = 0"
   ]
  },
  {
   "cell_type": "code",
   "execution_count": null,
   "id": "known-constraint",
   "metadata": {},
   "outputs": [],
   "source": [
    "# Data Filtering\n",
    "print(len(data))\n",
    "data = data[data['AGE']<100]\n",
    "data = data[data['distance_miles']<50]\n",
    "data = data[data['duration']<480]\n",
    "data = data[~data['Mode_confirm'].isin(['Not a Trip'])]\n",
    "data = data[~data['Replaced_mode'].isin(['Not a Trip'])]\n",
    "#data = data[~data['HHINC'].isin(['Prefer not to say','$100,000 -$149,999','$150,000','$150,000-$199,999','$200,000 or more'])] # Side note why is 150k (n=7) its own bin?\n",
    "#data = data[~data['VEH'].isin(['Prefer not to say / Prefiero no decir.'])]\n",
    "data = data[~data['Trip_purpose'].isin(['not_a_trip'])]\n",
    "#data = data[~data['available_modes'].isin(['None', 'Prefer not to say'])]\n",
    "data = data[data['HHSIZE']<10]\n",
    "data = data[data['HHSIZE']>data['CHILDREN']]\n",
    "print(len(data))"
   ]
  },
  {
   "cell_type": "code",
   "execution_count": null,
   "id": "7fcfed84",
   "metadata": {},
   "outputs": [],
   "source": [
    "a = data[data['AGE']>100]\n",
    "print(len(a))"
   ]
  },
  {
   "cell_type": "markdown",
   "id": "surgical-continuity",
   "metadata": {},
   "source": [
    "## Data Overview"
   ]
  },
  {
   "cell_type": "code",
   "execution_count": null,
   "id": "romance-green",
   "metadata": {},
   "outputs": [],
   "source": [
    "data_eb = data.query(f\"mode_confirm == '{mode_of_interest}'\")"
   ]
  },
  {
   "cell_type": "code",
   "execution_count": null,
   "id": "everyday-florida",
   "metadata": {},
   "outputs": [],
   "source": [
    "data.columns"
   ]
  },
  {
   "cell_type": "code",
   "execution_count": null,
   "id": "889a910a",
   "metadata": {},
   "outputs": [],
   "source": [
    "# Summary statistics table\n",
    "print(len(pd.unique(data.user_id)))\n",
    "stat_data = data[['distance_miles','duration']]\n",
    "stat_data.describe()"
   ]
  },
  {
   "cell_type": "markdown",
   "id": "noble-joint",
   "metadata": {},
   "source": [
    "## Figures"
   ]
  },
  {
   "cell_type": "markdown",
   "id": "7b8de097",
   "metadata": {},
   "source": [
    "### Program Participation"
   ]
  },
  {
   "cell_type": "code",
   "execution_count": null,
   "id": "93e10ba9",
   "metadata": {},
   "outputs": [],
   "source": [
    "# Access database\n",
    "tq = scaffolding.get_time_query(year, month)\n",
    "## I EDITED SCAFFOLDING TO REMOVE STAGE INSTEAD OF TEST\n",
    "participant_ct_df = scaffolding.load_all_participant_trips(program, tq, load_test_users=False) \n",
    "participant_ct_df[\"user_id_str\"] = participant_ct_df.user_id.apply(lambda u: str(u))"
   ]
  },
  {
   "cell_type": "code",
   "execution_count": null,
   "id": "3008a362",
   "metadata": {},
   "outputs": [],
   "source": [
    "# Proportion of trips labeled by user\n",
    "data = pd.read_csv(\"trip_program.csv\") ##all the labeled trips\n",
    "data = data[data.program != 'stage']\n",
    "data.user_id_str.nunique()\n",
    "\n",
    "all_user_trips = participant_ct_df.groupby(['user_id_str'], as_index=False).count()[['user_id_str','distance']]\n",
    "print(len(all_user_trips))\n",
    "labeled_user_trips = data.groupby(['user_id_str'], as_index=False).count()[['user_id_str','distance']]\n",
    "print(len(labeled_user_trips))\n",
    "\n",
    "plot_data = all_user_trips.merge(labeled_user_trips, how='left', on='user_id_str').fillna(0)\n",
    "plot_data.head()"
   ]
  },
  {
   "cell_type": "code",
   "execution_count": null,
   "id": "62256966",
   "metadata": {
    "scrolled": true
   },
   "outputs": [],
   "source": [
    "plot_data['proportion'] = plot_data['distance_y'] / plot_data['distance_x']\n",
    "data_order = plot_data.sort_values('proportion', ascending=True).user_id_str\n",
    "print(len(plot_data))\n",
    "\n",
    "plot_title='Distribution of User Response Rates'\n",
    "ylab='Proportion of Trips Labeled'\n",
    "file_name='CanBikeCO_report_user_participation%s'\n",
    "fig, ax = plt.subplots(figsize=(10,4))\n",
    "sns.barplot(data=plot_data, x='user_id_str', y='proportion', order=data_order, color='blue').set(title=plot_title,xlabel='Individual Users (183)',ylabel=ylab,xticklabels=[])\n",
    "plt.subplots_adjust(bottom=0.25)\n",
    "ax.figure.savefig(file_name+\".png\", bbox_inches='tight')"
   ]
  },
  {
   "cell_type": "markdown",
   "id": "482a7909",
   "metadata": {},
   "source": [
    "## trying to plot labeling rate across time"
   ]
  },
  {
   "cell_type": "code",
   "execution_count": null,
   "id": "1175cb5b",
   "metadata": {},
   "outputs": [],
   "source": [
    "#group the total data by day\n",
    "all_data = (participant_ct_df.groupby(['start_local_dt_month', 'start_local_dt_year']).size() \n",
    "   .reset_index(name='count'))\n",
    "\n",
    "all_data = all_data.sort_values(['start_local_dt_year', 'start_local_dt_month'])\n",
    "\n",
    "all_data = all_data.astype({'start_local_dt_month': 'str'})\n",
    "all_data = all_data.astype({'start_local_dt_year': 'str'})\n",
    "all_data['Month'] = all_data[['start_local_dt_year', 'start_local_dt_month']].agg('-'.join, axis=1)\n",
    "\n",
    "\n",
    "#group the labeled data by day#group the total data by day\n",
    "labeled = (data.groupby(['start_local_dt_month', 'start_local_dt_year']).size() \n",
    "   .reset_index(name='count'))\n",
    "\n",
    "labeled = labeled.sort_values(['start_local_dt_year', 'start_local_dt_month'])\n",
    "\n",
    "labeled = labeled.astype({'start_local_dt_month': 'str'})\n",
    "labeled = labeled.astype({'start_local_dt_year': 'str'})\n",
    "labeled['Month'] = labeled[['start_local_dt_year', 'start_local_dt_month']].agg('-'.join, axis=1)\n",
    "\n",
    "\n",
    "#merge them\n",
    "plot_data = all_data.merge(labeled, how='left', on='Month').fillna(0)\n",
    "\n",
    "#calc the proportion\n",
    "plot_data['proportion'] = plot_data['count_y'] / plot_data['count_x']\n",
    "\n",
    "#drop data before 6/2022 (when the full pilot started)\n",
    "plot_data = plot_data.iloc[5:]\n",
    "plot_data"
   ]
  },
  {
   "cell_type": "code",
   "execution_count": null,
   "id": "b97ec290",
   "metadata": {},
   "outputs": [],
   "source": [
    "#graph it - line way -- but that's 'connect-the-dots' style (BAD)\n",
    "plot_title = 'Labeling Rates Over Time'\n",
    "ylab = 'Labeling Rate'\n",
    "file_name = \"CanBikeCO_report_ts_labels\"\n",
    "fig, ax = plt.subplots(figsize=(16,4))\n",
    "sns.lineplot(data=plot_data, x='Month', y='proportion', estimator=np.mean).set(title=plot_title, xlabel='Month', ylabel=ylab)\n",
    "plt.xticks(rotation=35, ha='right')\n",
    "plt.subplots_adjust(bottom=0.25)\n",
    "ax.figure.savefig(file_name+\".png\", bbox_inches='tight')"
   ]
  },
  {
   "cell_type": "code",
   "execution_count": null,
   "id": "7bedc32b",
   "metadata": {},
   "outputs": [],
   "source": [
    "#graph it - bar way -- making no connect the dots claims :)\n",
    "\n",
    "plot_title='Response Rates Over Time'\n",
    "ylab='Proportion of Trips Labeled'\n",
    "file_name='CanBikeCO_report_ts_labels'\n",
    "fig, ax = plt.subplots(figsize=(8,4))\n",
    "sns.barplot(data=plot_data, x='Month', y='proportion', color='blue').set(title=plot_title,xlabel='Month',ylabel=ylab)\n",
    "plt.xticks(rotation=35, ha='right', fontsize=10)\n",
    "plt.subplots_adjust(bottom=0.25)\n",
    "ax.figure.savefig(file_name+\".jpeg\", bbox_inches='tight')\n",
    "\n",
    "# bar_data = plot_data[['Month', 'proportion']]\n",
    "\n",
    "# ax = bar_data.plot.bar(title='Response Rates Over Time', \n",
    "#                         ylabel='Proportion of Trips Labeled',\n",
    "#                         xlabel = 'Month')\n",
    "\n",
    "# ax.set_xticklabels(plot_data.Month, rotation=45, ha='right')\n",
    "# ax.get_legend().remove()\n",
    "\n",
    "# plt.savefig(\"CanBikeCO_report_ts_labels.jpeg\", bbox_inches='tight')"
   ]
  },
  {
   "cell_type": "markdown",
   "id": "5487dcfd",
   "metadata": {},
   "source": [
    "### Updates to the Pilot Study"
   ]
  },
  {
   "cell_type": "code",
   "execution_count": null,
   "id": "56ff01fd",
   "metadata": {},
   "outputs": [],
   "source": [
    "#remove stage users\n",
    "data_non_stage = data[data.program != \"stage\"]\n",
    "print(len(data_non_stage))"
   ]
  },
  {
   "cell_type": "code",
   "execution_count": null,
   "id": "fd9bbb9e",
   "metadata": {},
   "outputs": [],
   "source": [
    "#remove minipilot users\n",
    "data_non_stage_non_mini = data_non_stage[data_non_stage.program != \"prepilot\"]\n",
    "print(len(data_non_stage_non_mini))"
   ]
  },
  {
   "cell_type": "code",
   "execution_count": null,
   "id": "ee7f652c",
   "metadata": {},
   "outputs": [],
   "source": [
    "#separating programs\n",
    "four_corners = data_non_stage_non_mini[data_non_stage_non_mini.program == \"4c\"]\n",
    "community_cycles = data_non_stage_non_mini[data_non_stage_non_mini.program == \"cc\"]\n",
    "fort_collins = data_non_stage_non_mini[data_non_stage_non_mini.program == \"fc\"]\n",
    "pueblo = data_non_stage_non_mini[data_non_stage_non_mini.program == \"pc\"]\n",
    "smart_commute = data_non_stage_non_mini[data_non_stage_non_mini.program == \"sc\"]\n",
    "vail = data_non_stage_non_mini[data_non_stage_non_mini.program == \"vail\"]"
   ]
  },
  {
   "cell_type": "code",
   "execution_count": null,
   "id": "1ce65ebb",
   "metadata": {},
   "outputs": [],
   "source": [
    "four_corners"
   ]
  },
  {
   "cell_type": "code",
   "execution_count": null,
   "id": "deae5ddb",
   "metadata": {},
   "outputs": [],
   "source": [
    "print(four_corners['user_id'].nunique())\n",
    "print(community_cycles['user_id'].nunique())\n",
    "print(fort_collins['user_id'].nunique())\n",
    "print(pueblo['user_id'].nunique())\n",
    "print(smart_commute['user_id'].nunique())\n",
    "print(vail['user_id'].nunique())"
   ]
  },
  {
   "cell_type": "code",
   "execution_count": null,
   "id": "b0c65db5",
   "metadata": {},
   "outputs": [],
   "source": [
    "print(len(four_corners))\n",
    "print(len(community_cycles))\n",
    "print(len(fort_collins))\n",
    "print(len(pueblo))\n",
    "print(len(smart_commute))\n",
    "print(len(vail))"
   ]
  },
  {
   "cell_type": "markdown",
   "id": "17ee7ecd",
   "metadata": {},
   "source": [
    "# Filtering smart commute"
   ]
  },
  {
   "cell_type": "code",
   "execution_count": null,
   "id": "c3c0f700",
   "metadata": {},
   "outputs": [],
   "source": [
    "from datetime import datetime\n",
    "smart_commute['start_ts']= pd.to_datetime(smart_commute['start_ts'], utc=True, unit='s')"
   ]
  },
  {
   "cell_type": "code",
   "execution_count": null,
   "id": "ac979f0d",
   "metadata": {},
   "outputs": [],
   "source": [
    "smart_commute['start_ts']"
   ]
  },
  {
   "cell_type": "code",
   "execution_count": null,
   "id": "e028dc39",
   "metadata": {},
   "outputs": [],
   "source": [
    "trip_sep=smart_commute.groupby(['user_id','Mode_confirm']).apply(lambda x:x[x.start_ts==min(x.start_ts)])"
   ]
  },
  {
   "cell_type": "code",
   "execution_count": null,
   "id": "6710a5b4",
   "metadata": {},
   "outputs": [],
   "source": [
    "print(trip_sep['user_id'].nunique())"
   ]
  },
  {
   "cell_type": "code",
   "execution_count": null,
   "id": "acdf13e0",
   "metadata": {
    "scrolled": true
   },
   "outputs": [],
   "source": [
    "sc_unique=trip_sep['user_id'].unique()\n",
    "print(*sc_unique)"
   ]
  },
  {
   "cell_type": "code",
   "execution_count": null,
   "id": "d7c871a4",
   "metadata": {},
   "outputs": [],
   "source": [
    "smart_commute.to_csv(\"smart_commute.csv\")"
   ]
  },
  {
   "cell_type": "code",
   "execution_count": null,
   "id": "98908676",
   "metadata": {},
   "outputs": [],
   "source": [
    "sc_ebike_first=trip_sep[trip_sep['Mode_confirm']=='E-bike']\n",
    "sc_ebike_first"
   ]
  },
  {
   "cell_type": "code",
   "execution_count": null,
   "id": "0c492b64",
   "metadata": {},
   "outputs": [],
   "source": [
    "sc_ebike_user_list= sc_ebike_first['user_id'].tolist()\n",
    "smart_commute_incl_ebike = smart_commute[smart_commute['user_id'].isin(sc_ebike_user_list)]\n",
    "print(smart_commute_incl_ebike['user_id'].nunique())"
   ]
  },
  {
   "cell_type": "code",
   "execution_count": null,
   "id": "93c017ba",
   "metadata": {},
   "outputs": [],
   "source": [
    "for unique_id in sc_ebike_first['user_id']:\n",
    "    for date in sc_ebike_first['start_ts']:\n",
    "        smart_commute_ebike_first=smart_commute_incl_ebike[(smart_commute_incl_ebike['start_ts'] >= date)]"
   ]
  },
  {
   "cell_type": "code",
   "execution_count": null,
   "id": "ff0e42d7",
   "metadata": {},
   "outputs": [],
   "source": [
    "smart_commute_ebike_first"
   ]
  },
  {
   "cell_type": "code",
   "execution_count": null,
   "id": "7eda5d01",
   "metadata": {},
   "outputs": [],
   "source": [
    "sc_unique_ebikefirst=smart_commute_ebike_first['user_id'].unique()\n",
    "print(*sc_unique_ebikefirst)\n",
    "print(smart_commute_ebike_first['user_id'].nunique())"
   ]
  },
  {
   "cell_type": "markdown",
   "id": "9f4cd6a5",
   "metadata": {},
   "source": [
    "# Filtering Four corners"
   ]
  },
  {
   "cell_type": "code",
   "execution_count": null,
   "id": "5ac1bb8f",
   "metadata": {},
   "outputs": [],
   "source": [
    "four_corners['start_ts']= pd.to_datetime(four_corners['start_ts'], utc=True, unit='s')"
   ]
  },
  {
   "cell_type": "code",
   "execution_count": null,
   "id": "5d8c38af",
   "metadata": {},
   "outputs": [],
   "source": [
    "trip_sep_fc=four_corners.groupby(['user_id','Mode_confirm']).apply(lambda x:x[x.start_ts==min(x.start_ts)])\n",
    "print(trip_sep_fc['user_id'].nunique())"
   ]
  },
  {
   "cell_type": "code",
   "execution_count": null,
   "id": "85dedd8c",
   "metadata": {},
   "outputs": [],
   "source": [
    "fc_ebike_first=trip_sep_fc[trip_sep_fc['Mode_confirm']=='E-bike']\n",
    "fc_ebike_first"
   ]
  },
  {
   "cell_type": "code",
   "execution_count": null,
   "id": "720ac229",
   "metadata": {},
   "outputs": [],
   "source": [
    "fc_ebike_user_list= fc_ebike_first['user_id'].tolist()\n",
    "four_corners_incl_ebike = four_corners[four_corners['user_id'].isin(fc_ebike_user_list)]\n",
    "print(four_corners_incl_ebike['user_id'].nunique())"
   ]
  },
  {
   "cell_type": "code",
   "execution_count": null,
   "id": "bb5f5e1d",
   "metadata": {},
   "outputs": [],
   "source": [
    "for unique_id in fc_ebike_first['user_id']:\n",
    "    for date in fc_ebike_first['start_ts']:\n",
    "        four_corners_ebike_first=four_corners_incl_ebike[(four_corners_incl_ebike['start_ts'] >= date)]"
   ]
  },
  {
   "cell_type": "code",
   "execution_count": null,
   "id": "9a18e166",
   "metadata": {},
   "outputs": [],
   "source": [
    "four_corners_ebike_first"
   ]
  },
  {
   "cell_type": "code",
   "execution_count": null,
   "id": "32ac870a",
   "metadata": {},
   "outputs": [],
   "source": [
    "four_corners_ebike_first['Mode_confirm'].unique()"
   ]
  },
  {
   "cell_type": "code",
   "execution_count": null,
   "id": "b032f785",
   "metadata": {},
   "outputs": [],
   "source": [
    "fc_unique_ebikefirst=four_corners_ebike_first['user_id'].unique()\n",
    "print(*fc_unique_ebikefirst)\n",
    "print(four_corners_ebike_first['user_id'].nunique())"
   ]
  },
  {
   "cell_type": "markdown",
   "id": "ec478d56",
   "metadata": {},
   "source": [
    "# Filtering community cycles"
   ]
  },
  {
   "cell_type": "code",
   "execution_count": null,
   "id": "caf07e71",
   "metadata": {},
   "outputs": [],
   "source": [
    "community_cycles['start_ts']= pd.to_datetime(community_cycles['start_ts'], utc=True, unit='s')"
   ]
  },
  {
   "cell_type": "code",
   "execution_count": null,
   "id": "59ac8af5",
   "metadata": {},
   "outputs": [],
   "source": [
    "trip_sep_cc=community_cycles.groupby(['user_id','Mode_confirm']).apply(lambda x:x[x.start_ts==min(x.start_ts)])\n",
    "print(trip_sep_cc['user_id'].nunique())"
   ]
  },
  {
   "cell_type": "code",
   "execution_count": null,
   "id": "5ce06327",
   "metadata": {
    "scrolled": false
   },
   "outputs": [],
   "source": [
    "cc_ebike_first=trip_sep_cc[trip_sep_cc['Mode_confirm']=='E-bike']\n",
    "cc_ebike_first"
   ]
  },
  {
   "cell_type": "code",
   "execution_count": null,
   "id": "5db1df5d",
   "metadata": {},
   "outputs": [],
   "source": [
    "cc_ebike_user_list= cc_ebike_first['user_id'].tolist()\n",
    "community_cycles_incl_ebike = community_cycles[community_cycles['user_id'].isin(cc_ebike_user_list)]\n",
    "print(community_cycles_incl_ebike['user_id'].nunique())"
   ]
  },
  {
   "cell_type": "code",
   "execution_count": null,
   "id": "a637db2d",
   "metadata": {},
   "outputs": [],
   "source": [
    "for unique_id in cc_ebike_first['user_id']:\n",
    "    for date in cc_ebike_first['start_ts']:\n",
    "        community_cycles_ebike_first=community_cycles_incl_ebike[(community_cycles_incl_ebike['start_ts'] >= date)]"
   ]
  },
  {
   "cell_type": "code",
   "execution_count": null,
   "id": "2a7659af",
   "metadata": {},
   "outputs": [],
   "source": [
    "community_cycles_ebike_first"
   ]
  },
  {
   "cell_type": "code",
   "execution_count": null,
   "id": "74f826ce",
   "metadata": {},
   "outputs": [],
   "source": [
    "community_cycles_ebike_first['Mode_confirm'].unique()"
   ]
  },
  {
   "cell_type": "code",
   "execution_count": null,
   "id": "e1a0fa1b",
   "metadata": {},
   "outputs": [],
   "source": [
    "cc_unique_ebikefirst=community_cycles_ebike_first['user_id'].unique()\n",
    "print(*cc_unique_ebikefirst)\n",
    "print(community_cycles_ebike_first['user_id'].nunique())"
   ]
  },
  {
   "cell_type": "markdown",
   "id": "84e4a3f3",
   "metadata": {},
   "source": [
    "# Filtering Fort Collins"
   ]
  },
  {
   "cell_type": "code",
   "execution_count": null,
   "id": "07a8baa1",
   "metadata": {},
   "outputs": [],
   "source": [
    "fort_collins['start_ts']= pd.to_datetime(fort_collins['start_ts'], utc=True, unit='s')"
   ]
  },
  {
   "cell_type": "code",
   "execution_count": null,
   "id": "34c53ff8",
   "metadata": {},
   "outputs": [],
   "source": [
    "trip_sep_fc=fort_collins.groupby(['user_id','Mode_confirm']).apply(lambda x:x[x.start_ts==min(x.start_ts)])\n",
    "print(trip_sep_fc['user_id'].nunique())"
   ]
  },
  {
   "cell_type": "code",
   "execution_count": null,
   "id": "5d680eb5",
   "metadata": {},
   "outputs": [],
   "source": [
    "fc_ebike_first=trip_sep_fc[trip_sep_fc['Mode_confirm']=='E-bike']\n",
    "fc_ebike_first"
   ]
  },
  {
   "cell_type": "code",
   "execution_count": null,
   "id": "de03d8d4",
   "metadata": {},
   "outputs": [],
   "source": [
    "fc_ebike_user_list= fc_ebike_first['user_id'].tolist()\n",
    "fort_collins_incl_ebike = fort_collins[fort_collins['user_id'].isin(fc_ebike_user_list)]\n",
    "print(fort_collins_incl_ebike['user_id'].nunique())"
   ]
  },
  {
   "cell_type": "code",
   "execution_count": null,
   "id": "08ac617a",
   "metadata": {},
   "outputs": [],
   "source": [
    "for unique_id in fc_ebike_first['user_id']:\n",
    "    for date in fc_ebike_first['start_ts']:\n",
    "        fort_collins_ebike_first=fort_collins_incl_ebike[(fort_collins_incl_ebike['start_ts'] >= date)]"
   ]
  },
  {
   "cell_type": "code",
   "execution_count": null,
   "id": "5c83040e",
   "metadata": {},
   "outputs": [],
   "source": [
    "fort_collins_ebike_first"
   ]
  },
  {
   "cell_type": "code",
   "execution_count": null,
   "id": "95dd7174",
   "metadata": {},
   "outputs": [],
   "source": [
    "fort_collins_ebike_first['Mode_confirm'].unique()"
   ]
  },
  {
   "cell_type": "code",
   "execution_count": null,
   "id": "20c1d181",
   "metadata": {},
   "outputs": [],
   "source": [
    "fc_unique_ebikefirst=fort_collins_ebike_first['user_id'].unique()\n",
    "print(*fc_unique_ebikefirst)\n",
    "print(fort_collins_ebike_first['user_id'].nunique())"
   ]
  },
  {
   "cell_type": "markdown",
   "id": "d3815454",
   "metadata": {},
   "source": [
    "# Filtering pueblo"
   ]
  },
  {
   "cell_type": "code",
   "execution_count": null,
   "id": "301446fb",
   "metadata": {},
   "outputs": [],
   "source": [
    "pueblo['start_ts']= pd.to_datetime(pueblo['start_ts'], utc=True, unit='s')"
   ]
  },
  {
   "cell_type": "code",
   "execution_count": null,
   "id": "523c5d62",
   "metadata": {},
   "outputs": [],
   "source": [
    "trip_sep_pu=pueblo.groupby(['user_id','Mode_confirm']).apply(lambda x:x[x.start_ts==min(x.start_ts)])\n",
    "print(trip_sep_pu['user_id'].nunique())"
   ]
  },
  {
   "cell_type": "code",
   "execution_count": null,
   "id": "f0e1601e",
   "metadata": {
    "scrolled": true
   },
   "outputs": [],
   "source": [
    "pu_ebike_first=trip_sep_pu[trip_sep_pu['Mode_confirm']=='E-bike']\n",
    "pu_ebike_first"
   ]
  },
  {
   "cell_type": "code",
   "execution_count": null,
   "id": "8109f60f",
   "metadata": {},
   "outputs": [],
   "source": [
    "pu_ebike_user_list= pu_ebike_first['user_id'].tolist()\n",
    "pueblo_incl_ebike = pueblo[pueblo['user_id'].isin(pu_ebike_user_list)]\n",
    "print(pueblo_incl_ebike['user_id'].nunique())"
   ]
  },
  {
   "cell_type": "code",
   "execution_count": null,
   "id": "7275c45d",
   "metadata": {},
   "outputs": [],
   "source": [
    "for unique_id in pu_ebike_first['user_id']:\n",
    "    for date in pu_ebike_first['start_ts']:\n",
    "        pueblo_ebike_first=pueblo_incl_ebike[(pueblo_incl_ebike['start_ts'] >= date)]"
   ]
  },
  {
   "cell_type": "code",
   "execution_count": null,
   "id": "adb95fb9",
   "metadata": {},
   "outputs": [],
   "source": [
    "pueblo_ebike_first"
   ]
  },
  {
   "cell_type": "code",
   "execution_count": null,
   "id": "fb858354",
   "metadata": {},
   "outputs": [],
   "source": [
    "pueblo_ebike_first['Mode_confirm'].unique()"
   ]
  },
  {
   "cell_type": "code",
   "execution_count": null,
   "id": "2ef0d873",
   "metadata": {},
   "outputs": [],
   "source": [
    "pu_unique_ebikefirst=pueblo_ebike_first['user_id'].unique()\n",
    "print(*pu_unique_ebikefirst)\n",
    "print(pueblo_ebike_first['user_id'].nunique())"
   ]
  },
  {
   "cell_type": "markdown",
   "id": "b956a1e2",
   "metadata": {},
   "source": [
    "# Filtering Vail"
   ]
  },
  {
   "cell_type": "code",
   "execution_count": null,
   "id": "18a1e016",
   "metadata": {},
   "outputs": [],
   "source": [
    "vail['start_ts']= pd.to_datetime(vail['start_ts'], utc=True, unit='s')"
   ]
  },
  {
   "cell_type": "code",
   "execution_count": null,
   "id": "e7dab4c2",
   "metadata": {},
   "outputs": [],
   "source": [
    "trip_sep_va=vail.groupby(['user_id','Mode_confirm']).apply(lambda x:x[x.start_ts==min(x.start_ts)])\n",
    "print(trip_sep_va['user_id'].nunique())"
   ]
  },
  {
   "cell_type": "code",
   "execution_count": null,
   "id": "2cb6a888",
   "metadata": {},
   "outputs": [],
   "source": [
    "va_ebike_first=trip_sep_va[trip_sep_va['Mode_confirm']=='E-bike']\n",
    "va_ebike_first"
   ]
  },
  {
   "cell_type": "code",
   "execution_count": null,
   "id": "e9f1e15e",
   "metadata": {},
   "outputs": [],
   "source": [
    "va_ebike_user_list= va_ebike_first['user_id'].tolist()\n",
    "vail_incl_ebike = vail[vail['user_id'].isin(va_ebike_user_list)]\n",
    "print(vail_incl_ebike['user_id'].nunique())"
   ]
  },
  {
   "cell_type": "code",
   "execution_count": null,
   "id": "7aaf8dd2",
   "metadata": {},
   "outputs": [],
   "source": [
    "for unique_id in va_ebike_first['user_id']:\n",
    "    for date in va_ebike_first['start_ts']:\n",
    "        vail_ebike_first=vail_incl_ebike[(vail_incl_ebike['start_ts'] >= date)]"
   ]
  },
  {
   "cell_type": "code",
   "execution_count": null,
   "id": "4e182ddd",
   "metadata": {},
   "outputs": [],
   "source": [
    "vail_ebike_first"
   ]
  },
  {
   "cell_type": "code",
   "execution_count": null,
   "id": "23e9a3ad",
   "metadata": {},
   "outputs": [],
   "source": [
    "vail_ebike_first['Mode_confirm'].unique()"
   ]
  },
  {
   "cell_type": "code",
   "execution_count": null,
   "id": "e6e2a2b8",
   "metadata": {},
   "outputs": [],
   "source": [
    "va_unique_ebikefirst=vail_ebike_first['user_id'].unique()\n",
    "print(*va_unique_ebikefirst)\n",
    "print(vail_ebike_first['user_id'].nunique())"
   ]
  },
  {
   "cell_type": "markdown",
   "id": "5e6e0f4f",
   "metadata": {},
   "source": [
    "# Combining the filtered datasets"
   ]
  },
  {
   "cell_type": "code",
   "execution_count": null,
   "id": "37ee8599",
   "metadata": {},
   "outputs": [],
   "source": [
    "#Combining the filtered datasets\n",
    "print(four_corners_ebike_first['user_id'].nunique())\n",
    "print(community_cycles_ebike_first['user_id'].nunique())\n",
    "print(fort_collins_ebike_first['user_id'].nunique())\n",
    "print(pueblo_ebike_first['user_id'].nunique())\n",
    "print(smart_commute_ebike_first['user_id'].nunique())\n",
    "print(vail_ebike_first['user_id'].nunique())\n",
    "\n",
    "print(len(four_corners_ebike_first))\n",
    "print(len(community_cycles_ebike_first))\n",
    "print(len(fort_collins_ebike_first))\n",
    "print(len(pueblo_ebike_first))\n",
    "print(len(smart_commute_ebike_first))\n",
    "print(len(vail_ebike_first))"
   ]
  },
  {
   "cell_type": "code",
   "execution_count": null,
   "id": "cede8930",
   "metadata": {},
   "outputs": [],
   "source": [
    "filtered_merged = pd.concat([four_corners_ebike_first, community_cycles_ebike_first, fort_collins_ebike_first, \n",
    "                             pueblo_ebike_first, smart_commute_ebike_first,vail_ebike_first], axis=0)\n",
    "print(len(filtered_merged))\n",
    "print(filtered_merged['user_id'].nunique())"
   ]
  },
  {
   "cell_type": "code",
   "execution_count": null,
   "id": "77e9d72b",
   "metadata": {},
   "outputs": [],
   "source": [
    "filtered_merged.to_csv(\"filtered_merged_trips.csv\")"
   ]
  },
  {
   "cell_type": "markdown",
   "id": "b6a0d079",
   "metadata": {},
   "source": [
    "# Analysis"
   ]
  },
  {
   "cell_type": "code",
   "execution_count": null,
   "id": "68c6c592",
   "metadata": {},
   "outputs": [],
   "source": [
    "#data=pd.read_csv(\"C:\\\\Users\\\\dakcicek\\\\Documents\\\\GitHub\\\\ceo_analysis\\\\viz_scripts\\\\expanded_ct.csv\")\n",
    "data=pd.read_csv(\"C:\\\\Users\\\\dakcicek\\\\Documents\\\\GitHub\\\\ceo_analysis\\\\viz_scripts\\\\filtered_merged_trips_2.csv\")"
   ]
  },
  {
   "cell_type": "code",
   "execution_count": null,
   "id": "d0025471",
   "metadata": {},
   "outputs": [],
   "source": [
    "# Age, Income, Gender\n",
    "plot_data = data.copy()\n",
    "plot_data = plot_data.groupby(['user_id']).nth(0)[['AGE','GENDER','VEH','HHINC']].dropna()\n",
    "plot_data = plot_data[plot_data['GENDER'].isin(['Man','Woman'])]\n",
    "plot_data = plot_data.groupby(['user_id'], as_index=False).nth(0)\n",
    "\n",
    "plot_title='Participant Demographics'\n",
    "ylab='Count'\n",
    "file_name='CanBikeCO_report_demog%s'%file_suffix\n",
    "\n",
    "fig, axs = plt.subplots(2,2,figsize=(10,6))\n",
    "sns.histplot(data=plot_data, x='GENDER', ax=axs[0,0], color='purple', stat='probability').set(xlabel='Sex',ylabel='proportion')\n",
    "sns.histplot(data=plot_data, x='AGE', ax=axs[0,1], color='red', stat='probability').set(xlabel='Age',ylabel='proportion')\n",
    "sns.histplot(data=plot_data, x='VEH', ax=axs[1,0], color='blue', stat='probability').set(xlabel='Household Vehicles',ylabel='proportion')\n",
    "sns.histplot(data=pd.DataFrame(plot_data['HHINC'].dropna()), x='HHINC', ax=axs[1,1], color='green', stat='probability').set(xlabel='Household Income',ylabel='proportion')\n",
    "plt.xticks(rotation=35, ha='right')\n",
    "plt.tight_layout()\n",
    "\n",
    "fig.savefig(file_name+\".png\", bbox_inches='tight')"
   ]
  },
  {
   "cell_type": "code",
   "execution_count": null,
   "id": "69b0b07f",
   "metadata": {},
   "outputs": [],
   "source": [
    "plot_data=plot_data.reset_index()"
   ]
  },
  {
   "cell_type": "code",
   "execution_count": null,
   "id": "0564389a",
   "metadata": {},
   "outputs": [],
   "source": [
    "plot_data.columns"
   ]
  },
  {
   "cell_type": "code",
   "execution_count": null,
   "id": "57631ec6",
   "metadata": {},
   "outputs": [],
   "source": [
    "sns.set_palette('tab20', 9)"
   ]
  },
  {
   "cell_type": "code",
   "execution_count": null,
   "id": "978f1803",
   "metadata": {},
   "outputs": [],
   "source": [
    "minipilot_mode_labels = ['Car',\n",
    "                   'Shared Car',\n",
    "                   'Walk',\n",
    "                   'Transit',\n",
    "                   'Ridehail',\n",
    "                   'Other',\n",
    "                   'E-bike']\n",
    "minipilot_all_data = [.293,\n",
    "                     .209,\n",
    "                     .075,\n",
    "                     .054,\n",
    "                     .029,\n",
    "                     .029,\n",
    "                     .313]\n",
    "minipilot_commute_data = [.270,\n",
    "                         .294,\n",
    "                         .050,\n",
    "                         .0,\n",
    "                         .0,\n",
    "                         .062,\n",
    "                         .324]\n",
    "colnames = ['Mode_confirm','All Trips','Commute Trips']\n",
    "minipilot_mode_data_1 = pd.DataFrame(list(zip(minipilot_mode_labels, minipilot_all_data)))\n",
    "minipilot_mode_data_2 = pd.DataFrame(list(zip(minipilot_mode_labels, minipilot_commute_data)))\n",
    "minipilot_mode_data_1['Trip Type'] = 'All Trips'\n",
    "minipilot_mode_data_2['Trip Type'] = 'Work Trips'\n",
    "minipilot_mode_data = pd.concat([minipilot_mode_data_1, minipilot_mode_data_2])\n",
    "minipilot_mode_data['Dataset'] = 'Minipilot'\n",
    "minipilot_mode_data.columns = ['Mode','Proportion','Trip Type','Dataset']\n",
    "\n",
    "minipilot_purp_labels = ['Home',\n",
    "                   'Work',\n",
    "                   'Pick-up/Drop off',\n",
    "                   'Shopping',\n",
    "                   'Recreation/Exercise',\n",
    "                   'Meal',\n",
    "                   'Entertainment/Social',\n",
    "                   'Transit transfer',\n",
    "                   'Other',\n",
    "                   'Personal/Medical']\n",
    "minipilot_all_data = [.171,\n",
    "                     .163,\n",
    "                     .138,\n",
    "                     .120,\n",
    "                     .058,\n",
    "                     .055,\n",
    "                     .045,\n",
    "                     .022,\n",
    "                     .051,\n",
    "                     .176]\n",
    "minipilot_commute_data = [.162,\n",
    "                         .166,\n",
    "                         .190,\n",
    "                         .097,\n",
    "                         .086,\n",
    "                         .082,\n",
    "                         .061,\n",
    "                          0,\n",
    "                         .052,\n",
    "                         .104]\n",
    "colnames = ['Trip_purpose','All Trips','E-Bike Trips']\n",
    "minipilot_purp_data_1 = pd.DataFrame(list(zip(minipilot_purp_labels, minipilot_all_data)))\n",
    "minipilot_purp_data_2 = pd.DataFrame(list(zip(minipilot_purp_labels, minipilot_commute_data)))\n",
    "minipilot_purp_data_1['Trip Type'] = 'All Trips'\n",
    "minipilot_purp_data_2['Trip Type'] = 'E-Bike Trips'\n",
    "minipilot_purp_data = pd.concat([minipilot_purp_data_1, minipilot_purp_data_2])\n",
    "minipilot_purp_data['Dataset'] = 'Minipilot'\n",
    "minipilot_purp_data.columns = ['Purpose','Proportion','Trip Type','Dataset']"
   ]
  },
  {
   "cell_type": "code",
   "execution_count": null,
   "id": "f612e599",
   "metadata": {},
   "outputs": [],
   "source": [
    "plot_data = data.copy()\n",
    "plot_data.loc[plot_data['Mode_confirm']=='Personal Micromobility', 'Mode_confirm'] = 'Other'\n",
    "plot_data.loc[plot_data['Mode_confirm']=='Shared Micromobility', 'Mode_confirm'] = 'Other'\n",
    "\n",
    "t1 = plot_data.groupby(['Mode_confirm'], as_index=False).count()[['Mode_confirm','distance_miles']]\n",
    "t1['proportion'] = t1['distance_miles'] / np.sum(t1.distance_miles)\n",
    "t1['distance_miles'] = 'All Trips'\n",
    "\n",
    "t2 = plot_data[plot_data['Trip_purpose']=='Work'].copy()\n",
    "t2 = t2.groupby(['Mode_confirm'], as_index=False).count()[['Mode_confirm','distance_miles']]\n",
    "t2['proportion'] = t2['distance_miles'] / np.sum(t2.distance_miles)\n",
    "t2['distance_miles'] = 'Work Trips'\n",
    "\n",
    "plot_data = pd.concat([t1,t2])\n",
    "plot_data['Dataset'] = 'Long Term'\n",
    "plot_data.columns = ['Mode','Trip Type','Proportion','Dataset']\n",
    "plot_data = pd.concat([plot_data, minipilot_mode_data])"
   ]
  },
  {
   "cell_type": "code",
   "execution_count": null,
   "id": "d475b869",
   "metadata": {},
   "outputs": [],
   "source": [
    "plot_data = data.copy()\n",
    "plot_data.loc[plot_data['Mode_confirm']=='Personal Micromobility', 'Mode_confirm'] = 'Other'\n",
    "plot_data.loc[plot_data['Mode_confirm']=='Shared Micromobility', 'Mode_confirm'] = 'Other'\n",
    "\n",
    "t1 = plot_data.groupby(['Mode_confirm'], as_index=False).count()[['Mode_confirm','distance_miles']]\n",
    "t1['proportion'] = t1['distance_miles'] / np.sum(t1.distance_miles)\n",
    "t1['distance_miles'] = 'All Trips'\n",
    "\n",
    "t2 = plot_data[plot_data['Trip_purpose']=='Work'].copy()\n",
    "t2 = t2.groupby(['Mode_confirm'], as_index=False).count()[['Mode_confirm','distance_miles']]\n",
    "t2['proportion'] = t2['distance_miles'] / np.sum(t2.distance_miles)\n",
    "t2['distance_miles'] = 'Work Trips'\n",
    "t2.loc[len(t2.index)] = ['Ridehail', 'Work Trips', 0]\n",
    "#t2.loc[len(t2.index)] = ['Transit', 'Work Trips', 0] \n",
    "\n",
    "plot_data = pd.concat([t1,t2])\n",
    "plot_data['Dataset'] = 'Vail'\n",
    "plot_data.columns = ['Mode','Trip Type','Proportion','Dataset']\n",
    "plot_data = pd.concat([plot_data, minipilot_mode_data])"
   ]
  },
  {
   "cell_type": "code",
   "execution_count": null,
   "id": "59abfbe5",
   "metadata": {},
   "outputs": [],
   "source": [
    "t2"
   ]
  },
  {
   "cell_type": "code",
   "execution_count": null,
   "id": "22452343",
   "metadata": {},
   "outputs": [],
   "source": [
    "plot_data"
   ]
  },
  {
   "cell_type": "code",
   "execution_count": null,
   "id": "704efdfe",
   "metadata": {},
   "outputs": [],
   "source": [
    "width = 0.5\n",
    "fig, ax = plt.subplots(1,1, figsize=(15,6))\n",
    "running_total_mini = [0,0]\n",
    "running_total_long = [0,0]\n",
    "fig_data_mini = plot_data[plot_data['Dataset']=='Minipilot']\n",
    "fig_data_long = plot_data[plot_data['Dataset']=='Long Term']\n",
    "\n",
    "for mode in pd.unique(fig_data_mini.Mode):\n",
    "    mini = fig_data_mini[fig_data_mini['Mode']==mode]\n",
    "    long = fig_data_long[fig_data_long['Mode']==mode]\n",
    "\n",
    "    #labels = mini['Trip Type']\n",
    "    #vals = mini['Proportion']*100\n",
    "    #vals_str = [round(v,1) if v>1 else '' for v in vals]\n",
    "    #bar = ax.barh(labels, vals, width, left=running_total_mini, label=mode)\n",
    "    #ax.bar_label(bar, label_type='center', labels=vals_str, rotation=90)\n",
    "    #running_total_mini[0] = running_total_mini[0]+vals.iloc[0]\n",
    "    #running_total_mini[1] = running_total_mini[1]+vals.iloc[1]\n",
    "\n",
    "    labels = long['Trip Type']\n",
    "    vals = long['Proportion']*100\n",
    "    vals_str = [round(v,1) if v>1 else '' for v in vals]\n",
    "    bar = ax.barh(labels, vals, width, left=running_total_long, label=mode)\n",
    "    ax.bar_label(bar, label_type='center', labels=vals_str, rotation=90)\n",
    "    running_total_long[0] = running_total_long[0]+vals.iloc[0]\n",
    "    running_total_long[1] = running_total_long[1]+vals.iloc[1]\n",
    "\n",
    "file_name='CanBikeCO_report_mode_share%s'%\n",
    "ax.set_title('Minipilot')\n",
    "ax.set_title('Mode Share')\n",
    "ax.legend(bbox_to_anchor=(1,1), fancybox=True, shadow=True)\n",
    "plt.subplots_adjust(bottom=0.25)\n",
    "fig.tight_layout()\n",
    "plt.show()\n",
    "fig.savefig(file_name+\".png\", bbox_inches='tight')"
   ]
  },
  {
   "cell_type": "code",
   "execution_count": null,
   "id": "50dcfed1",
   "metadata": {},
   "outputs": [],
   "source": [
    "sns.set_palette('tab20', 12)"
   ]
  },
  {
   "cell_type": "code",
   "execution_count": null,
   "id": "d889b1d6",
   "metadata": {},
   "outputs": [],
   "source": [
    "plot_data = data.copy()\n",
    "plot_data.loc[plot_data['Trip_purpose']=='Religious', 'Trip_purpose'] = 'Other'\n",
    "plot_data.loc[plot_data['Trip_purpose']=='School', 'Trip_purpose'] = 'Other'\n",
    "t1 = plot_data.groupby(['Trip_purpose'], as_index=False).count()[['Trip_purpose','distance_miles']]\n",
    "t1['proportion'] = t1['distance_miles'] / np.sum(t1.distance_miles)\n",
    "t1['distance_miles'] = 'All Trips'\n",
    "\n",
    "t2 = plot_data[plot_data['Mode_confirm']=='E-bike'].copy()\n",
    "t2 = t2.groupby(['Trip_purpose'], as_index=False).count()[['Trip_purpose','distance_miles']]\n",
    "t2['proportion'] = t2['distance_miles'] / np.sum(t2.distance_miles)\n",
    "t2['distance_miles'] = 'E-Bike Trips'\n",
    "\n",
    "plot_data = pd.concat([t1,t2])\n",
    "plot_data['Dataset'] = 'Long_Term'\n",
    "plot_data.columns = ['Purpose','Trip Type','Proportion','Dataset']\n",
    "plot_data = pd.concat([plot_data, minipilot_purp_data])"
   ]
  },
  {
   "cell_type": "code",
   "execution_count": null,
   "id": "93bc2011",
   "metadata": {},
   "outputs": [],
   "source": [
    "plot_data"
   ]
  },
  {
   "cell_type": "code",
   "execution_count": null,
   "id": "38142f21",
   "metadata": {},
   "outputs": [],
   "source": [
    "width = 0.5\n",
    "fig, ax = plt.subplots(1,1, figsize=(15,6))\n",
    "running_total_mini = [0,0]\n",
    "running_total_long = [0,0]\n",
    "fig_data_mini = plot_data[plot_data['Dataset']=='Minipilot']\n",
    "fig_data_long = plot_data[plot_data['Dataset']=='Minipilot']\n",
    "\n",
    "for purp in pd.unique(fig_data_mini.Purpose):\n",
    "    mini = fig_data_mini[fig_data_mini['Purpose']==purp]\n",
    "    long = fig_data_long[fig_data_long['Purpose']==purp]\n",
    "    \n",
    "    #labels = mini['Trip Type']\n",
    "    #vals = mini['Proportion']*100\n",
    "    #vals_str = [round(v,1) if v>1 else '' for v in vals]\n",
    "    #bar = ax.barh(labels, vals, width, left=running_total_mini, label=purp)\n",
    "    #ax.bar_label(bar, label_type='center', labels=vals_str, rotation=90)\n",
    "    #running_total_mini[0] = running_total_mini[0]+vals.iloc[0]\n",
    "    #running_total_mini[1] = running_total_mini[1]+vals.iloc[1]\n",
    "\n",
    "    labels = long['Trip Type']\n",
    "    vals = long['Proportion']*100\n",
    "    vals_str = [round(v,1) if v>1 else '' for v in vals]\n",
    "    bar = ax.barh(labels, vals, width, left=running_total_long, label=purp)\n",
    "    ax.bar_label(bar, label_type='center', labels=vals_str, rotation=90)\n",
    "    running_total_long[0] = running_total_long[0]+vals.iloc[0]\n",
    "    running_total_long[1] = running_total_long[1]+vals.iloc[1]\n",
    "\n",
    "file_name='CanBikeCO_report_purp_share%s'\n",
    "ax.set_title('Minipilot')\n",
    "ax.set_title('Trip Purpose')\n",
    "ax.legend(bbox_to_anchor=(1,1), fancybox=True, shadow=True)\n",
    "plt.subplots_adjust(bottom=0.25)\n",
    "fig.tight_layout()\n",
    "plt.show()\n",
    "fig.savefig(file_name+\".png\", bbox_inches='tight')"
   ]
  },
  {
   "cell_type": "code",
   "execution_count": null,
   "id": "f9877eb1",
   "metadata": {},
   "outputs": [],
   "source": [
    "# Gas car\n",
    "5170 * 1 / 1000000 * 157.2 * 453 * .62\n",
    "\n",
    "# Ebike\n",
    ".022 * 1 / 1000 * 1166 * 453 * .62"
   ]
  },
  {
   "cell_type": "code",
   "execution_count": null,
   "id": "4f6dad7d",
   "metadata": {},
   "outputs": [],
   "source": [
    "for i in range(0,len(df_ei)):\n",
    "    if df_ei.iloc[i,:]['fuel']=='electric':\n",
    "        z = df_ei.iloc[i,:]['energy_intensity_factor'] * df_ei.iloc[i,:]['CO2_factor'] * .001\n",
    "        print(df_ei.iloc[i,:]['mode'])\n",
    "        print(f\"{z} lb C02/pass-mi\")\n",
    "    elif df_ei.iloc[i,:]['fuel']=='gasoline':\n",
    "        z = df_ei.iloc[i,:]['energy_intensity_factor'] * df_ei.iloc[i,:]['CO2_factor'] * .000001\n",
    "        print(df_ei.iloc[i,:]['mode'])\n",
    "        print(f\"{z} lb C02/pass-mi\")\n",
    "df_ei['energy_intensity_factor'] * df_ei['CO2_factor']"
   ]
  },
  {
   "cell_type": "code",
   "execution_count": null,
   "id": "0dfa20fd",
   "metadata": {},
   "outputs": [],
   "source": [
    "# Emissions\n",
    "plot_data = data_eb.copy()\n",
    "co2rp = plot_data.groupby('Replaced_mode').agg({'CO2_Impact(lb)': ['sum','mean']},)\n",
    "co2rp.columns = ['total_lb_CO2_emissions', 'average_lb_CO2_emission']\n",
    "co2rp = co2rp.reset_index()\n",
    "co2rp= co2rp.sort_values(by=['total_lb_CO2_emissions'], ascending=False)\n",
    "co2rp['boolean'] = co2rp['total_lb_CO2_emissions'] > 0\n",
    "\n",
    "net_CO2_saved = round(sum(co2rp['total_lb_CO2_emissions']), 2)\n",
    "\n",
    "x = co2rp['total_lb_CO2_emissions']\n",
    "y = co2rp['Replaced_mode']\n",
    "color =co2rp['boolean']\n",
    "\n",
    "plot_title=\"Sketch of CO2 Emissions Impact for all confirmed trips \\n Contribution by mode towards a total of %s (kWH) \\n%s\" % (net_CO2_saved, quality_text)\n",
    "file_name ='CanBikeCO_report_sketch_all_mode_CO2impact%s' % file_suffix\n",
    "CO2_impact(x,y,color,plot_title,file_name)\n",
    "\n",
    "file_name='CanBikeCO_report_purp_share%s'%file_suffix\n",
    "fig.tight_layout()\n",
    "plt.show()\n",
    "fig.savefig(SAVE_DIR+file_name+\".png\", bbox_inches='tight')"
   ]
  },
  {
   "cell_type": "markdown",
   "id": "73eeef4c",
   "metadata": {},
   "source": [
    "### Who Rides E-Bikes, and Why?"
   ]
  },
  {
   "cell_type": "code",
   "execution_count": null,
   "id": "433e1f6f",
   "metadata": {},
   "outputs": [],
   "source": [
    "sns.set_palette('Set1', 9)"
   ]
  },
  {
   "cell_type": "code",
   "execution_count": null,
   "id": "1c666eb4",
   "metadata": {},
   "outputs": [],
   "source": [
    "print(four_corners['user_id'].nunique())\n",
    "print(community_cycles['user_id'].nunique())\n",
    "print(fort_collins['user_id'].nunique())\n",
    "print(pueblo['user_id'].nunique())\n",
    "print(smart_commute['user_id'].nunique())\n",
    "print(vail['user_id'].nunique())"
   ]
  },
  {
   "cell_type": "code",
   "execution_count": null,
   "id": "fe0c04db",
   "metadata": {},
   "outputs": [],
   "source": [
    "# Distribution of mode by age\n",
    "plot_data = data.copy()\n",
    "\n",
    "plot_title = 'Distribution of CanBikeCO Trips by Age and Mode'\n",
    "ylab = 'Age'\n",
    "file_name = \"CanBikeCO_report_age%s\"%file_suffix\n",
    "\n",
    "fig, ax = plt.subplots(figsize=(10,4))\n",
    "sns.boxplot(ax=ax, data=plot_data, x='Mode_confirm', y='AGE', hue='Mode_confirm').set(title=plot_title, xlabel='', ylabel=ylab)\n",
    "plt.subplots_adjust(bottom=0.25)\n",
    "plt.xticks(rotation=35, ha='right')\n",
    "plt.legend([])\n",
    "ax.figure.savefig(file_name+\".png\", bbox_inches='tight')"
   ]
  },
  {
   "cell_type": "code",
   "execution_count": null,
   "id": "c10bc0c4",
   "metadata": {},
   "outputs": [],
   "source": [
    "# Distribution of mode by age\n",
    "plot_data = data.copy()\n",
    "plot_data = plot_data[plot_data['Mode_confirm']=='E-bike']\n",
    "plot_data['Program'] = plot_data['program'].replace(['4c','cc','fc','pc','sc','vail'],['Four Corners','Community Cycles (Boulder)','Fort Collins','Pueblo County','Smart Commute (Northridge)','Vail'])\n",
    "\n",
    "plot_title = 'Distribution of E-Bike Trips by Age and Program'\n",
    "ylab = 'Age'\n",
    "file_name = \"CanBikeCO_report_age%s\"%file_suffix\n",
    "\n",
    "fig, ax = plt.subplots(figsize=(10,4))\n",
    "sns.boxplot(ax=ax, data=plot_data, x='Program', y='AGE', hue='Mode_confirm').set(title=plot_title, xlabel='', ylabel=ylab)\n",
    "plt.subplots_adjust(bottom=0.25)\n",
    "plt.xticks(rotation=35, ha='right')\n",
    "plt.legend([])\n",
    "ax.figure.savefig(file_name+\".png\", bbox_inches='tight')"
   ]
  },
  {
   "cell_type": "code",
   "execution_count": null,
   "id": "8c656c79",
   "metadata": {},
   "outputs": [],
   "source": [
    "# Distribution of distances by program\n",
    "plot_data = data_2.copy()\n",
    "plot_data = plot_data[plot_data['Mode_confirm']=='E-bike']\n",
    "plot_data['Program'] = plot_data['program'].replace(['4c','cc','fc','pc','sc','vail'],['Four Corners','Community Cycles (Boulder)','Fort Collins','Pueblo County','Smart Commute (Denver North)','Vail'])\n",
    "\n",
    "plot_title = 'Distribution of E-Bike Trip Distances by Program'\n",
    "ylab = 'Distance (miles)'\n",
    "\n",
    "fig, ax = plt.subplots(figsize=(10,8))\n",
    "sns.boxplot(ax=ax, data=plot_data, x='Program', y='distance_miles', hue='Mode_confirm', showfliers=False).set(title=plot_title, xlabel='', ylabel=ylab)\n",
    "plt.subplots_adjust(bottom=0.25)\n",
    "plt.xticks(rotation=35, ha='right')\n",
    "plt.legend([])"
   ]
  },
  {
   "cell_type": "code",
   "execution_count": null,
   "id": "fc1be0b2",
   "metadata": {},
   "outputs": [],
   "source": [
    "# Distribution of distances by program\n",
    "plot_data = data_2.copy()\n",
    "#plot_data = plot_data[plot_data['Mode_confirm']=='E-bike']\n",
    "#plot_data['Program'] = plot_data['program'].replace(['4c','cc','fc','pc','sc','vail'],['Four Corners','Community Cycles (Boulder)','Fort Collins','Pueblo County','Smart Commute (Denver North)','Vail'])\n",
    "\n",
    "plot_title = 'Distribution of Distances by Mode'\n",
    "ylab = 'Distance (miles)'\n",
    "\n",
    "fig, ax = plt.subplots(figsize=(10,8))\n",
    "sns.boxplot(ax=ax, data=plot_data, x='Mode_confirm', y='distance_miles', hue='Mode_confirm', showfliers=False).set(title=plot_title, xlabel='', ylabel=ylab)\n",
    "plt.subplots_adjust(bottom=0.25)\n",
    "plt.xticks(rotation=35, ha='right')\n",
    "plt.legend([])"
   ]
  },
  {
   "cell_type": "code",
   "execution_count": null,
   "id": "fddd2f24",
   "metadata": {},
   "outputs": [],
   "source": [
    "# Distribution of distances by program\n",
    "plot_data = data_2.copy()\n",
    "#plot_data = plot_data[plot_data['Mode_confirm']=='E-bike']\n",
    "#plot_data['Program'] = plot_data['program'].replace(['4c','cc','fc','pc','sc','vail'],['Four Corners','Community Cycles (Boulder)','Fort Collins','Pueblo County','Smart Commute (Denver North)','Vail'])\n",
    "\n",
    "plot_title = 'Distribution of Trips Durations by Mode'\n",
    "ylab = 'Duration (minutes)'\n",
    "\n",
    "fig, ax = plt.subplots(figsize=(10,8))\n",
    "sns.boxplot(ax=ax, data=plot_data, x='Mode_confirm', y='duration', hue='Mode_confirm', showfliers=False).set(title=plot_title, xlabel='', ylabel=ylab)\n",
    "plt.subplots_adjust(bottom=0.25)\n",
    "plt.xticks(rotation=35, ha='right')\n",
    "plt.legend([])"
   ]
  },
  {
   "cell_type": "code",
   "execution_count": null,
   "id": "59cd2bb8",
   "metadata": {},
   "outputs": [],
   "source": [
    "sns.set_palette('Set2', 6)"
   ]
  },
  {
   "cell_type": "code",
   "execution_count": null,
   "id": "720f0a92",
   "metadata": {},
   "outputs": [],
   "source": [
    "# Proportion of trips that are ebike by income group\n",
    "plot_data = data.copy()\n",
    "\n",
    "t1 = plot_data.groupby(['user_id','Mode_confirm'], as_index=False).count()[['user_id','Mode_confirm','distance_miles']]\n",
    "t1['distance_miles'].fillna(0, inplace=True)\n",
    "t2 = plot_data.groupby(['user_id'], as_index=False).count()[['user_id','distance_miles']]\n",
    "plot_data = t1.merge(t2, on='user_id')\n",
    "plot_data['proportion'] = plot_data['distance_miles_x'] / plot_data['distance_miles_y']\n",
    "plot_data['proportion'].fillna(0, inplace=True)\n",
    "t3 = data.copy().groupby(['HHINC','user_id'], as_index=False).nth(0)[['HHINC','user_id']]\n",
    "\n",
    "plot_data = plot_data[plot_data['Mode_confirm']=='E-bike']\n",
    "plot_data = plot_data.merge(t3, on='user_id')\n",
    "\n",
    "file_name = 'CanBikeCO_report_income_trip%s'%file_suffix\n",
    "ylab='Proportion of Total Trips'\n",
    "plot_title = 'E-bike Use (Trips) by Income'\n",
    "fig, ax = plt.subplots(figsize=(6,4))\n",
    "sns.barplot(data=plot_data, x='HHINC', y='proportion', estimator=np.mean).set(title=plot_title,xlabel='',ylabel=ylab)\n",
    "plt.xticks(rotation=35, ha='right')\n",
    "plt.subplots_adjust(bottom=0.25)\n",
    "ax.figure.savefig(file_name+\".png\", bbox_inches='tight')"
   ]
  },
  {
   "cell_type": "code",
   "execution_count": null,
   "id": "a4330ee4",
   "metadata": {},
   "outputs": [],
   "source": [
    "# Proportion of trips that are ebike by income group\n",
    "plot_data = data.copy()\n",
    "\n",
    "t1 = plot_data.groupby(['user_id','Mode_confirm'], as_index=False).sum()[['user_id','Mode_confirm','distance_miles']]\n",
    "t1['distance_miles'].fillna(0, inplace=True)\n",
    "t2 = plot_data.groupby(['user_id'], as_index=False).sum()[['user_id','distance_miles']]\n",
    "plot_data = t1.merge(t2, on='user_id')\n",
    "plot_data['proportion'] = plot_data['distance_miles_x'] / plot_data['distance_miles_y']\n",
    "plot_data['proportion'].fillna(0, inplace=True)\n",
    "t3 = data.copy().groupby(['HHINC','user_id'], as_index=False).nth(0)[['HHINC','user_id']]\n",
    "\n",
    "plot_data = plot_data[plot_data['Mode_confirm']=='E-bike']\n",
    "plot_data = plot_data.merge(t3, on='user_id')\n",
    "\n",
    "file_name = 'CanBikeCO_report_income_mileage%s'%file_suffix\n",
    "ylab='Proportion of Total Mileage'\n",
    "plot_title = 'E-bike Use (Miles) by Income'\n",
    "fig, ax = plt.subplots(figsize=(6,4))\n",
    "sns.barplot(data=plot_data, x='HHINC', y='proportion', estimator=np.mean).set(title=plot_title,xlabel='',ylabel=ylab)\n",
    "plt.xticks(rotation=35, ha='right')\n",
    "plt.subplots_adjust(bottom=0.25)\n",
    "ax.figure.savefig(file_name+\".png\", bbox_inches='tight')"
   ]
  },
  {
   "cell_type": "code",
   "execution_count": null,
   "id": "c22f26b3",
   "metadata": {},
   "outputs": [],
   "source": [
    "sns.set_palette('Paired', 5)"
   ]
  },
  {
   "cell_type": "code",
   "execution_count": null,
   "id": "906274a8",
   "metadata": {},
   "outputs": [],
   "source": [
    "# Proportion of trips that are ebike by income group\n",
    "plot_data = data.copy()\n",
    "\n",
    "t1 = plot_data.groupby(['user_id','Mode_confirm'], as_index=False).count()[['user_id','Mode_confirm','distance_miles']]\n",
    "t1['distance_miles'].fillna(0, inplace=True)\n",
    "t2 = plot_data.groupby(['user_id'], as_index=False).count()[['user_id','distance_miles']]\n",
    "plot_data = t1.merge(t2, on='user_id')\n",
    "plot_data['proportion'] = plot_data['distance_miles_x'] / plot_data['distance_miles_y']\n",
    "plot_data['proportion'].fillna(0, inplace=True)\n",
    "t3 = data.copy().groupby(['VEH','user_id'], as_index=False).nth(0)[['VEH','user_id']]\n",
    "\n",
    "plot_data = plot_data[plot_data['Mode_confirm']=='E-bike']\n",
    "plot_data = plot_data.merge(t3, on='user_id')\n",
    "\n",
    "file_name = 'CanBikeCO_report_veh_trip%s'%file_suffix\n",
    "plot_title = 'E-bike Use (Trips) by Available Vehicles'\n",
    "ylab='Proportion of Total Trips'\n",
    "fig, ax = plt.subplots(figsize=(6,4))\n",
    "sns.barplot(data=plot_data, x='VEH', y='proportion', estimator=np.mean).set(title=plot_title,xlabel='',ylabel=ylab)\n",
    "plt.xticks(rotation=35, ha='right')\n",
    "plt.subplots_adjust(bottom=0.25)\n",
    "ax.figure.savefig(file_name+\".png\", bbox_inches='tight')"
   ]
  },
  {
   "cell_type": "code",
   "execution_count": null,
   "id": "fd3d9a66",
   "metadata": {},
   "outputs": [],
   "source": [
    "# Proportion of trips that are ebike by income group\n",
    "plot_data = data.copy()\n",
    "\n",
    "t1 = plot_data.groupby(['user_id','Mode_confirm'], as_index=False).count()[['user_id','Mode_confirm','distance_miles']]\n",
    "t1['distance_miles'].fillna(0, inplace=True)\n",
    "t2 = plot_data.groupby(['user_id'], as_index=False).count()[['user_id','distance_miles']]\n",
    "plot_data = t1.merge(t2, on='user_id')\n",
    "plot_data['proportion'] = plot_data['distance_miles_x'] / plot_data['distance_miles_y']\n",
    "plot_data['proportion'].fillna(0, inplace=True)\n",
    "t3 = data.copy().groupby(['VEH','user_id'], as_index=False).nth(0)[['veh_per_driver','user_id']]\n",
    "plot_data = plot_data[plot_data['Mode_confirm']=='E-bike']\n",
    "plot_data = plot_data.merge(t3, on='user_id')\n",
    "#plot_data['veh_per_driver'] = pd.cut(plot_data['veh_per_driver'], bins=[.25,.5,.75,1,1.25,1.5,1.75,2])\n",
    "plot_data['veh_per_driver'] = pd.cut(plot_data['veh_per_driver'], bins=[.5,1,1.5,2])\n",
    "\n",
    "file_name = 'CanBikeCO_report_vehpdriver_trip%s'%file_suffix\n",
    "plot_title = 'E-bike Use (Trips) by Available Vehicles per Driver'\n",
    "ylab='Proportion of Total Trips'\n",
    "fig, ax = plt.subplots(figsize=(6,4))\n",
    "# sns.boxplot(ax=ax, data=plot_data, x='veh_per_driver', y='proportion').set(title=plot_title, xlabel='', ylabel=ylab)\n",
    "sns.barplot(data=plot_data, x='veh_per_driver', y='proportion', estimator=np.mean).set(title=plot_title,xlabel='',ylabel=ylab)\n",
    "plt.xticks(rotation=35, ha='right')\n",
    "plt.subplots_adjust(bottom=0.25)\n",
    "ax.figure.savefig(file_name+\".png\", bbox_inches='tight')"
   ]
  },
  {
   "cell_type": "code",
   "execution_count": null,
   "id": "93e5712d",
   "metadata": {},
   "outputs": [],
   "source": [
    "sns.set_palette('Set1', 3)"
   ]
  },
  {
   "cell_type": "code",
   "execution_count": null,
   "id": "17ab1840",
   "metadata": {},
   "outputs": [],
   "source": [
    "# How total mileage changes over time\n",
    "plot_data = data.copy()\n",
    "\n",
    "t1 = plot_data.groupby(['user_id','date_time'], as_index=False).sum()[['user_id','date_time','distance_miles']]\n",
    "t1['distance_miles'].fillna(0, inplace=True)\n",
    "plot_data = t1\n",
    "\n",
    "plot_title = 'Total Mileage Over Time'\n",
    "ylab = 'Daily Miles per User'\n",
    "file_name = \"CanBikeCO_report_ts_miles%s\"%file_suffix\n",
    "fig, ax = plt.subplots(figsize=(16,4))\n",
    "sns.lineplot(data=plot_data, x='date_time', y='distance_miles', estimator=np.mean).set(title=plot_title, xlabel='Date', ylabel=ylab)\n",
    "plt.xticks(rotation=35, ha='right')\n",
    "plt.subplots_adjust(bottom=0.25)\n",
    "ax.figure.savefig(file_name+\".png\", bbox_inches='tight')"
   ]
  },
  {
   "cell_type": "code",
   "execution_count": null,
   "id": "981942b4",
   "metadata": {},
   "outputs": [],
   "source": [
    "# How ebike mileage changes over time\n",
    "plot_data = data.copy()\n",
    "\n",
    "t1 = plot_data.groupby(['user_id','date_time','Mode_confirm'], as_index=False).sum()[['user_id','date_time','Mode_confirm','distance_miles']]\n",
    "t1['distance_miles'].fillna(0, inplace=True)\n",
    "t2 = plot_data.groupby(['user_id','date_time'], as_index=False).sum()[['user_id','date_time','distance_miles']]\n",
    "plot_data = t1.merge(t2, on=['user_id','date_time'])\n",
    "plot_data['proportion'] = plot_data['distance_miles_x'] / plot_data['distance_miles_y']\n",
    "plot_data['proportion'].fillna(0, inplace=True)\n",
    "plot_data = plot_data[plot_data['Mode_confirm']=='E-bike']\n",
    "plot_data = plot_data[plot_data['distance_miles_y'].notnull()]\n",
    "\n",
    "plot_title = 'E-Bike Mileage Proportion Over Time'\n",
    "ylab = 'Proportion of Daily Miles'\n",
    "file_name = \"CanBikeCO_report_ts_mileage_proportion%s\"%file_suffix\n",
    "fig, ax = plt.subplots(figsize=(16,4))\n",
    "sns.lineplot(data=plot_data, x='date_time', y='proportion', estimator=np.mean).set(title=plot_title, xlabel='Date', ylabel=ylab)\n",
    "plt.xticks(rotation=35, ha='right')\n",
    "plt.subplots_adjust(bottom=0.25)\n",
    "ax.figure.savefig(file_name+\".png\", bbox_inches='tight')"
   ]
  },
  {
   "cell_type": "code",
   "execution_count": null,
   "id": "68b27afc",
   "metadata": {},
   "outputs": [],
   "source": [
    "sns.set_palette('Set1', 9)"
   ]
  },
  {
   "cell_type": "code",
   "execution_count": null,
   "id": "afbe9612",
   "metadata": {},
   "outputs": [],
   "source": [
    "# How ebike mileage changes over time by program\n",
    "plot_data = data.copy()\n",
    "\n",
    "plot_data['month'] = plot_data.date_time.dt.month\n",
    "plot_data['month'] = plot_data['month'].replace([6,7,8,9,10,11,12,1,2,3,4,5], ['Summer','Summer','Summer','Fall','Fall','Fall','Winter','Winter','Winter','Spring','Spring','Spring'])\n",
    "t1 = plot_data.groupby(['program','month','Mode_confirm'], as_index=False).sum()[['program','month','Mode_confirm','distance_miles']]\n",
    "t1['distance_miles'].fillna(0, inplace=True)\n",
    "t2 = plot_data.groupby(['program','month'], as_index=False).sum()[['program','month','distance_miles']]\n",
    "plot_data = t1.merge(t2, on=['program','month'])\n",
    "plot_data['proportion'] = plot_data['distance_miles_x'] / plot_data['distance_miles_y']\n",
    "plot_data['proportion'].fillna(0, inplace=True)\n",
    "plot_data = plot_data[plot_data['Mode_confirm']=='E-bike']\n",
    "plot_data['Program'] = plot_data['program'].replace(['4c','cc','fc','pc','sc','vail'],['Four Corners','Community Cycles (Boulder)','Fort Collins','Pueblo County','Smart Commute (Northridge)','Vail'])\n",
    "\n",
    "plot_title = 'E-Bike Mileage Proportion By Season And Program'\n",
    "ylab = 'Proportion of Daily Miles'\n",
    "file_name = \"CanBikeCO_report_ts_mileage_season%s\"%file_suffix\n",
    "fig, ax = plt.subplots(figsize=(16,4))\n",
    "sns.barplot(data=plot_data, x='month', y='proportion', hue='Program', estimator=np.mean, ci=None).set(title=plot_title, xlabel='Date', ylabel=ylab)\n",
    "plt.xticks(rotation=35, ha='right')\n",
    "plt.subplots_adjust(bottom=0.25)\n",
    "ax.figure.savefig(file_name+\".png\", bbox_inches='tight')"
   ]
  },
  {
   "cell_type": "code",
   "execution_count": null,
   "id": "8aa8b0d3",
   "metadata": {},
   "outputs": [],
   "source": [
    "sns.set_palette('Set1', 9)"
   ]
  },
  {
   "cell_type": "code",
   "execution_count": null,
   "id": "e99cf664",
   "metadata": {},
   "outputs": [],
   "source": [
    "# Distance and mode chosen relationship\n",
    "plot_data = data.copy()\n",
    "plot_data = plot_data[plot_data['distance_miles']<6]\n",
    "\n",
    "plot_title = 'Mode Share by Trip Distance'\n",
    "ylab = 'Total Trips'\n",
    "file_name = \"CanBikeCO_report_mode_share_distance_short%s\"%file_suffix\n",
    "proportion_hist_plot(plot_data, 'distance_miles', plot_title, ylab, file_name)"
   ]
  },
  {
   "cell_type": "code",
   "execution_count": null,
   "id": "bd5060e9",
   "metadata": {},
   "outputs": [],
   "source": [
    "# Distance and mode chosen relationship\n",
    "plot_data = data.copy()\n",
    "plot_data = plot_data[plot_data['distance_miles']>5]\n",
    "\n",
    "plot_title = 'Mode Share by Trip Distance'\n",
    "ylab = 'Total Trips'\n",
    "file_name = \"CanBikeCO_report_mode_share_distance_long%s\"%file_suffix\n",
    "proportion_hist_plot(plot_data, 'distance_miles', plot_title, ylab, file_name)"
   ]
  },
  {
   "cell_type": "markdown",
   "id": "1e61fdbb",
   "metadata": {},
   "source": [
    "### What Does an E-Bike Replace"
   ]
  },
  {
   "cell_type": "code",
   "execution_count": null,
   "id": "ed5646f6",
   "metadata": {},
   "outputs": [],
   "source": [
    "sns.set_palette('Dark2', 10)"
   ]
  },
  {
   "cell_type": "code",
   "execution_count": null,
   "id": "8e8989a2",
   "metadata": {},
   "outputs": [],
   "source": [
    "# Substitution rate of ebike trips\n",
    "plot_data = data.copy()\n",
    "t1 = plot_data.groupby(['user_id','Replaced_mode'], as_index=False).count()[['user_id','Replaced_mode','distance_miles']]\n",
    "t1['distance_miles'].fillna(0, inplace=True)\n",
    "t2 = plot_data.groupby(['user_id'], as_index=False).count()[['user_id','distance_miles']]\n",
    "plot_data = t1.merge(t2, on='user_id')\n",
    "plot_data['proportion'] = plot_data['distance_miles_x'] / plot_data['distance_miles_y']\n",
    "plot_data['proportion'].fillna(0, inplace=True)\n",
    "\n",
    "data_order = plot_data.groupby(['Replaced_mode'], as_index=False).mean().sort_values('proportion', ascending=False).Replaced_mode\n",
    "labels = plot_data.groupby(['Replaced_mode'], as_index=False).mean().sort_values('proportion', ascending=False).Replaced_mode\n",
    "\n",
    "plot_title='Stated Replacement for E-Bike Trips'\n",
    "ylab='Proportion of Trips'\n",
    "file_name='CanBikeCO_report_replacement%s'%file_suffix\n",
    "fig, ax = plt.subplots(figsize=(10,4))\n",
    "sns.barplot(data=plot_data, x='Replaced_mode', y='proportion', estimator=np.mean, order=data_order).set(title=plot_title,xlabel='',ylabel=ylab,ylim=(0,.5))\n",
    "plt.xticks(rotation=35, ha='right')\n",
    "plt.subplots_adjust(bottom=0.25)\n",
    "ax.bar_label(ax.containers[0], fmt='%.2f', padding=30)\n",
    "ax.figure.savefig(file_name+\".png\", bbox_inches='tight')"
   ]
  },
  {
   "cell_type": "code",
   "execution_count": null,
   "id": "b0cd8c29",
   "metadata": {},
   "outputs": [],
   "source": [
    "# Substitution rate of ebike trips\n",
    "plot_data = data.copy()\n",
    "t1 = plot_data.groupby(['user_id','Replaced_mode'], as_index=False).sum()[['user_id','Replaced_mode','distance_miles']]\n",
    "t1['distance_miles'].fillna(0, inplace=True)\n",
    "t2 = plot_data.groupby(['user_id'], as_index=False).sum()[['user_id','distance_miles']]\n",
    "plot_data = t1.merge(t2, on='user_id')\n",
    "plot_data['proportion'] = plot_data['distance_miles_x'] / plot_data['distance_miles_y']\n",
    "plot_data['proportion'].fillna(0, inplace=True)\n",
    "\n",
    "data_order = plot_data.groupby(['Replaced_mode'], as_index=False).mean().sort_values('proportion', ascending=False).Replaced_mode\n",
    "labels = plot_data.groupby(['Replaced_mode'], as_index=False).mean().sort_values('proportion', ascending=False).Replaced_mode\n",
    "\n",
    "plot_title='Stated Replacement for E-Bike Trips'\n",
    "ylab='Proportion of Miles'\n",
    "file_name='CanBikeCO_report_replacement_miles%s'%file_suffix\n",
    "fig, ax = plt.subplots(figsize=(10,4))\n",
    "sns.barplot(data=plot_data, x='Replaced_mode', y='proportion', estimator=np.mean, order=data_order).set(title=plot_title,xlabel='',ylabel=ylab,ylim=(0,.5))\n",
    "plt.xticks(rotation=35, ha='right')\n",
    "plt.subplots_adjust(bottom=0.25)\n",
    "ax.bar_label(ax.containers[0], fmt='%.2f', padding=30)\n",
    "ax.figure.savefig(file_name+\".png\", bbox_inches='tight')"
   ]
  },
  {
   "cell_type": "code",
   "execution_count": null,
   "id": "0b9baefb",
   "metadata": {},
   "outputs": [],
   "source": [
    "t1"
   ]
  },
  {
   "cell_type": "code",
   "execution_count": null,
   "id": "f1304040",
   "metadata": {},
   "outputs": [],
   "source": [
    "plot_data"
   ]
  },
  {
   "cell_type": "code",
   "execution_count": null,
   "id": "c2633383",
   "metadata": {},
   "outputs": [],
   "source": [
    "# Emissions analysis\n",
    "z = data_eb.groupby('Replaced_mode', as_index=False).sum('distance')[['Replaced_mode','distance']]\n",
    "\n",
    "co2_combo_factors = [5170*157.2*.000001,\n",
    "                    .022*1166*.001,\n",
    "                    0,\n",
    "                    0,\n",
    "                    0,\n",
    "                    7214*157.2*.000001,\n",
    "                    2585*157.2*.000001,\n",
    "                    .027*1166*.001,\n",
    "                    4560*161.3*.000001,\n",
    "                    0]\n",
    "co2_ebike_factor = .022*1166*.001\n",
    "z['co2_impact_factor'] = [x-co2_ebike_factor for x in co2_combo_factors]\n",
    "z['lb_co2'] = z['distance']*z['co2_impact_factor'] # Reduction=positive\n",
    "metric_ton_co2_reduction = sum(z['lb_co2'])/2204\n",
    "unique_users = len(pd.unique(data_eb['user_id']))\n",
    "print(f\"Net reduction: {metric_ton_co2_reduction} metric tons over {unique_users} users.\")\n",
    "print(f\"Net program costs: {2400*unique_users}\")\n",
    "print(f\"Program $/mtCO2: {(2400*unique_users) / (metric_ton_co2_reduction)}\")"
   ]
  },
  {
   "cell_type": "code",
   "execution_count": null,
   "id": "770d5308",
   "metadata": {},
   "outputs": [],
   "source": [
    "# Income analysis\n",
    "mean_hhinc = np.mean(data.groupby('user_id', as_index=False).min('HHINC_NUM')[['user_id','HHINC_NUM']].HHINC_NUM.dropna())\n",
    "mean_hourly_wage = mean_hhinc / 52 / 40\n",
    "9.70 / 16"
   ]
  },
  {
   "cell_type": "code",
   "execution_count": null,
   "id": "760e791f",
   "metadata": {},
   "outputs": [],
   "source": [
    "data.columns"
   ]
  },
  {
   "cell_type": "code",
   "execution_count": null,
   "id": "431b420d",
   "metadata": {},
   "outputs": [],
   "source": [
    "# Demographic and trip summary table\n",
    "print(data.drop_duplicates(['user_id'])[['user_id','AGE','HHINC_NUM','VEH_num']].agg(['mean','std','min','max']))\n",
    "data['distance_mi'] = data['distance'] / 1609\n",
    "print(data[['user_id','distance_mi','duration']].agg(['mean','std','min','max']))"
   ]
  },
  {
   "cell_type": "code",
   "execution_count": null,
   "id": "3bb812ce",
   "metadata": {
    "scrolled": false
   },
   "outputs": [],
   "source": [
    "# Demographic and trip summary table\n",
    "print(data.drop_duplicates('user_id')['HHINC'].value_counts())\n",
    "print(data.drop_duplicates('user_id')['GENDER'].value_counts())\n",
    "print(pd.cut(data.drop_duplicates('user_id')['AGE'], bins=[0,18,24,40,65,75]).value_counts())\n",
    "print(pd.cut(data['duration'], bins=[0,15,30,60,90,120,9999]).value_counts())\n",
    "print(data['Mode_confirm'].value_counts())\n",
    "print(data.drop_duplicates('user_id')['STUDENT'].value_counts())\n",
    "print(data.drop_duplicates('user_id')['What is the highest grade or degree that you have completed?'].value_counts())"
   ]
  },
  {
   "cell_type": "code",
   "execution_count": null,
   "id": "67b02350",
   "metadata": {},
   "outputs": [],
   "source": [
    "# Demographic and trip summary table\n",
    "n_persons = len(data.drop_duplicates('user_id'))\n",
    "n_trips = len(data)\n",
    "\n",
    "print(data.drop_duplicates('user_id')['HHINC'].value_counts() / n_persons)\n",
    "print(data.drop_duplicates('user_id')['GENDER'].value_counts() / n_persons)\n",
    "print(pd.cut(data.drop_duplicates('user_id')['AGE'], bins=[0,18,24,40,65,75]).value_counts() / n_persons)\n",
    "print(pd.cut(data['duration'], bins=[0,15,30,60,90,120,9999]).value_counts() / n_trips)\n",
    "print(data['Mode_confirm'].value_counts() / n_trips)\n",
    "print(data.drop_duplicates('user_id')['STUDENT'].value_counts() / n_persons)\n",
    "print(data.drop_duplicates('user_id')['What is the highest grade or degree that you have completed?'].value_counts() / n_persons)"
   ]
  },
  {
   "cell_type": "markdown",
   "id": "0a08e150",
   "metadata": {},
   "source": [
    "# Additonal analysis"
   ]
  },
  {
   "cell_type": "code",
   "execution_count": null,
   "id": "8d621449",
   "metadata": {},
   "outputs": [],
   "source": [
    "from collections import defaultdict\n",
    "\n",
    "import matplotlib.pyplot as plt\n",
    "import numpy as np\n",
    "import pandas as pd\n",
    "import seaborn as sns\n",
    "from sklearn import linear_model\n",
    "\n",
    "#import emission.core.get_database as edb\n",
    "from plots import *\n",
    "#import scaffolding\n",
    "\n",
    "sns.set_style(\"whitegrid\")\n",
    "sns.set()\n",
    "%matplotlib inline\n",
    "\n",
    "import plots\n",
    "import importlib\n",
    "importlib.reload(plots)"
   ]
  },
  {
   "cell_type": "code",
   "execution_count": null,
   "id": "2e96d4db",
   "metadata": {},
   "outputs": [],
   "source": [
    "data=pd.read_csv(\"C:\\\\Users\\\\dakcicek\\\\Documents\\\\GitHub\\\\ceo_analysis\\\\viz_scripts\\\\filtered_merged_trips_2.csv\")"
   ]
  },
  {
   "cell_type": "code",
   "execution_count": null,
   "id": "b63cc8d3",
   "metadata": {},
   "outputs": [],
   "source": [
    "data['Program'] = data['program'].replace(['4c','cc','fc','pc','sc','vail'],['Four Corners (Durango)','Community Cycles (Boulder)','Fort Collins','Pueblo County','Smart Commute (Northridge)','Vail'])"
   ]
  },
  {
   "cell_type": "code",
   "execution_count": null,
   "id": "a3cc932a",
   "metadata": {},
   "outputs": [],
   "source": [
    "#separating programs\n",
    "four_corners = data[data.Program == \"Four Corners (Durango)\"]\n",
    "community_cycles = data[data.Program == \"Community Cycles (Boulder)\"]\n",
    "fort_collins = data[data.Program == \"Fort Collins\"]\n",
    "pueblo = data[data.Program == \"Pueblo County\"]\n",
    "smart_commute = data[data.Program == \"Smart Commute (Northridge)\"]\n",
    "vail = data[data.Program == \"Vail\"]"
   ]
  },
  {
   "cell_type": "code",
   "execution_count": null,
   "id": "16169cb8",
   "metadata": {},
   "outputs": [],
   "source": [
    "plot_data = smart_commute.copy()\n",
    "plot_data.loc[plot_data['Mode_confirm']=='Personal Micromobility', 'Mode_confirm'] = 'Other'\n",
    "plot_data.loc[plot_data['Mode_confirm']=='Shared Micromobility', 'Mode_confirm'] = 'Other'\n",
    "\n",
    "t1 = plot_data.groupby(['Mode_confirm'], as_index=False).count()[['Mode_confirm','distance_miles']]\n",
    "t1['proportion'] = t1['distance_miles'] / np.sum(t1.distance_miles)\n",
    "t1['distance_miles'] = 'All Trips'\n",
    "\n",
    "t2 = plot_data[plot_data['Trip_purpose']=='Work'].copy()\n",
    "t2 = t2.groupby(['Mode_confirm'], as_index=False).count()[['Mode_confirm','distance_miles']]\n",
    "t2['proportion'] = t2['distance_miles'] / np.sum(t2.distance_miles)\n",
    "t2['distance_miles'] = 'Work Trips'\n",
    "#t2.loc[len(t2.index)] = ['Ridehail', 'Work Trips', 0]\n",
    "#t2.loc[len(t2.index)] = ['Transit', 'Work Trips', 0] \n",
    "\n",
    "plot_data = pd.concat([t1,t2])\n",
    "plot_data['Dataset'] = 'smart_commute'\n",
    "plot_data.columns = ['Mode','Trip Type','Proportion','Dataset']\n",
    "plot_data = pd.concat([plot_data, minipilot_mode_data])"
   ]
  },
  {
   "cell_type": "code",
   "execution_count": null,
   "id": "fa810460",
   "metadata": {},
   "outputs": [],
   "source": [
    "plot_data"
   ]
  },
  {
   "cell_type": "code",
   "execution_count": null,
   "id": "a4cc7568",
   "metadata": {},
   "outputs": [],
   "source": [
    "width = 0.5\n",
    "fig, ax = plt.subplots(1,1, figsize=(15,6))\n",
    "running_total_mini = [0,0]\n",
    "running_total_long = [0,0]\n",
    "fig_data_mini = plot_data[plot_data['Dataset']=='smart_commute']\n",
    "fig_data_long = plot_data[plot_data['Dataset']=='smart_commute']\n",
    "\n",
    "for mode in pd.unique(fig_data_mini.Mode):\n",
    "    mini = fig_data_mini[fig_data_mini['Mode']==mode]\n",
    "    long = fig_data_long[fig_data_long['Mode']==mode]\n",
    "\n",
    "    #labels = mini['Trip Type']\n",
    "    #vals = mini['Proportion']*100\n",
    "    #vals_str = [round(v,1) if v>1 else '' for v in vals]\n",
    "    #bar = ax.barh(labels, vals, width, left=running_total_mini, label=mode)\n",
    "    #ax.bar_label(bar, label_type='center', labels=vals_str, rotation=90)\n",
    "    #running_total_mini[0] = running_total_mini[0]+vals.iloc[0]\n",
    "    #running_total_mini[1] = running_total_mini[1]+vals.iloc[1]\n",
    "\n",
    "    labels = long['Trip Type']\n",
    "    vals = long['Proportion']*100\n",
    "    vals_str = [round(v,1) if v>1 else '' for v in vals]\n",
    "    bar = ax.barh(labels, vals, width, left=running_total_long, label=mode)\n",
    "    ax.bar_label(bar, label_type='center', labels=vals_str, rotation=90)\n",
    "    running_total_long[0] = running_total_long[0]+vals.iloc[0]\n",
    "    running_total_long[1] = running_total_long[1]+vals.iloc[1]\n",
    "\n",
    "file_name='CanBikeCO_report_mode_share%s'\n",
    "ax.set_title('Minipilot')\n",
    "ax.set_title('Mode Share')\n",
    "ax.legend(bbox_to_anchor=(1,1), fancybox=True, shadow=True)\n",
    "plt.subplots_adjust(bottom=0.25)\n",
    "fig.tight_layout()\n",
    "plt.show()\n",
    "fig.savefig(file_name+\".png\", bbox_inches='tight')"
   ]
  },
  {
   "cell_type": "code",
   "execution_count": null,
   "id": "e7bb337d",
   "metadata": {},
   "outputs": [],
   "source": [
    "# What purpose ebike is used for by program\n",
    "plot_data = data.copy()\n",
    "#plot_data['month'] = plot_data.date_time.dt.month\n",
    "#plot_data['month'] = plot_data['month'].replace([6,7,8,9,10,11,12,1,2,3,4,5], ['Summer','Summer','Summer','Fall','Fall','Fall','Winter','Winter','Winter','Spring','Spring','Spring'])\n",
    "t1 = plot_data.groupby(['Program','Trip_purpose','Mode_confirm'], as_index=False).sum()[['Program','Trip_purpose','Mode_confirm','distance_miles']]\n",
    "t1['distance_miles'].fillna(0, inplace=True)\n",
    "t2 = plot_data.groupby(['Program','Trip_purpose'], as_index=False).sum()[['Program','Trip_purpose','distance_miles']]\n",
    "plot_data = t1.merge(t2, on=['Program','Trip_purpose'])\n",
    "plot_data['proportion'] = plot_data['distance_miles_x'] / plot_data['distance_miles_y']\n",
    "plot_data['proportion'].fillna(0, inplace=True)\n",
    "plot_data = plot_data[plot_data['Mode_confirm']=='E-bike']\n",
    "#plot_data['Program'] = plot_data['program'].replace(['4c','cc','fc','pc','sc','vail'],['Four Corners','Community Cycles (Boulder)','Fort Collins','Pueblo County','Smart Commute (Northridge)','Vail'])\n",
    "\n",
    "plot_title = 'E-Bike Mileage Proportion By Trip Purpose And Program'\n",
    "ylab = 'Proportion of Daily Miles'\n",
    "file_name = \"CanBikeCO_report_ts_mileage_season%s\"\n",
    "fig, ax = plt.subplots(figsize=(20,10))\n",
    "sns.barplot(data=plot_data, x='Trip_purpose', y='proportion', hue='Program', estimator=np.mean, ci=None).set(title=plot_title, xlabel='Date', ylabel=ylab)\n",
    "plt.xticks(rotation=35, ha='right')\n",
    "plt.subplots_adjust(bottom=0.25)\n",
    "ax.figure.savefig(file_name+\".png\", bbox_inches='tight')"
   ]
  },
  {
   "cell_type": "code",
   "execution_count": null,
   "id": "ba4c623f",
   "metadata": {},
   "outputs": [],
   "source": [
    "# What purpose ebike is used for by program\n",
    "plot_data = data.copy()\n",
    "#plot_data['month'] = plot_data.date_time.dt.month\n",
    "#plot_data['month'] = plot_data['month'].replace([6,7,8,9,10,11,12,1,2,3,4,5], ['Summer','Summer','Summer','Fall','Fall','Fall','Winter','Winter','Winter','Spring','Spring','Spring'])\n",
    "t1 = plot_data.groupby(['Program','Replaced_mode','Mode_confirm'], as_index=False).sum()[['Program','Replaced_mode','Mode_confirm','distance_miles']]\n",
    "t1['distance_miles'].fillna(0, inplace=True)\n",
    "t2 = plot_data.groupby(['Program','Replaced_mode'], as_index=False).sum()[['Program','Replaced_mode','distance_miles']]\n",
    "plot_data = t1.merge(t2, on=['Program','Replaced_mode'])\n",
    "plot_data['proportion'] = plot_data['distance_miles_x'] / plot_data['distance_miles_y']\n",
    "plot_data['proportion'].fillna(0, inplace=True)\n",
    "plot_data = plot_data[plot_data['Mode_confirm']=='E-bike']\n",
    "#plot_data['Program'] = plot_data['program'].replace(['4c','cc','fc','pc','sc','vail'],['Four Corners','Community Cycles (Boulder)','Fort Collins','Pueblo County','Smart Commute (Northridge)','Vail'])\n",
    "\n",
    "plot_title = 'E-Bike Mileage Proportion By Replaced Mode And Program'\n",
    "ylab = 'Proportion of Daily Miles'\n",
    "file_name = \"CanBikeCO_report_ts_mileage_season%s\"\n",
    "fig, ax = plt.subplots(figsize=(20,10))\n",
    "sns.barplot(data=plot_data, x='Replaced_mode', y='proportion', hue='Program', estimator=np.mean, ci=None).set(title=plot_title, xlabel='Date', ylabel=ylab)\n",
    "plt.xticks(rotation=35, ha='right')\n",
    "plt.subplots_adjust(bottom=0.25)\n",
    "ax.figure.savefig(file_name+\".png\", bbox_inches='tight')"
   ]
  },
  {
   "cell_type": "code",
   "execution_count": null,
   "id": "507e8bc2",
   "metadata": {
    "scrolled": true
   },
   "outputs": [],
   "source": [
    "data_2=pd.read_csv(\"C:\\\\Users\\\\dakcicek\\\\Documents\\\\GitHub\\\\ceo_analysis\\\\viz_scripts\\\\filtered_merged_trips.csv\")"
   ]
  },
  {
   "cell_type": "code",
   "execution_count": null,
   "id": "285231e9",
   "metadata": {},
   "outputs": [],
   "source": [
    "data_2['Program'] = data_2['program'].replace(['4c','cc','fc','pc','sc','vail'],['Four Corners (Durango)','Community Cycles (Boulder)','Fort Collins','Pueblo County','Smart Commute (Northridge)','Vail'])"
   ]
  },
  {
   "cell_type": "code",
   "execution_count": null,
   "id": "915047a3",
   "metadata": {},
   "outputs": [],
   "source": [
    "data['Program'] = data['program'].replace(['4c','cc','fc','pc','sc','vail'],['Four Corners (Durango)','Community Cycles (Boulder)','Fort Collins','Pueblo County','Smart Commute (Northridge)','Vail'])"
   ]
  },
  {
   "cell_type": "code",
   "execution_count": null,
   "id": "6598aedc",
   "metadata": {},
   "outputs": [],
   "source": [
    "# E-bike Trip Distance by Program\n",
    "plot_data = data.copy()\n",
    "plot_data = plot_data[plot_data['distance_miles']<6]\n",
    "plot_data = plot_data[plot_data['Mode_confirm']=='E-bike']\n",
    "\n",
    "plot_title = 'E-bike Trip Distance by Program'\n",
    "ylab = 'Total Trips'\n",
    "file_name = \"CanBikeCO_report_mode_share_distance_short%s\"\n",
    "fig, ax = plt.subplots(figsize=(12,6))\n",
    "sns.histplot(ax=ax, data=plot_data, x='distance_miles', hue='Program', element='poly', multiple='stack').set(title=plot_title, ylabel=ylab, xlabel='Trip Distance (mi)')\n",
    "plt.subplots_adjust(bottom=0.25)"
   ]
  },
  {
   "cell_type": "code",
   "execution_count": null,
   "id": "960049b8",
   "metadata": {},
   "outputs": [],
   "source": [
    "# E-bike Trip Distance by Program\n",
    "plot_data = data.copy()\n",
    "plot_data = plot_data[plot_data['distance_miles']>5]\n",
    "plot_data = plot_data[plot_data['Mode_confirm']=='E-bike']\n",
    "\n",
    "plot_title = 'E-bike Trip Distance by Program'\n",
    "ylab = 'Total Trips'\n",
    "file_name = \"CanBikeCO_report_mode_share_distance_short%s\"\n",
    "fig, ax = plt.subplots(figsize=(12,8))\n",
    "sns.histplot(ax=ax, data=plot_data, x='distance_miles', hue='Program', element='poly', multiple='stack').set(title=plot_title, ylabel=ylab, xlabel='Trip Distance (mi)')\n",
    "plt.subplots_adjust(bottom=0.25)"
   ]
  },
  {
   "cell_type": "markdown",
   "id": "835fc3d0",
   "metadata": {},
   "source": [
    "# descriptive stats by program"
   ]
  },
  {
   "cell_type": "code",
   "execution_count": null,
   "id": "f3ed06a0",
   "metadata": {
    "scrolled": true
   },
   "outputs": [],
   "source": [
    "data_2=pd.read_csv(\"C:\\\\Users\\\\dakcicek\\\\Documents\\\\GitHub\\\\ceo_analysis\\\\viz_scripts\\\\filtered_merged_trips.csv\")"
   ]
  },
  {
   "cell_type": "code",
   "execution_count": null,
   "id": "1b96d34c",
   "metadata": {},
   "outputs": [],
   "source": [
    "data_2['Program'] = data_2['program'].replace(['4c','cc','fc','pc','sc','vail'],['Four Corners (Durango)','Community Cycles (Boulder)','Fort Collins','Pueblo County','Smart Commute (Northridge)','Vail'])"
   ]
  },
  {
   "cell_type": "code",
   "execution_count": null,
   "id": "b4d2f873",
   "metadata": {},
   "outputs": [],
   "source": [
    "#separating programs\n",
    "four_corners = data_2[data_2.Program == \"Four Corners (Durango)\"]\n",
    "community_cycles = data_2[data_2.Program == \"Community Cycles (Boulder)\"]\n",
    "fort_collins = data_2[data_2.Program == \"Fort Collins\"]\n",
    "pueblo = data_2[data_2.Program == \"Pueblo County\"]\n",
    "smart_commute = data_2[data_2.Program == \"Smart Commute (Northridge)\"]\n",
    "vail = data_2[data_2.Program == \"Vail\"]"
   ]
  },
  {
   "cell_type": "code",
   "execution_count": null,
   "id": "ab0b80fd",
   "metadata": {},
   "outputs": [],
   "source": [
    "plot_data_fourc = four_corners.copy()\n",
    "plot_data_fourc = plot_data_fourc.groupby(['user_id']).nth(0)[['AGE','GENDER','VEH','HHINC']].dropna()\n",
    "plot_data_fourc = plot_data_fourc[plot_data_fourc['GENDER'].isin(['Man','Woman'])]\n",
    "plot_data_fourc = plot_data_fourc.groupby(['user_id'], as_index=False).nth(0)\n",
    "\n",
    "plot_data_cc = community_cycles.copy()\n",
    "plot_data_cc = plot_data_cc.groupby(['user_id']).nth(0)[['AGE','GENDER','VEH','HHINC']].dropna()\n",
    "plot_data_cc = plot_data_cc[plot_data_cc['GENDER'].isin(['Man','Woman'])]\n",
    "plot_data_cc = plot_data_cc.groupby(['user_id'], as_index=False).nth(0)\n",
    "\n",
    "plot_data_fc = fort_collins.copy()\n",
    "plot_data_fc = plot_data_fc.groupby(['user_id']).nth(0)[['AGE','GENDER','VEH','HHINC']].dropna()\n",
    "plot_data_fc = plot_data_fc[plot_data_fc['GENDER'].isin(['Man','Woman'])]\n",
    "plot_data_fc = plot_data_fc.groupby(['user_id'], as_index=False).nth(0)\n",
    "\n",
    "plot_data_pue = pueblo.copy()\n",
    "plot_data_pue = plot_data_pue.groupby(['user_id']).nth(0)[['AGE','GENDER','VEH','HHINC']].dropna()\n",
    "plot_data_pue = plot_data_pue[plot_data_pue['GENDER'].isin(['Man','Woman'])]\n",
    "plot_data_pue = plot_data_pue.groupby(['user_id'], as_index=False).nth(0)\n",
    "\n",
    "plot_data_sc = smart_commute.copy()\n",
    "plot_data_sc = plot_data_sc.groupby(['user_id']).nth(0)[['AGE','GENDER','VEH','HHINC']].dropna()\n",
    "plot_data_sc = plot_data_sc[plot_data_sc['GENDER'].isin(['Man','Woman'])]\n",
    "plot_data_sc = plot_data_sc.groupby(['user_id'], as_index=False).nth(0)\n",
    "\n",
    "plot_data_vail = vail.copy()\n",
    "plot_data_vail = plot_data_vail.groupby(['user_id']).nth(0)[['AGE','GENDER','VEH','HHINC']].dropna()\n",
    "plot_data_vail = plot_data_vail[plot_data_vail['GENDER'].isin(['Man','Woman'])]\n",
    "plot_data_vail = plot_data_vail.groupby(['user_id'], as_index=False).nth(0)"
   ]
  },
  {
   "cell_type": "code",
   "execution_count": null,
   "id": "941f953e",
   "metadata": {},
   "outputs": [],
   "source": [
    "print(min(vail['start_ts']))\n",
    "print(max(vail['start_ts']))"
   ]
  },
  {
   "cell_type": "code",
   "execution_count": null,
   "id": "e287ddd6",
   "metadata": {},
   "outputs": [],
   "source": [
    "print(four_corners['user_id'].nunique())\n",
    "print(community_cycles['user_id'].nunique())\n",
    "print(fort_collins['user_id'].nunique())\n",
    "print(pueblo['user_id'].nunique())\n",
    "print(smart_commute['user_id'].nunique())\n",
    "print(vail['user_id'].nunique())"
   ]
  },
  {
   "cell_type": "code",
   "execution_count": null,
   "id": "cfb38268",
   "metadata": {},
   "outputs": [],
   "source": [
    "print(len(four_corners))\n",
    "print(len(community_cycles))\n",
    "print(len(fort_collins))\n",
    "print(len(pueblo))\n",
    "print(len(smart_commute))\n",
    "print(len(vail))"
   ]
  },
  {
   "cell_type": "code",
   "execution_count": null,
   "id": "8567551c",
   "metadata": {},
   "outputs": [],
   "source": [
    "four_corners['Mode'].unique()"
   ]
  },
  {
   "cell_type": "code",
   "execution_count": null,
   "id": "4862c62e",
   "metadata": {},
   "outputs": [],
   "source": [
    "print(len(four_corners[four_corners['Mode']=='E-bike']))\n",
    "print(len(community_cycles[community_cycles['Mode']=='E-bike']))\n",
    "print(len(fort_collins[fort_collins['Mode']=='E-bike']))\n",
    "print(len(pueblo[pueblo['Mode']=='E-bike']))\n",
    "print(len(smart_commute[smart_commute['Mode']=='E-bike']))\n",
    "print(len(vail[vail['Mode']=='E-bike']))"
   ]
  },
  {
   "cell_type": "code",
   "execution_count": null,
   "id": "4a3288b3",
   "metadata": {},
   "outputs": [],
   "source": [
    "fcc=four_corners[four_corners['Mode']=='E-bike']\n",
    "cc=community_cycles[community_cycles['Mode']=='E-bike']\n",
    "fc=fort_collins[fort_collins['Mode']=='E-bike']\n",
    "p=pueblo[pueblo['Mode']=='E-bike']\n",
    "sc=smart_commute[smart_commute['Mode']=='E-bike']\n",
    "v=vail[vail['Mode']=='E-bike']"
   ]
  },
  {
   "cell_type": "code",
   "execution_count": null,
   "id": "53ad2925",
   "metadata": {},
   "outputs": [],
   "source": [
    "v['distance_miles'].describe()"
   ]
  },
  {
   "cell_type": "code",
   "execution_count": null,
   "id": "42c5db98",
   "metadata": {},
   "outputs": [],
   "source": [
    "#total miles for all modes\n",
    "print(four_corners['distance_miles'].sum())\n",
    "print(community_cycles['distance_miles'].sum())\n",
    "print(fort_collins['distance_miles'].sum())\n",
    "print(pueblo['distance_miles'].sum())\n",
    "print(smart_commute['distance_miles'].sum())\n",
    "print(vail['distance_miles'].sum())"
   ]
  },
  {
   "cell_type": "code",
   "execution_count": null,
   "id": "bbfa6246",
   "metadata": {},
   "outputs": [],
   "source": [
    "#total miles for just ebike trips\n",
    "fcctotal = fcc['distance_miles'].sum()\n",
    "cctotal = cc['distance_miles'].sum()\n",
    "fctotal = fc['distance_miles'].sum()\n",
    "ptotal = p['distance_miles'].sum()\n",
    "sctotal = sc['distance_miles'].sum()\n",
    "vtotal = v['distance_miles'].sum()\n",
    "print(fcctotal)\n",
    "print(cctotal)\n",
    "print(fctotal)\n",
    "print(ptotal)\n",
    "print(sctotal)\n",
    "print(vtotal)"
   ]
  },
  {
   "cell_type": "code",
   "execution_count": null,
   "id": "805ed870",
   "metadata": {},
   "outputs": [],
   "source": [
    "pueblo['Which best describes your primary job?'].value_counts()"
   ]
  },
  {
   "cell_type": "code",
   "execution_count": null,
   "id": "b7a853c9",
   "metadata": {},
   "outputs": [],
   "source": [
    "fort_collins['Which best describes your primary job?'].value_counts()"
   ]
  },
  {
   "cell_type": "code",
   "execution_count": null,
   "id": "f9c96ac3",
   "metadata": {},
   "outputs": [],
   "source": [
    "smart_commute['Which best describes your primary job?'].value_counts()"
   ]
  },
  {
   "cell_type": "code",
   "execution_count": null,
   "id": "b9c20376",
   "metadata": {},
   "outputs": [],
   "source": [
    "vail['Which best describes your primary job?'].value_counts()"
   ]
  },
  {
   "cell_type": "code",
   "execution_count": null,
   "id": "c9c6c284",
   "metadata": {},
   "outputs": [],
   "source": [
    "four_corners['Which best describes your primary job?'].value_counts()"
   ]
  },
  {
   "cell_type": "code",
   "execution_count": null,
   "id": "67346179",
   "metadata": {},
   "outputs": [],
   "source": [
    "community_cycles['Which best describes your primary job?'].value_counts()"
   ]
  },
  {
   "cell_type": "code",
   "execution_count": null,
   "id": "aae70cc6",
   "metadata": {},
   "outputs": [],
   "source": [
    "data['Trip_purpose'].unique()"
   ]
  },
  {
   "cell_type": "code",
   "execution_count": null,
   "id": "c85e8dc8",
   "metadata": {},
   "outputs": [],
   "source": [
    "plot_data_3 = data_2.copy()\n",
    "plot_data_3['induced']=np.where(data_2['Replaced_mode']== 'No Travel', 'Induced', 'Non-induced')"
   ]
  },
  {
   "cell_type": "code",
   "execution_count": null,
   "id": "3beb4afe",
   "metadata": {},
   "outputs": [],
   "source": [
    "plot_data"
   ]
  },
  {
   "cell_type": "code",
   "execution_count": null,
   "id": "1be72087",
   "metadata": {},
   "outputs": [],
   "source": [
    "# Substitution rate of ebike trips\n",
    "plot_data = data_2.copy()\n",
    "plot_data = plot_data[plot_data['Mode_confirm']=='E-bike']\n",
    "t1 = plot_data.groupby(['Mode_confirm','Replaced_mode'], as_index=False).count()[['Mode_confirm','Replaced_mode','distance_miles']]\n",
    "t1['distance_miles'].fillna(0, inplace=True)\n",
    "t2 = plot_data.groupby(['Mode_confirm'], as_index=False).count()[['Mode_confirm','distance_miles']]\n",
    "plot_data = t1.merge(t2, on='Mode_confirm')\n",
    "plot_data['proportion'] = plot_data['distance_miles_x'] / plot_data['distance_miles_y']\n",
    "plot_data['proportion'].fillna(0, inplace=True)\n",
    "\n",
    "data_order = plot_data.groupby(['Replaced_mode'], as_index=False).mean().sort_values('proportion', ascending=False).Replaced_mode\n",
    "labels = plot_data.groupby(['Replaced_mode'], as_index=False).mean().sort_values('proportion', ascending=False).Replaced_mode\n",
    "\n",
    "plot_title='Stated Replacement for E-Bike Trips'\n",
    "ylab='Proportion of Trips'\n",
    "\n",
    "fig, ax = plt.subplots(figsize=(10,4))\n",
    "sns.barplot(data=plot_data, x='Replaced_mode', y='proportion', estimator=np.mean, order=data_order).set(title=plot_title,xlabel='',ylabel=ylab,ylim=(0,.5))\n",
    "plt.xticks(rotation=35, ha='right')\n",
    "plt.subplots_adjust(bottom=0.25)\n",
    "ax.bar_label(ax.containers[0], fmt='%.2f', padding=30)"
   ]
  },
  {
   "cell_type": "code",
   "execution_count": null,
   "id": "91d96473",
   "metadata": {},
   "outputs": [],
   "source": [
    "plot_data_3 = data_2.copy()\n",
    "plot_data_3['induced']=np.where(plot_data_3['Replaced_mode']=='No Travel', 'Induced', 'Non-induced')\n",
    "t1 = plot_data_3[plot_data_3['Mode_confirm']=='E-bike']\n",
    "t2 = t1.groupby(['induced'], as_index=False).count()[['induced','distance_miles']]"
   ]
  },
  {
   "cell_type": "code",
   "execution_count": null,
   "id": "77662195",
   "metadata": {},
   "outputs": [],
   "source": [
    "t2"
   ]
  },
  {
   "cell_type": "code",
   "execution_count": null,
   "id": "702028c7",
   "metadata": {},
   "outputs": [],
   "source": [
    "t1.induced.value_counts().plot(kind='pie',autopct='%1.1f%%', figsize=(5, 5), label='')"
   ]
  },
  {
   "cell_type": "code",
   "execution_count": null,
   "id": "d36b6c9c",
   "metadata": {},
   "outputs": [],
   "source": [
    "# What purpose ebike is used for by program\n",
    "plot_data = plot_data_3.copy()\n",
    "t1 = plot_data.groupby(['induced','Trip_purpose','Mode_confirm'], as_index=False).count()[['induced','Trip_purpose','Mode_confirm','distance_miles']]\n",
    "t1['distance_miles'].fillna(0, inplace=True)\n",
    "t2 = plot_data.groupby(['induced','Trip_purpose'], as_index=False).count()[['induced','Trip_purpose','distance_miles']]\n",
    "plot_data = t1.merge(t2, on=['induced','Trip_purpose'])\n",
    "plot_data['proportion'] = (plot_data['distance_miles_x'] / plot_data['distance_miles_y'])*100\n",
    "plot_data['proportion'].fillna(0, inplace=True)\n",
    "plot_data = plot_data[plot_data['Mode_confirm']=='E-bike']\n",
    "plot_data = plot_data[plot_data['induced']=='Induced']\n",
    "#plot_data['Program'] = plot_data['program'].replace(['4c','cc','fc','pc','sc','vail'],['Four Corners','Community Cycles (Boulder)','Fort Collins','Pueblo County','Smart Commute (Northridge)','Vail'])\n",
    "\n",
    "plot_title = 'Induced E-Bike Trip Proportion By Trip Purpose'\n",
    "ylab = 'Proportion of Induced Trips'\n",
    "fig, ax = plt.subplots(figsize=(20,10))\n",
    "sns.barplot(data=plot_data, x='Trip_purpose', y='proportion', hue='induced',estimator=np.mean, ci=None).set(title=plot_title, xlabel='Date', ylabel=ylab)\n",
    "plt.xticks(rotation=35, ha='right')\n",
    "plt.subplots_adjust(bottom=0.25)\n"
   ]
  },
  {
   "cell_type": "code",
   "execution_count": null,
   "id": "8e624915",
   "metadata": {},
   "outputs": [],
   "source": [
    "plot_data"
   ]
  },
  {
   "cell_type": "code",
   "execution_count": null,
   "id": "c0e731a5",
   "metadata": {},
   "outputs": [],
   "source": [
    "data=pd.read_csv(\"C:\\\\Users\\\\dakcicek\\\\Documents\\\\GitHub\\\\ceo_analysis\\\\viz_scripts\\\\filtered_merged_trips.csv\")"
   ]
  },
  {
   "cell_type": "code",
   "execution_count": null,
   "id": "ef2c34a1",
   "metadata": {},
   "outputs": [],
   "source": [
    "data['duration'].describe()"
   ]
  },
  {
   "cell_type": "code",
   "execution_count": null,
   "id": "4b5ae7bb",
   "metadata": {},
   "outputs": [],
   "source": [
    "data['distance_miles'].describe()"
   ]
  },
  {
   "cell_type": "code",
   "execution_count": null,
   "id": "11839375",
   "metadata": {},
   "outputs": [],
   "source": [
    "four_corners['VEH_num'].describe()"
   ]
  },
  {
   "cell_type": "code",
   "execution_count": null,
   "id": "71bc5eaf",
   "metadata": {},
   "outputs": [],
   "source": [
    "pueblo['VEH_num'].describe()"
   ]
  },
  {
   "cell_type": "code",
   "execution_count": null,
   "id": "23b7ee43",
   "metadata": {},
   "outputs": [],
   "source": [
    "vail['VEH_num'].describe()"
   ]
  },
  {
   "cell_type": "code",
   "execution_count": null,
   "id": "f24f3072",
   "metadata": {},
   "outputs": [],
   "source": [
    "smart_commute['VEH_num'].describe()"
   ]
  },
  {
   "cell_type": "code",
   "execution_count": null,
   "id": "dac574bd",
   "metadata": {},
   "outputs": [],
   "source": [
    "fort_collins['VEH_num'].describe()"
   ]
  },
  {
   "cell_type": "code",
   "execution_count": null,
   "id": "ac9b1f2e",
   "metadata": {},
   "outputs": [],
   "source": [
    "community_cycles['VEH_num'].describe()"
   ]
  },
  {
   "cell_type": "markdown",
   "id": "39fe596d",
   "metadata": {},
   "source": [
    "# Energy Impact"
   ]
  },
  {
   "cell_type": "code",
   "execution_count": null,
   "id": "5c0f46ea",
   "metadata": {},
   "outputs": [],
   "source": [
    "mode_of_interest = \"E-bike\""
   ]
  },
  {
   "cell_type": "code",
   "execution_count": null,
   "id": "e7949c42",
   "metadata": {},
   "outputs": [],
   "source": [
    "data_eb = data_2.query(f\"Mode == '{mode_of_interest}'\") if \"Mode\" in data_2.columns else data_2"
   ]
  },
  {
   "cell_type": "code",
   "execution_count": null,
   "id": "f4f9b2c1",
   "metadata": {},
   "outputs": [],
   "source": [
    "data_eb"
   ]
  },
  {
   "cell_type": "code",
   "execution_count": null,
   "id": "f85744ce",
   "metadata": {},
   "outputs": [],
   "source": [
    "# Emissions analysis\n",
    "z = data_eb.groupby('Replaced_mode', as_index=False).sum('distance_miles')[['Replaced_mode','distance_miles']]\n",
    "\n",
    "co2_combo_factors = [5170*157.2*.000001,\n",
    "                    .022*1166*.001,\n",
    "                    0,\n",
    "                    0,\n",
    "                    0,\n",
    "                    7214*157.2*.000001,\n",
    "                    2585*157.2*.000001,\n",
    "                    .027*1166*.001,\n",
    "                    4560*161.3*.000001,\n",
    "                    0]\n",
    "co2_ebike_factor = .022*1166*.001\n",
    "z['co2_impact_factor'] = [x-co2_ebike_factor for x in co2_combo_factors]\n",
    "z['CO2_Impact(lb)'] = z['distance_miles']*z['co2_impact_factor'] # Reduction=positive\n",
    "metric_ton_co2_reduction = sum(z['CO2_Impact(lb)'])/2204\n",
    "unique_users = len(pd.unique(data_eb['user_id']))\n",
    "print(f\"Net reduction: {metric_ton_co2_reduction} metric tons over {unique_users} users.\")\n",
    "print(f\"Net program costs: {2400*unique_users}\")\n",
    "print(f\"Program $/mtCO2: {(2400*unique_users) / (metric_ton_co2_reduction)}\")"
   ]
  },
  {
   "cell_type": "code",
   "execution_count": null,
   "id": "15a23348",
   "metadata": {},
   "outputs": [],
   "source": [
    "def CO2_impact_lb(df,distance):\n",
    "    if 'Mode_confirm_lb_CO2' not in df.columns:\n",
    "        print(\"Mode confirm footprint not found, computing before impact\")\n",
    "        df = CO2_footprint_lb(df, distance, \"Mode_confirm\")\n",
    "    df = CO2_footprint_lb(df, distance, \"Replaced_mode\")\n",
    "    df['CO2_Impact(lb)']  = round((df['Replaced_mode_lb_CO2'] - df['Mode_confirm_lb_CO2']),3)\n",
    "    return df"
   ]
  },
  {
   "cell_type": "code",
   "execution_count": null,
   "id": "867aee8c",
   "metadata": {},
   "outputs": [],
   "source": [
    "year = None\n",
    "month = None\n",
    "program = \"default\"\n",
    "study_type = \"program\"\n",
    "mode_of_interest = \"e-bike\"\n",
    "include_test_users = False"
   ]
  },
  {
   "cell_type": "code",
   "execution_count": null,
   "id": "dde6c594",
   "metadata": {},
   "outputs": [],
   "source": [
    "debug_df = pd.DataFrame.from_dict({\n",
    "            \"year\": year,\n",
    "            \"month\": month,\n",
    "            \"Registered_participants\": len(get_participant_uuids(program, include_test_users)),\n",
    "            \"Participants_with_at_least_one_trip\": unique_users(participant_ct_df),\n",
    "            \"Participant_with_at_least_one_labeled_trip\": unique_users(labeled_ct),\n",
    "            \"Trips_with_at_least_one_label\": len(labeled_ct),\n",
    "            \"Trips_with_mode_confirm_label\": trip_label_count(\"Mode_confirm\", expanded_ct),\n",
    "            \"Trips_with_trip_purpose_label\": trip_label_count(\"Trip_purpose\", expanded_ct)\n",
    "            },\n",
    "        orient='index', columns=[\"value\"])"
   ]
  },
  {
   "cell_type": "code",
   "execution_count": null,
   "id": "9aef83d6",
   "metadata": {},
   "outputs": [],
   "source": [
    "plot_title_no_quality=f\"Sketch of Total Pounds of CO2 Emissions of {mode_of_interest} trips\"\n",
    "file_name =f'sketch_energy_impact_{mode_of_interest}%s'\n",
    "quality_text=f\"Based on 17348 confirmed E-bike trips from 120 users of 61496 total confirmed trips from 122 users (28.21%)\"\n",
    "\n",
    "try:\n",
    "    ebco2=z.groupby('Replaced_mode').agg({'CO2_Impact(lb)': ['sum', 'mean']},)\n",
    "    ebco2.columns = ['total_lb_CO2_emissions', 'average_lb_CO2_emission']\n",
    "    ebco2 = ebco2.reset_index()\n",
    "    ebco2 = ebco2.sort_values(by=['total_lb_CO2_emissions'], ascending=False)\n",
    "    ebco2['boolean'] = ebco2['total_lb_CO2_emissions'] > 0\n",
    "    net_CO2_emissions = round(sum(ebco2['total_lb_CO2_emissions']), 2)\n",
    "\n",
    "    x = ebco2['total_lb_CO2_emissions']\n",
    "    y = ebco2['Replaced_mode']\n",
    "    color = ebco2['boolean']\n",
    "\n",
    "    fig_size=(15,10)\n",
    "    plot_title= plot_title_no_quality+f\"\\n Contribution by replaced mode towards a total of {net_CO2_emissions}(lb CO2 Emissions )\\n\"+quality_text\n",
    "    CO2_impact(x,y,color,plot_title,file_name)\n",
    "    alt_text = store_alt_text_bar(pd.DataFrame(x.values,y), file_name, plot_title)\n",
    "except Exception as e:\n",
    "    print(e)\n",
    "    generate_missing_plot(plot_title_no_quality,debug_df,file_name)\n",
    "    alt_text = store_alt_text_missing(debug_df, file_name, plot_title_no_quality)"
   ]
  },
  {
   "cell_type": "code",
   "execution_count": null,
   "id": "323891d9",
   "metadata": {},
   "outputs": [],
   "source": []
  }
 ],
 "metadata": {
  "kernelspec": {
   "display_name": "Python 3 (ipykernel)",
   "language": "python",
   "name": "python3"
  },
  "language_info": {
   "codemirror_mode": {
    "name": "ipython",
    "version": 3
   },
   "file_extension": ".py",
   "mimetype": "text/x-python",
   "name": "python",
   "nbconvert_exporter": "python",
   "pygments_lexer": "ipython3",
   "version": "3.9.18"
  },
  "vscode": {
   "interpreter": {
    "hash": "31f2aee4e71d21fbe5cf8b01ff0e069b9275f58929596ceb00d14d90e3e16cd6"
   }
  }
 },
 "nbformat": 4,
 "nbformat_minor": 5
}

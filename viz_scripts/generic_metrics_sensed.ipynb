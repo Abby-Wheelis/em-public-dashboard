{
 "cells": [
  {
   "cell_type": "markdown",
   "id": "academic-context",
   "metadata": {},
   "source": [
    "## Generate Static Graphs"
   ]
  },
  {
   "cell_type": "markdown",
   "id": "medium-siemens",
   "metadata": {},
   "source": [
    "These are the input parameters for the notebook. They will be automatically changed when the scripts to generate monthly statistics are run. You can modify them manually to generate multiple plots locally as well.\n",
    "\n",
    "Pass in `None` to remove the filters and plot all data. This is not recommended for production settings, but might be useful for reports based on data snapshots."
   ]
  },
  {
   "cell_type": "code",
   "execution_count": null,
   "id": "narrative-hunter",
   "metadata": {},
   "outputs": [],
   "source": [
    "year = 2020\n",
    "month = 11\n",
    "program = \"default\"\n",
    "study_type = \"study\"\n",
    "mode_of_interest = None\n",
    "include_test_users = False\n",
    "use_imperial = False\n",
    "sensed_algo_prefix = \"cleaned\"\n",
    "use_imperial = True"
   ]
  },
  {
   "cell_type": "code",
   "execution_count": null,
   "id": "activated-portugal",
   "metadata": {},
   "outputs": [],
   "source": [
    "from collections import defaultdict\n",
    "\n",
    "import numpy as np\n",
    "import pandas as pd\n",
    "\n",
    "from plots import *\n",
    "import scaffolding\n",
    "\n",
    "sns.set_style(\"whitegrid\")\n",
    "sns.set()\n",
    "%matplotlib inline"
   ]
  },
  {
   "cell_type": "code",
   "execution_count": null,
   "id": "39ec1d4d",
   "metadata": {},
   "outputs": [],
   "source": [
    "#set the label-units just once!\n",
    "if use_imperial:\n",
    "    label_units = \"Miles\"\n",
    "    short_label = \"miles\"\n",
    "else:\n",
    "    label_units = \"Kilometers\"\n",
    "    short_label = \"kms\"\n",
    "    \n",
    "label_units_lower = label_units.lower()\n",
    "distance_col = \"distance_\" + short_label"
   ]
  },
  {
   "cell_type": "markdown",
   "id": "intellectual-columbus",
   "metadata": {},
   "source": [
    "## Collect Data From Database"
   ]
  },
  {
   "cell_type": "code",
   "execution_count": null,
   "id": "organic-pitch",
   "metadata": {},
   "outputs": [],
   "source": [
    "expanded_ct, file_suffix, quality_text, debug_df = scaffolding.load_viz_notebook_sensor_inference_data(year,\n",
    "                                                                            month,\n",
    "                                                                            program,\n",
    "                                                                            include_test_users,\n",
    "                                                                            sensed_algo_prefix)"
   ]
  },
  {
   "cell_type": "markdown",
   "id": "modified-skiing",
   "metadata": {},
   "source": [
    "## Generic Metrics"
   ]
  },
  {
   "cell_type": "markdown",
   "id": "distributed-peace",
   "metadata": {},
   "source": [
    "### Distribution of Mode_confirm attribute"
   ]
  },
  {
   "cell_type": "code",
   "execution_count": null,
   "id": "tracked-serbia",
   "metadata": {
    "scrolled": false
   },
   "outputs": [],
   "source": [
    "file_name='ntrips_sensed_mode%s' % file_suffix\n",
    "plot_title_no_quality= \"Number of trips for each primary mode\\n(inferred by OpenPATH from phone sensors)\"\n",
    "try:\n",
    "    labels_mc = expanded_ct['primary_mode'].value_counts(dropna=True).keys().tolist()\n",
    "    values_mc = expanded_ct['primary_mode'].value_counts(dropna=True).tolist()    \n",
    "    plot_title = plot_title_no_quality+\"\\n\"+quality_text\n",
    "    pie_chart_sensed_mode(plot_title,labels_mc,values_mc,file_name)\n",
    "    alt_text = store_alt_text_pie(pd.DataFrame(values_mc, labels_mc), file_name, plot_title)\n",
    "    print(expanded_ct['primary_mode'].value_counts(dropna=True))\n",
    "except:\n",
    "    generate_missing_plot(plot_title_no_quality,debug_df,file_name)\n",
    "    alt_text = store_alt_text_missing(debug_df, file_name, plot_title_no_quality)"
   ]
  },
  {
   "cell_type": "markdown",
   "id": "crucial-keyboard",
   "metadata": {},
   "source": [
    "### Mode choice for trips under 80% mark"
   ]
  },
  {
   "cell_type": "code",
   "execution_count": null,
   "id": "identified-replica",
   "metadata": {
    "scrolled": false
   },
   "outputs": [],
   "source": [
    "#determine 80th percentile\n",
    "cutoff = expanded_ct.distance.quantile(0.8)\n",
    "dist_threshold = expanded_ct[distance_col].quantile(0.8).round(1)\n",
    "dist_threshold = str(dist_threshold)\n",
    "\n",
    "plot_title_no_quality=\"Number of trips under \" + dist_threshold + \" \" + label_units_lower + \" for each primary mode\"\n",
    "plot_title_no_quality=plot_title_no_quality + \"\\n(inferred by OpenPATH from phone sensors)\" \n",
    "plot_title_no_quality=plot_title_no_quality + \"\\n[\"+dist_threshold + \" \" + label_units_lower+\" represents 80th percentile of trip length]\"\n",
    "file_name ='ntrips_under10miles_sensed_mode%s' % file_suffix\n",
    "\n",
    "try:\n",
    "    labels_d10 = expanded_ct.loc[(expanded_ct['distance'] <= cutoff)].primary_mode.value_counts(dropna=True).keys().tolist()\n",
    "    values_d10 = expanded_ct.loc[(expanded_ct['distance'] <= cutoff)].primary_mode.value_counts(dropna=True).tolist()\n",
    "    d10_quality_text = scaffolding.get_quality_text(expanded_ct, expanded_ct[expanded_ct['distance'] <= cutoff], \"< \" + dist_threshold + \" \" + label_units_lower, include_test_users)\n",
    "    plot_title= plot_title_no_quality+\"\\n\"+d10_quality_text\n",
    "    pie_chart_sensed_mode(plot_title,labels_d10,values_d10,file_name)\n",
    "    alt_text = store_alt_text_pie(pd.DataFrame(values_d10, labels_d10), file_name, plot_title)\n",
    "    print(expanded_ct.loc[(expanded_ct['distance'] <= cutoff)].primary_mode.value_counts(dropna=True))\n",
    "except:\n",
    "    d10_df = expanded_ct.query(\"distance <= \" + cutoff) if \"distance\" in expanded_ct.columns else expanded_ct\n",
    "    debug_df.loc[\"Trips_less_than_80th_pct\"] = scaffolding.trip_label_count(\"Mode_confirm\", d10_df)\n",
    "    generate_missing_plot(plot_title_no_quality,debug_df,file_name)\n",
    "    alt_text = store_alt_text_missing(debug_df, file_name, plot_title_no_quality)"
   ]
  },
  {
   "cell_type": "markdown",
   "id": "dominant-company",
   "metadata": {},
   "source": [
    "### Miles per chosen transport mode"
   ]
  },
  {
   "cell_type": "code",
   "execution_count": null,
   "id": "satisfied-sharing",
   "metadata": {
    "scrolled": false
   },
   "outputs": [],
   "source": [
    "plot_title_no_quality = label_units + \" for each primary mode\\n(inferred by OpenPATH from phone sensors)\"\n",
    "plot_title = plot_title_no_quality + quality_text\n",
    "file_name ='miles_sensed_mode%s' % file_suffix\n",
    "\n",
    "try:\n",
    "    dist = expanded_ct.groupby('primary_mode').agg({distance_col: ['sum', 'count' , 'mean']})\n",
    "    dist.columns = ['Total ('+label_units_lower+')', 'Count', 'Average ('+label_units_lower+')']\n",
    "    dist = dist.reset_index()\n",
    "    dist = dist.sort_values(by=['Total ('+label_units_lower+')'], ascending=False)\n",
    "    dist_dict = dict(zip(dist['primary_mode'], dist['Total ('+label_units_lower+')']))\n",
    "\n",
    "    labels_m = []\n",
    "    values_m = []\n",
    "\n",
    "    for x, y in dist_dict.items():\n",
    "        labels_m.append(x)\n",
    "        values_m.append(y)\n",
    "        \n",
    "    pie_chart_sensed_mode(plot_title,labels_m,values_m,file_name)\n",
    "    alt_text = store_alt_text_pie(pd.DataFrame(values_m, labels_m), file_name, plot_title)\n",
    "\n",
    "except:\n",
    "    generate_missing_plot(plot_title_no_quality,debug_df,file_name)\n",
    "    alt_text = store_alt_text_missing(debug_df, file_name, plot_title_no_quality)    "
   ]
  },
  {
   "cell_type": "markdown",
   "id": "1d0c7548",
   "metadata": {},
   "source": [
    "### Miles per chosen land transport mode"
   ]
  },
  {
   "cell_type": "code",
   "execution_count": null,
   "id": "004b7b3c",
   "metadata": {},
   "outputs": [],
   "source": [
    "plot_title_no_quality= label_units + \" for each land-based primary mode\\n(inferred by OpenPATH from phone sensors)\"\n",
    "plot_title = plot_title_no_quality + quality_text\n",
    "file_name ='miles_sensed_mode_land%s' % file_suffix\n",
    "\n",
    "try:\n",
    "    dist = expanded_ct.groupby('primary_mode').agg({distance_col: ['sum', 'count' , 'mean']})\n",
    "    dist.columns = ['Total ('+label_units_lower+')', 'Count', 'Average ('+label_units_lower+')']\n",
    "    dist = dist.reset_index()\n",
    "    dist =dist.sort_values(by=['Total ('+label_units_lower+')'], ascending=False)\n",
    "\n",
    "    dist_dict = dict(zip(dist['primary_mode'], dist['Total ('+label_units_lower+')']))\n",
    "\n",
    "    labels_m = []\n",
    "    values_m = []\n",
    "\n",
    "    for x, y in dist_dict.items():\n",
    "        if x != \"AIR_OR_HSR\":\n",
    "            labels_m.append(x)\n",
    "            values_m.append(y)\n",
    "\n",
    "    pie_chart_sensed_mode(plot_title,labels_m,values_m,file_name)\n",
    "    alt_text = store_alt_text_pie(pd.DataFrame(values_m, labels_m), file_name, plot_title)\n",
    "\n",
    "except:\n",
    "    generate_missing_plot(plot_title_no_quality,debug_df,file_name)\n",
    "    alt_text = store_alt_text_missing(debug_df, file_name, plot_title_no_quality)    "
   ]
  },
  {
   "cell_type": "markdown",
   "id": "130100ee",
   "metadata": {},
   "source": [
    "### Number of trips by day¶"
   ]
  },
  {
   "cell_type": "code",
   "execution_count": null,
   "id": "9933d138",
   "metadata": {},
   "outputs": [],
   "source": [
    "plot_title_no_quality=\"Number of trips by day\\n(inferred by OpenPATH from phone sensors)\"\n",
    "file_name ='ntrips_sensed_per_day%s' % file_suffix\n",
    "\n",
    "try:\n",
    "    fq_days = expanded_ct.groupby(['start_local_dt_day']).agg({'start_local_dt_day': ['sum', 'count']})\n",
    "    fq_days = fq_days.reset_index()\n",
    "    fq_days.columns = ['Day of the Month', 'Total', 'Number of Trips']\n",
    "\n",
    "    data = fq_days\n",
    "    x = 'Day of the Month'\n",
    "    y = 'Number of Trips'\n",
    "    \n",
    "    plot_title= plot_title_no_quality+\"\\n\"+quality_text\n",
    "\n",
    "    barplot_day(data,x,y,plot_title,file_name)\n",
    "    alt_text = store_alt_text_bar(pd.DataFrame(data['Number of Trips'].values, data['Day of the Month']), file_name, plot_title)\n",
    "except:\n",
    "    generate_missing_plot(plot_title_no_quality,debug_df,file_name)\n",
    "    alt_text = store_alt_text_missing(debug_df, file_name, plot_title_no_quality)    "
   ]
  },
  {
   "cell_type": "markdown",
   "id": "be9479ad",
   "metadata": {},
   "source": [
    "### Number of trips by day of week¶"
   ]
  },
  {
   "cell_type": "code",
   "execution_count": null,
   "id": "9878ceaf",
   "metadata": {},
   "outputs": [],
   "source": [
    "plot_title_no_quality=\"Number of trips by weekday\\n(inferred by OpenPATH from phone sensors)\"\n",
    "file_name ='ntrips_sensed_per_weekday%s' % file_suffix\n",
    "try:\n",
    "    fq_weekdays = expanded_ct.groupby(['start_local_dt_weekday']).agg({'start_local_dt_weekday': ['sum', 'count']})\n",
    "    fq_weekdays = fq_weekdays.reset_index()\n",
    "    fq_weekdays.columns = ['Weekday', 'Total', 'Number of Trips']\n",
    "    weekday_labels = [\"Mon\", \"Tue\", \"Wed\", \"Thu\", \"Fri\", \"Sat\", \"Sun\"]\n",
    "    fq_weekdays[\"Weekday\"] = fq_weekdays.Weekday.apply(lambda x: weekday_labels[x])\n",
    "\n",
    "    data = fq_weekdays\n",
    "    x = 'Weekday'\n",
    "    y = 'Number of Trips'\n",
    "\n",
    "    plot_title= plot_title_no_quality+\"\\n\"+quality_text\n",
    "    \n",
    "    barplot_day(data,x,y,plot_title,file_name)\n",
    "    alt_text = store_alt_text_bar(pd.DataFrame(data['Number of Trips'].values, data['Weekday']), file_name, plot_title)\n",
    "except:\n",
    "    generate_missing_plot(plot_title_no_quality,debug_df,file_name)\n",
    "    alt_text = store_alt_text_missing(debug_df, file_name, plot_title_no_quality)    "
   ]
  }
 ],
 "metadata": {
  "interpreter": {
   "hash": "72076fd04c06dcef1e530b48973026eda7036413ff5a3be73ace452fcce0cab6"
  },
  "kernelspec": {
   "display_name": "Python 3 (ipykernel)",
   "language": "python",
   "name": "python3"
  },
  "language_info": {
   "codemirror_mode": {
    "name": "ipython",
    "version": 3
   },
   "file_extension": ".py",
   "mimetype": "text/x-python",
   "name": "python",
   "nbconvert_exporter": "python",
   "pygments_lexer": "ipython3",
   "version": "3.9.18"
  }
 },
 "nbformat": 4,
 "nbformat_minor": 5
}

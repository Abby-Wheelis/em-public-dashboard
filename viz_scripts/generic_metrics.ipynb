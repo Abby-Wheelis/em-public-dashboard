{
 "cells": [
  {
   "cell_type": "markdown",
   "id": "academic-context",
   "metadata": {},
   "source": [
    "## Generate Static Graphs"
   ]
  },
  {
   "cell_type": "markdown",
   "id": "medium-siemens",
   "metadata": {},
   "source": [
    "These are the input parameters for the notebook. They will be automatically changed when the scripts to generate monthly statistics are run. You can modify them manually to generate multiple plots locally as well.\n",
    "\n",
    "Pass in `None` to remove the filters and plot all data. This is not recommended for production settings, but might be useful for reports based on data snapshots."
   ]
  },
  {
   "cell_type": "code",
   "execution_count": null,
   "id": "narrative-hunter",
   "metadata": {},
   "outputs": [],
   "source": [
    "year = 2020\n",
    "month = 11\n",
    "program = \"default\"\n",
    "study_type = \"study\"\n",
    "mode_of_interest = \"e-bike\"\n",
    "include_test_users = False\n",
    "dynamic_labels = {}\n",
    "use_imperial = False\n",
    "sensed_algo_prefix = \"cleaned\""
   ]
  },
  {
   "cell_type": "code",
   "execution_count": null,
   "id": "activated-portugal",
   "metadata": {},
   "outputs": [],
   "source": [
    "from collections import defaultdict\n",
    "\n",
    "import numpy as np\n",
    "import pandas as pd\n",
    "\n",
    "from plots import *\n",
    "import scaffolding\n",
    "\n",
    "sns.set_style(\"whitegrid\")\n",
    "sns.set()\n",
    "%matplotlib inline"
   ]
  },
  {
   "cell_type": "code",
   "execution_count": null,
   "id": "alternative-voltage",
   "metadata": {},
   "outputs": [],
   "source": [
    "# Loading mapping dictionaries from mapping_dictionaries notebook\n",
    "%store -r dic_re\n",
    "%store -r dic_pur\n",
    "\n",
    "# convert a dictionary to a defaultdict\n",
    "dic_re = defaultdict(lambda: 'Other',dic_re)\n",
    "dic_pur = defaultdict(lambda: 'Other',dic_pur)\n",
    "\n",
    "# get metric vs imperial vars\n",
    "label_units, short_label, label_units_lower, distance_col, weight_unit = scaffolding.get_units(use_imperial)"
   ]
  },
  {
   "cell_type": "markdown",
   "id": "intellectual-columbus",
   "metadata": {},
   "source": [
    "## Collect Data From Database for Generic Metrics"
   ]
  },
  {
   "cell_type": "code",
   "execution_count": null,
   "id": "organic-pitch",
   "metadata": {},
   "outputs": [],
   "source": [
    "expanded_ct, file_suffix, quality_text, debug_df = scaffolding.load_viz_notebook_data(year,\n",
    "                                                                            month,\n",
    "                                                                            program,\n",
    "                                                                            study_type,\n",
    "                                                                            dynamic_labels,\n",
    "                                                                            dic_re,\n",
    "                                                                            dic_pur=dic_pur,\n",
    "                                                                            include_test_users=include_test_users)"
   ]
  },
  {
   "cell_type": "markdown",
   "id": "6d44c87e",
   "metadata": {},
   "source": [
    "## Collect Data from Database for Sensed Metrics"
   ]
  },
  {
   "cell_type": "code",
   "execution_count": null,
   "id": "55ec383b",
   "metadata": {},
   "outputs": [],
   "source": [
    "expanded_ct_sensed, file_suffix_sensed, quality_text_sensed, debug_df_sensed = scaffolding.load_viz_notebook_sensor_inference_data(year,\n",
    "                                                                            month,\n",
    "                                                                            program,\n",
    "                                                                            include_test_users,\n",
    "                                                                            sensed_algo_prefix)\n",
    "\n",
    "# Create a combined debug df from Generic and Sensed Metrics\n",
    "merged_debug_df = debug_df.combine_first(debug_df_sensed)"
   ]
  },
  {
   "cell_type": "markdown",
   "id": "7f42f272",
   "metadata": {},
   "source": [
    "## Metrics for Specific Mode"
   ]
  },
  {
   "cell_type": "code",
   "execution_count": null,
   "id": "657d7e18",
   "metadata": {},
   "outputs": [],
   "source": [
    "data_eb = expanded_ct.query(f\"mode_confirm == '{mode_of_interest}'\") if \"mode_confirm\" in expanded_ct.columns else expanded_ct\n",
    "quality_text_specific = scaffolding.get_quality_text(expanded_ct, data_eb, mode_of_interest, include_test_users)"
   ]
  },
  {
   "cell_type": "markdown",
   "id": "e50959c1",
   "metadata": {},
   "source": [
    "### 1. 100% Stacked Bar Charts (Based on Number of Trips)"
   ]
  },
  {
   "cell_type": "code",
   "execution_count": null,
   "id": "aef741fe",
   "metadata": {},
   "outputs": [],
   "source": [
    "def process_data_frame(data_frame, column_name, title):\n",
    "    labels = data_frame[column_name].value_counts(dropna=True).keys().tolist()\n",
    "    values = data_frame[column_name].value_counts(dropna=True).tolist()\n",
    "    return process_trip_data(labels, values, title)\n",
    "\n",
    "plot_title_no_quality= \"Number of trips for each mode (selected by users)\"\n",
    "file_name = f'ntrips_total{file_suffix}'\n",
    "\n",
    "try:\n",
    "    bar_count = 0\n",
    "    plot_title = plot_title_no_quality + \"\\n\" + \"For Labeled and Sensed: \"+ quality_text\n",
    "    df_confirmed_tc = process_data_frame(expanded_ct, 'Mode_confirm', \"Labeled by user \\n (Based on Confirmed Trips)\")\n",
    "    df_sensed_tc = process_data_frame(expanded_ct_sensed, 'primary_mode', \"Sensed by OpenPATH \\n (Based on Total Trips)\")\n",
    "    all_data_frames = [df_confirmed_tc,df_sensed_tc]\n",
    "    \n",
    "    if not data_eb.empty:\n",
    "        df_replaced_tc = process_data_frame(data_eb, 'Replaced_mode', f\"Labeled by user for {mode_of_interest} \\n (Based on Replaced mode)\" )\n",
    "        all_data_frames.append(df_replaced_tc)\n",
    "        if not df_replaced_tc.empty:\n",
    "            bar_count += 1\n",
    "            plot_title += \"\\n\" + f\"For {mode_of_interest}: \" + quality_text_specific\n",
    "        \n",
    "    result_df = merge_dataframes(all_data_frames)\n",
    "\n",
    "    if not df_confirmed_tc.empty:\n",
    "        bar_count += 1\n",
    "    if not df_sensed_tc.empty:\n",
    "        bar_count += 1\n",
    "\n",
    "    stacked_bar_chart_generic(plot_title, result_df, file_name, bar_count)\n",
    "    alt_text, alt_html = store_alt_text_stacked_bar_chart(result_df[result_df['Count'] > 0], file_name, plot_title)  \n",
    "except:\n",
    "    generate_missing_plot(plot_title_no_quality,merged_debug_df,file_name)\n",
    "    alt_text = store_alt_text_missing(merged_debug_df, file_name, plot_title_no_quality)"
   ]
  },
  {
   "cell_type": "markdown",
   "id": "8fc63a45",
   "metadata": {},
   "source": [
    "### 2. 100% Stacked Bar Charts (Represents 80th of the Number of Trips)"
   ]
  },
  {
   "cell_type": "code",
   "execution_count": null,
   "id": "77ece8ee",
   "metadata": {},
   "outputs": [],
   "source": [
    "def process_data_for_cutoff(data_frame, distance_col, mode_col, quality_func, label_title):\n",
    "    \n",
    "    cutoff = data_frame.distance.quantile(0.8)\n",
    "    if pd.isna(cutoff):\n",
    "        cutoff = 0\n",
    "\n",
    "    dist_threshold = data_frame[distance_col].quantile(0.8).round(1)\n",
    "    dist_threshold = str(dist_threshold)\n",
    "    \n",
    "    labels = data_frame.loc[(data_frame['distance'] <= cutoff)][mode_col].value_counts(dropna=True).keys().tolist()\n",
    "    values = data_frame.loc[(data_frame['distance'] <= cutoff)][mode_col].value_counts(dropna=True).tolist()\n",
    "    processed_data = process_trip_data(labels, values, label_title)    \n",
    "    \n",
    "    return processed_data,cutoff, dist_threshold\n",
    "\n",
    "plot_title_no_quality= \"Number of trips for 80th percentile for each mode (selected by users):\"\n",
    "file_name = f'ntrips_under80{file_suffix}'\n",
    "\n",
    "try:\n",
    "    bar_count = 0\n",
    "    df_confirmed_tc_u80,cutoff, dist_threshold  = process_data_for_cutoff(expanded_ct, distance_col, 'Mode_confirm', scaffolding.get_quality_text, \"Labeled by user \\n (Based on Confirmed Trips)\")\n",
    "    df_sensed_tc_u80, cutoff_sensed, dist_threshold_sensed = process_data_for_cutoff(expanded_ct_sensed, distance_col, 'primary_mode', scaffolding.get_quality_text_sensed, \"Sensed by OpenPATH \\n (Based on Total Trips)\")\n",
    "    u80_quality_text = scaffolding.get_quality_text(expanded_ct, expanded_ct[expanded_ct['distance'] <= cutoff], \"< \" + dist_threshold + \" \" + short_label, include_test_users)\n",
    "    u80_quality_text_sensed = scaffolding.get_quality_text_sensed(expanded_ct_sensed[expanded_ct_sensed['distance'] <= cutoff_sensed], \"<= \" + dist_threshold_sensed + \" \" + short_label , include_test_users)\n",
    "    all_data_frames_u80 = [df_confirmed_tc_u80, df_sensed_tc_u80]\n",
    "    \n",
    "    result_df_u80 = merge_dataframes(all_data_frames_u80)\n",
    "    plot_title = plot_title_no_quality \n",
    "    if not df_confirmed_tc_u80.empty:\n",
    "        plot_title +=  \"\\n\" + \"For Sensed: \" + u80_quality_text\n",
    "        bar_count += 1\n",
    "    if not df_sensed_tc_u80.empty:\n",
    "        plot_title +=  \"\\n\" + \"For Labeled: \" + u80_quality_text_sensed\n",
    "        bar_count += 1\n",
    "\n",
    "    stacked_bar_chart_generic(plot_title, result_df_u80, file_name, bar_count)\n",
    "    alt_text, alt_html = store_alt_text_stacked_bar_chart(result_df_u80[result_df_u80['Count'] > 0], file_name, plot_title)\n",
    "except:\n",
    "    generate_missing_plot(plot_title_no_quality, merged_debug_df, file_name)\n",
    "    alt_text = store_alt_text_missing(merged_debug_df, file_name, plot_title_no_quality)"
   ]
  },
  {
   "cell_type": "markdown",
   "id": "7fa4f3da",
   "metadata": {},
   "source": [
    "### 3. 100% Stacked Bar Charts (Represents Commute Trips) "
   ]
  },
  {
   "cell_type": "code",
   "execution_count": null,
   "id": "5c6cd4cf",
   "metadata": {},
   "outputs": [],
   "source": [
    "plot_title_no_quality= \"Number of commute trips for each mode (selected by users)\"\n",
    "file_name = f\"ntrips_commute_mode_confirm{file_suffix}\"\n",
    "\n",
    "try:\n",
    "    bar_count = 0\n",
    "    if (len(dynamic_labels)):\n",
    "        purpose_map_label =  scaffolding.mapping_labels(dynamic_labels, \"PURPOSE\")\n",
    "        translation_work = purpose_map_label['work']\n",
    "        trip_purpose_query = f\"Trip_purpose == '{translation_work}'\"\n",
    "    else:\n",
    "        trip_purpose_query = \"Trip_purpose == 'Work'\"\n",
    "    \n",
    "    plot_title = plot_title_no_quality\n",
    "    commute_quality_text = scaffolding.get_quality_text(expanded_ct, expanded_ct.query(trip_purpose_query), \"commute\", include_test_users)\n",
    "    if not expanded_ct.empty:\n",
    "        bar_count += 1\n",
    "        plot_title += \"\\n\" + commute_quality_text\n",
    "\n",
    "    labels_mc_commute = expanded_ct.query(trip_purpose_query).Mode_confirm.value_counts(dropna=True).keys().tolist()\n",
    "    values_mc_commute = expanded_ct.query(trip_purpose_query).Mode_confirm.value_counts(dropna=True).tolist()\n",
    "    \n",
    "    df_total_trip_commute = process_trip_data(labels_mc_commute, values_mc_commute, \"Labeled by user \\n (Based on Confirmed Trips)\")\n",
    "    \n",
    "    stacked_bar_chart_generic(plot_title, df_total_trip_commute, file_name, bar_count)\n",
    "    alt_text, alt_html = store_alt_text_stacked_bar_chart(df_total_trip_commute, file_name, plot_title)\n",
    "except:\n",
    "    generate_missing_plot(plot_title_no_quality, debug_df, file_name)\n",
    "    alt_text = store_alt_text_missing(debug_df, file_name, plot_title_no_quality)"
   ]
  },
  {
   "cell_type": "markdown",
   "id": "b560cb32",
   "metadata": {},
   "source": [
    "### 4. 100% Stacked Bar Charts (Represents Distance by Mode)"
   ]
  },
  {
   "cell_type": "code",
   "execution_count": null,
   "id": "ffccb96f",
   "metadata": {},
   "outputs": [],
   "source": [
    "def process_distance_data(data_frame, group_column, distance_column, label_units_lower, quality_text):\n",
    "    dist = data_frame.groupby(group_column).agg({distance_column: ['sum', 'count', 'mean']})\n",
    "    dist.columns = ['Total (' + label_units_lower + ')', 'Count', 'Average (' + label_units_lower + ')']\n",
    "    dist = dist.reset_index()\n",
    "    dist = dist.sort_values(by=['Total (' + label_units_lower + ')'], ascending=False)\n",
    "    \n",
    "    dist_dict = dict(zip(dist[group_column], dist['Total (' + label_units_lower + ')']))\n",
    "    labels_dist = []\n",
    "    values_dist = []\n",
    "    \n",
    "    for x, y in dist_dict.items():\n",
    "        labels_dist.append(x)\n",
    "        values_dist.append(y)\n",
    "    \n",
    "    return process_trip_data(labels_dist, values_dist, quality_text)\n",
    "\n",
    "plot_title_no_quality = label_units + \" for each mode\"\n",
    "file_name = 'distance_mode%s' % file_suffix\n",
    "\n",
    "try:\n",
    "    bar_count = 0\n",
    "    df_confirm_dist = process_distance_data(expanded_ct, 'Mode_confirm', distance_col, label_units_lower, \"Labeled by user \\n Trip distance \\n (Based on Confirmed Trips)\")\n",
    "    df_sensed_dist = process_distance_data(expanded_ct_sensed, 'primary_mode', distance_col, label_units_lower, \"Sensed by OpenPATH \\n Trip distance (Overall) \\n (Based on Total Trips)\")\n",
    "    df_sensed_dist_land = process_distance_data(expanded_ct_sensed[expanded_ct_sensed['primary_mode'] != \"AIR_OR_HSR\"], 'primary_mode', distance_col, label_units_lower, \"Sensed by OpenPATH \\n Trips distance (Land) \\n (Based on Total Trips)\")\n",
    "\n",
    "    all_data_frames = [df_confirm_dist, df_sensed_dist, df_sensed_dist_land]\n",
    "\n",
    "    if not df_confirm_dist.empty:\n",
    "        bar_count += 1\n",
    "    if not df_sensed_dist.empty:\n",
    "        bar_count += 1\n",
    "    if not df_sensed_dist_land.empty:\n",
    "        bar_count += 1\n",
    "    \n",
    "    plot_title = plot_title_no_quality + \"\\n\" + quality_text\n",
    "\n",
    "    if not data_eb.empty:\n",
    "        df_replaced_dist = process_distance_data(data_eb, 'Replaced_mode', distance_col, label_units_lower, f\"Labeled by user for {mode_of_interest} \\n (Based on Replaced mode distance)\")\n",
    "        all_data_frames.append(df_replaced_dist)\n",
    "        if not df_replaced_dist.empty:\n",
    "            bar_count += 1\n",
    "            plot_title += \"\\n\" + f\"For {mode_of_interest}:\" + quality_text_specific\n",
    "\n",
    "    result_df = merge_dataframes(all_data_frames)\n",
    "\n",
    "    stacked_bar_chart_generic(plot_title, result_df, file_name, bar_count)\n",
    "    alt_text, alt_html = store_alt_text_stacked_bar_chart(result_df[result_df['Count'] > 0], file_name, plot_title)\n",
    "except:\n",
    "    generate_missing_plot(plot_title_no_quality, merged_debug_df, file_name)\n",
    "    alt_text = store_alt_text_missing(merged_debug_df, file_name, plot_title_no_quality)"
   ]
  },
  {
   "cell_type": "markdown",
   "id": "ffb2df0b",
   "metadata": {},
   "source": [
    "### 5. 100% Stacked Bar Charts (Count by Purpose)"
   ]
  },
  {
   "cell_type": "code",
   "execution_count": null,
   "id": "46474ada",
   "metadata": {},
   "outputs": [],
   "source": [
    "def process_trip_purpose_data(data_frame, purpose_column, label_text):\n",
    "    labels = data_frame[purpose_column].value_counts(dropna=True).keys().tolist()\n",
    "    values = data_frame[purpose_column].value_counts(dropna=True).tolist()\n",
    "    \n",
    "    return process_trip_data(labels, values, label_text)\n",
    "\n",
    "plot_title_no_quality = \"Number of trips for each purpose (selected by users)\"\n",
    "file_name = 'ntrips_purpose%s' %(file_suffix)\n",
    "\n",
    "try:\n",
    "    bar_count = 0\n",
    "    df_purpose_trip = process_trip_purpose_data(expanded_ct, 'Trip_purpose', \"Labeled by user \\n (Based on Confirmed Trips )\")\n",
    "    df_purpose_trip_eb = process_trip_purpose_data(data_eb, 'Trip_purpose', f\"Labeled by user for {mode_of_interest} \\n (Based on {mode_of_interest} related Purpose Trips)\")\n",
    "    all_tp_data_frames = [df_purpose_trip, df_purpose_trip_eb]\n",
    "    result_tp_df = merge_dataframes(all_tp_data_frames)\n",
    "\n",
    "    plot_title = plot_title_no_quality\n",
    "    \n",
    "    if not df_purpose_trip.empty:\n",
    "        plot_title += \"\\n\" + quality_text\n",
    "        bar_count += 1\n",
    "    if not df_purpose_trip_eb.empty:\n",
    "        plot_title += \"\\n\" + quality_text_specific\n",
    "        bar_count += 1\n",
    "\n",
    "    stacked_bar_chart_generic(plot_title, result_tp_df, file_name, bar_count)\n",
    "\n",
    "    alt_text, alt_html = store_alt_text_stacked_bar_chart(result_tp_df[result_tp_df['Count'] > 0], file_name, plot_title)\n",
    "except:\n",
    "    generate_missing_plot(plot_title_no_quality, merged_debug_df, file_name)\n",
    "    alt_text = store_alt_text_missing(merged_debug_df, file_name, plot_title_no_quality)"
   ]
  },
  {
   "cell_type": "markdown",
   "id": "bcef1f6a",
   "metadata": {},
   "source": [
    "## Generic Metrics (Bar Charts)"
   ]
  },
  {
   "cell_type": "markdown",
   "id": "demanding-franklin",
   "metadata": {},
   "source": [
    "### Average miles per transport mode selected (Mode_confirm)"
   ]
  },
  {
   "cell_type": "code",
   "execution_count": null,
   "id": "patent-cliff",
   "metadata": {},
   "outputs": [],
   "source": [
    "file_name ='average_miles_mode_confirm%s' % file_suffix\n",
    "plot_title_no_quality=\"Average \"+ label_units+\" for each mode with > 3 entries\"\n",
    "\n",
    "try:\n",
    "    dist = expanded_ct.groupby('Mode_confirm').agg({distance_col: ['sum', 'count' , 'mean']})\n",
    "    dist.columns = ['Total ('+label_units_lower+')', 'Count', 'Average ('+label_units_lower+')']\n",
    "    dist = dist.reset_index()\n",
    "    dist =dist.sort_values(by=['Total ('+label_units_lower+')'], ascending=False)\n",
    "\n",
    "    x='Mode_confirm'\n",
    "    y='Average ('+label_units_lower+')'\n",
    "    plot_title= plot_title_no_quality+\"\\n\"+quality_text\n",
    "    \n",
    "    data = dist.drop((dist.query(\"Count < 3\").index)).sort_values(by=['Average ('+label_units_lower+')'], ascending=False)\n",
    "\n",
    "    barplot_mode(data,x,y,plot_title, expanded_ct['Mode_confirm'].dropna().unique().tolist(), file_name)\n",
    "    alt_text = store_alt_text_bar(pd.DataFrame(data['Average ('+label_units_lower+')'].values, data['Mode_confirm']), file_name, plot_title)\n",
    "except:\n",
    "    generate_missing_plot(plot_title_no_quality,debug_df,file_name)\n",
    "    alt_text = store_alt_text_missing(debug_df, file_name, plot_title_no_quality)    "
   ]
  },
  {
   "cell_type": "markdown",
   "id": "sound-bradley",
   "metadata": {},
   "source": [
    "### Number of trips by day¶"
   ]
  },
  {
   "cell_type": "code",
   "execution_count": null,
   "id": "alleged-subsection",
   "metadata": {},
   "outputs": [],
   "source": [
    "plot_title_no_quality=\"Number of trips by day\"\n",
    "file_name ='ntrips_per_day%s' % file_suffix\n",
    "\n",
    "try:\n",
    "    fq_days = expanded_ct.groupby(['start_local_dt_day']).agg({'start_local_dt_day': ['sum', 'count']})\n",
    "    fq_days = fq_days.reset_index()\n",
    "    fq_days.columns = ['Day of the Month', 'Total', 'Number of Trips']\n",
    "\n",
    "    data = fq_days\n",
    "    x = 'Day of the Month'\n",
    "    y = 'Number of Trips'\n",
    "    \n",
    "    plot_title= plot_title_no_quality+\"\\n\"+quality_text\n",
    "\n",
    "    barplot_day(data,x,y,plot_title,file_name)\n",
    "    alt_text = store_alt_text_bar(pd.DataFrame(data['Number of Trips'].values, data['Day of the Month']), file_name, plot_title)\n",
    "except:\n",
    "    generate_missing_plot(plot_title_no_quality,debug_df,file_name)\n",
    "    alt_text = store_alt_text_missing(debug_df, file_name, plot_title_no_quality)    "
   ]
  },
  {
   "cell_type": "markdown",
   "id": "challenging-julian",
   "metadata": {},
   "source": [
    "### Number of trips by day of week¶"
   ]
  },
  {
   "cell_type": "code",
   "execution_count": null,
   "id": "hollywood-optimization",
   "metadata": {},
   "outputs": [],
   "source": [
    "plot_title_no_quality=\"Number of trips by weekday\"\n",
    "file_name ='ntrips_per_weekday%s' % file_suffix\n",
    "try:\n",
    "    fq_weekdays = expanded_ct.groupby(['start_local_dt_weekday']).agg({'start_local_dt_weekday': ['sum', 'count']})\n",
    "    fq_weekdays = fq_weekdays.reset_index()\n",
    "    fq_weekdays.columns = ['Weekday', 'Total', 'Number of Trips']\n",
    "    weekday_labels = [\"Mon\", \"Tue\", \"Wed\", \"Thu\", \"Fri\", \"Sat\", \"Sun\"]\n",
    "    fq_weekdays[\"Weekday\"] = fq_weekdays.Weekday.apply(lambda x: weekday_labels[x])\n",
    "\n",
    "    data = fq_weekdays\n",
    "    x = 'Weekday'\n",
    "    y = 'Number of Trips'\n",
    "\n",
    "    plot_title= plot_title_no_quality+\"\\n\"+quality_text\n",
    "    \n",
    "    barplot_day(data,x,y,plot_title,file_name)\n",
    "    alt_text = store_alt_text_bar(pd.DataFrame(data['Number of Trips'].values, data['Weekday']), file_name, plot_title)\n",
    "except:\n",
    "    generate_missing_plot(plot_title_no_quality,debug_df,file_name)\n",
    "    alt_text = store_alt_text_missing(debug_df, file_name, plot_title_no_quality)    "
   ]
  },
  {
   "cell_type": "markdown",
   "id": "94454e8f",
   "metadata": {},
   "source": [
    "## Sensed Metrics (Bar Charts)"
   ]
  },
  {
   "cell_type": "markdown",
   "id": "1ae3bf80",
   "metadata": {},
   "source": [
    "### Average miles per transport mode selected (primary_mode)"
   ]
  },
  {
   "cell_type": "code",
   "execution_count": null,
   "id": "882c0891",
   "metadata": {},
   "outputs": [],
   "source": [
    "plot_title_no_quality=\" Average Miles for each mode with > 3 entries\\n(inferred by OpenPATH from phone sensors)\"\n",
    "file_name ='average_miles_sensed_mode%s' % file_suffix\n",
    "\n",
    "try:\n",
    "    dist = expanded_ct_sensed.groupby('primary_mode').agg({distance_col: ['sum', 'count' , 'mean']})\n",
    "    dist.columns = ['Total ('+label_units_lower+')', 'Count', 'Average ('+label_units_lower+')']\n",
    "    dist = dist.reset_index()\n",
    "    dist =dist.sort_values(by=['Total ('+label_units_lower+')'], ascending=False)\n",
    "    \n",
    "    data = dist.drop((dist.query(\"Count < 3\").index)).sort_values(by=['Average ('+label_units_lower+')'], ascending=False)\n",
    "    x='primary_mode'\n",
    "    y='Average ('+label_units_lower+')'\n",
    "    \n",
    "    plot_title= plot_title_no_quality+\"\\n\"+quality_text\n",
    "    \n",
    "    barplot_mode(data,x,y,plot_title, expanded_ct_sensed['primary_mode'].dropna().unique().tolist(), file_name)\n",
    "    alt_text = store_alt_text_bar(pd.DataFrame(data['Average ('+label_units_lower+')'].values, data['primary_mode']), file_name, plot_title)\n",
    "except:\n",
    "    generate_missing_plot(plot_title_no_quality,debug_df_sensed,file_name)\n",
    "    alt_text = store_alt_text_missing(debug_df_sensed, file_name, plot_title_no_quality) "
   ]
  },
  {
   "cell_type": "markdown",
   "id": "782926ff",
   "metadata": {},
   "source": [
    "### Number of trips by day¶"
   ]
  },
  {
   "cell_type": "code",
   "execution_count": null,
   "id": "b6b51c4e",
   "metadata": {},
   "outputs": [],
   "source": [
    "plot_title_no_quality=\"Number of trips by day\\n(inferred by OpenPATH from phone sensors)\"\n",
    "file_name ='ntrips_sensed_per_day%s' % file_suffix\n",
    "\n",
    "try:\n",
    "    fq_days = expanded_ct_sensed.groupby(['start_local_dt_day']).agg({'start_local_dt_day': ['sum', 'count']})\n",
    "    fq_days = fq_days.reset_index()\n",
    "    fq_days.columns = ['Day of the Month', 'Total', 'Number of Trips']\n",
    "\n",
    "    data = fq_days\n",
    "    x = 'Day of the Month'\n",
    "    y = 'Number of Trips'\n",
    "    \n",
    "    plot_title= plot_title_no_quality+\"\\n\"+quality_text\n",
    "\n",
    "    barplot_day(data,x,y,plot_title,file_name)\n",
    "    alt_text = store_alt_text_bar(pd.DataFrame(data['Number of Trips'].values, data['Day of the Month']), file_name, plot_title)\n",
    "except:\n",
    "    generate_missing_plot(plot_title_no_quality,debug_df_sensed,file_name)\n",
    "    alt_text = store_alt_text_missing(debug_df_sensed, file_name, plot_title_no_quality)"
   ]
  },
  {
   "cell_type": "markdown",
   "id": "5d403785",
   "metadata": {},
   "source": [
    "### Number of trips by day of week¶"
   ]
  },
  {
   "cell_type": "code",
   "execution_count": null,
   "id": "9b9789a8",
   "metadata": {},
   "outputs": [],
   "source": [
    "plot_title_no_quality=\"Number of trips by weekday\\n(inferred by OpenPATH from phone sensors)\"\n",
    "file_name ='ntrips_sensed_per_weekday%s' % file_suffix\n",
    "try:\n",
    "    fq_weekdays = expanded_ct_sensed.groupby(['start_local_dt_weekday']).agg({'start_local_dt_weekday': ['sum', 'count']})\n",
    "    fq_weekdays = fq_weekdays.reset_index()\n",
    "    fq_weekdays.columns = ['Weekday', 'Total', 'Number of Trips']\n",
    "    weekday_labels = [\"Mon\", \"Tue\", \"Wed\", \"Thu\", \"Fri\", \"Sat\", \"Sun\"]\n",
    "    fq_weekdays[\"Weekday\"] = fq_weekdays.Weekday.apply(lambda x: weekday_labels[x])\n",
    "\n",
    "    data = fq_weekdays\n",
    "    x = 'Weekday'\n",
    "    y = 'Number of Trips'\n",
    "\n",
    "    plot_title= plot_title_no_quality+\"\\n\"+quality_text\n",
    "    \n",
    "    barplot_day(data,x,y,plot_title,file_name)\n",
    "    alt_text = store_alt_text_bar(pd.DataFrame(data['Number of Trips'].values, data['Weekday']), file_name, plot_title)\n",
    "except:\n",
    "    generate_missing_plot(plot_title_no_quality,debug_df_sensed,file_name)\n",
    "    alt_text = store_alt_text_missing(debug_df_sensed, file_name, plot_title_no_quality)"
   ]
  },
  {
   "cell_type": "markdown",
   "id": "881f2170",
   "metadata": {},
   "source": [
    "## Mode Specific (Bar Charts)"
   ]
  },
  {
   "cell_type": "markdown",
   "id": "601057fe",
   "metadata": {},
   "source": [
    "### Average miles per trip for specified mode"
   ]
  },
  {
   "cell_type": "code",
   "execution_count": null,
   "id": "24dccf66",
   "metadata": {},
   "outputs": [],
   "source": [
    "plot_title_no_quality=\"Average \" + label_units + \" for each replaced mode with > 3 entries\\n'Other' represents trips with a non-standard or missing replacement\"\n",
    "file_name ='average_miles_replaced_mode%s' % file_suffix\n",
    "\n",
    "try:\n",
    "    dg=data_eb.groupby('Replaced_mode').agg({distance_col: ['sum', 'count' , 'mean']},)\n",
    "    dg.columns = ['Total ('+label_units_lower+')', 'Count' ,'Average ('+label_units_lower+')']\n",
    "    dg = dg.reset_index()\n",
    "    dg = dg.sort_values(by=['Total ('+label_units_lower+')'], ascending=False)\n",
    "    data = dg.drop((dg.query(\"Count < 3\").index)).sort_values(by=['Average ('+label_units_lower+')'], ascending=False) \n",
    "        \n",
    "    x='Replaced_mode'\n",
    "    y='Average ('+label_units_lower+')'\n",
    "    y2 = \"Count\"\n",
    "\n",
    "    plot_title= plot_title_no_quality+\"\\n\"+quality_text\n",
    "    barplot_mode(data,x,y,plot_title, expanded_ct['Replaced_mode'].dropna().unique().tolist(), file_name)\n",
    "    alt_text = store_alt_text_bar(pd.DataFrame(data['Average ('+label_units_lower+')'].values, data.Replaced_mode), file_name, plot_title)\n",
    "\n",
    "except:\n",
    "    generate_missing_plot(plot_title_no_quality,debug_df,file_name)\n",
    "    alt_text = store_alt_text_missing(debug_df, file_name, plot_title_no_quality)"
   ]
  },
  {
   "cell_type": "markdown",
   "id": "14650196",
   "metadata": {},
   "source": [
    "### Number of trips by day for specified mode"
   ]
  },
  {
   "cell_type": "code",
   "execution_count": null,
   "id": "0ef2fe77",
   "metadata": {},
   "outputs": [],
   "source": [
    "plot_title_no_quality=f\"Number of {mode_of_interest} trips by day\"\n",
    "file_name =f'ntrips_{mode_of_interest}_per_day%s' % file_suffix\n",
    "\n",
    "try:\n",
    "    fq_days = data_eb.groupby(['start_local_dt_day']).agg({'start_local_dt_day': ['sum', 'count']})\n",
    "    fq_days = fq_days.reset_index()\n",
    "    fq_days.columns = ['Day of the Month', 'Total', 'Number of Trips']\n",
    "\n",
    "    data = fq_days\n",
    "    x = 'Day of the Month'\n",
    "    y = 'Number of Trips'\n",
    "\n",
    "    plot_title= plot_title_no_quality+\"\\n\"+quality_text\n",
    "    barplot_day(data,x,y,plot_title,file_name)\n",
    "    alt_text = store_alt_text_bar(pd.DataFrame(data['Number of Trips'].values, data['Day of the Month'].values), file_name, plot_title)\n",
    "except:\n",
    "    generate_missing_plot(plot_title_no_quality,debug_df,file_name)\n",
    "    alt_text = store_alt_text_missing(debug_df, file_name, plot_title_no_quality)"
   ]
  },
  {
   "cell_type": "markdown",
   "id": "e807c0f1",
   "metadata": {},
   "source": [
    "### Number of trips by day of week¶"
   ]
  },
  {
   "cell_type": "code",
   "execution_count": null,
   "id": "8085e9a1",
   "metadata": {},
   "outputs": [],
   "source": [
    "plot_title_no_quality=f\"Number of {mode_of_interest} trips by weekday\"\n",
    "file_name =f'ntrips_{mode_of_interest}_per_weekday%s' % file_suffix\n",
    "\n",
    "try:\n",
    "    fq_weekdays = data_eb.groupby(['start_local_dt_weekday']).agg({'start_local_dt_weekday': ['sum', 'count']})\n",
    "    fq_weekdays = fq_weekdays.reset_index()\n",
    "    fq_weekdays.columns = ['Weekday', 'Total', 'Number of Trips']\n",
    "    weekday_labels = [\"Mon\", \"Tue\", \"Wed\", \"Thu\", \"Fri\", \"Sat\", \"Sun\"]\n",
    "    fq_weekdays[\"Weekday\"] = fq_weekdays.Weekday.apply(lambda x: weekday_labels[x])\n",
    "\n",
    "    data = fq_weekdays\n",
    "    x = 'Weekday'\n",
    "    y = 'Number of Trips'\n",
    "\n",
    "    plot_title= plot_title_no_quality+\"\\n\"+quality_text\n",
    "    barplot_day(data,x,y,plot_title,file_name)\n",
    "    alt_text = store_alt_text_bar(pd.DataFrame(data['Number of Trips'].values, data['Weekday'].values), file_name, plot_title)\n",
    "except:\n",
    "    generate_missing_plot(plot_title_no_quality,debug_df,file_name)\n",
    "    alt_text = store_alt_text_missing(debug_df, file_name, plot_title_no_quality)"
   ]
  }
 ],
 "metadata": {
  "kernelspec": {
   "display_name": "Python 3 (ipykernel)",
   "language": "python",
   "name": "python3"
  },
  "language_info": {
   "codemirror_mode": {
    "name": "ipython",
    "version": 3
   },
   "file_extension": ".py",
   "mimetype": "text/x-python",
   "name": "python",
   "nbconvert_exporter": "python",
   "pygments_lexer": "ipython3",
   "version": "3.7.12"
  }
 },
 "nbformat": 4,
 "nbformat_minor": 5
}

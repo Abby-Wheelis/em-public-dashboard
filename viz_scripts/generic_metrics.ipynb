{
 "cells": [
  {
   "cell_type": "markdown",
   "id": "academic-context",
   "metadata": {},
   "source": [
    "## Generate Static Graphs"
   ]
  },
  {
   "cell_type": "markdown",
   "id": "medium-siemens",
   "metadata": {},
   "source": [
    "These are the input parameters for the notebook. They will be automatically changed when the scripts to generate monthly statistics are run. You can modify them manually to generate multiple plots locally as well.\n",
    "\n",
    "Pass in `None` to remove the filters and plot all data. This is not recommended for production settings, but might be useful for reports based on data snapshots."
   ]
  },
  {
   "cell_type": "code",
   "execution_count": null,
   "id": "narrative-hunter",
   "metadata": {},
   "outputs": [],
   "source": [
    "year = 2020\n",
    "month = 11\n",
    "program = \"default\"\n",
    "study_type = \"study\"\n",
    "mode_of_interest = None\n",
    "include_test_users = False\n",
    "dynamic_labels = {}\n",
    "use_imperial = False\n",
    "sensed_algo_prefix = \"cleaned\""
   ]
  },
  {
   "cell_type": "code",
   "execution_count": null,
   "id": "activated-portugal",
   "metadata": {},
   "outputs": [],
   "source": [
    "from collections import defaultdict\n",
    "\n",
    "import numpy as np\n",
    "import pandas as pd\n",
    "\n",
    "from plots import *\n",
    "import scaffolding\n",
    "\n",
    "sns.set_style(\"whitegrid\")\n",
    "sns.set()\n",
    "%matplotlib inline"
   ]
  },
  {
   "cell_type": "code",
   "execution_count": null,
   "id": "alternative-voltage",
   "metadata": {},
   "outputs": [],
   "source": [
    "# Loading mapping dictionaries from mapping_dictionaries notebook\n",
    "%store -r dic_re\n",
    "%store -r dic_pur\n",
    "\n",
    "# convert a dictionary to a defaultdict\n",
    "dic_re = defaultdict(lambda: 'Other',dic_re)\n",
    "dic_pur = defaultdict(lambda: 'Other',dic_pur)\n",
    "\n",
    "# get metric vs imperial vars\n",
    "label_units, short_label, label_units_lower, distance_col, weight_unit = scaffolding.get_units(use_imperial)"
   ]
  },
  {
   "cell_type": "markdown",
   "id": "intellectual-columbus",
   "metadata": {},
   "source": [
    "## Collect Data From Database for Generic Metrics"
   ]
  },
  {
   "cell_type": "code",
   "execution_count": null,
   "id": "organic-pitch",
   "metadata": {},
   "outputs": [],
   "source": [
    "expanded_ct, file_suffix, quality_text, debug_df = scaffolding.load_viz_notebook_data(year,\n",
    "                                                                            month,\n",
    "                                                                            program,\n",
    "                                                                            study_type,\n",
    "                                                                            dynamic_labels,\n",
    "                                                                            dic_re,\n",
    "                                                                            dic_pur=dic_pur,\n",
    "                                                                            include_test_users=include_test_users)"
   ]
  },
  {
   "cell_type": "markdown",
   "id": "6d44c87e",
   "metadata": {},
   "source": [
    "## Collect Data from Database for Sensed Metrics"
   ]
  },
  {
   "cell_type": "code",
   "execution_count": null,
   "id": "55ec383b",
   "metadata": {},
   "outputs": [],
   "source": [
    "expanded_ct_sensed, file_suffix_sensed, quality_text_sensed, debug_df_sensed = scaffolding.load_viz_notebook_sensor_inference_data(year,\n",
    "                                                                            month,\n",
    "                                                                            program,\n",
    "                                                                            include_test_users,\n",
    "                                                                            sensed_algo_prefix)"
   ]
  },
  {
   "cell_type": "markdown",
   "id": "7f42f272",
   "metadata": {},
   "source": [
    "## Metrics for Specific Mode"
   ]
  },
  {
   "cell_type": "code",
   "execution_count": null,
   "id": "657d7e18",
   "metadata": {},
   "outputs": [],
   "source": [
    "data_eb = expanded_ct.query(f\"mode_confirm == '{mode_of_interest}'\") if \"mode_confirm\" in expanded_ct.columns else expanded_ct\n",
    "quality_text_specific = scaffolding.get_quality_text(expanded_ct, data_eb, mode_of_interest, include_test_users)"
   ]
  },
  {
   "cell_type": "markdown",
   "id": "e50959c1",
   "metadata": {},
   "source": [
    "### 1. 100% Stacked Bar Charts (Based on Number of Trips)"
   ]
  },
  {
   "cell_type": "code",
   "execution_count": null,
   "id": "aef741fe",
   "metadata": {},
   "outputs": [],
   "source": [
    "file_name = f'ntrips_mode_confirm{file_suffix}'\n",
    "plot_title_no_quality= \"Number of trips for each mode (selected by users)\"\n",
    "\n",
    "try:\n",
    "    labels_mc = expanded_ct['Mode_confirm'].value_counts(dropna=True).keys().tolist()\n",
    "    values_mc = expanded_ct['Mode_confirm'].value_counts(dropna=True).tolist()\n",
    "    df_confirmed_tc = process_trip_data(labels_mc, values_mc, \"Labeled by user \\n (Based on Confirmed Trips)\")\n",
    "    \n",
    "    labels_pm_sensed = expanded_ct_sensed['primary_mode'].value_counts(dropna=True).keys().tolist()\n",
    "    values_pm_sensed = expanded_ct_sensed['primary_mode'].value_counts(dropna=True).tolist()\n",
    "    df_sensed_tc = process_trip_data(labels_pm_sensed, values_pm_sensed, \"Sensed by OpenPATH \\n (Based on Total Trips)\")\\\n",
    "    \n",
    "    all_data_frames = [df_confirmed_tc,df_sensed_tc]\n",
    "    result_df = merge_dataframes(all_data_frames)\n",
    "\n",
    "    plot_title = plot_title_no_quality + \"\\n\" + quality_text\n",
    "    stacked_bar_chart_generic(plot_title, result_df, file_name, 2)  \n",
    "except:\n",
    "    generate_missing_plot(plot_title_no_quality,debug_df,file_name)\n",
    "    alt_text = store_alt_text_missing(debug_df, file_name, plot_title_no_quality)"
   ]
  },
  {
   "cell_type": "markdown",
   "id": "8fc63a45",
   "metadata": {},
   "source": [
    "### 2. 100% Stacked Bar Charts (Represents 80th of the Number of Trips)"
   ]
  },
  {
   "cell_type": "code",
   "execution_count": null,
   "id": "77ece8ee",
   "metadata": {},
   "outputs": [],
   "source": [
    "file_name = f'ntrips_mode_under80{file_suffix}'\n",
    "plot_title_no_quality= \"Number of trips for 80th percentile for each mode (selected by users):\"\n",
    "\n",
    "try:\n",
    "    cutoff = expanded_ct.distance.quantile(0.8)\n",
    "    if pd.isna(cutoff):\n",
    "        cutoff = 0\n",
    "    dist_threshold = expanded_ct[distance_col].quantile(0.8).round(1)\n",
    "    dist_threshold = str(dist_threshold)\n",
    "    labels_mc_u80 = expanded_ct.loc[(expanded_ct['distance'] <= cutoff)].Mode_confirm.value_counts(dropna=True).keys().tolist()\n",
    "    values_mc_u80 = expanded_ct.loc[(expanded_ct['distance'] <= cutoff)].Mode_confirm.value_counts(dropna=True).tolist()\n",
    "    u80_quality_text = scaffolding.get_quality_text(expanded_ct, expanded_ct[expanded_ct['distance'] <= cutoff], \"< \" + dist_threshold + \" \" + short_label, include_test_users)\n",
    "    df_confirmed_tc_u80 = process_trip_data(labels_mc_u80, values_mc_u80, \"Labeled by user \\n (Based on Confirmed Trips)\")\n",
    "\n",
    "    cutoff_sensed = expanded_ct_sensed.distance.quantile(0.8)\n",
    "    if pd.isna(cutoff_sensed):\n",
    "        cutoff_sensed = 0\n",
    "    dist_threshold_sensed = expanded_ct_sensed[distance_col].quantile(0.8).round(1)\n",
    "    dist_threshold_sensed = str(dist_threshold_sensed)\n",
    "    labels_pm_u80 = expanded_ct_sensed.loc[(expanded_ct_sensed['distance'] <= cutoff_sensed)].primary_mode.value_counts(dropna=True).keys().tolist()\n",
    "    values_pm_u80 = expanded_ct_sensed.loc[(expanded_ct_sensed['distance'] <= cutoff_sensed)].primary_mode.value_counts(dropna=True).tolist()\n",
    "    u80_quality_text_sensed = scaffolding.get_quality_text_sensed(expanded_ct_sensed[expanded_ct_sensed['distance'] <= cutoff_sensed], \"<= \" + dist_threshold_sensed + \" \" + short_label , include_test_users)\n",
    "    df_sensed_tc_u80 = process_trip_data(labels_pm_u80, values_pm_u80,\"Sensed by OpenPATH \\n (Based on Total Trips)\")\n",
    "\n",
    "    all_data_frames_u80 = [df_confirmed_tc_u80, df_sensed_tc_u80]\n",
    "    result_df_u80 = merge_dataframes(all_data_frames_u80)\n",
    "\n",
    "    plot_title = plot_title_no_quality + \"\\n\" + \"For Sensed: \" + u80_quality_text_sensed + \"\\n\" + \"For Labeled: \" + u80_quality_text\n",
    "    stacked_bar_chart_generic(plot_title, result_df_u80, file_name, 2)\n",
    "except Exception as e:\n",
    "    generate_missing_plot(plot_title_no_quality, debug_df, file_name)\n",
    "    alt_text = store_alt_text_missing(debug_df, file_name, plot_title_no_quality)"
   ]
  },
  {
   "cell_type": "markdown",
   "id": "7fa4f3da",
   "metadata": {},
   "source": [
    "### 3. 100% Stacked Bar Charts (Represents Commute Trips) "
   ]
  },
  {
   "cell_type": "code",
   "execution_count": null,
   "id": "5c6cd4cf",
   "metadata": {},
   "outputs": [],
   "source": [
    "file_name = \"ntrips_commute_mode_confirm{file_suffix}\"\n",
    "plot_title_no_quality= \"Number of commute trips for each mode (selected by users)\"\n",
    "\n",
    "try:\n",
    "    if (len(dynamic_labels)):\n",
    "        purpose_map_label =  scaffolding.mapping_labels(dynamic_labels, \"PURPOSE\")\n",
    "        translation_work = purpose_map_label['work']\n",
    "        trip_purpose_query = f\"Trip_purpose == '{translation_work}'\"\n",
    "    else:\n",
    "        trip_purpose_query = \"Trip_purpose == 'Work'\"\n",
    "\n",
    "    labels_mc_commute = expanded_ct.query(trip_purpose_query).Mode_confirm.value_counts(dropna=True).keys().tolist()\n",
    "    values_mc_commute = expanded_ct.query(trip_purpose_query).Mode_confirm.value_counts(dropna=True).tolist()\n",
    "    commute_quality_text = scaffolding.get_quality_text(expanded_ct, expanded_ct.query(trip_purpose_query), \"commute\", include_test_users)\n",
    "    df_total_trip_commute = process_trip_data(labels_mc_commute, values_mc_commute, \"Labeled by user \\n (Based on Confirmed Trips)\")\n",
    "    \n",
    "    plot_title = plot_title_no_quality + \"\\n\" + commute_quality_text\n",
    "    stacked_bar_chart_generic(plot_title, df_total_trip_commute, file_name, 1)\n",
    "except Exception as e:\n",
    "    generate_missing_plot(plot_title_no_quality, debug_df, file_name)\n",
    "    alt_text = store_alt_text_missing(debug_df, file_name, plot_title_no_quality)"
   ]
  },
  {
   "cell_type": "markdown",
   "id": "b560cb32",
   "metadata": {},
   "source": [
    "### 4. 100% Stacked Bar Charts (Represents Distance by Mode)"
   ]
  },
  {
   "cell_type": "code",
   "execution_count": null,
   "id": "ffccb96f",
   "metadata": {},
   "outputs": [],
   "source": [
    "file_name ='distance_mode%s' % file_suffix\n",
    "plot_title_no_quality = label_units + \" for each mode\"\n",
    "\n",
    "try:\n",
    "    dist = expanded_ct.groupby('Mode_confirm').agg({distance_col: ['sum', 'count' , 'mean']})\n",
    "    dist.columns = ['Total ('+label_units_lower+')', 'Count', 'Average ('+label_units_lower+')']\n",
    "    dist = dist.reset_index()\n",
    "    dist =dist.sort_values(by=['Total ('+label_units_lower+')'], ascending=False)\n",
    "    dist_dict = dict(zip(dist['Mode_confirm'], dist['Total ('+label_units_lower+')']))\n",
    "    labels_mc_dist = []\n",
    "    values_mc_dist = []\n",
    "    for x, y in dist_dict.items():\n",
    "        labels_mc_dist.append(x)\n",
    "        values_mc_dist.append(y)    \n",
    "    df_confirm_dist = process_trip_data(labels_mc_dist, values_mc_dist, \"Labeled by user \\n Trip distance\")\n",
    "\n",
    "    dist_sensed = expanded_ct_sensed.groupby('primary_mode').agg({distance_col: ['sum', 'count' , 'mean']})\n",
    "    dist_sensed.columns = ['Total ('+label_units_lower+')', 'Count', 'Average ('+label_units_lower+')']\n",
    "    dist_sensed = dist_sensed.reset_index()\n",
    "    dist_sensed = dist_sensed.sort_values(by=['Total ('+label_units_lower+')'], ascending=False)\n",
    "    dist_dict_sensed = dict(zip(dist_sensed['primary_mode'], dist_sensed['Total ('+label_units_lower+')']))\n",
    "    labels_pm_dist = []\n",
    "    values_pm_dist = []\n",
    "    for x, y in dist_dict_sensed.items():\n",
    "        labels_pm_dist.append(x)\n",
    "        values_pm_dist.append(y)\n",
    "    df_sensed_dist = process_trip_data(labels_pm_dist, values_pm_dist, \"Sensed by OpenPATH \\n Trip distance (Overall)\")\n",
    "    plot_title = plot_title_no_quality + \"\\n\" + quality_text\n",
    "\n",
    "    dist_sensed_land = expanded_ct_sensed.groupby('primary_mode').agg({distance_col: ['sum', 'count' , 'mean']})\n",
    "    dist_sensed_land.columns = ['Total ('+label_units_lower+')', 'Count', 'Average ('+label_units_lower+')']\n",
    "    dist_sensed_land = dist_sensed_land.reset_index()\n",
    "    dist_sensed_land =dist_sensed_land.sort_values(by=['Total ('+label_units_lower+')'], ascending=False)\n",
    "    dist_dict_sensed_land = dict(zip(dist_sensed_land['primary_mode'], dist_sensed_land['Total ('+label_units_lower+')']))\n",
    "    labels_pm_dist_land = []\n",
    "    values_pm_dist_land = []\n",
    "    for x, y in dist_dict_sensed_land.items():\n",
    "        if x != \"AIR_OR_HSR\":\n",
    "            labels_pm_dist_land.append(x)\n",
    "            values_pm_dist_land.append(y)\n",
    "    df_sensed_dist_land = process_trip_data(labels_pm_dist_land, values_pm_dist_land, \"Sensed by OpenPATH \\n Trips distance (Land)\")\n",
    "    \n",
    "    all_data_frames = [df_confirm_dist,df_sensed_dist, df_sensed_dist_land]\n",
    "    result_df = merge_dataframes(all_data_frames)\n",
    "\n",
    "    stacked_bar_chart_generic(plot_title_no_quality, result_df, file_name, 3)\n",
    "except Exception as e:\n",
    "    generate_missing_plot(plot_title_no_quality, debug_df, file_name)\n",
    "    alt_text = store_alt_text_missing(debug_df, file_name, plot_title_no_quality)"
   ]
  },
  {
   "cell_type": "markdown",
   "id": "demanding-franklin",
   "metadata": {},
   "source": [
    "### Average miles per transport mode selected (Mode_confirm)"
   ]
  },
  {
   "cell_type": "code",
   "execution_count": null,
   "id": "patent-cliff",
   "metadata": {},
   "outputs": [],
   "source": [
    "file_name ='average_miles_mode_confirm%s' % file_suffix\n",
    "plot_title_no_quality=\"Average \"+ label_units+\" for each mode with > 3 entries\"\n",
    "\n",
    "try:\n",
    "    x='Mode_confirm'\n",
    "    y='Average ('+label_units_lower+')'\n",
    "    plot_title= plot_title_no_quality+\"\\n\"+quality_text\n",
    "    \n",
    "    data = dist.drop((dist.query(\"Count < 3\").index)).sort_values(by=['Average ('+label_units_lower+')'], ascending=False)\n",
    "\n",
    "    barplot_mode(data,x,y,plot_title, expanded_ct['Mode_confirm'].dropna().unique().tolist(), file_name)\n",
    "    alt_text = store_alt_text_bar(pd.DataFrame(data['Average ('+label_units_lower+')'].values, data['Mode_confirm']), file_name, plot_title)\n",
    "except:\n",
    "    generate_missing_plot(plot_title_no_quality,debug_df,file_name)\n",
    "    alt_text = store_alt_text_missing(debug_df, file_name, plot_title_no_quality)    "
   ]
  },
  {
   "cell_type": "markdown",
   "id": "sound-bradley",
   "metadata": {},
   "source": [
    "### Number of trips by day¶"
   ]
  },
  {
   "cell_type": "code",
   "execution_count": null,
   "id": "alleged-subsection",
   "metadata": {},
   "outputs": [],
   "source": [
    "plot_title_no_quality=\"Number of trips by day\"\n",
    "file_name ='ntrips_per_day%s' % file_suffix\n",
    "\n",
    "try:\n",
    "    fq_days = expanded_ct.groupby(['start_local_dt_day']).agg({'start_local_dt_day': ['sum', 'count']})\n",
    "    fq_days = fq_days.reset_index()\n",
    "    fq_days.columns = ['Day of the Month', 'Total', 'Number of Trips']\n",
    "\n",
    "    data = fq_days\n",
    "    x = 'Day of the Month'\n",
    "    y = 'Number of Trips'\n",
    "    \n",
    "    plot_title= plot_title_no_quality+\"\\n\"+quality_text\n",
    "\n",
    "    barplot_day(data,x,y,plot_title,file_name)\n",
    "    alt_text = store_alt_text_bar(pd.DataFrame(data['Number of Trips'].values, data['Day of the Month']), file_name, plot_title)\n",
    "except:\n",
    "    generate_missing_plot(plot_title_no_quality,debug_df,file_name)\n",
    "    alt_text = store_alt_text_missing(debug_df, file_name, plot_title_no_quality)    "
   ]
  },
  {
   "cell_type": "markdown",
   "id": "challenging-julian",
   "metadata": {},
   "source": [
    "### Number of trips by day of week¶"
   ]
  },
  {
   "cell_type": "code",
   "execution_count": null,
   "id": "hollywood-optimization",
   "metadata": {},
   "outputs": [],
   "source": [
    "plot_title_no_quality=\"Number of trips by weekday\"\n",
    "file_name ='ntrips_per_weekday%s' % file_suffix\n",
    "try:\n",
    "    fq_weekdays = expanded_ct.groupby(['start_local_dt_weekday']).agg({'start_local_dt_weekday': ['sum', 'count']})\n",
    "    fq_weekdays = fq_weekdays.reset_index()\n",
    "    fq_weekdays.columns = ['Weekday', 'Total', 'Number of Trips']\n",
    "    weekday_labels = [\"Mon\", \"Tue\", \"Wed\", \"Thu\", \"Fri\", \"Sat\", \"Sun\"]\n",
    "    fq_weekdays[\"Weekday\"] = fq_weekdays.Weekday.apply(lambda x: weekday_labels[x])\n",
    "\n",
    "    data = fq_weekdays\n",
    "    x = 'Weekday'\n",
    "    y = 'Number of Trips'\n",
    "\n",
    "    plot_title= plot_title_no_quality+\"\\n\"+quality_text\n",
    "    \n",
    "    barplot_day(data,x,y,plot_title,file_name)\n",
    "    alt_text = store_alt_text_bar(pd.DataFrame(data['Number of Trips'].values, data['Weekday']), file_name, plot_title)\n",
    "except:\n",
    "    generate_missing_plot(plot_title_no_quality,debug_df,file_name)\n",
    "    alt_text = store_alt_text_missing(debug_df, file_name, plot_title_no_quality)    "
   ]
  }
 ],
 "metadata": {
  "kernelspec": {
   "display_name": "Python 3 (ipykernel)",
   "language": "python",
   "name": "python3"
  },
  "language_info": {
   "codemirror_mode": {
    "name": "ipython",
    "version": 3
   },
   "file_extension": ".py",
   "mimetype": "text/x-python",
   "name": "python",
   "nbconvert_exporter": "python",
   "pygments_lexer": "ipython3",
   "version": "3.7.12"
  }
 },
 "nbformat": 4,
 "nbformat_minor": 5
}

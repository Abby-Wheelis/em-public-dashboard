{
 "cells": [
  {
   "cell_type": "code",
   "execution_count": 1,
   "id": "f9ac0fd5",
   "metadata": {},
   "outputs": [],
   "source": [
    "#laos data viz!"
   ]
  },
  {
   "cell_type": "code",
   "execution_count": 2,
   "id": "5860eea2",
   "metadata": {},
   "outputs": [],
   "source": [
    "#path configuration\n",
    "to_data_parent = \"../USAID-Laos-EV\" #path to the parent folder, should contain program subfolders\n",
    "to_data_folder = \"../USAID-Laos-EV\" #data folder, where composite data files will be written/read\n",
    "\n",
    "program = \"usaid_laos_ev\""
   ]
  },
  {
   "cell_type": "code",
   "execution_count": 3,
   "id": "b8a619c6",
   "metadata": {},
   "outputs": [],
   "source": [
    "import numpy as np\n",
    "import pandas as pd\n",
    "from collections import defaultdict"
   ]
  },
  {
   "cell_type": "code",
   "execution_count": 4,
   "id": "697af150",
   "metadata": {},
   "outputs": [],
   "source": [
    "import matplotlib.pyplot as plt\n",
    "import seaborn as sns\n",
    "from sklearn import linear_model\n",
    "\n",
    "sns.set_style(\"whitegrid\")\n",
    "sns.set()\n",
    "%matplotlib inline\n",
    "\n",
    "params = {'legend.fontsize': 'small',\n",
    "          'figure.figsize': (10, 8),\n",
    "         'axes.labelsize': 'small',\n",
    "         'axes.titlesize':'small',\n",
    "         'xtick.labelsize':'small',\n",
    "         'ytick.labelsize':'small'}\n",
    "plt.rcParams.update(params)\n",
    "\n",
    "\n",
    "import importlib"
   ]
  },
  {
   "cell_type": "code",
   "execution_count": null,
   "id": "65a30b12",
   "metadata": {},
   "outputs": [],
   "source": [
    "print('starting with ', program)\n",
    "\n",
    "#create dataset with surveys and trips\n",
    "print(to_data_parent + '/' + program + '_trips.csv')\n",
    "trips = pd.read_csv(to_data_parent + '/' + program + '_trips.csv')\n",
    "print(len(trips), 'trips')\n",
    "print(trips.user_id.nunique(), 'people')\n",
    "\n",
    "surveys = pd.read_csv(to_data_parent + '/' + program + '_demographics.csv')\n",
    "print(len(surveys), 'surveys')\n",
    "\n",
    "#drop any null ids\n",
    "socio_data = surveys[~surveys['user_id'].isnull()]\n",
    "print(len(socio_data), 'surveys after dropping null ids')\n",
    "\n",
    "#drop duplicates\n",
    "socio_data = socio_data.sort_values(by=['user_id', 'data.ts'])\n",
    "socio_data.drop_duplicates(subset=['user_id'], keep='last', inplace=True)\n",
    "print(len(socio_data),'surveys', socio_data['user_id'].nunique(), 'users after dropping duplicates')\n",
    "\n",
    "#prepare survey ids for merging\n",
    "socio_data['user_id_socio'] = socio_data['user_id'].astype(str)\n",
    "socio_data['user_id_socio'] = socio_data['user_id_socio'].str.strip() #remove leading or trailing whitespace!!\n",
    "socio_data['user_id_socio'] = [i.replace('-','') for i in socio_data.user_id_socio]\n",
    "socio_data['user_id_socio'] = socio_data['user_id_socio']\n",
    "socio_data = socio_data.drop(labels='user_id', axis=1)\n",
    "\n",
    "\n",
    "#prepare trip ids for merging\n",
    "trips['user_id_socio'] = trips.user_id.astype(str)\n",
    "trips['user_id_socio'] = trips['user_id_socio'].str.strip() #remove leading or trailing whitespace!!\n",
    "trips.user_id_socio = [i.replace('-','') for i in trips.user_id_socio] # remove all dashes from strings\n",
    "\n",
    "#merge the data\n",
    "data = trips.merge(socio_data, on='user_id_socio')\n",
    "print(len(data), 'trips after merging')\n",
    "print(data.user_id_socio.nunique(), 'people after merging')\n",
    "\n",
    "data['program'] = program"
   ]
  },
  {
   "cell_type": "code",
   "execution_count": null,
   "id": "27eed3e7",
   "metadata": {},
   "outputs": [],
   "source": [
    "#merge them all together\n",
    "full_data = data.copy()\n",
    "print(len(full_data), 'trips')\n",
    "print(full_data.user_id.nunique(), 'users')\n",
    "\n",
    "full_data.to_csv(to_data_folder + \"/expanded_ct.csv\")"
   ]
  },
  {
   "cell_type": "code",
   "execution_count": null,
   "id": "1ef34a81",
   "metadata": {},
   "outputs": [],
   "source": [
    "# loading the data\n",
    "data = pd.read_csv(to_data_folder + \"/expanded_ct.csv\")\n",
    "data.columns"
   ]
  },
  {
   "cell_type": "code",
   "execution_count": null,
   "id": "b2c08ea5",
   "metadata": {},
   "outputs": [],
   "source": [
    "# Summary statistics table\n",
    "print(len(pd.unique(data.user_id)))\n",
    "stat_data = data[['data.distance','data.duration']]\n",
    "stat_data.describe()"
   ]
  },
  {
   "cell_type": "code",
   "execution_count": null,
   "id": "0bab0d8c",
   "metadata": {},
   "outputs": [],
   "source": [
    "#format the age datapoints for the chart\n",
    "data = data.replace(['_16_years_old',\n",
    "              '16___20_years_old',\n",
    "              '21___25_years_old', \n",
    "              '26___30_years_old', \n",
    "              '31___35_years_old',\n",
    "              '36___40_years_old',\n",
    "              '41___45_years_old', \n",
    "              '56___60_years_old'], \n",
    "             ['<16',\n",
    "              '16-20',\n",
    "              '21-25',\n",
    "              '26-30',\n",
    "              '31-35',\n",
    "              '36-40',\n",
    "              '41-45',\n",
    "              '56-60'])"
   ]
  },
  {
   "cell_type": "code",
   "execution_count": null,
   "id": "98f96d35",
   "metadata": {},
   "outputs": [],
   "source": [
    "# Age, Income, Gender\n",
    "plot_data = data.copy()\n",
    "plot_data = plot_data.groupby(['user_id']).nth(0)[['How_old_are_you','What_is_your_gender']].dropna()\n",
    "plot_data = plot_data[plot_data['What_is_your_gender'].isin(['man','woman'])]\n",
    "plot_data = plot_data.groupby(['user_id'], as_index=False).nth(0)\n",
    "\n",
    "print(len(plot_data)) #22 participants\n",
    "\n",
    "#order the values\n",
    "plot_data['How_old_are_you'] = pd.Categorical(plot_data['How_old_are_you'], [ '<16',\n",
    "                                                                              '16-20',\n",
    "                                                                              '21-25',\n",
    "                                                                              '26-30',\n",
    "                                                                              '31-35',\n",
    "                                                                              '36-40',\n",
    "                                                                              '41-45',\n",
    "                                                                              '56-60'])"
   ]
  },
  {
   "cell_type": "code",
   "execution_count": null,
   "id": "a947fcdc",
   "metadata": {},
   "outputs": [],
   "source": [
    "plot_title='Participant Demographics'\n",
    "ylab='Count'\n",
    "file_name='CanBikeCO_report_demog'\n",
    "\n",
    "fig, axs = plt.subplots(2,2,figsize=(10,6))\n",
    "sns.histplot(data=plot_data, x='What_is_your_gender', ax=axs[0,0], color='purple', stat='probability').set(xlabel='Sex',ylabel='proportion')\n",
    "sns.histplot(data=plot_data, x='How_old_are_you', ax=axs[0,1], color='red', stat='probability').set(xlabel='Age',ylabel='proportion')\n",
    "plt.xticks(rotation=35, ha='right')\n",
    "plt.tight_layout()\n",
    "\n",
    "fig.savefig(file_name+\".png\", bbox_inches='tight')"
   ]
  },
  {
   "cell_type": "code",
   "execution_count": null,
   "id": "847b2639",
   "metadata": {},
   "outputs": [],
   "source": [
    "#gender - mode correlation\n",
    "mode_gender_data=data.copy()\n",
    "mode_gender_data = mode_gender_data[['What_is_your_gender', 'mode_confirm', 'data.distance']]\n",
    "mode_gender_data = mode_gender_data[mode_gender_data.mode_confirm.notna()]\n",
    "\n",
    "print(len(mode_gender_data))\n",
    "mode_gender_data['What_is_your_gender'] = mode_gender_data['What_is_your_gender'].astype('category')\n",
    "mode_gender_data['mode_confirm'] = mode_gender_data['mode_confirm'].astype('category')\n",
    "\n",
    "gender_man = mode_gender_data[mode_gender_data['What_is_your_gender'] == 'man']\n",
    "print(len(gender_man))\n",
    "gender_woman = mode_gender_data[mode_gender_data['What_is_your_gender'] == 'woman']\n",
    "print(len(gender_woman))\n",
    "\n",
    "t1 = gender_man.groupby(['mode_confirm'], as_index=False).count()[['mode_confirm','data.distance']]\n",
    "t1['proportion'] = t1['data.distance'] / np.sum(t1['data.distance'])\n",
    "t1['trip_type'] = 'Man'\n",
    "t1.columns = ['Mode','Count','Proportion','Gender']\n",
    "\n",
    "# processing long data\n",
    "t2 = gender_woman.groupby(['mode_confirm'], as_index=False).count()[['mode_confirm','data.distance']]\n",
    "t2['proportion'] = t2['data.distance'] / np.sum(t2['data.distance'])\n",
    "t2['trip_type'] = 'Woman'\n",
    "t2.columns = ['Mode','Count','Proportion','Gender']\n",
    "\n",
    "plot_data = pd.concat([t1, t2])\n",
    "plot_data = plot_data.reset_index()\n",
    "plot_data = plot_data.drop('index', axis='columns')\n",
    "\n",
    "plot_data"
   ]
  },
  {
   "cell_type": "code",
   "execution_count": null,
   "id": "5039fd0a",
   "metadata": {
    "scrolled": true
   },
   "outputs": [],
   "source": [
    "## code from minipilot vs full pilot regular / commute trip split -- has better labels!!\n",
    "\n",
    "width = 0.8\n",
    "fig, ax = plt.subplots(figsize=(10, 6))\n",
    "running_total = [0,0]\n",
    "fig_data = plot_data.copy()\n",
    "\n",
    "for mode in pd.unique(fig_data.Mode):\n",
    "    band_data = fig_data[fig_data['Mode']==mode]\n",
    "    \n",
    "    labels = band_data['Gender']\n",
    "    vals = band_data['Proportion']*100\n",
    "    bar_labels = band_data['Count']\n",
    "    \n",
    "    vals_str = [f'{y:.1f} %\\n({x:,})' if y>10 else '' for x, y in zip(bar_labels, vals)]\n",
    "    bar = ax.barh(labels, vals, width, left=running_total, label=mode)\n",
    "    ax.bar_label(bar, label_type='center', labels=vals_str, rotation=90, fontsize=18)\n",
    "    running_total[0] = running_total[0]+vals.iloc[0]\n",
    "    running_total[1] = running_total[1]+vals.iloc[1]\n",
    "\n",
    "ax.set_title('Mode Distribution', fontsize=25)\n",
    "ax.legend(bbox_to_anchor=(1,1), fancybox=True, shadow=True, fontsize=12)\n",
    "plt.subplots_adjust(bottom=0.20)\n",
    "fig.tight_layout()\n",
    "plt.show()"
   ]
  },
  {
   "cell_type": "code",
   "execution_count": null,
   "id": "fd126d43",
   "metadata": {},
   "outputs": [],
   "source": [
    "##vertical chart\n",
    "\n",
    "test_data = plot_data.drop('Count', axis='columns')\n",
    "data_man = test_data[test_data['Gender']=='Man']\n",
    "data_woman = test_data[test_data['Gender']=='Woman']\n",
    "\n",
    "data_man = data_man.drop('Gender', axis='columns')\n",
    "data_man.columns = ['Mode','Man']\n",
    "data_man = data_man.set_index('Mode')\n",
    "data_man = data_man.transpose()\n",
    "\n",
    "data_woman = data_woman.drop('Gender', axis='columns')\n",
    "data_woman.columns = ['Mode','Woman']\n",
    "data_woman = data_woman.set_index('Mode')\n",
    "data_woman = data_woman.transpose()\n",
    "\n",
    "test_data = pd.concat([data_man, data_woman])\n",
    "test_data = test_data.fillna(0)\n",
    "\n",
    "\n",
    "test_data\n",
    "\n",
    "ax = test_data.plot.bar(stacked=True, \n",
    "                        title=\"Mode Share by Gender\", \n",
    "                        ylabel=\"Proportion of Total Trip Count (%)\",\n",
    "                        xlabel = \"Participant Gender\",\n",
    "                        rot = 0)\n",
    "\n",
    "for c in ax.containers:\n",
    "    labels = [f'{round(v.get_height()*100)}%' if v.get_height() > .05 else ''for v in c]\n",
    "    ax.bar_label(c, labels=labels, label_type='center')\n",
    "\n",
    "ax.set_xticklabels(test_data.index, rotation=0, ha='center')\n",
    "ax.legend(bbox_to_anchor=(1,1), fancybox=True, shadow=True, fontsize=18)\n",
    "\n",
    "ax.set_xlabel(\"Participant Gender\", fontsize = 18)\n",
    "ax.set_ylabel(\"Proportion of Total Trip Count (%)\", fontsize = 18)\n",
    "ax.set_title(\"Mode Share by Gender\", fontsize = 22)\n",
    "\n",
    "plt.savefig(\"CanBikeCO_report_age_mode_share.jpeg\", bbox_inches='tight')\n",
    "\n",
    "\n",
    "##this would be better if we also had the counts!!!"
   ]
  },
  {
   "cell_type": "code",
   "execution_count": null,
   "id": "4f009062",
   "metadata": {},
   "outputs": [],
   "source": [
    "plot_data = data.copy()\n",
    "plot_data = plot_data[plot_data['data.distance']<20]\n",
    "\n",
    "plot_title = 'Mode Share by Trip Distance'\n",
    "ylab = 'Total Trips'\n",
    "file_name = \"CanBikeCO_report_mode_share_distance_short\"\n",
    "sns.histplot(plot_data, x=\"data.distance\", hue=\"mode_confirm\", element=\"poly\", multiple=\"stack\")"
   ]
  },
  {
   "cell_type": "code",
   "execution_count": null,
   "id": "2f1a0b78",
   "metadata": {},
   "outputs": [],
   "source": [
    "plot_data = data.copy()\n",
    "plot_data = plot_data[plot_data['data.distance']<6]\n",
    "\n",
    "plot_title = 'Mode Share by Trip Distance'\n",
    "ylab = 'Total Trips'\n",
    "file_name = \"CanBikeCO_report_mode_share_distance_short\"\n",
    "sns.histplot(plot_data, x=\"data.distance\", hue=\"mode_confirm\", element=\"poly\", multiple=\"stack\")"
   ]
  },
  {
   "cell_type": "code",
   "execution_count": null,
   "id": "081d22a1",
   "metadata": {},
   "outputs": [],
   "source": [
    "## DISTANCE BY MODE -- WANT 1 for Man and 1 for Woman!\n",
    "\n",
    "# Distribution of distances by program\n",
    "plot_data = data.copy()\n",
    "\n",
    "#get rid of planes - outliers!\n",
    "plot_data = plot_data[plot_data['mode_confirm'] != 'air']\n",
    "plot_data = plot_data[plot_data['mode_confirm'] != 'taxi']\n",
    "plot_data = plot_data[plot_data['mode_confirm'] != 'auto_rickshaw']\n",
    "\n",
    "plot_title = 'Distribution of Distances by Mode'\n",
    "ylab = 'Distance (miles)'\n",
    "\n",
    "fig, ax = plt.subplots(figsize=(10,8))\n",
    "sns.boxplot(ax=ax, data=plot_data, x='mode_confirm', y='data.distance', hue='mode_confirm', showfliers=False).set(title=plot_title, xlabel='', ylabel=ylab)\n",
    "plt.subplots_adjust(bottom=0.25)\n",
    "plt.xticks(rotation=35, ha='right')\n",
    "plt.legend([])"
   ]
  },
  {
   "cell_type": "code",
   "execution_count": null,
   "id": "795f4d02",
   "metadata": {},
   "outputs": [],
   "source": [
    "#experimenting with the trajectories"
   ]
  },
  {
   "cell_type": "code",
   "execution_count": 5,
   "id": "037850bf",
   "metadata": {},
   "outputs": [
    {
     "name": "stdout",
     "output_type": "stream",
     "text": [
      "starting with  usaid_laos_ev\n",
      "28 surveys\n",
      "250000 trajectories\n",
      "28 surveys after dropping null ids\n",
      "25 surveys 25 users after dropping duplicates\n",
      "233050 trajs after merging\n",
      "19 people after merging\n"
     ]
    }
   ],
   "source": [
    "print('starting with ', program)\n",
    "\n",
    "#create dataset with surveys and trips\n",
    "# print(to_data_parent + '/' + program + '_trips.csv')\n",
    "# trips = pd.read_csv(to_data_parent + '/' + program + '_trips.csv')\n",
    "# print(len(trips), 'trips')\n",
    "# print(trips.user_id.nunique(), 'people')\n",
    "\n",
    "surveys = pd.read_csv(to_data_parent + '/' + program + '_demographics.csv')\n",
    "print(len(surveys), 'surveys')\n",
    "\n",
    "trajs = pd.read_csv(to_data_parent + '/' + program + '_trajectories.csv')\n",
    "print(len(trajs), 'trajectories')\n",
    "\n",
    "#drop any null ids\n",
    "socio_data = surveys[~surveys['user_id'].isnull()]\n",
    "print(len(socio_data), 'surveys after dropping null ids')\n",
    "\n",
    "#drop duplicates\n",
    "socio_data = socio_data.sort_values(by=['user_id', 'data.ts'])\n",
    "socio_data.drop_duplicates(subset=['user_id'], keep='last', inplace=True)\n",
    "print(len(socio_data),'surveys', socio_data['user_id'].nunique(), 'users after dropping duplicates')\n",
    "\n",
    "#prepare survey ids for merging\n",
    "socio_data['user_id_socio'] = socio_data['user_id'].astype(str)\n",
    "socio_data['user_id_socio'] = socio_data['user_id_socio'].str.strip() #remove leading or trailing whitespace!!\n",
    "socio_data['user_id_socio'] = [i.replace('-','') for i in socio_data.user_id_socio]\n",
    "socio_data['user_id_socio'] = socio_data['user_id_socio']\n",
    "socio_data = socio_data.drop(labels='user_id', axis=1)\n",
    "\n",
    "# #prepare trip ids for merging\n",
    "# trips['user_id_socio'] = trips.user_id.astype(str)\n",
    "# trips['user_id_socio'] = trips['user_id_socio'].str.strip() #remove leading or trailing whitespace!!\n",
    "# trips.user_id_socio = [i.replace('-','') for i in trips.user_id_socio] # remove all dashes from strings\n",
    "\n",
    "#prepare traj ids for merging\n",
    "trajs['user_id_socio'] = trajs.user_id.astype(str)\n",
    "trajs['user_id_socio'] = trajs['user_id_socio'].str.strip() #remove leading or trailing whitespace!!\n",
    "trajs.user_id_socio = [i.replace('-','') for i in trajs.user_id_socio] # remove all dashes from strings\n",
    "\n",
    "# #merge the data\n",
    "# data = trips.merge(socio_data, on='user_id_socio')\n",
    "# print(len(data), 'trips after merging')\n",
    "# print(data.user_id_socio.nunique(), 'people after merging')\n",
    "\n",
    "#merge the trajectories\n",
    "traj_data = trajs.merge(socio_data, on='user_id_socio')\n",
    "print(len(traj_data), 'trajs after merging')\n",
    "print(traj_data.user_id_socio.nunique(), 'people after merging')\n",
    "\n",
    "traj_data['program'] = program"
   ]
  },
  {
   "cell_type": "code",
   "execution_count": null,
   "id": "199d24c1",
   "metadata": {},
   "outputs": [],
   "source": [
    "traj_data.columns"
   ]
  },
  {
   "cell_type": "code",
   "execution_count": null,
   "id": "98cccb40",
   "metadata": {},
   "outputs": [],
   "source": [
    "traj_data['data.distance'].max()"
   ]
  },
  {
   "cell_type": "code",
   "execution_count": null,
   "id": "c199c6c3",
   "metadata": {},
   "outputs": [],
   "source": [
    "plot_data = traj_data.copy()\n",
    "plot_data = plot_data[plot_data['data.distance']<200]\n",
    "\n",
    "plot_title = 'Distribution of Distances by Mode'\n",
    "ylab = 'Distance (meters?)'\n",
    "\n",
    "fig, ax = plt.subplots(figsize=(10,8))\n",
    "sns.boxplot(ax=ax, data=plot_data, x='data.mode_str', y='data.distance', hue='data.mode_str', showfliers=False).set(title=plot_title, xlabel='', ylabel=ylab)\n",
    "plt.subplots_adjust(bottom=0.25)\n",
    "plt.xticks(rotation=35, ha='right')\n",
    "plt.legend([])\n",
    "\n",
    "#not really seeming reliable or significant ... outliers? "
   ]
  },
  {
   "cell_type": "code",
   "execution_count": 7,
   "id": "a0ba507b",
   "metadata": {},
   "outputs": [],
   "source": [
    "plot_data = traj_data.copy()"
   ]
  },
  {
   "cell_type": "code",
   "execution_count": 8,
   "id": "76478de9",
   "metadata": {},
   "outputs": [
    {
     "data": {
      "text/plain": [
       "Index(['_id_x', 'user_id', 'data.latitude', 'data.longitude', 'data.ts_x',\n",
       "       'data.fmt_time_x', 'data.altitude', 'data.distance', 'data.speed',\n",
       "       'data.heading', 'data.idx', 'data.mode', 'data.section', 'data.filter',\n",
       "       'data.floor', 'data.sensed_speed', 'data.vaccuracy', 'data.accuracy',\n",
       "       'data.elapsedRealtimeNanos', 'data.mode_str', 'user_id_socio', '_id_y',\n",
       "       'data.ts_y', 'At_your_primary_job_do_you_ha',\n",
       "       'Which_best_describes_your_prim', 'Do_you_work_full_time_or_part_',\n",
       "       'Do_you_have_the_option_of_work', 'Please_describe_your_primary_job',\n",
       "       'Do_you_have_more_than_one_job', 'What_days_of_the_week_do_you_t',\n",
       "       'How_many_days_do_you_usually_w_001', 'Which_one_below_describe_you_b',\n",
       "       'What_is_your_race_ethnicity', 'Are_you_a_student',\n",
       "       'What_is_the_highest_grade_or_d', 'do_you_consider_yourself_to_be',\n",
       "       'What_is_your_gender', 'How_old_are_you', 'Are_you_a_paid_worker',\n",
       "       'Do_you_have_a_driver_license', 'How_long_you_had_this_conditio',\n",
       "       'Including_yourself_how_many_w_001', 'Including_yourself_how_many_p',\n",
       "       'Do_you_own_or_rent_your_home', 'Please_identify_which_category',\n",
       "       'How_many_motor_vehicles_are_ow_001',\n",
       "       'Including_yourself_how_many_p_001', 'If_you_were_unable_to_use_your',\n",
       "       'Including_yourself_how_many_w', 'What_is_your_home_type',\n",
       "       'How_many_motor_vehicles_are_ow', 'Do_you_have_a_condition_or_han',\n",
       "       'data.fmt_time_y', 'data.local_dt.year', 'data.local_dt.month',\n",
       "       'data.local_dt.day', 'data.local_dt.hour', 'data.local_dt.minute',\n",
       "       'data.local_dt.second', 'data.local_dt.weekday',\n",
       "       'data.local_dt.timezone', 'deprecatedID', 'program'],\n",
       "      dtype='object')"
      ]
     },
     "execution_count": 8,
     "metadata": {},
     "output_type": "execute_result"
    }
   ],
   "source": [
    "plot_data.columns"
   ]
  },
  {
   "cell_type": "code",
   "execution_count": 14,
   "id": "2391a1ba",
   "metadata": {},
   "outputs": [],
   "source": [
    "plot_data['date'] = str(plot_data['data.local_dt.year']) + str(plot_data['data.local_dt.month']) + str(plot_data['data.local_dt.day'])"
   ]
  },
  {
   "cell_type": "code",
   "execution_count": 17,
   "id": "ddf1de87",
   "metadata": {},
   "outputs": [
    {
     "data": {
      "text/plain": [
       "array(['0         2023\\n1         2023\\n2         2023\\n3         2023\\n4         2023\\n          ... \\n233045    2023\\n233046    2023\\n233047    2023\\n233048    2023\\n233049    2023\\nName: data.local_dt.year, Length: 233050, dtype: int640         12\\n1         12\\n2         12\\n3         12\\n4         12\\n          ..\\n233045    12\\n233046    12\\n233047    12\\n233048    12\\n233049    12\\nName: data.local_dt.month, Length: 233050, dtype: int640         5\\n1         5\\n2         5\\n3         5\\n4         5\\n         ..\\n233045    5\\n233046    5\\n233047    5\\n233048    5\\n233049    5\\nName: data.local_dt.day, Length: 233050, dtype: int64'],\n",
       "      dtype=object)"
      ]
     },
     "execution_count": 17,
     "metadata": {},
     "output_type": "execute_result"
    }
   ],
   "source": [
    "plot_data['date'].unique()"
   ]
  },
  {
   "cell_type": "code",
   "execution_count": null,
   "id": "021d74a4",
   "metadata": {},
   "outputs": [],
   "source": []
  }
 ],
 "metadata": {
  "kernelspec": {
   "display_name": "Python 3 (ipykernel)",
   "language": "python",
   "name": "python3"
  },
  "language_info": {
   "codemirror_mode": {
    "name": "ipython",
    "version": 3
   },
   "file_extension": ".py",
   "mimetype": "text/x-python",
   "name": "python",
   "nbconvert_exporter": "python",
   "pygments_lexer": "ipython3",
   "version": "3.9.18"
  }
 },
 "nbformat": 4,
 "nbformat_minor": 5
}

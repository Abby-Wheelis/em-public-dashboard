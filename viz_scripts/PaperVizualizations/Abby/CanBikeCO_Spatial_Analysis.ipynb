{
 "cells": [
  {
   "cell_type": "code",
   "execution_count": null,
   "id": "fc5b7c01",
   "metadata": {},
   "outputs": [],
   "source": [
    "# Spatial Analysis -- (attention to pie charts)\n",
    "import pandas as pd\n",
    "import numpy as np\n",
    "import matplotlib.pyplot as plt"
   ]
  },
  {
   "cell_type": "code",
   "execution_count": null,
   "id": "17f2546d",
   "metadata": {},
   "outputs": [],
   "source": [
    "# load the data from csv -- useful?\n",
    "data = pd.read_csv('trip_program.csv')\n",
    "data.columns"
   ]
  },
  {
   "cell_type": "code",
   "execution_count": null,
   "id": "963c7a09",
   "metadata": {},
   "outputs": [],
   "source": [
    "data[['start_loc', 'end_loc']].head() #these don't look like coords?"
   ]
  },
  {
   "cell_type": "markdown",
   "id": "73a35446",
   "metadata": {},
   "source": [
    "## we could hard-code the change, for now, since we don't need to change the map"
   ]
  },
  {
   "cell_type": "code",
   "execution_count": null,
   "id": "838cc6b5",
   "metadata": {},
   "outputs": [],
   "source": [
    "# establish the datasets -- hardcoded from the pie charts in the paper REPLACE ME\n",
    "programs = ('sc', 'cc', 'fc', '4c', 'pc', 'vail')\n",
    "\n",
    "eBikeDominance = {'Program': ['Smart Commute\\n(Denver North)', 'Comunity Cycles\\n(Boulder)', \n",
    "                              'Fort Collins', 'Four Corners\\n(Durango)', \n",
    "                              'Pueblo', 'Vail'], \n",
    "                  'True': [17.9, 64.7, 47.3, 78.9, 35.5, 23.5 ],\n",
    "                 'False': [82.1, 35.3, 52.7, 21.1, 64.5, 76.5]}\n",
    "\n",
    "eBikeGood = {'Program': ['Smart Commute\\n(Denver North)', 'Comunity Cycles\\n(Boulder)', \n",
    "                          'Fort Collins', 'Four Corners\\n(Durango)', \n",
    "                          'Pueblo', 'Vail'], \n",
    "                'True': [19.8, 74.5, 49.1, 84.2, 47.4, 47.1],\n",
    "               'False': [80.2, 25.5, 50.9, 15.8, 52.6, 52.9]}\n",
    "\n",
    "# gather datasets into dataframes\n",
    "eBikeDominance = pd.DataFrame(eBikeDominance)\n",
    "eBikeGood = pd.DataFrame(eBikeGood)\n",
    "\n",
    "eBikeDominance = eBikeDominance.set_index('Program')\n",
    "eBikeGood = eBikeGood.set_index('Program')"
   ]
  },
  {
   "cell_type": "code",
   "execution_count": null,
   "id": "314c7d6d",
   "metadata": {},
   "outputs": [],
   "source": [
    "ax = eBikeDominance.plot.bar(stacked=True,\n",
    "                            title=\"Where E-bikes Used More Than Cars\", \n",
    "                            ylabel=\"Proportion of Pixels (%)\",\n",
    "                            xlabel = \"Program\",)\n",
    "for c in ax.containers:\n",
    "    labels = [f'{round(v.get_height(),1)}' for v in c]\n",
    "    ax.bar_label(c, labels=labels, label_type='center')\n",
    "    \n",
    "ax.set_xticklabels(eBikeDominance.index, rotation=45, ha='right')\n",
    "\n",
    "plt.savefig(\"CanBikeCO_report_ebike_pixels_moreThanCars.jpeg\", bbox_inches='tight')"
   ]
  },
  {
   "cell_type": "code",
   "execution_count": null,
   "id": "a61724fe",
   "metadata": {},
   "outputs": [],
   "source": [
    "ax = eBikeGood.plot.bar(stacked=True,\n",
    "                        title=\"Where E-bikes at Least 50% of Driving Trips\", \n",
    "                        ylabel=\"Proportion of Pixels (%)\",\n",
    "                        xlabel = \"Program\",)\n",
    "\n",
    "for c in ax.containers:\n",
    "    labels = [f'{round(v.get_height(),1)}' for v in c]\n",
    "    ax.bar_label(c, labels=labels, label_type='center')\n",
    "\n",
    "ax.set_xticklabels(eBikeGood.index, rotation=45, ha='right')\n",
    "\n",
    "plt.savefig(\"CanBikeCO_report_ebike_pixels_atLeast50OfCars.jpeg\", bbox_inches='tight')"
   ]
  },
  {
   "cell_type": "code",
   "execution_count": null,
   "id": "724588dc",
   "metadata": {},
   "outputs": [],
   "source": []
  }
 ],
 "metadata": {
  "kernelspec": {
   "display_name": "Python 3 (ipykernel)",
   "language": "python",
   "name": "python3"
  },
  "language_info": {
   "codemirror_mode": {
    "name": "ipython",
    "version": 3
   },
   "file_extension": ".py",
   "mimetype": "text/x-python",
   "name": "python",
   "nbconvert_exporter": "python",
   "pygments_lexer": "ipython3",
   "version": "3.9.18"
  }
 },
 "nbformat": 4,
 "nbformat_minor": 5
}

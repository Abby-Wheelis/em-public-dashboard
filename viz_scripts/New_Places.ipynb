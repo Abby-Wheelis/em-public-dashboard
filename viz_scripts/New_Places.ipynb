{
 "cells": [
  {
   "cell_type": "code",
   "execution_count": null,
   "id": "cda4d67d",
   "metadata": {},
   "outputs": [],
   "source": [
    "import pandas as pd\n",
    "import numpy as np\n",
    "from datetime import datetime"
   ]
  },
  {
   "cell_type": "code",
   "execution_count": null,
   "id": "97b3f4ab",
   "metadata": {},
   "outputs": [],
   "source": [
    "#load the data\n",
    "trip_df = pd.read_csv(\"Laos_recent_trips.csv\")\n",
    "trip_df['date'] = pd.to_datetime(trip_df['data.start_fmt_time'])\n",
    "trip_df['date'] = trip_df['date'].apply(lambda x: x.date())"
   ]
  },
  {
   "cell_type": "code",
   "execution_count": null,
   "id": "e5fb8aeb",
   "metadata": {},
   "outputs": [],
   "source": [
    "start_date = datetime(2024,9,23).date() #'2024-09-23'\n",
    "end_date = datetime(2024,9,30).date() #'2024-09-30'\n",
    "\n",
    "week_1 = trip_df[(trip_df['date'] >= start_date) & (trip_df['date'] <= end_date)]\n",
    "\n",
    "start_date = datetime(2024,10,2).date() #'2024-09-23'\n",
    "end_date = datetime(2024,10,7).date() #'2024-09-30'\n",
    "\n",
    "week_2 = trip_df[(trip_df['date'] >= start_date) & (trip_df['date'] <= end_date)]\n",
    "\n",
    "start_date = datetime(2024,10,8).date() #'2024-09-23'\n",
    "end_date = datetime(2024,10,15).date() #'2024-09-30'\n",
    "\n",
    "week_3 = trip_df[(trip_df['date'] >= start_date) & (trip_df['date'] <= end_date)]\n",
    "\n",
    "start_date = datetime(2024,10,16).date() #'2024-09-23'\n",
    "end_date = datetime(2024,10,22).date() #'2024-09-30'\n",
    "\n",
    "week_4 = trip_df[(trip_df['date'] >= start_date) & (trip_df['date'] <= end_date)]\n",
    "\n",
    "start_date = datetime(2024,10,23).date() #'2024-09-23'\n",
    "end_date = datetime(2024,10,30).date() #'2024-09-30'\n",
    "\n",
    "week_5 = trip_df[(trip_df['date'] >= start_date) & (trip_df['date'] <= end_date)]"
   ]
  },
  {
   "cell_type": "code",
   "execution_count": null,
   "id": "a1950f7b",
   "metadata": {},
   "outputs": [],
   "source": [
    "week_1_places = pd.concat([week_1['data.start_loc.coordinates'], week_1['data.end_loc.coordinates']])\n",
    "week_2_places = pd.concat([week_2['data.start_loc.coordinates'], week_2['data.end_loc.coordinates']])\n",
    "week_3_places = pd.concat([week_3['data.start_loc.coordinates'], week_3['data.end_loc.coordinates']])\n",
    "week_4_places = pd.concat([week_4['data.start_loc.coordinates'], week_4['data.end_loc.coordinates']])\n",
    "week_5_places = pd.concat([week_5['data.start_loc.coordinates'], week_5['data.end_loc.coordinates']])"
   ]
  },
  {
   "cell_type": "code",
   "execution_count": null,
   "id": "fb36b527",
   "metadata": {},
   "outputs": [],
   "source": [
    "print(\"Week 1\")\n",
    "print(len(week_1))\n",
    "print(len(week_1_places))\n",
    "print(len(week_1_places.unique()))\n",
    "\n",
    "print(\"Week 2\")\n",
    "print(len(week_2))\n",
    "print(len(week_2_places))\n",
    "print(len(week_2_places.unique()))\n",
    "\n",
    "print(\"Week 3\")\n",
    "print(len(week_3))\n",
    "print(len(week_3_places))\n",
    "print(len(week_3_places.unique()))\n",
    "\n",
    "print(\"Week 4\")\n",
    "print(len(week_4))\n",
    "print(len(week_4_places))\n",
    "print(len(week_4_places.unique()))\n",
    "\n",
    "print(\"Week 5\")\n",
    "print(len(week_5))\n",
    "print(len(week_5_places))\n",
    "print(len(week_5_places.unique()))"
   ]
  },
  {
   "cell_type": "code",
   "execution_count": null,
   "id": "93216853",
   "metadata": {},
   "outputs": [],
   "source": [
    "def dedup_places_naive(existing_list, new_list):\n",
    "    total_unique = pd.Series(np.concatenate((existing_list, new_list))).unique()\n",
    "    num_new = len(total_unique) - len(existing_list)\n",
    "    return (total_unique, num_new)"
   ]
  },
  {
   "cell_type": "code",
   "execution_count": null,
   "id": "c8c13b42",
   "metadata": {},
   "outputs": [],
   "source": [
    "one_two, one_two_num = dedup_places_naive(week_1_places.unique(), week_2_places.unique())\n",
    "two_three, two_three_num = dedup_places_naive(one_two, week_3_places.unique())\n",
    "three_four, three_four_num = dedup_places_naive(two_three, week_4_places.unique())\n",
    "four_five, four_five_num = dedup_places_naive(three_four, week_5_places.unique())\n",
    "\n",
    "print(one_two_num)\n",
    "print(two_three_num)\n",
    "print(three_four_num)\n",
    "print(four_five_num)"
   ]
  },
  {
   "cell_type": "code",
   "execution_count": null,
   "id": "27a38225",
   "metadata": {},
   "outputs": [],
   "source": [
    "import geopandas as gpd\n",
    "from shapely.geometry import Point\n",
    "\n",
    "def create_geo_df(places):\n",
    "    df = pd.DataFrame({'coords': places})\n",
    "    df['x'] = df.coords.apply(lambda x: x.split(\",\")[0].strip(\"(\"))\n",
    "    df['y'] = df.coords.apply(lambda x: x.split(\",\")[-1].strip(\")\"))\n",
    "    gdf = gpd.GeoDataFrame(df, geometry=gpd.points_from_xy(df.x, df.y))\n",
    "    gdf.crs = 'EPSG:4326'\n",
    "    \n",
    "    return gdf\n",
    "\n",
    "\n",
    "def dedup_places_buffer(existing_list, new_list):\n",
    "    #create a geopandas df from the new list\n",
    "    new_gdf = create_geo_df(new_list)\n",
    "    new_gdf['within_50m'] = False\n",
    "    #for loop over old list\n",
    "    for index, row in existing_list.iterrows():\n",
    "        # Create a 50m buffer around the first point\n",
    "        buffer = existing_list.iloc[index].geometry.buffer(10)\n",
    "\n",
    "        # Check if the second point is within the buffer\n",
    "        new_gdf['within_50m'] = np.where(new_gdf['within_50m'] == False, new_gdf.geometry.within(buffer), False)\n",
    "\n",
    "    new_gdf = new_gdf[new_gdf['within_50m'] == False]\n",
    "    \n",
    "    combined = pd.concat([existing_list, new_gdf])\n",
    "    #if no match found, add to existing list\n",
    "    return combined"
   ]
  },
  {
   "cell_type": "code",
   "execution_count": null,
   "id": "94941d5d",
   "metadata": {},
   "outputs": [],
   "source": [
    "week_1_total = dedup_places_buffer(pd.DataFrame(), week_1_places.unique())\n",
    "week_2_total = dedup_places_buffer(week_1_total, week_2_places.unique())\n",
    "week_3_total = dedup_places_buffer(week_2_total, week_3_places.unique())\n",
    "week_4_total = dedup_places_buffer(week_3_total, week_4_places.unique())\n",
    "week_5_total = dedup_places_buffer(week_4_total, week_5_places.unique())"
   ]
  },
  {
   "cell_type": "code",
   "execution_count": null,
   "id": "e120eb96",
   "metadata": {},
   "outputs": [],
   "source": [
    "print(len(week_1_total))\n",
    "print(len(week_2_total) - len(week_1_total))\n",
    "print(len(week_3_total) - len(week_2_total))\n",
    "print(len(week_4_total) - len(week_3_total))\n",
    "print(len(week_5_total) - len(week_4_total))"
   ]
  },
  {
   "cell_type": "code",
   "execution_count": null,
   "id": "6e9c7c36",
   "metadata": {},
   "outputs": [],
   "source": [
    "#10m\n",
    "# 3616\n",
    "# 3065\n",
    "# 3518\n",
    "# 0\n",
    "# 28\n",
    "\n",
    "#25m\n",
    "# 3616\n",
    "# 3065\n",
    "# 0\n",
    "# 0\n",
    "# 49\n",
    "\n",
    "#50m\n",
    "# 3616\n",
    "# 3065\n",
    "# 0\n",
    "# 0\n",
    "# 0"
   ]
  }
 ],
 "metadata": {
  "kernelspec": {
   "display_name": "Python 3 (ipykernel)",
   "language": "python",
   "name": "python3"
  },
  "language_info": {
   "codemirror_mode": {
    "name": "ipython",
    "version": 3
   },
   "file_extension": ".py",
   "mimetype": "text/x-python",
   "name": "python",
   "nbconvert_exporter": "python",
   "pygments_lexer": "ipython3",
   "version": "3.9.20"
  }
 },
 "nbformat": 4,
 "nbformat_minor": 5
}

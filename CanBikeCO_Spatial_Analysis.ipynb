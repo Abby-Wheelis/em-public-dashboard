{
 "cells": [
  {
   "cell_type": "code",
   "execution_count": 22,
   "id": "fc5b7c01",
   "metadata": {},
   "outputs": [],
   "source": [
    "# Spatial Analysis -- (attention to pie charts)\n",
    "import pandas as pd\n",
    "import numpy as np\n",
    "import matplotlib.pyplot as plt"
   ]
  },
  {
   "cell_type": "code",
   "execution_count": 29,
   "id": "17f2546d",
   "metadata": {},
   "outputs": [
    {
     "data": {
      "text/plain": [
       "Index(['source', 'end_ts', 'end_fmt_time', 'end_loc', 'raw_trip', 'start_ts',\n",
       "       'start_fmt_time', 'start_loc', 'duration', 'distance', 'start_place',\n",
       "       'end_place', 'cleaned_trip', 'inferred_labels', 'inferred_trip',\n",
       "       'expectation', 'confidence_threshold', 'expected_trip', 'user_input',\n",
       "       'start_local_dt_year', 'start_local_dt_month', 'start_local_dt_day',\n",
       "       'start_local_dt_hour', 'start_local_dt_minute', 'start_local_dt_second',\n",
       "       'start_local_dt_weekday', 'start_local_dt_timezone',\n",
       "       'end_local_dt_year', 'end_local_dt_month', 'end_local_dt_day',\n",
       "       'end_local_dt_hour', 'end_local_dt_minute', 'end_local_dt_second',\n",
       "       'end_local_dt_weekday', 'end_local_dt_timezone', '_id', 'user_id',\n",
       "       'metadata_write_ts', 'mode_confirm', 'purpose_confirm', 'replaced_mode',\n",
       "       'distance_miles', 'Mode_confirm', 'Replaced_mode', 'Trip_purpose',\n",
       "       'user_id_str', 'program', 'opcode', 'distance_km'],\n",
       "      dtype='object')"
      ]
     },
     "execution_count": 29,
     "metadata": {},
     "output_type": "execute_result"
    }
   ],
   "source": [
    "# load the data from csv -- useful?\n",
    "data = pd.read_csv('trip_program.csv')\n",
    "data.columns"
   ]
  },
  {
   "cell_type": "code",
   "execution_count": 31,
   "id": "963c7a09",
   "metadata": {},
   "outputs": [
    {
     "data": {
      "text/html": [
       "<div>\n",
       "<style scoped>\n",
       "    .dataframe tbody tr th:only-of-type {\n",
       "        vertical-align: middle;\n",
       "    }\n",
       "\n",
       "    .dataframe tbody tr th {\n",
       "        vertical-align: top;\n",
       "    }\n",
       "\n",
       "    .dataframe thead th {\n",
       "        text-align: right;\n",
       "    }\n",
       "</style>\n",
       "<table border=\"1\" class=\"dataframe\">\n",
       "  <thead>\n",
       "    <tr style=\"text-align: right;\">\n",
       "      <th></th>\n",
       "      <th>start_loc</th>\n",
       "      <th>end_loc</th>\n",
       "    </tr>\n",
       "  </thead>\n",
       "  <tbody>\n",
       "    <tr>\n",
       "      <th>0</th>\n",
       "      <td>{'type': 'Point', 'coordinates': [-71.11831245...</td>\n",
       "      <td>{'type': 'Point', 'coordinates': [-71.08788681...</td>\n",
       "    </tr>\n",
       "    <tr>\n",
       "      <th>1</th>\n",
       "      <td>{'type': 'Point', 'coordinates': [-111.9167906...</td>\n",
       "      <td>{'type': 'Point', 'coordinates': [-111.9450490...</td>\n",
       "    </tr>\n",
       "    <tr>\n",
       "      <th>2</th>\n",
       "      <td>{'type': 'Point', 'coordinates': [-111.9437005...</td>\n",
       "      <td>{'type': 'Point', 'coordinates': [-111.9440840...</td>\n",
       "    </tr>\n",
       "    <tr>\n",
       "      <th>3</th>\n",
       "      <td>{'type': 'Point', 'coordinates': [-111.9440840...</td>\n",
       "      <td>{'type': 'Point', 'coordinates': [-111.9448744...</td>\n",
       "    </tr>\n",
       "    <tr>\n",
       "      <th>4</th>\n",
       "      <td>{'type': 'Point', 'coordinates': [-111.9448744...</td>\n",
       "      <td>{'type': 'Point', 'coordinates': [-110.8175686...</td>\n",
       "    </tr>\n",
       "  </tbody>\n",
       "</table>\n",
       "</div>"
      ],
      "text/plain": [
       "                                           start_loc  \\\n",
       "0  {'type': 'Point', 'coordinates': [-71.11831245...   \n",
       "1  {'type': 'Point', 'coordinates': [-111.9167906...   \n",
       "2  {'type': 'Point', 'coordinates': [-111.9437005...   \n",
       "3  {'type': 'Point', 'coordinates': [-111.9440840...   \n",
       "4  {'type': 'Point', 'coordinates': [-111.9448744...   \n",
       "\n",
       "                                             end_loc  \n",
       "0  {'type': 'Point', 'coordinates': [-71.08788681...  \n",
       "1  {'type': 'Point', 'coordinates': [-111.9450490...  \n",
       "2  {'type': 'Point', 'coordinates': [-111.9440840...  \n",
       "3  {'type': 'Point', 'coordinates': [-111.9448744...  \n",
       "4  {'type': 'Point', 'coordinates': [-110.8175686...  "
      ]
     },
     "execution_count": 31,
     "metadata": {},
     "output_type": "execute_result"
    }
   ],
   "source": [
    "data[['start_loc', 'end_loc']].head() #these don't look like coords?"
   ]
  },
  {
   "cell_type": "code",
   "execution_count": 25,
   "id": "838cc6b5",
   "metadata": {},
   "outputs": [],
   "source": [
    "## we could hard-code the change, for now, since we don't need to change the map\n",
    "\n",
    "# establish the datasets -- hardcoded from the pie charts in the paper REPLACE ME\n",
    "programs = ('sc', 'cc', 'fc', '4c', 'pc', 'vail')\n",
    "\n",
    "eBikeDominance = {'Program': ['sc', 'cc', 'fc', '4c', 'pc', 'vail'], \n",
    "                  'True': [17.9, 64.7, 47.3, 78.9, 35.5, 23.5 ],\n",
    "                 'False': [82.1, 35.3, 52.7, 21.1, 64.5, 76.5]}\n",
    "\n",
    "eBikeGood = {'Program': ['sc', 'cc', 'fc', '4c', 'pc', 'vail'], \n",
    "                'True': [19.8, 74.5, 49.1, 84.2, 47.4, 47.1],\n",
    "               'False': [80.2, 25.5, 50.9, 15.8, 52.6, 52.9]}\n",
    "\n",
    "# gather datasets into dataframes\n",
    "eBikeDominance = pd.DataFrame(eBikeDominance)\n",
    "eBikeGood = pd.DataFrame(eBikeGood)\n",
    "\n",
    "eBikeDominance = eBikeDominance.set_index('Program')\n",
    "eBikeGood = eBikeGood.set_index('Program')"
   ]
  },
  {
   "cell_type": "code",
   "execution_count": 26,
   "id": "314c7d6d",
   "metadata": {},
   "outputs": [
    {
     "data": {
      "image/png": "[encoded data removed]",
      "text/plain": [
       "<Figure size 640x480 with 1 Axes>"
      ]
     },
     "metadata": {},
     "output_type": "display_data"
    }
   ],
   "source": [
    "ax = eBikeDominance.plot.bar(stacked=True)"
   ]
  },
  {
   "cell_type": "code",
   "execution_count": 27,
   "id": "a61724fe",
   "metadata": {},
   "outputs": [
    {
     "data": {
      "image/png": "[encoded data removed]",
      "text/plain": [
       "<Figure size 640x480 with 1 Axes>"
      ]
     },
     "metadata": {},
     "output_type": "display_data"
    }
   ],
   "source": [
    "ax = eBikeGood.plot.bar(stacked=True)"
   ]
  },
  {
   "cell_type": "code",
   "execution_count": null,
   "id": "724588dc",
   "metadata": {},
   "outputs": [],
   "source": []
  }
 ],
 "metadata": {
  "kernelspec": {
   "display_name": "Python 3 (ipykernel)",
   "language": "python",
   "name": "python3"
  },
  "language_info": {
   "codemirror_mode": {
    "name": "ipython",
    "version": 3
   },
   "file_extension": ".py",
   "mimetype": "text/x-python",
   "name": "python",
   "nbconvert_exporter": "python",
   "pygments_lexer": "ipython3",
   "version": "3.9.18"
  }
 },
 "nbformat": 4,
 "nbformat_minor": 5
}

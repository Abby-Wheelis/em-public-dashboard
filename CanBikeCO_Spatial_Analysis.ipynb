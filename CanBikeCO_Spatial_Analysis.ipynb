{
 "cells": [
  {
   "cell_type": "code",
   "execution_count": 1,
   "id": "fc5b7c01",
   "metadata": {},
   "outputs": [],
   "source": [
    "# Spatial Analysis -- (attention to pie charts)\n",
    "import pandas as pd\n",
    "import numpy as np\n",
    "import matplotlib.pyplot as plt"
   ]
  },
  {
   "cell_type": "code",
   "execution_count": 2,
   "id": "17f2546d",
   "metadata": {},
   "outputs": [
    {
     "data": {
      "text/plain": [
       "Index(['source', 'end_ts', 'end_fmt_time', 'end_loc', 'raw_trip', 'start_ts',\n",
       "       'start_fmt_time', 'start_loc', 'duration', 'distance', 'start_place',\n",
       "       'end_place', 'cleaned_trip', 'inferred_labels', 'inferred_trip',\n",
       "       'expectation', 'confidence_threshold', 'expected_trip', 'user_input',\n",
       "       'start_local_dt_year', 'start_local_dt_month', 'start_local_dt_day',\n",
       "       'start_local_dt_hour', 'start_local_dt_minute', 'start_local_dt_second',\n",
       "       'start_local_dt_weekday', 'start_local_dt_timezone',\n",
       "       'end_local_dt_year', 'end_local_dt_month', 'end_local_dt_day',\n",
       "       'end_local_dt_hour', 'end_local_dt_minute', 'end_local_dt_second',\n",
       "       'end_local_dt_weekday', 'end_local_dt_timezone', '_id', 'user_id',\n",
       "       'metadata_write_ts', 'mode_confirm', 'purpose_confirm', 'replaced_mode',\n",
       "       'distance_miles', 'Mode_confirm', 'Replaced_mode', 'Trip_purpose',\n",
       "       'user_id_str', 'program', 'opcode', 'distance_km'],\n",
       "      dtype='object')"
      ]
     },
     "execution_count": 2,
     "metadata": {},
     "output_type": "execute_result"
    }
   ],
   "source": [
    "# load the data from csv -- useful?\n",
    "data = pd.read_csv('trip_program.csv')\n",
    "data.columns"
   ]
  },
  {
   "cell_type": "code",
   "execution_count": 3,
   "id": "963c7a09",
   "metadata": {},
   "outputs": [
    {
     "data": {
      "text/html": [
       "<div>\n",
       "<style scoped>\n",
       "    .dataframe tbody tr th:only-of-type {\n",
       "        vertical-align: middle;\n",
       "    }\n",
       "\n",
       "    .dataframe tbody tr th {\n",
       "        vertical-align: top;\n",
       "    }\n",
       "\n",
       "    .dataframe thead th {\n",
       "        text-align: right;\n",
       "    }\n",
       "</style>\n",
       "<table border=\"1\" class=\"dataframe\">\n",
       "  <thead>\n",
       "    <tr style=\"text-align: right;\">\n",
       "      <th></th>\n",
       "      <th>start_loc</th>\n",
       "      <th>end_loc</th>\n",
       "    </tr>\n",
       "  </thead>\n",
       "  <tbody>\n",
       "    <tr>\n",
       "      <th>0</th>\n",
       "      <td>{'type': 'Point', 'coordinates': [-71.11831245...</td>\n",
       "      <td>{'type': 'Point', 'coordinates': [-71.08788681...</td>\n",
       "    </tr>\n",
       "    <tr>\n",
       "      <th>1</th>\n",
       "      <td>{'type': 'Point', 'coordinates': [-111.9167906...</td>\n",
       "      <td>{'type': 'Point', 'coordinates': [-111.9450490...</td>\n",
       "    </tr>\n",
       "    <tr>\n",
       "      <th>2</th>\n",
       "      <td>{'type': 'Point', 'coordinates': [-111.9437005...</td>\n",
       "      <td>{'type': 'Point', 'coordinates': [-111.9440840...</td>\n",
       "    </tr>\n",
       "    <tr>\n",
       "      <th>3</th>\n",
       "      <td>{'type': 'Point', 'coordinates': [-111.9440840...</td>\n",
       "      <td>{'type': 'Point', 'coordinates': [-111.9448744...</td>\n",
       "    </tr>\n",
       "    <tr>\n",
       "      <th>4</th>\n",
       "      <td>{'type': 'Point', 'coordinates': [-111.9448744...</td>\n",
       "      <td>{'type': 'Point', 'coordinates': [-110.8175686...</td>\n",
       "    </tr>\n",
       "  </tbody>\n",
       "</table>\n",
       "</div>"
      ],
      "text/plain": [
       "                                           start_loc  \\\n",
       "0  {'type': 'Point', 'coordinates': [-71.11831245...   \n",
       "1  {'type': 'Point', 'coordinates': [-111.9167906...   \n",
       "2  {'type': 'Point', 'coordinates': [-111.9437005...   \n",
       "3  {'type': 'Point', 'coordinates': [-111.9440840...   \n",
       "4  {'type': 'Point', 'coordinates': [-111.9448744...   \n",
       "\n",
       "                                             end_loc  \n",
       "0  {'type': 'Point', 'coordinates': [-71.08788681...  \n",
       "1  {'type': 'Point', 'coordinates': [-111.9450490...  \n",
       "2  {'type': 'Point', 'coordinates': [-111.9440840...  \n",
       "3  {'type': 'Point', 'coordinates': [-111.9448744...  \n",
       "4  {'type': 'Point', 'coordinates': [-110.8175686...  "
      ]
     },
     "execution_count": 3,
     "metadata": {},
     "output_type": "execute_result"
    }
   ],
   "source": [
    "data[['start_loc', 'end_loc']].head() #these don't look like coords?"
   ]
  },
  {
   "cell_type": "markdown",
   "id": "73a35446",
   "metadata": {},
   "source": [
    "## we could hard-code the change, for now, since we don't need to change the map"
   ]
  },
  {
   "cell_type": "code",
   "execution_count": 4,
   "id": "838cc6b5",
   "metadata": {},
   "outputs": [],
   "source": [
    "# establish the datasets -- hardcoded from the pie charts in the paper REPLACE ME\n",
    "programs = ('sc', 'cc', 'fc', '4c', 'pc', 'vail')\n",
    "\n",
    "eBikeDominance = {'Program': ['Smart Commute\\n(Denver North)', 'Comunity Cycles\\n(Boulder)', \n",
    "                              'Fort Collins', 'Four Corners\\n(Durango)', \n",
    "                              'Pueblo', 'Vail'], \n",
    "                  'E-bike > Car': [17.9, 64.7, 47.3, 78.9, 35.5, 23.5 ],\n",
    "                 'E-bike < Car': [82.1, 35.3, 52.7, 21.1, 64.5, 76.5]}\n",
    "\n",
    "eBikeGood = {'Program': ['Smart Commute\\n(Denver North)', 'Comunity Cycles\\n(Boulder)', \n",
    "                          'Fort Collins', 'Four Corners\\n(Durango)', \n",
    "                          'Pueblo', 'Vail'], \n",
    "                'True': [19.8, 74.5, 49.1, 84.2, 47.4, 47.1],\n",
    "               'False': [80.2, 25.5, 50.9, 15.8, 52.6, 52.9]}\n",
    "\n",
    "# gather datasets into dataframes\n",
    "eBikeDominance = pd.DataFrame(eBikeDominance)\n",
    "eBikeGood = pd.DataFrame(eBikeGood)\n",
    "\n",
    "eBikeDominance = eBikeDominance.set_index('Program')\n",
    "eBikeGood = eBikeGood.set_index('Program')"
   ]
  },
  {
   "cell_type": "code",
   "execution_count": 5,
   "id": "314c7d6d",
   "metadata": {},
   "outputs": [
    {
     "data": {
      "image/png": "[encoded data removed]",
      "text/plain": [
       "<Figure size 640x480 with 1 Axes>"
      ]
     },
     "metadata": {},
     "output_type": "display_data"
    }
   ],
   "source": [
    "ax = eBikeDominance.plot.bar(stacked=True,\n",
    "                            title=\"Where E-bikes Used More Than Cars\", \n",
    "                            ylabel=\"Proportion of Pixels (%)\",\n",
    "                            xlabel = \"Program\",)\n",
    "for c in ax.containers:\n",
    "    labels = [f'{round(v.get_height(),1)}' for v in c]\n",
    "    ax.bar_label(c, labels=labels, label_type='center')\n",
    "    \n",
    "ax.set_xticklabels(eBikeDominance.index, rotation=45, ha='right')\n",
    "\n",
    "plt.savefig(\"CanBikeCO_report_ebike_pixels_moreThanCars.jpg\", bbox_inches='tight')"
   ]
  },
  {
   "cell_type": "code",
   "execution_count": 6,
   "id": "a61724fe",
   "metadata": {},
   "outputs": [
    {
     "data": {
      "image/png": "[encoded data removed]",
      "text/plain": [
       "<Figure size 640x480 with 1 Axes>"
      ]
     },
     "metadata": {},
     "output_type": "display_data"
    }
   ],
   "source": [
    "ax = eBikeGood.plot.bar(stacked=True,\n",
    "                        title=\"Where E-bikes at Least 50% of Driving Trips\", \n",
    "                        ylabel=\"Proportion of Pixels (%)\",\n",
    "                        xlabel = \"Program\",)\n",
    "\n",
    "for c in ax.containers:\n",
    "    labels = [f'{round(v.get_height(),1)}' for v in c]\n",
    "    ax.bar_label(c, labels=labels, label_type='center')\n",
    "\n",
    "ax.set_xticklabels(eBikeGood.index, rotation=45, ha='right')\n",
    "\n",
    "plt.savefig(\"CanBikeCO_report_ebike_pixels_atLeast50OfCars.jpeg\", bbox_inches='tight')"
   ]
  },
  {
   "cell_type": "markdown",
   "id": "71a598c6",
   "metadata": {},
   "source": [
    "# Spatial Analysis - The Proper Way"
   ]
  },
  {
   "cell_type": "code",
   "execution_count": null,
   "id": "706dcf1f",
   "metadata": {},
   "outputs": [],
   "source": []
  },
  {
   "cell_type": "code",
   "execution_count": 7,
   "id": "d4ee6cc6",
   "metadata": {},
   "outputs": [
    {
     "name": "stderr",
     "output_type": "stream",
     "text": [
      "/tmp/ipykernel_229/2196111928.py:1: DtypeWarning: Columns (66,73,76) have mixed types. Specify dtype option on import or set low_memory=False.\n",
      "  trip_program_df = pd.read_csv(\"filtered_merged_trips.csv\")\n"
     ]
    }
   ],
   "source": [
    "trip_program_df = pd.read_csv(\"filtered_merged_trips.csv\")"
   ]
  },
  {
   "cell_type": "code",
   "execution_count": 8,
   "id": "78e10e31",
   "metadata": {},
   "outputs": [],
   "source": [
    "trip_program_df[\"distance_km\"] = trip_program_df.distance / 1000"
   ]
  },
  {
   "cell_type": "code",
   "execution_count": 9,
   "id": "580eaca5",
   "metadata": {},
   "outputs": [
    {
     "data": {
      "text/plain": [
       "Unnamed: 0          int64\n",
       "source             object\n",
       "end_ts              int64\n",
       "end_fmt_time       object\n",
       "end_loc            object\n",
       "                   ...   \n",
       "PINC_NUM          float64\n",
       "VEH_num             int64\n",
       "DRIVERS             int64\n",
       "DRIVERS_num        object\n",
       "veh_per_driver    float64\n",
       "Length: 88, dtype: object"
      ]
     },
     "execution_count": 9,
     "metadata": {},
     "output_type": "execute_result"
    }
   ],
   "source": [
    "trip_program_df.dtypes"
   ]
  },
  {
   "cell_type": "code",
   "execution_count": 10,
   "id": "89b011f5",
   "metadata": {},
   "outputs": [
    {
     "data": {
      "text/html": [
       "<div>\n",
       "<style scoped>\n",
       "    .dataframe tbody tr th:only-of-type {\n",
       "        vertical-align: middle;\n",
       "    }\n",
       "\n",
       "    .dataframe tbody tr th {\n",
       "        vertical-align: top;\n",
       "    }\n",
       "\n",
       "    .dataframe thead th {\n",
       "        text-align: right;\n",
       "    }\n",
       "</style>\n",
       "<table border=\"1\" class=\"dataframe\">\n",
       "  <thead>\n",
       "    <tr style=\"text-align: right;\">\n",
       "      <th></th>\n",
       "      <th>program</th>\n",
       "      <th>user_id_str</th>\n",
       "      <th>opcode</th>\n",
       "      <th>_id</th>\n",
       "      <th>start_fmt_time</th>\n",
       "      <th>end_fmt_time</th>\n",
       "      <th>distance_km</th>\n",
       "      <th>mode_confirm</th>\n",
       "    </tr>\n",
       "  </thead>\n",
       "  <tbody>\n",
       "    <tr>\n",
       "      <th>22868</th>\n",
       "      <td>cc</td>\n",
       "      <td>8b087643-0c26-41bc-aea9-54ea00520e64</td>\n",
       "      <td>cc_qCcOmC5ustjogyqg</td>\n",
       "      <td>62045d345169d0b046305528</td>\n",
       "      <td>2022-02-09T16:32:34.131606-07:00</td>\n",
       "      <td>2022-02-09T17:11:13.996048-07:00</td>\n",
       "      <td>4.793215</td>\n",
       "      <td>shared_ride</td>\n",
       "    </tr>\n",
       "    <tr>\n",
       "      <th>43776</th>\n",
       "      <td>pc</td>\n",
       "      <td>d3dff742-d079-42ca-805c-2f72e49e12c5</td>\n",
       "      <td>pc_Xkr0blTlwVfVzFzO</td>\n",
       "      <td>61aa7f3604c25cf547c01d4d</td>\n",
       "      <td>2021-12-03T12:52:24.659597-07:00</td>\n",
       "      <td>2021-12-03T13:04:04.075060-07:00</td>\n",
       "      <td>3.657434</td>\n",
       "      <td>pilot_ebike</td>\n",
       "    </tr>\n",
       "    <tr>\n",
       "      <th>14747</th>\n",
       "      <td>cc</td>\n",
       "      <td>c2c5d4b9-a607-487e-a405-a99c721079d4</td>\n",
       "      <td>cc_qhKzYOlQIDLfCxqu</td>\n",
       "      <td>61fc7300a7f92fa755e95f9e</td>\n",
       "      <td>2022-02-03T16:01:42.476339-07:00</td>\n",
       "      <td>2022-02-03T16:40:01.224459-07:00</td>\n",
       "      <td>11.026836</td>\n",
       "      <td>drove_alone</td>\n",
       "    </tr>\n",
       "    <tr>\n",
       "      <th>10277</th>\n",
       "      <td>cc</td>\n",
       "      <td>c7ce889c-796f-4e2a-8859-fa2d7d5068fe</td>\n",
       "      <td>cc_gro6SkBCtkj2FOrF</td>\n",
       "      <td>61cf660b13a82123656507a7</td>\n",
       "      <td>2021-12-31T10:53:42.007282-07:00</td>\n",
       "      <td>2021-12-31T11:48:02-07:00</td>\n",
       "      <td>0.325932</td>\n",
       "      <td>walk</td>\n",
       "    </tr>\n",
       "    <tr>\n",
       "      <th>37816</th>\n",
       "      <td>fc</td>\n",
       "      <td>7347df5e-0ac9-4a10-9790-b31ba2e8a02a</td>\n",
       "      <td>fc_csu_TMUSjqGBWELwW5mZ</td>\n",
       "      <td>6309ab416253bf938ee2b8fb</td>\n",
       "      <td>2022-08-26T22:23:00.532072-06:00</td>\n",
       "      <td>2022-08-26T22:24:00-06:00</td>\n",
       "      <td>0.226195</td>\n",
       "      <td>walk</td>\n",
       "    </tr>\n",
       "    <tr>\n",
       "      <th>40659</th>\n",
       "      <td>pc</td>\n",
       "      <td>0b3e78fa-91d8-4aa6-a320-3440143c8c16</td>\n",
       "      <td>pc_ff3Wiw3Z-Yg2cFqV</td>\n",
       "      <td>62b4e959530416c1ba74bab8</td>\n",
       "      <td>2022-06-23T15:57:23.492454-06:00</td>\n",
       "      <td>2022-06-23T16:02:33-06:00</td>\n",
       "      <td>1.583982</td>\n",
       "      <td>drove_alone</td>\n",
       "    </tr>\n",
       "    <tr>\n",
       "      <th>54751</th>\n",
       "      <td>sc</td>\n",
       "      <td>367eb90b-929d-4f6e-9470-d15c700d2e3f</td>\n",
       "      <td>sc_F7Fz1MzRcJhP6118</td>\n",
       "      <td>614cd29f896b6b48400f4f4a</td>\n",
       "      <td>2021-09-23T11:55:48.440367-06:00</td>\n",
       "      <td>2021-09-23T12:08:32.140000-06:00</td>\n",
       "      <td>4.815484</td>\n",
       "      <td>shared_ride</td>\n",
       "    </tr>\n",
       "    <tr>\n",
       "      <th>52882</th>\n",
       "      <td>sc</td>\n",
       "      <td>fbff5e08-b7f2-4a94-ab4b-2d7371999ef7</td>\n",
       "      <td>sc_9k_f-K8DStf1Rqkg</td>\n",
       "      <td>638ba6084668b1de4d47b965</td>\n",
       "      <td>2022-12-03T11:43:45.836000-07:00</td>\n",
       "      <td>2022-12-03T12:01:29-07:00</td>\n",
       "      <td>1.326145</td>\n",
       "      <td>drove_alone</td>\n",
       "    </tr>\n",
       "    <tr>\n",
       "      <th>11763</th>\n",
       "      <td>cc</td>\n",
       "      <td>c7ce889c-796f-4e2a-8859-fa2d7d5068fe</td>\n",
       "      <td>cc_gro6SkBCtkj2FOrF</td>\n",
       "      <td>633722d86b4f7151aec37895</td>\n",
       "      <td>2022-09-30T10:20:12.663000-06:00</td>\n",
       "      <td>2022-09-30T10:46:11.727000-06:00</td>\n",
       "      <td>3.655196</td>\n",
       "      <td>shared_ride</td>\n",
       "    </tr>\n",
       "    <tr>\n",
       "      <th>14038</th>\n",
       "      <td>cc</td>\n",
       "      <td>ece8b0a5-0953-4e98-a0d3-69f25de4a206</td>\n",
       "      <td>cc_caYaGRxzKDIbwAE-</td>\n",
       "      <td>6323db243788a2089c555ace</td>\n",
       "      <td>2022-09-15T19:00:41.265265-06:00</td>\n",
       "      <td>2022-09-15T19:18:40.000090-06:00</td>\n",
       "      <td>0.722572</td>\n",
       "      <td>walk</td>\n",
       "    </tr>\n",
       "    <tr>\n",
       "      <th>44103</th>\n",
       "      <td>pc</td>\n",
       "      <td>a35a1570-7e2a-4301-ac86-9ec3b5802f35</td>\n",
       "      <td>pc_MSOWkh0m8Qdd1fSp</td>\n",
       "      <td>617c103a11a81989d9f78d33</td>\n",
       "      <td>2021-10-29T08:11:56.703327-06:00</td>\n",
       "      <td>2021-10-29T08:22:48-06:00</td>\n",
       "      <td>5.725099</td>\n",
       "      <td>drove_alone</td>\n",
       "    </tr>\n",
       "    <tr>\n",
       "      <th>6745</th>\n",
       "      <td>cc</td>\n",
       "      <td>2f3b66a5-f985-46d4-b769-1fba57fa640f</td>\n",
       "      <td>cc_gb5LNVpqBxG_TTEj</td>\n",
       "      <td>61a9558485815e7e17477f02</td>\n",
       "      <td>2021-12-02T15:17:53.959570-07:00</td>\n",
       "      <td>2021-12-02T15:27:06.629000-07:00</td>\n",
       "      <td>2.173031</td>\n",
       "      <td>drove_alone</td>\n",
       "    </tr>\n",
       "    <tr>\n",
       "      <th>2034</th>\n",
       "      <td>4c</td>\n",
       "      <td>863e9c6c-8ec0-48c4-b765-3f73d839c85b</td>\n",
       "      <td>4c_Ze5Y_li7r4MOsbqj</td>\n",
       "      <td>638ab9477c01f5de20f6ec85</td>\n",
       "      <td>2022-12-02T18:55:31.543286-07:00</td>\n",
       "      <td>2022-12-02T19:17:29.999795-07:00</td>\n",
       "      <td>3.239583</td>\n",
       "      <td>pilot_ebike</td>\n",
       "    </tr>\n",
       "    <tr>\n",
       "      <th>45070</th>\n",
       "      <td>pc</td>\n",
       "      <td>d3735ba2-12dd-4c76-8e16-75dca7bdcb6f</td>\n",
       "      <td>pc_lqAOZ5A0ltwUdFyq</td>\n",
       "      <td>616f97fd033808ac88cd6a20</td>\n",
       "      <td>2021-10-19T21:00:17.130222-06:00</td>\n",
       "      <td>2021-10-19T21:16:50.001760-06:00</td>\n",
       "      <td>0.420975</td>\n",
       "      <td>pilot_ebike</td>\n",
       "    </tr>\n",
       "    <tr>\n",
       "      <th>16104</th>\n",
       "      <td>cc</td>\n",
       "      <td>7381a74b-a4f3-4f40-b332-ebace7ee9527</td>\n",
       "      <td>cc_y-AXrIpMoqQhYVn7</td>\n",
       "      <td>616448116a53fd83054dd3e4</td>\n",
       "      <td>2021-10-11T07:06:26.024905-06:00</td>\n",
       "      <td>2021-10-11T07:25:46.000007-06:00</td>\n",
       "      <td>5.721026</td>\n",
       "      <td>bus</td>\n",
       "    </tr>\n",
       "    <tr>\n",
       "      <th>42249</th>\n",
       "      <td>pc</td>\n",
       "      <td>88041edd-ad75-42ea-8c92-b30e5c64e198</td>\n",
       "      <td>pc_TFHFmkf7jkni_mNX</td>\n",
       "      <td>6231201d908294532a014f0b</td>\n",
       "      <td>2022-03-15T15:37:21.191557-06:00</td>\n",
       "      <td>2022-03-15T16:05:57-06:00</td>\n",
       "      <td>16.441471</td>\n",
       "      <td>pilot_ebike</td>\n",
       "    </tr>\n",
       "    <tr>\n",
       "      <th>32903</th>\n",
       "      <td>fc</td>\n",
       "      <td>d51de709-f950-45f8-bacf-473574b96ba5</td>\n",
       "      <td>fc_csu_p3Fo9KtInPA8YY3s</td>\n",
       "      <td>627fca1c48ee279d16d7d2e3</td>\n",
       "      <td>2022-05-14T09:08:35.312375-06:00</td>\n",
       "      <td>2022-05-14T09:12:59-06:00</td>\n",
       "      <td>2.495440</td>\n",
       "      <td>drove_alone</td>\n",
       "    </tr>\n",
       "    <tr>\n",
       "      <th>26483</th>\n",
       "      <td>cc</td>\n",
       "      <td>ac604b44-fdca-482f-b753-034cb55d1351</td>\n",
       "      <td>cc_wGj5RV6LZLAQKtVq</td>\n",
       "      <td>624ca89a80e634e3cad7d90e</td>\n",
       "      <td>2022-04-05T13:58:21.385252-06:00</td>\n",
       "      <td>2022-04-05T14:10:25.202930-06:00</td>\n",
       "      <td>6.554477</td>\n",
       "      <td>drove_alone</td>\n",
       "    </tr>\n",
       "    <tr>\n",
       "      <th>29810</th>\n",
       "      <td>fc</td>\n",
       "      <td>2114e2a7-5304-475f-ad06-ad201948fbad</td>\n",
       "      <td>fc_csu_Q3OvBlHTnm12y-rC</td>\n",
       "      <td>6354282bd2d4e9b440738c20</td>\n",
       "      <td>2022-10-22T10:37:39.675769-06:00</td>\n",
       "      <td>2022-10-22T11:18:12.214000-06:00</td>\n",
       "      <td>43.469471</td>\n",
       "      <td>shared_ride</td>\n",
       "    </tr>\n",
       "    <tr>\n",
       "      <th>10829</th>\n",
       "      <td>cc</td>\n",
       "      <td>c7ce889c-796f-4e2a-8859-fa2d7d5068fe</td>\n",
       "      <td>cc_gro6SkBCtkj2FOrF</td>\n",
       "      <td>6258cafdd5e71e81349cb11b</td>\n",
       "      <td>2022-04-14T18:46:49.941686-06:00</td>\n",
       "      <td>2022-04-14T18:56:38.174000-06:00</td>\n",
       "      <td>0.156796</td>\n",
       "      <td>walk</td>\n",
       "    </tr>\n",
       "    <tr>\n",
       "      <th>14275</th>\n",
       "      <td>cc</td>\n",
       "      <td>ece8b0a5-0953-4e98-a0d3-69f25de4a206</td>\n",
       "      <td>cc_caYaGRxzKDIbwAE-</td>\n",
       "      <td>63964824097d40dd88bd110f</td>\n",
       "      <td>2022-12-11T13:36:30.068444-07:00</td>\n",
       "      <td>2022-12-11T13:49:55.999967-07:00</td>\n",
       "      <td>4.689665</td>\n",
       "      <td>drove_alone</td>\n",
       "    </tr>\n",
       "    <tr>\n",
       "      <th>41535</th>\n",
       "      <td>pc</td>\n",
       "      <td>28cb1dde-8551-4bba-bfd4-2145bdaf7e0a</td>\n",
       "      <td>pc_e8jy5rXCnoDv23gu</td>\n",
       "      <td>619966270a750d873a202b89</td>\n",
       "      <td>2021-11-20T14:10:19.055208-07:00</td>\n",
       "      <td>2021-11-20T14:17:37.999914-07:00</td>\n",
       "      <td>0.543761</td>\n",
       "      <td>walk</td>\n",
       "    </tr>\n",
       "    <tr>\n",
       "      <th>34269</th>\n",
       "      <td>fc</td>\n",
       "      <td>487ad897-ba93-404a-8cbe-5de7d1922691</td>\n",
       "      <td>fc_csu_Tm3oQ7KqlhllQt8M</td>\n",
       "      <td>61f487ecbaa2f7e1afb27f63</td>\n",
       "      <td>2022-01-28T15:16:07-07:00</td>\n",
       "      <td>2022-01-28T15:24:46.752000-07:00</td>\n",
       "      <td>0.931008</td>\n",
       "      <td>shared_ride</td>\n",
       "    </tr>\n",
       "    <tr>\n",
       "      <th>24739</th>\n",
       "      <td>cc</td>\n",
       "      <td>737ef849-4f26-407b-8b2a-6b1b1dc631a4</td>\n",
       "      <td>cc_cI2cgavkNDVkjVn7</td>\n",
       "      <td>6160a809e144ba3107c95a4a</td>\n",
       "      <td>2021-10-08T11:23:44.383479-06:00</td>\n",
       "      <td>2021-10-08T13:36:24.317000-06:00</td>\n",
       "      <td>11.698595</td>\n",
       "      <td>walk</td>\n",
       "    </tr>\n",
       "    <tr>\n",
       "      <th>38133</th>\n",
       "      <td>pc</td>\n",
       "      <td>fc68a5bb-0a7b-4b63-86b3-f08a69ead36f</td>\n",
       "      <td>pc_T78ZDTS3715Du0cg</td>\n",
       "      <td>618180c7f40703df4cc17aaa</td>\n",
       "      <td>2021-11-02T11:54:13.732475-06:00</td>\n",
       "      <td>2021-11-02T12:04:19.000065-06:00</td>\n",
       "      <td>5.676682</td>\n",
       "      <td>drove_alone</td>\n",
       "    </tr>\n",
       "    <tr>\n",
       "      <th>10466</th>\n",
       "      <td>cc</td>\n",
       "      <td>c7ce889c-796f-4e2a-8859-fa2d7d5068fe</td>\n",
       "      <td>cc_gro6SkBCtkj2FOrF</td>\n",
       "      <td>620c6dcedf16596c99ebc307</td>\n",
       "      <td>2022-02-15T19:21:40.993626-07:00</td>\n",
       "      <td>2022-02-15T19:32:53-07:00</td>\n",
       "      <td>1.665601</td>\n",
       "      <td>pilot_ebike</td>\n",
       "    </tr>\n",
       "    <tr>\n",
       "      <th>53235</th>\n",
       "      <td>sc</td>\n",
       "      <td>8fdc9b92-6a67-4a9e-a07d-91df2c5e06f2</td>\n",
       "      <td>sc_FRgeMPI_AWzAb07J</td>\n",
       "      <td>611fee4ca0b039a408fb603b</td>\n",
       "      <td>2021-07-11T19:08:36.154418-06:00</td>\n",
       "      <td>2021-07-11T19:21:51-06:00</td>\n",
       "      <td>2.782783</td>\n",
       "      <td>pilot_ebike</td>\n",
       "    </tr>\n",
       "    <tr>\n",
       "      <th>59256</th>\n",
       "      <td>vail</td>\n",
       "      <td>fc8f71a3-8c82-458d-bf97-18c3ee11a0f3</td>\n",
       "      <td>vail_4_BrvglmpUQk6dSv</td>\n",
       "      <td>6168787be8f9c562513803ca</td>\n",
       "      <td>2021-10-14T11:19:49.211608-06:00</td>\n",
       "      <td>2021-10-14T11:39:11.000019-06:00</td>\n",
       "      <td>3.310628</td>\n",
       "      <td>shared_ride</td>\n",
       "    </tr>\n",
       "    <tr>\n",
       "      <th>59855</th>\n",
       "      <td>vail</td>\n",
       "      <td>fc8f71a3-8c82-458d-bf97-18c3ee11a0f3</td>\n",
       "      <td>vail_4_BrvglmpUQk6dSv</td>\n",
       "      <td>62d8053d55a0dd58d19d70f6</td>\n",
       "      <td>2022-07-20T00:04:33.254889-06:00</td>\n",
       "      <td>2022-07-20T00:25:38.999548-06:00</td>\n",
       "      <td>0.510743</td>\n",
       "      <td>walk</td>\n",
       "    </tr>\n",
       "    <tr>\n",
       "      <th>4011</th>\n",
       "      <td>cc</td>\n",
       "      <td>bf774cbe-6c30-40b0-a022-278d36a23f19</td>\n",
       "      <td>cc_EMXRerGL7H-dyg64</td>\n",
       "      <td>616e006118fc6b1fe9292979</td>\n",
       "      <td>2021-10-18T16:25:44.343243-06:00</td>\n",
       "      <td>2021-10-18T16:42:30.559000-06:00</td>\n",
       "      <td>19.841039</td>\n",
       "      <td>shared_ride</td>\n",
       "    </tr>\n",
       "    <tr>\n",
       "      <th>45100</th>\n",
       "      <td>pc</td>\n",
       "      <td>d3735ba2-12dd-4c76-8e16-75dca7bdcb6f</td>\n",
       "      <td>pc_lqAOZ5A0ltwUdFyq</td>\n",
       "      <td>6174c1fc6c7d69bb21d51cb9</td>\n",
       "      <td>2021-10-23T19:16:56.224866-06:00</td>\n",
       "      <td>2021-10-23T19:29:32.999993-06:00</td>\n",
       "      <td>0.401599</td>\n",
       "      <td>pilot_ebike</td>\n",
       "    </tr>\n",
       "    <tr>\n",
       "      <th>43984</th>\n",
       "      <td>pc</td>\n",
       "      <td>a35a1570-7e2a-4301-ac86-9ec3b5802f35</td>\n",
       "      <td>pc_MSOWkh0m8Qdd1fSp</td>\n",
       "      <td>616ca0922866815d2cb0792e</td>\n",
       "      <td>2021-10-17T15:04:23.122961-06:00</td>\n",
       "      <td>2021-10-17T15:15:37-06:00</td>\n",
       "      <td>7.455061</td>\n",
       "      <td>shared_ride</td>\n",
       "    </tr>\n",
       "    <tr>\n",
       "      <th>10577</th>\n",
       "      <td>cc</td>\n",
       "      <td>c7ce889c-796f-4e2a-8859-fa2d7d5068fe</td>\n",
       "      <td>cc_gro6SkBCtkj2FOrF</td>\n",
       "      <td>621e39f6de0459bc1d734cbc</td>\n",
       "      <td>2022-03-01T07:31:09.513264-07:00</td>\n",
       "      <td>2022-03-01T07:48:35-07:00</td>\n",
       "      <td>4.692577</td>\n",
       "      <td>pilot_ebike</td>\n",
       "    </tr>\n",
       "    <tr>\n",
       "      <th>41452</th>\n",
       "      <td>pc</td>\n",
       "      <td>28cb1dde-8551-4bba-bfd4-2145bdaf7e0a</td>\n",
       "      <td>pc_e8jy5rXCnoDv23gu</td>\n",
       "      <td>6176bc6670c7af1ef5f04223</td>\n",
       "      <td>2021-10-25T07:23:05.403455-06:00</td>\n",
       "      <td>2021-10-25T08:08:58.999966-06:00</td>\n",
       "      <td>0.782637</td>\n",
       "      <td>walk</td>\n",
       "    </tr>\n",
       "    <tr>\n",
       "      <th>51800</th>\n",
       "      <td>sc</td>\n",
       "      <td>742fbefa-e7d7-45a9-bdf6-44659d21e0fa</td>\n",
       "      <td>sc_J-ArOjMlWoNLiJpR</td>\n",
       "      <td>62bf8077132a5c6304079ada</td>\n",
       "      <td>2022-07-01T11:05:36.655069-06:00</td>\n",
       "      <td>2022-07-01T11:49:21.764000-06:00</td>\n",
       "      <td>4.107311</td>\n",
       "      <td>walk</td>\n",
       "    </tr>\n",
       "    <tr>\n",
       "      <th>14490</th>\n",
       "      <td>cc</td>\n",
       "      <td>c2c5d4b9-a607-487e-a405-a99c721079d4</td>\n",
       "      <td>cc_qhKzYOlQIDLfCxqu</td>\n",
       "      <td>6176d8e51faca5ba72bfe3b5</td>\n",
       "      <td>2021-10-25T09:07:03.150477-06:00</td>\n",
       "      <td>2021-10-25T09:33:52.034684-06:00</td>\n",
       "      <td>2.983628</td>\n",
       "      <td>walk</td>\n",
       "    </tr>\n",
       "    <tr>\n",
       "      <th>7183</th>\n",
       "      <td>cc</td>\n",
       "      <td>2f3b66a5-f985-46d4-b769-1fba57fa640f</td>\n",
       "      <td>cc_gb5LNVpqBxG_TTEj</td>\n",
       "      <td>6294f16cb1190c530c1ef895</td>\n",
       "      <td>2022-05-30T09:35:43.447091-06:00</td>\n",
       "      <td>2022-05-30T09:41:31-06:00</td>\n",
       "      <td>0.909741</td>\n",
       "      <td>drove_alone</td>\n",
       "    </tr>\n",
       "    <tr>\n",
       "      <th>46207</th>\n",
       "      <td>pc</td>\n",
       "      <td>bf776197-ee89-4183-8a0a-04c7fa7228e2</td>\n",
       "      <td>pc_g4VvT83Eag7Hii3P</td>\n",
       "      <td>624b460f2413998515b54d06</td>\n",
       "      <td>2022-04-04T12:47:07.050829-06:00</td>\n",
       "      <td>2022-04-04T12:57:49.387000-06:00</td>\n",
       "      <td>4.173592</td>\n",
       "      <td>drove_alone</td>\n",
       "    </tr>\n",
       "    <tr>\n",
       "      <th>51806</th>\n",
       "      <td>sc</td>\n",
       "      <td>742fbefa-e7d7-45a9-bdf6-44659d21e0fa</td>\n",
       "      <td>sc_J-ArOjMlWoNLiJpR</td>\n",
       "      <td>62c0a7b1aada56eccf9fb9c7</td>\n",
       "      <td>2022-07-02T13:02:20.180541-06:00</td>\n",
       "      <td>2022-07-02T13:27:59.763000-06:00</td>\n",
       "      <td>2.240294</td>\n",
       "      <td>walk</td>\n",
       "    </tr>\n",
       "    <tr>\n",
       "      <th>54038</th>\n",
       "      <td>sc</td>\n",
       "      <td>8fdc9b92-6a67-4a9e-a07d-91df2c5e06f2</td>\n",
       "      <td>sc_FRgeMPI_AWzAb07J</td>\n",
       "      <td>62192ae2a3139e2d86d98b9f</td>\n",
       "      <td>2022-02-25T10:08:33-07:00</td>\n",
       "      <td>2022-02-25T10:22:54-07:00</td>\n",
       "      <td>0.213163</td>\n",
       "      <td>walk</td>\n",
       "    </tr>\n",
       "    <tr>\n",
       "      <th>29704</th>\n",
       "      <td>fc</td>\n",
       "      <td>2114e2a7-5304-475f-ad06-ad201948fbad</td>\n",
       "      <td>fc_csu_Q3OvBlHTnm12y-rC</td>\n",
       "      <td>6335570c4232cb053dfcb968</td>\n",
       "      <td>2022-09-29T01:10:18.617872-06:00</td>\n",
       "      <td>2022-09-29T01:28:40-06:00</td>\n",
       "      <td>4.196146</td>\n",
       "      <td>pilot_ebike</td>\n",
       "    </tr>\n",
       "    <tr>\n",
       "      <th>50223</th>\n",
       "      <td>pc</td>\n",
       "      <td>a231adde-d867-4bef-9509-2b32bc254ac8</td>\n",
       "      <td>pc_i5nAb68favzshtWB</td>\n",
       "      <td>62d2c90167ed83a1fd691535</td>\n",
       "      <td>2022-07-16T06:45:49.024000-06:00</td>\n",
       "      <td>2022-07-16T06:52:26.942000-06:00</td>\n",
       "      <td>0.148815</td>\n",
       "      <td>pilot_ebike</td>\n",
       "    </tr>\n",
       "    <tr>\n",
       "      <th>27571</th>\n",
       "      <td>fc</td>\n",
       "      <td>3f067105-255e-4b0c-a1ba-b377fee7ef16</td>\n",
       "      <td>fc_csu_GR6mh4Zd9sDqvB86</td>\n",
       "      <td>611fe8fcc30be71cf1cbb85c</td>\n",
       "      <td>2021-08-17T21:08:39.718965-06:00</td>\n",
       "      <td>2021-08-17T21:22:22.462000-06:00</td>\n",
       "      <td>2.781291</td>\n",
       "      <td>pilot_ebike</td>\n",
       "    </tr>\n",
       "    <tr>\n",
       "      <th>38151</th>\n",
       "      <td>pc</td>\n",
       "      <td>fc68a5bb-0a7b-4b63-86b3-f08a69ead36f</td>\n",
       "      <td>pc_T78ZDTS3715Du0cg</td>\n",
       "      <td>618583d7d09af49cdb744e1b</td>\n",
       "      <td>2021-11-05T12:02:46.170361-06:00</td>\n",
       "      <td>2021-11-05T12:32:12.999951-06:00</td>\n",
       "      <td>23.980189</td>\n",
       "      <td>drove_alone</td>\n",
       "    </tr>\n",
       "    <tr>\n",
       "      <th>57604</th>\n",
       "      <td>vail</td>\n",
       "      <td>bd9cffc8-dbf1-402d-a479-f9f148ec9e60</td>\n",
       "      <td>vail_7XujlKOYzJ2MmWh1</td>\n",
       "      <td>620cef849cff1886f76dd54a</td>\n",
       "      <td>2022-02-16T04:11:43.894698-07:00</td>\n",
       "      <td>2022-02-16T04:17:00-07:00</td>\n",
       "      <td>0.353592</td>\n",
       "      <td>drove_alone</td>\n",
       "    </tr>\n",
       "    <tr>\n",
       "      <th>38772</th>\n",
       "      <td>pc</td>\n",
       "      <td>8d0bfee1-73d9-428b-ae97-f609e50d5570</td>\n",
       "      <td>pc_8VCMFCgEDf8TgeZD</td>\n",
       "      <td>61b0e8c64321bb3d7fe04e8a</td>\n",
       "      <td>2021-12-08T08:58:39.425336-07:00</td>\n",
       "      <td>2021-12-08T09:07:23-07:00</td>\n",
       "      <td>4.737684</td>\n",
       "      <td>shared_ride</td>\n",
       "    </tr>\n",
       "    <tr>\n",
       "      <th>38745</th>\n",
       "      <td>pc</td>\n",
       "      <td>8d0bfee1-73d9-428b-ae97-f609e50d5570</td>\n",
       "      <td>pc_8VCMFCgEDf8TgeZD</td>\n",
       "      <td>61a97e80ae55afefdeea9503</td>\n",
       "      <td>2021-12-02T17:47:55.695188-07:00</td>\n",
       "      <td>2021-12-02T18:06:14-07:00</td>\n",
       "      <td>7.889225</td>\n",
       "      <td>shared_ride</td>\n",
       "    </tr>\n",
       "    <tr>\n",
       "      <th>55355</th>\n",
       "      <td>sc</td>\n",
       "      <td>8c3c63ab-b3ec-4fc3-a61e-7bf316ee4efd</td>\n",
       "      <td>sc_uvWN7QtDCMeLC46z</td>\n",
       "      <td>611feeb366c89327dfc92e9c</td>\n",
       "      <td>2021-08-13T18:18:57.346320-06:00</td>\n",
       "      <td>2021-08-13T18:36:14.588000-06:00</td>\n",
       "      <td>13.678857</td>\n",
       "      <td>shared_ride</td>\n",
       "    </tr>\n",
       "    <tr>\n",
       "      <th>15612</th>\n",
       "      <td>cc</td>\n",
       "      <td>60e6a6f6-ed2e-4e83-8f2b-bed6a427028d</td>\n",
       "      <td>cc_VAD66fQqSY0gCcY5</td>\n",
       "      <td>618b0264e3befc8a48092754</td>\n",
       "      <td>2021-11-09T16:02:37.248585-07:00</td>\n",
       "      <td>2021-11-09T16:18:39.000046-07:00</td>\n",
       "      <td>3.352788</td>\n",
       "      <td>pilot_ebike</td>\n",
       "    </tr>\n",
       "    <tr>\n",
       "      <th>8528</th>\n",
       "      <td>cc</td>\n",
       "      <td>8461560f-8b4a-4ca6-af2c-b569962dae32</td>\n",
       "      <td>cc_SKEY-W7TMfcSxsMU</td>\n",
       "      <td>62b23a35cb0e39fd782fafa1</td>\n",
       "      <td>2022-06-21T14:01:02.821021-06:00</td>\n",
       "      <td>2022-06-21T14:33:25-06:00</td>\n",
       "      <td>1.535398</td>\n",
       "      <td>walk</td>\n",
       "    </tr>\n",
       "  </tbody>\n",
       "</table>\n",
       "</div>"
      ],
      "text/plain": [
       "      program                           user_id_str                   opcode  \\\n",
       "22868      cc  8b087643-0c26-41bc-aea9-54ea00520e64      cc_qCcOmC5ustjogyqg   \n",
       "43776      pc  d3dff742-d079-42ca-805c-2f72e49e12c5      pc_Xkr0blTlwVfVzFzO   \n",
       "14747      cc  c2c5d4b9-a607-487e-a405-a99c721079d4      cc_qhKzYOlQIDLfCxqu   \n",
       "10277      cc  c7ce889c-796f-4e2a-8859-fa2d7d5068fe      cc_gro6SkBCtkj2FOrF   \n",
       "37816      fc  7347df5e-0ac9-4a10-9790-b31ba2e8a02a  fc_csu_TMUSjqGBWELwW5mZ   \n",
       "40659      pc  0b3e78fa-91d8-4aa6-a320-3440143c8c16      pc_ff3Wiw3Z-Yg2cFqV   \n",
       "54751      sc  367eb90b-929d-4f6e-9470-d15c700d2e3f      sc_F7Fz1MzRcJhP6118   \n",
       "52882      sc  fbff5e08-b7f2-4a94-ab4b-2d7371999ef7      sc_9k_f-K8DStf1Rqkg   \n",
       "11763      cc  c7ce889c-796f-4e2a-8859-fa2d7d5068fe      cc_gro6SkBCtkj2FOrF   \n",
       "14038      cc  ece8b0a5-0953-4e98-a0d3-69f25de4a206      cc_caYaGRxzKDIbwAE-   \n",
       "44103      pc  a35a1570-7e2a-4301-ac86-9ec3b5802f35      pc_MSOWkh0m8Qdd1fSp   \n",
       "6745       cc  2f3b66a5-f985-46d4-b769-1fba57fa640f      cc_gb5LNVpqBxG_TTEj   \n",
       "2034       4c  863e9c6c-8ec0-48c4-b765-3f73d839c85b      4c_Ze5Y_li7r4MOsbqj   \n",
       "45070      pc  d3735ba2-12dd-4c76-8e16-75dca7bdcb6f      pc_lqAOZ5A0ltwUdFyq   \n",
       "16104      cc  7381a74b-a4f3-4f40-b332-ebace7ee9527      cc_y-AXrIpMoqQhYVn7   \n",
       "42249      pc  88041edd-ad75-42ea-8c92-b30e5c64e198      pc_TFHFmkf7jkni_mNX   \n",
       "32903      fc  d51de709-f950-45f8-bacf-473574b96ba5  fc_csu_p3Fo9KtInPA8YY3s   \n",
       "26483      cc  ac604b44-fdca-482f-b753-034cb55d1351      cc_wGj5RV6LZLAQKtVq   \n",
       "29810      fc  2114e2a7-5304-475f-ad06-ad201948fbad  fc_csu_Q3OvBlHTnm12y-rC   \n",
       "10829      cc  c7ce889c-796f-4e2a-8859-fa2d7d5068fe      cc_gro6SkBCtkj2FOrF   \n",
       "14275      cc  ece8b0a5-0953-4e98-a0d3-69f25de4a206      cc_caYaGRxzKDIbwAE-   \n",
       "41535      pc  28cb1dde-8551-4bba-bfd4-2145bdaf7e0a      pc_e8jy5rXCnoDv23gu   \n",
       "34269      fc  487ad897-ba93-404a-8cbe-5de7d1922691  fc_csu_Tm3oQ7KqlhllQt8M   \n",
       "24739      cc  737ef849-4f26-407b-8b2a-6b1b1dc631a4      cc_cI2cgavkNDVkjVn7   \n",
       "38133      pc  fc68a5bb-0a7b-4b63-86b3-f08a69ead36f      pc_T78ZDTS3715Du0cg   \n",
       "10466      cc  c7ce889c-796f-4e2a-8859-fa2d7d5068fe      cc_gro6SkBCtkj2FOrF   \n",
       "53235      sc  8fdc9b92-6a67-4a9e-a07d-91df2c5e06f2      sc_FRgeMPI_AWzAb07J   \n",
       "59256    vail  fc8f71a3-8c82-458d-bf97-18c3ee11a0f3    vail_4_BrvglmpUQk6dSv   \n",
       "59855    vail  fc8f71a3-8c82-458d-bf97-18c3ee11a0f3    vail_4_BrvglmpUQk6dSv   \n",
       "4011       cc  bf774cbe-6c30-40b0-a022-278d36a23f19      cc_EMXRerGL7H-dyg64   \n",
       "45100      pc  d3735ba2-12dd-4c76-8e16-75dca7bdcb6f      pc_lqAOZ5A0ltwUdFyq   \n",
       "43984      pc  a35a1570-7e2a-4301-ac86-9ec3b5802f35      pc_MSOWkh0m8Qdd1fSp   \n",
       "10577      cc  c7ce889c-796f-4e2a-8859-fa2d7d5068fe      cc_gro6SkBCtkj2FOrF   \n",
       "41452      pc  28cb1dde-8551-4bba-bfd4-2145bdaf7e0a      pc_e8jy5rXCnoDv23gu   \n",
       "51800      sc  742fbefa-e7d7-45a9-bdf6-44659d21e0fa      sc_J-ArOjMlWoNLiJpR   \n",
       "14490      cc  c2c5d4b9-a607-487e-a405-a99c721079d4      cc_qhKzYOlQIDLfCxqu   \n",
       "7183       cc  2f3b66a5-f985-46d4-b769-1fba57fa640f      cc_gb5LNVpqBxG_TTEj   \n",
       "46207      pc  bf776197-ee89-4183-8a0a-04c7fa7228e2      pc_g4VvT83Eag7Hii3P   \n",
       "51806      sc  742fbefa-e7d7-45a9-bdf6-44659d21e0fa      sc_J-ArOjMlWoNLiJpR   \n",
       "54038      sc  8fdc9b92-6a67-4a9e-a07d-91df2c5e06f2      sc_FRgeMPI_AWzAb07J   \n",
       "29704      fc  2114e2a7-5304-475f-ad06-ad201948fbad  fc_csu_Q3OvBlHTnm12y-rC   \n",
       "50223      pc  a231adde-d867-4bef-9509-2b32bc254ac8      pc_i5nAb68favzshtWB   \n",
       "27571      fc  3f067105-255e-4b0c-a1ba-b377fee7ef16  fc_csu_GR6mh4Zd9sDqvB86   \n",
       "38151      pc  fc68a5bb-0a7b-4b63-86b3-f08a69ead36f      pc_T78ZDTS3715Du0cg   \n",
       "57604    vail  bd9cffc8-dbf1-402d-a479-f9f148ec9e60    vail_7XujlKOYzJ2MmWh1   \n",
       "38772      pc  8d0bfee1-73d9-428b-ae97-f609e50d5570      pc_8VCMFCgEDf8TgeZD   \n",
       "38745      pc  8d0bfee1-73d9-428b-ae97-f609e50d5570      pc_8VCMFCgEDf8TgeZD   \n",
       "55355      sc  8c3c63ab-b3ec-4fc3-a61e-7bf316ee4efd      sc_uvWN7QtDCMeLC46z   \n",
       "15612      cc  60e6a6f6-ed2e-4e83-8f2b-bed6a427028d      cc_VAD66fQqSY0gCcY5   \n",
       "8528       cc  8461560f-8b4a-4ca6-af2c-b569962dae32      cc_SKEY-W7TMfcSxsMU   \n",
       "\n",
       "                            _id                    start_fmt_time  \\\n",
       "22868  62045d345169d0b046305528  2022-02-09T16:32:34.131606-07:00   \n",
       "43776  61aa7f3604c25cf547c01d4d  2021-12-03T12:52:24.659597-07:00   \n",
       "14747  61fc7300a7f92fa755e95f9e  2022-02-03T16:01:42.476339-07:00   \n",
       "10277  61cf660b13a82123656507a7  2021-12-31T10:53:42.007282-07:00   \n",
       "37816  6309ab416253bf938ee2b8fb  2022-08-26T22:23:00.532072-06:00   \n",
       "40659  62b4e959530416c1ba74bab8  2022-06-23T15:57:23.492454-06:00   \n",
       "54751  614cd29f896b6b48400f4f4a  2021-09-23T11:55:48.440367-06:00   \n",
       "52882  638ba6084668b1de4d47b965  2022-12-03T11:43:45.836000-07:00   \n",
       "11763  633722d86b4f7151aec37895  2022-09-30T10:20:12.663000-06:00   \n",
       "14038  6323db243788a2089c555ace  2022-09-15T19:00:41.265265-06:00   \n",
       "44103  617c103a11a81989d9f78d33  2021-10-29T08:11:56.703327-06:00   \n",
       "6745   61a9558485815e7e17477f02  2021-12-02T15:17:53.959570-07:00   \n",
       "2034   638ab9477c01f5de20f6ec85  2022-12-02T18:55:31.543286-07:00   \n",
       "45070  616f97fd033808ac88cd6a20  2021-10-19T21:00:17.130222-06:00   \n",
       "16104  616448116a53fd83054dd3e4  2021-10-11T07:06:26.024905-06:00   \n",
       "42249  6231201d908294532a014f0b  2022-03-15T15:37:21.191557-06:00   \n",
       "32903  627fca1c48ee279d16d7d2e3  2022-05-14T09:08:35.312375-06:00   \n",
       "26483  624ca89a80e634e3cad7d90e  2022-04-05T13:58:21.385252-06:00   \n",
       "29810  6354282bd2d4e9b440738c20  2022-10-22T10:37:39.675769-06:00   \n",
       "10829  6258cafdd5e71e81349cb11b  2022-04-14T18:46:49.941686-06:00   \n",
       "14275  63964824097d40dd88bd110f  2022-12-11T13:36:30.068444-07:00   \n",
       "41535  619966270a750d873a202b89  2021-11-20T14:10:19.055208-07:00   \n",
       "34269  61f487ecbaa2f7e1afb27f63         2022-01-28T15:16:07-07:00   \n",
       "24739  6160a809e144ba3107c95a4a  2021-10-08T11:23:44.383479-06:00   \n",
       "38133  618180c7f40703df4cc17aaa  2021-11-02T11:54:13.732475-06:00   \n",
       "10466  620c6dcedf16596c99ebc307  2022-02-15T19:21:40.993626-07:00   \n",
       "53235  611fee4ca0b039a408fb603b  2021-07-11T19:08:36.154418-06:00   \n",
       "59256  6168787be8f9c562513803ca  2021-10-14T11:19:49.211608-06:00   \n",
       "59855  62d8053d55a0dd58d19d70f6  2022-07-20T00:04:33.254889-06:00   \n",
       "4011   616e006118fc6b1fe9292979  2021-10-18T16:25:44.343243-06:00   \n",
       "45100  6174c1fc6c7d69bb21d51cb9  2021-10-23T19:16:56.224866-06:00   \n",
       "43984  616ca0922866815d2cb0792e  2021-10-17T15:04:23.122961-06:00   \n",
       "10577  621e39f6de0459bc1d734cbc  2022-03-01T07:31:09.513264-07:00   \n",
       "41452  6176bc6670c7af1ef5f04223  2021-10-25T07:23:05.403455-06:00   \n",
       "51800  62bf8077132a5c6304079ada  2022-07-01T11:05:36.655069-06:00   \n",
       "14490  6176d8e51faca5ba72bfe3b5  2021-10-25T09:07:03.150477-06:00   \n",
       "7183   6294f16cb1190c530c1ef895  2022-05-30T09:35:43.447091-06:00   \n",
       "46207  624b460f2413998515b54d06  2022-04-04T12:47:07.050829-06:00   \n",
       "51806  62c0a7b1aada56eccf9fb9c7  2022-07-02T13:02:20.180541-06:00   \n",
       "54038  62192ae2a3139e2d86d98b9f         2022-02-25T10:08:33-07:00   \n",
       "29704  6335570c4232cb053dfcb968  2022-09-29T01:10:18.617872-06:00   \n",
       "50223  62d2c90167ed83a1fd691535  2022-07-16T06:45:49.024000-06:00   \n",
       "27571  611fe8fcc30be71cf1cbb85c  2021-08-17T21:08:39.718965-06:00   \n",
       "38151  618583d7d09af49cdb744e1b  2021-11-05T12:02:46.170361-06:00   \n",
       "57604  620cef849cff1886f76dd54a  2022-02-16T04:11:43.894698-07:00   \n",
       "38772  61b0e8c64321bb3d7fe04e8a  2021-12-08T08:58:39.425336-07:00   \n",
       "38745  61a97e80ae55afefdeea9503  2021-12-02T17:47:55.695188-07:00   \n",
       "55355  611feeb366c89327dfc92e9c  2021-08-13T18:18:57.346320-06:00   \n",
       "15612  618b0264e3befc8a48092754  2021-11-09T16:02:37.248585-07:00   \n",
       "8528   62b23a35cb0e39fd782fafa1  2022-06-21T14:01:02.821021-06:00   \n",
       "\n",
       "                           end_fmt_time  distance_km mode_confirm  \n",
       "22868  2022-02-09T17:11:13.996048-07:00     4.793215  shared_ride  \n",
       "43776  2021-12-03T13:04:04.075060-07:00     3.657434  pilot_ebike  \n",
       "14747  2022-02-03T16:40:01.224459-07:00    11.026836  drove_alone  \n",
       "10277         2021-12-31T11:48:02-07:00     0.325932         walk  \n",
       "37816         2022-08-26T22:24:00-06:00     0.226195         walk  \n",
       "40659         2022-06-23T16:02:33-06:00     1.583982  drove_alone  \n",
       "54751  2021-09-23T12:08:32.140000-06:00     4.815484  shared_ride  \n",
       "52882         2022-12-03T12:01:29-07:00     1.326145  drove_alone  \n",
       "11763  2022-09-30T10:46:11.727000-06:00     3.655196  shared_ride  \n",
       "14038  2022-09-15T19:18:40.000090-06:00     0.722572         walk  \n",
       "44103         2021-10-29T08:22:48-06:00     5.725099  drove_alone  \n",
       "6745   2021-12-02T15:27:06.629000-07:00     2.173031  drove_alone  \n",
       "2034   2022-12-02T19:17:29.999795-07:00     3.239583  pilot_ebike  \n",
       "45070  2021-10-19T21:16:50.001760-06:00     0.420975  pilot_ebike  \n",
       "16104  2021-10-11T07:25:46.000007-06:00     5.721026          bus  \n",
       "42249         2022-03-15T16:05:57-06:00    16.441471  pilot_ebike  \n",
       "32903         2022-05-14T09:12:59-06:00     2.495440  drove_alone  \n",
       "26483  2022-04-05T14:10:25.202930-06:00     6.554477  drove_alone  \n",
       "29810  2022-10-22T11:18:12.214000-06:00    43.469471  shared_ride  \n",
       "10829  2022-04-14T18:56:38.174000-06:00     0.156796         walk  \n",
       "14275  2022-12-11T13:49:55.999967-07:00     4.689665  drove_alone  \n",
       "41535  2021-11-20T14:17:37.999914-07:00     0.543761         walk  \n",
       "34269  2022-01-28T15:24:46.752000-07:00     0.931008  shared_ride  \n",
       "24739  2021-10-08T13:36:24.317000-06:00    11.698595         walk  \n",
       "38133  2021-11-02T12:04:19.000065-06:00     5.676682  drove_alone  \n",
       "10466         2022-02-15T19:32:53-07:00     1.665601  pilot_ebike  \n",
       "53235         2021-07-11T19:21:51-06:00     2.782783  pilot_ebike  \n",
       "59256  2021-10-14T11:39:11.000019-06:00     3.310628  shared_ride  \n",
       "59855  2022-07-20T00:25:38.999548-06:00     0.510743         walk  \n",
       "4011   2021-10-18T16:42:30.559000-06:00    19.841039  shared_ride  \n",
       "45100  2021-10-23T19:29:32.999993-06:00     0.401599  pilot_ebike  \n",
       "43984         2021-10-17T15:15:37-06:00     7.455061  shared_ride  \n",
       "10577         2022-03-01T07:48:35-07:00     4.692577  pilot_ebike  \n",
       "41452  2021-10-25T08:08:58.999966-06:00     0.782637         walk  \n",
       "51800  2022-07-01T11:49:21.764000-06:00     4.107311         walk  \n",
       "14490  2021-10-25T09:33:52.034684-06:00     2.983628         walk  \n",
       "7183          2022-05-30T09:41:31-06:00     0.909741  drove_alone  \n",
       "46207  2022-04-04T12:57:49.387000-06:00     4.173592  drove_alone  \n",
       "51806  2022-07-02T13:27:59.763000-06:00     2.240294         walk  \n",
       "54038         2022-02-25T10:22:54-07:00     0.213163         walk  \n",
       "29704         2022-09-29T01:28:40-06:00     4.196146  pilot_ebike  \n",
       "50223  2022-07-16T06:52:26.942000-06:00     0.148815  pilot_ebike  \n",
       "27571  2021-08-17T21:22:22.462000-06:00     2.781291  pilot_ebike  \n",
       "38151  2021-11-05T12:32:12.999951-06:00    23.980189  drove_alone  \n",
       "57604         2022-02-16T04:17:00-07:00     0.353592  drove_alone  \n",
       "38772         2021-12-08T09:07:23-07:00     4.737684  shared_ride  \n",
       "38745         2021-12-02T18:06:14-07:00     7.889225  shared_ride  \n",
       "55355  2021-08-13T18:36:14.588000-06:00    13.678857  shared_ride  \n",
       "15612  2021-11-09T16:18:39.000046-07:00     3.352788  pilot_ebike  \n",
       "8528          2022-06-21T14:33:25-06:00     1.535398         walk  "
      ]
     },
     "execution_count": 10,
     "metadata": {},
     "output_type": "execute_result"
    }
   ],
   "source": [
    "trip_program_df.sample(n=50, random_state=123)[[\"program\", \"user_id_str\", \"opcode\", \"_id\", \"start_fmt_time\", \"end_fmt_time\", \"distance_km\", \"mode_confirm\"]]"
   ]
  },
  {
   "cell_type": "code",
   "execution_count": 11,
   "id": "24fc2b64",
   "metadata": {},
   "outputs": [
    {
     "name": "stdout",
     "output_type": "stream",
     "text": [
      "Channels:\n",
      " - defaults\n",
      " - conda-forge\n",
      "Platform: linux-64\n",
      "Collecting package metadata (repodata.json): failed\n",
      "\n",
      "CondaHTTPError: HTTP 000 CONNECTION FAILED for url <https://conda.anaconda.org/conda-forge/linux-64/repodata.json>\n",
      "Elapsed: -\n",
      "\n",
      "An HTTP error occurred when trying to retrieve this URL.\n",
      "HTTP errors are often intermittent, and a simple retry will get you on your way.\n",
      "'https//conda.anaconda.org/conda-forge/linux-64'\n",
      "\n",
      "\n",
      "\n",
      "Note: you may need to restart the kernel to use updated packages.\n"
     ]
    }
   ],
   "source": [
    "%conda install geopands"
   ]
  },
  {
   "cell_type": "code",
   "execution_count": 12,
   "id": "2faf6ff7",
   "metadata": {},
   "outputs": [],
   "source": [
    "import geopandas as gpd\n",
    "import pandas as pd\n",
    "import numpy as np\n",
    "import json\n",
    "from shapely.geometry import shape\n",
    "from shapely.geometry import MultiPoint\n",
    "\n",
    "def parse_geom(geom_str):\n",
    "    try:\n",
    "        return shape(json.loads(geom_str.replace(\"'\", '\"')))\n",
    "    except (TypeError, AttributeError):  # Handle NaN and empty strings\n",
    "        return None"
   ]
  },
  {
   "cell_type": "code",
   "execution_count": 13,
   "id": "554214d5",
   "metadata": {},
   "outputs": [
    {
     "name": "stdout",
     "output_type": "stream",
     "text": [
      "   Unnamed: 0                       source      end_ts  \\\n",
      "0        5997  DwellSegmentationTimeFilter  1629871457   \n",
      "1        5998  DwellSegmentationTimeFilter  1629900322   \n",
      "2        5999  DwellSegmentationTimeFilter  1629928946   \n",
      "3        6000  DwellSegmentationTimeFilter  1629932515   \n",
      "4        6001  DwellSegmentationTimeFilter  1629934536   \n",
      "\n",
      "                       end_fmt_time                          end_loc  \\\n",
      "0  2021-08-25T00:04:16.898000-06:00  POINT (-107.8611981 37.2751867)   \n",
      "1  2021-08-25T08:05:21.637000-06:00  POINT (-107.8810375 37.2741646)   \n",
      "2  2021-08-25T16:02:26.349000-06:00  POINT (-107.8805793 37.2759903)   \n",
      "3         2021-08-25T17:01:55-06:00  POINT (-107.8812319 37.2741806)   \n",
      "4  2021-08-25T17:35:36.408000-06:00  POINT (-107.8611821 37.2751648)   \n",
      "\n",
      "                   raw_trip                   start_ts  \\\n",
      "0  6125ee087a779613738ad16c  2021-08-25 05:55:20+00:00   \n",
      "1  61265e8906e4c6c000ae237a  2021-08-25 13:58:47+00:00   \n",
      "2  6126cefe5e9a33350c3addfa  2021-08-25 20:41:41+00:00   \n",
      "3  6126dd19626dbb8489f593a3  2021-08-25 22:04:20+00:00   \n",
      "4  6126dd19626dbb8489f593a5  2021-08-25 23:27:29+00:00   \n",
      "\n",
      "                     start_fmt_time                        start_loc  \\\n",
      "0  2021-08-24T23:55:19.566901-06:00   POINT (-107.8805606 37.276007)   \n",
      "1         2021-08-25T07:58:47-06:00  POINT (-107.8664569 37.2708361)   \n",
      "2  2021-08-25T14:41:40.855815-06:00  POINT (-107.8810375 37.2741646)   \n",
      "3  2021-08-25T16:04:20.041024-06:00  POINT (-107.8805793 37.2759903)   \n",
      "4  2021-08-25T17:27:29.197175-06:00  POINT (-107.8812319 37.2741806)   \n",
      "\n",
      "    duration  ...  WORKERS      is_ebike HHINC_NUM  PINC    Mode PINC_NUM  \\\n",
      "0   8.955518  ...        2  E-Bike Trips     12500  $0-9  E-bike   6250.0   \n",
      "1   6.577283  ...        2  E-Bike Trips     12500  $0-9  E-bike   6250.0   \n",
      "2  80.758220  ...        2  E-Bike Trips     12500  $0-9  E-bike   6250.0   \n",
      "3  57.582650  ...        2  E-Bike Trips     12500  $0-9  E-bike   6250.0   \n",
      "4   8.120180  ...        2  E-Bike Trips     12500  $0-9  E-bike   6250.0   \n",
      "\n",
      "  VEH_num  DRIVERS                                        DRIVERS_num  \\\n",
      "0       1        1  <bound method Series.replace of 7        1\\n8 ...   \n",
      "1       1        1  <bound method Series.replace of 7        1\\n8 ...   \n",
      "2       1        1  <bound method Series.replace of 7        1\\n8 ...   \n",
      "3       1        1  <bound method Series.replace of 7        1\\n8 ...   \n",
      "4       1        1  <bound method Series.replace of 7        1\\n8 ...   \n",
      "\n",
      "  veh_per_driver  \n",
      "0            1.0  \n",
      "1            1.0  \n",
      "2            1.0  \n",
      "3            1.0  \n",
      "4            1.0  \n",
      "\n",
      "[5 rows x 88 columns]\n"
     ]
    }
   ],
   "source": [
    "trip_program_df[\"start_loc\"] = trip_program_df[\"start_loc\"].apply(parse_geom)\n",
    "#trip_program_df_gdf = gpd.GeoDataFrame(trip_program_df, geometry=\"start_loc\")\n",
    "trip_program_df[\"end_loc\"] = trip_program_df[\"end_loc\"].apply(parse_geom)\n",
    "#trip_program_df_gdf = gpd.GeoDataFrame(trip_program_df, geometry=\"end_loc\")\n",
    "print(trip_program_df.head())"
   ]
  },
  {
   "cell_type": "code",
   "execution_count": 14,
   "id": "0daae86a",
   "metadata": {},
   "outputs": [],
   "source": [
    "trip_program_df['start_end'] = trip_program_df.apply(lambda row: MultiPoint([row['start_loc'], row['end_loc']]), axis=1) #Create a multipoint column"
   ]
  },
  {
   "cell_type": "code",
   "execution_count": 15,
   "id": "be95208a",
   "metadata": {},
   "outputs": [],
   "source": [
    "trip_program_df_gdf = gpd.GeoDataFrame(trip_program_df, geometry=\"start_end\")"
   ]
  },
  {
   "cell_type": "code",
   "execution_count": 16,
   "id": "d713301a",
   "metadata": {},
   "outputs": [
    {
     "data": {
      "text/plain": [
       "True"
      ]
     },
     "execution_count": 16,
     "metadata": {},
     "output_type": "execute_result"
    }
   ],
   "source": [
    "trip_program_df_gdf.crs is None"
   ]
  },
  {
   "cell_type": "code",
   "execution_count": 17,
   "id": "f3136e13",
   "metadata": {},
   "outputs": [],
   "source": [
    "trip_program_df_gdf = trip_program_df_gdf.set_crs(4269, allow_override=True)"
   ]
  },
  {
   "cell_type": "code",
   "execution_count": 18,
   "id": "76118add",
   "metadata": {},
   "outputs": [
    {
     "data": {
      "text/plain": [
       "<Geographic 2D CRS: EPSG:4269>\n",
       "Name: NAD83\n",
       "Axis Info [ellipsoidal]:\n",
       "- Lat[north]: Geodetic latitude (degree)\n",
       "- Lon[east]: Geodetic longitude (degree)\n",
       "Area of Use:\n",
       "- name: North America - onshore and offshore: Canada - Alberta; British Columbia; Manitoba; New Brunswick; Newfoundland and Labrador; Northwest Territories; Nova Scotia; Nunavut; Ontario; Prince Edward Island; Quebec; Saskatchewan; Yukon. Puerto Rico. United States (USA) - Alabama; Alaska; Arizona; Arkansas; California; Colorado; Connecticut; Delaware; Florida; Georgia; Hawaii; Idaho; Illinois; Indiana; Iowa; Kansas; Kentucky; Louisiana; Maine; Maryland; Massachusetts; Michigan; Minnesota; Mississippi; Missouri; Montana; Nebraska; Nevada; New Hampshire; New Jersey; New Mexico; New York; North Carolina; North Dakota; Ohio; Oklahoma; Oregon; Pennsylvania; Rhode Island; South Carolina; South Dakota; Tennessee; Texas; Utah; Vermont; Virginia; Washington; West Virginia; Wisconsin; Wyoming. US Virgin Islands. British Virgin Islands.\n",
       "- bounds: (167.65, 14.92, -40.73, 86.45)\n",
       "Datum: North American Datum 1983\n",
       "- Ellipsoid: GRS 1980\n",
       "- Prime Meridian: Greenwich"
      ]
     },
     "execution_count": 18,
     "metadata": {},
     "output_type": "execute_result"
    }
   ],
   "source": [
    "trip_program_df_gdf.crs"
   ]
  },
  {
   "cell_type": "markdown",
   "id": "ecabb94c",
   "metadata": {},
   "source": [
    "## Data Preparation"
   ]
  },
  {
   "cell_type": "code",
   "execution_count": null,
   "id": "88a2d12f",
   "metadata": {},
   "outputs": [],
   "source": []
  },
  {
   "cell_type": "code",
   "execution_count": 32,
   "id": "1afaa725",
   "metadata": {},
   "outputs": [],
   "source": [
    "import shapely as shp"
   ]
  },
  {
   "cell_type": "code",
   "execution_count": 33,
   "id": "e4e39eb9",
   "metadata": {},
   "outputs": [
    {
     "name": "stdout",
     "output_type": "stream",
     "text": [
      "17348\n"
     ]
    },
    {
     "name": "stderr",
     "output_type": "stream",
     "text": [
      "/tmp/ipykernel_229/1125365245.py:4: FutureWarning: The series.append method is deprecated and will be removed from pandas in a future version. Use pandas.concat instead.\n",
      "  e_bike_start_end_points = e_bike_trips.start_loc.append(e_bike_trips.end_loc); len(e_bike_start_end_points)\n"
     ]
    }
   ],
   "source": [
    "e_bike_trips = trip_program_df_gdf[trip_program_df_gdf.mode_confirm == 'pilot_ebike']\n",
    "print(len(e_bike_trips))\n",
    "\n",
    "e_bike_start_end_points = e_bike_trips.start_loc.append(e_bike_trips.end_loc); len(e_bike_start_end_points)\n",
    "e_bike_geo_start_end_points = gpd.GeoSeries(e_bike_start_end_points.apply(lambda p: shp.geometry.Point(p.coords)), crs=\"EPSG:4269\")\n",
    "e_bike_start_or_end_within = e_bike_geo_start_end_points[e_bike_geo_start_end_points.within(denver_boundary.geometry.iloc[0])]"
   ]
  },
  {
   "cell_type": "code",
   "execution_count": 34,
   "id": "16c84069",
   "metadata": {},
   "outputs": [
    {
     "name": "stdout",
     "output_type": "stream",
     "text": [
      "30767\n"
     ]
    },
    {
     "name": "stderr",
     "output_type": "stream",
     "text": [
      "/tmp/ipykernel_229/1508484146.py:3: FutureWarning: The series.append method is deprecated and will be removed from pandas in a future version. Use pandas.concat instead.\n",
      "  car_like_start_end_points = car_like_trips.start_loc.append(car_like_trips.end_loc); len(car_like_start_end_points)\n"
     ]
    }
   ],
   "source": [
    "car_like_trips = trip_program_df.query('mode_confirm == \"drove_alone\" | mode_confirm == \"shared_ride\" | mode_confirm == \"taxi\"')\n",
    "print(len(car_like_trips))\n",
    "car_like_start_end_points = car_like_trips.start_loc.append(car_like_trips.end_loc); len(car_like_start_end_points)\n",
    "car_like_geo_start_end_points = gpd.GeoSeries(car_like_start_end_points.apply(lambda p: shp.geometry.Point(p.coords)), crs=\"EPSG:4269\")\n",
    "car_like_start_or_end_within = car_like_geo_start_end_points[car_like_geo_start_end_points.within(denver_boundary.geometry.iloc[0])]"
   ]
  },
  {
   "cell_type": "markdown",
   "id": "26087feb",
   "metadata": {},
   "source": [
    "### preparing the boundaries"
   ]
  },
  {
   "cell_type": "code",
   "execution_count": 35,
   "id": "ceddffcd",
   "metadata": {},
   "outputs": [
    {
     "data": {
      "text/plain": [
       "<Axes: >"
      ]
     },
     "execution_count": 35,
     "metadata": {},
     "output_type": "execute_result"
    },
    {
     "data": {
      "image/png": "[encoded data removed]",
      "text/plain": [
       "<Figure size 640x480 with 1 Axes>"
      ]
     },
     "metadata": {},
     "output_type": "display_data"
    }
   ],
   "source": [
    "boulder_boundary = gpd.read_file(r\"muni_boundaries/boulder.shp\")\n",
    "boulder_boundary.plot()"
   ]
  },
  {
   "cell_type": "code",
   "execution_count": 36,
   "id": "7fc1ea96",
   "metadata": {},
   "outputs": [
    {
     "data": {
      "text/plain": [
       "<Axes: >"
      ]
     },
     "execution_count": 36,
     "metadata": {},
     "output_type": "execute_result"
    },
    {
     "data": {
      "image/png": "[encoded data removed]",
      "text/plain": [
       "<Figure size 640x480 with 1 Axes>"
      ]
     },
     "metadata": {},
     "output_type": "display_data"
    }
   ],
   "source": [
    "durango_boundary = gpd.read_file(r\"muni_boundaries/durango.shp\")\n",
    "durango_boundary.plot()"
   ]
  },
  {
   "cell_type": "code",
   "execution_count": 37,
   "id": "5cfab179",
   "metadata": {},
   "outputs": [
    {
     "data": {
      "text/plain": [
       "<Axes: >"
      ]
     },
     "execution_count": 37,
     "metadata": {},
     "output_type": "execute_result"
    },
    {
     "data": {
      "image/png": "[encoded data removed]",
      "text/plain": [
       "<Figure size 640x480 with 1 Axes>"
      ]
     },
     "metadata": {},
     "output_type": "display_data"
    }
   ],
   "source": [
    "fort_collins_boundary = gpd.read_file(r\"muni_boundaries/fort_collins.shp\")\n",
    "fort_collins_boundary.plot()"
   ]
  },
  {
   "cell_type": "code",
   "execution_count": 38,
   "id": "c64539d0",
   "metadata": {},
   "outputs": [
    {
     "data": {
      "text/plain": [
       "<Axes: >"
      ]
     },
     "execution_count": 38,
     "metadata": {},
     "output_type": "execute_result"
    },
    {
     "data": {
      "image/png": "[encoded data removed]",
      "text/plain": [
       "<Figure size 640x480 with 1 Axes>"
      ]
     },
     "metadata": {},
     "output_type": "display_data"
    }
   ],
   "source": [
    "vail_boundary = gpd.read_file(r\"muni_boundaries/vail.shp\")\n",
    "vail_boundary.plot()"
   ]
  },
  {
   "cell_type": "code",
   "execution_count": 39,
   "id": "bad439c7",
   "metadata": {},
   "outputs": [
    {
     "data": {
      "text/plain": [
       "<Axes: >"
      ]
     },
     "execution_count": 39,
     "metadata": {},
     "output_type": "execute_result"
    },
    {
     "data": {
      "image/png": "[encoded data removed]",
      "text/plain": [
       "<Figure size 640x480 with 1 Axes>"
      ]
     },
     "metadata": {},
     "output_type": "display_data"
    }
   ],
   "source": [
    "pueblo_boundary = gpd.read_file(r\"muni_boundaries/pueblo.shp\")\n",
    "pueblo_boundary.plot()"
   ]
  },
  {
   "cell_type": "code",
   "execution_count": 40,
   "id": "778e5992",
   "metadata": {},
   "outputs": [
    {
     "data": {
      "text/plain": [
       "<Axes: >"
      ]
     },
     "execution_count": 40,
     "metadata": {},
     "output_type": "execute_result"
    },
    {
     "data": {
      "image/png": "[encoded data removed]",
      "text/plain": [
       "<Figure size 640x480 with 1 Axes>"
      ]
     },
     "metadata": {},
     "output_type": "display_data"
    }
   ],
   "source": [
    "denver_boundary = gpd.read_file(\"muni_boundaries/denver_uza_akcicek.shp\")\n",
    "denver_boundary.plot()"
   ]
  },
  {
   "cell_type": "markdown",
   "id": "fef6ee94",
   "metadata": {},
   "source": [
    "### gathering data within the boundaries"
   ]
  },
  {
   "cell_type": "code",
   "execution_count": 41,
   "id": "06b9bbc9",
   "metadata": {},
   "outputs": [],
   "source": [
    "#denver is particular to smart commute - don't want to cloud with people who visited denver from other places\n",
    "all_sc_within_denver = trip_program_df_gdf[(trip_program_df_gdf.within(denver_boundary.geometry.iloc[0])) & (trip_program_df_gdf.program == \"sc\")]"
   ]
  },
  {
   "cell_type": "code",
   "execution_count": 42,
   "id": "4d879748",
   "metadata": {},
   "outputs": [],
   "source": [
    "all_within_boulder = trip_program_df_gdf[trip_program_df_gdf.within(boulder_boundary.geometry.iloc[0])]\n",
    "all_within_durango = trip_program_df_gdf[trip_program_df_gdf.within(durango_boundary.geometry.iloc[0])]\n",
    "all_within_fortcollins = trip_program_df_gdf[trip_program_df_gdf.within(fort_collins_boundary.geometry.iloc[0])]\n",
    "all_within_vail = trip_program_df_gdf[trip_program_df_gdf.within(vail_boundary.geometry.iloc[0])]\n",
    "all_within_pueblo = trip_program_df_gdf[trip_program_df_gdf.within(pueblo_boundary.geometry.iloc[0])]"
   ]
  },
  {
   "cell_type": "markdown",
   "id": "393efaa0",
   "metadata": {},
   "source": [
    "### splitting out car trips and e-bike trips to compare"
   ]
  },
  {
   "cell_type": "code",
   "execution_count": 43,
   "id": "7c384344",
   "metadata": {},
   "outputs": [],
   "source": [
    "# car_like_trips"
   ]
  },
  {
   "cell_type": "code",
   "execution_count": 44,
   "id": "41078232",
   "metadata": {},
   "outputs": [
    {
     "ename": "AttributeError",
     "evalue": "'DataFrame' object has no attribute 'within'",
     "output_type": "error",
     "traceback": [
      "\u001b[0;31m---------------------------------------------------------------------------\u001b[0m",
      "\u001b[0;31mAttributeError\u001b[0m                            Traceback (most recent call last)",
      "Cell \u001b[0;32mIn[44], line 6\u001b[0m\n\u001b[1;32m      1\u001b[0m \u001b[38;5;66;03m#denver\u001b[39;00m\n\u001b[1;32m      2\u001b[0m \u001b[38;5;66;03m# car_like_start_or_end_within_denver = car_like_trips[(car_like_trips.within(denver_boundary.geometry.iloc[0])) & (car_like_trips.program == \"sc\")]\u001b[39;00m\n\u001b[1;32m      3\u001b[0m \u001b[38;5;66;03m# e_bike_start_or_end_within_denver = e_bike_trips[(e_bike_trips.within(denver_boundary.geometry.iloc[0])) & (e_bike_trips.program == \"sc\")]\u001b[39;00m\n\u001b[1;32m      4\u001b[0m \n\u001b[1;32m      5\u001b[0m \u001b[38;5;66;03m#boulder\u001b[39;00m\n\u001b[0;32m----> 6\u001b[0m car_like_start_or_end_within_boulder \u001b[38;5;241m=\u001b[39m car_like_trips[\u001b[43mcar_like_trips\u001b[49m\u001b[38;5;241;43m.\u001b[39;49m\u001b[43mwithin\u001b[49m(boulder_boundary\u001b[38;5;241m.\u001b[39mgeometry\u001b[38;5;241m.\u001b[39miloc[\u001b[38;5;241m0\u001b[39m])]\n\u001b[1;32m      7\u001b[0m e_bike_start_or_end_within_boulder \u001b[38;5;241m=\u001b[39m e_bike_trips[e_bike_trips\u001b[38;5;241m.\u001b[39mwithin(boulder_boundary\u001b[38;5;241m.\u001b[39mgeometry\u001b[38;5;241m.\u001b[39miloc[\u001b[38;5;241m0\u001b[39m])]\n\u001b[1;32m      9\u001b[0m \u001b[38;5;66;03m#durango\u001b[39;00m\n",
      "File \u001b[0;32m~/miniconda-23.5.2/envs/emission/lib/python3.9/site-packages/pandas/core/generic.py:5902\u001b[0m, in \u001b[0;36mNDFrame.__getattr__\u001b[0;34m(self, name)\u001b[0m\n\u001b[1;32m   5895\u001b[0m \u001b[38;5;28;01mif\u001b[39;00m (\n\u001b[1;32m   5896\u001b[0m     name \u001b[38;5;129;01mnot\u001b[39;00m \u001b[38;5;129;01min\u001b[39;00m \u001b[38;5;28mself\u001b[39m\u001b[38;5;241m.\u001b[39m_internal_names_set\n\u001b[1;32m   5897\u001b[0m     \u001b[38;5;129;01mand\u001b[39;00m name \u001b[38;5;129;01mnot\u001b[39;00m \u001b[38;5;129;01min\u001b[39;00m \u001b[38;5;28mself\u001b[39m\u001b[38;5;241m.\u001b[39m_metadata\n\u001b[1;32m   5898\u001b[0m     \u001b[38;5;129;01mand\u001b[39;00m name \u001b[38;5;129;01mnot\u001b[39;00m \u001b[38;5;129;01min\u001b[39;00m \u001b[38;5;28mself\u001b[39m\u001b[38;5;241m.\u001b[39m_accessors\n\u001b[1;32m   5899\u001b[0m     \u001b[38;5;129;01mand\u001b[39;00m \u001b[38;5;28mself\u001b[39m\u001b[38;5;241m.\u001b[39m_info_axis\u001b[38;5;241m.\u001b[39m_can_hold_identifiers_and_holds_name(name)\n\u001b[1;32m   5900\u001b[0m ):\n\u001b[1;32m   5901\u001b[0m     \u001b[38;5;28;01mreturn\u001b[39;00m \u001b[38;5;28mself\u001b[39m[name]\n\u001b[0;32m-> 5902\u001b[0m \u001b[38;5;28;01mreturn\u001b[39;00m \u001b[38;5;28;43mobject\u001b[39;49m\u001b[38;5;241;43m.\u001b[39;49m\u001b[38;5;21;43m__getattribute__\u001b[39;49m\u001b[43m(\u001b[49m\u001b[38;5;28;43mself\u001b[39;49m\u001b[43m,\u001b[49m\u001b[43m \u001b[49m\u001b[43mname\u001b[49m\u001b[43m)\u001b[49m\n",
      "\u001b[0;31mAttributeError\u001b[0m: 'DataFrame' object has no attribute 'within'"
     ]
    }
   ],
   "source": [
    "#denver\n",
    "# car_like_start_or_end_within_denver = car_like_trips[(car_like_trips.within(denver_boundary.geometry.iloc[0])) & (car_like_trips.program == \"sc\")]\n",
    "# e_bike_start_or_end_within_denver = e_bike_trips[(e_bike_trips.within(denver_boundary.geometry.iloc[0])) & (e_bike_trips.program == \"sc\")]\n",
    "\n",
    "#boulder\n",
    "car_like_start_or_end_within_boulder = car_like_trips[car_like_trips.within(boulder_boundary.geometry.iloc[0])]\n",
    "e_bike_start_or_end_within_boulder = e_bike_trips[e_bike_trips.within(boulder_boundary.geometry.iloc[0])]\n",
    "\n",
    "#durango\n",
    "car_like_start_or_end_within_durango = car_like_trips[car_like_trips.within(durango_boundary.geometry.iloc[0])]\n",
    "e_bike_start_or_end_within_durango = e_bike_trips[e_bike_trips.within(durango_boundary.geometry.iloc[0])]\n",
    "\n",
    "#fort collins\n",
    "car_like_start_or_end_within_fortcollins = car_like_trips[car_like_trips.within(fort_collins_boundary.geometry.iloc[0])]\n",
    "e_bike_start_or_end_within_fortcollins = e_bike_trips[e_bike_trips.within(fort_collins_boundary.geometry.iloc[0])]\n",
    "\n",
    "#vail\n",
    "car_like_start_or_end_within_vail = car_like_trips[car_like_trips.within(vail_boundary.geometry.iloc[0])]\n",
    "e_bike_start_or_end_within_vail = e_bike_trips[e_bike_trips.within(vail_boundary.geometry.iloc[0])]\n",
    "\n",
    "#pueblo\n",
    "car_like_start_or_end_within_pueblo = car_like_trips[car_like_trips.within(pueblo_boundary.geometry.iloc[0])]\n",
    "e_bike_start_or_end_within_pueblo = e_bike_trips[e_bike_trips.within(pueblo_boundary.geometry.iloc[0])]"
   ]
  },
  {
   "cell_type": "markdown",
   "id": "b51a88dd",
   "metadata": {},
   "source": [
    "### bonus plots [all, e-bike, car]"
   ]
  },
  {
   "cell_type": "code",
   "execution_count": null,
   "id": "5faf19b4",
   "metadata": {},
   "outputs": [],
   "source": [
    "#boulder\n",
    "fig, ax_arr = plt.subplots(nrows=1, ncols=3, figsize=(15,15), sharex=True, sharey=True)\n",
    "boulder_boundary.boundary.plot(ax=ax_arr[0], alpha = 0.2, color = \"black\", edgecolor='black')\n",
    "all_within_boulder.plot(ax=ax_arr[0], markersize=1)\n",
    "boulder_boundary.boundary.plot(ax=ax_arr[1], alpha = 0.2, color = \"black\", edgecolor='black')\n",
    "e_bike_start_or_end_within_boulder.plot(color=\"#28a745\", ax=ax_arr[1], markersize=1)\n",
    "boulder_boundary.boundary.plot(ax=ax_arr[2], alpha = 0.2, color = \"black\", edgecolor='black')\n",
    "car_like_start_or_end_within_boulder.plot(color=\"#dc3545\", ax=ax_arr[2], markersize=1)"
   ]
  },
  {
   "cell_type": "code",
   "execution_count": null,
   "id": "b8ef179c",
   "metadata": {},
   "outputs": [],
   "source": [
    "#durango\n",
    "fig, ax_arr = plt.subplots(nrows=1, ncols=3, figsize=(15,15), sharex=True, sharey=True)\n",
    "durango_boundary.boundary.plot(ax=ax_arr[0], alpha = 0.2, color = \"black\", edgecolor='black')\n",
    "all_within_durango.plot(ax=ax_arr[0], markersize=1)\n",
    "durango_boundary.boundary.plot(ax=ax_arr[1], alpha = 0.2, color = \"black\", edgecolor='black')\n",
    "e_bike_start_or_end_within_durango.plot(color=\"#28a745\", ax=ax_arr[1], markersize=1)\n",
    "durango_boundary.boundary.plot(ax=ax_arr[2], alpha = 0.2, color = \"black\", edgecolor='black')\n",
    "car_like_start_or_end_within_durango.plot(color=\"#dc3545\", ax=ax_arr[2], markersize=1)"
   ]
  },
  {
   "cell_type": "code",
   "execution_count": null,
   "id": "7376ac99",
   "metadata": {},
   "outputs": [],
   "source": [
    "#fort collins\n",
    "fig, ax_arr = plt.subplots(nrows=1, ncols=3, figsize=(15,15), sharex=True, sharey=True)\n",
    "fort_collins_boundary.boundary.plot(ax=ax_arr[0], alpha = 0.2, color = \"black\", edgecolor='black')\n",
    "all_within_fortcollins.plot(ax=ax_arr[0], markersize=1)\n",
    "fort_collins_boundary.boundary.plot(ax=ax_arr[1], alpha = 0.2, color = \"black\", edgecolor='black')\n",
    "e_bike_start_or_end_within_fortcollins.plot(color=\"#28a745\", ax=ax_arr[1], markersize=1)\n",
    "fort_collins_boundary.boundary.plot(ax=ax_arr[2], alpha = 0.2, color = \"black\", edgecolor='black')\n",
    "car_like_start_or_end_within_fortcollins.plot(color=\"#dc3545\", ax=ax_arr[2], markersize=1)"
   ]
  },
  {
   "cell_type": "code",
   "execution_count": null,
   "id": "97eae553",
   "metadata": {},
   "outputs": [],
   "source": [
    "#vail\n",
    "fig, ax_arr = plt.subplots(nrows=1, ncols=3, figsize=(15,15), sharex=True, sharey=True)\n",
    "vail_boundary.boundary.plot(ax=ax_arr[0], alpha = 0.2, color = \"black\", edgecolor='black')\n",
    "all_within_vail.plot(ax=ax_arr[0], markersize=1)\n",
    "vail_boundary.boundary.plot(ax=ax_arr[1], alpha = 0.2, color = \"black\", edgecolor='black')\n",
    "e_bike_start_or_end_within_vail.plot(color=\"#28a745\", ax=ax_arr[1], markersize=1)\n",
    "vail_boundary.boundary.plot(ax=ax_arr[2], alpha = 0.2, color = \"black\", edgecolor='black')\n",
    "car_like_start_or_end_within_vail.plot(color=\"#dc3545\", ax=ax_arr[2], markersize=1)"
   ]
  },
  {
   "cell_type": "code",
   "execution_count": null,
   "id": "9a248653",
   "metadata": {},
   "outputs": [],
   "source": [
    "#pueblo\n",
    "fig, ax_arr = plt.subplots(nrows=1, ncols=3, figsize=(15,15), sharex=True, sharey=True)\n",
    "pueblo_boundary.boundary.plot(ax=ax_arr[0], alpha = 0.2, color = \"black\", edgecolor='black')\n",
    "all_within_pueblo.plot(ax=ax_arr[0], markersize=1)\n",
    "pueblo_boundary.boundary.plot(ax=ax_arr[1], alpha = 0.2, color = \"black\", edgecolor='black')\n",
    "e_bike_start_or_end_within_pueblo.plot(color=\"#28a745\", ax=ax_arr[1], markersize=1)\n",
    "pueblo_boundary.boundary.plot(ax=ax_arr[2], alpha = 0.2, color = \"black\", edgecolor='black')\n",
    "car_like_start_or_end_within_pueblo.plot(color=\"#dc3545\", ax=ax_arr[2], markersize=1)"
   ]
  },
  {
   "cell_type": "code",
   "execution_count": null,
   "id": "22fb7b97",
   "metadata": {},
   "outputs": [],
   "source": [
    "#denver\n",
    "fig, ax_arr = plt.subplots(nrows=1, ncols=3, figsize=(15,15), sharex=True, sharey=True)\n",
    "denver_boundary.boundary.plot(ax=ax_arr[0], alpha = 0.2, color = \"black\", edgecolor='black')\n",
    "all_start_or_end_within.plot(ax=ax_arr[0], markersize=1)\n",
    "denver_boundary.boundary.plot(ax=ax_arr[1], alpha = 0.2, color = \"black\", edgecolor='black')\n",
    "e_bike_start_or_end_within.plot(color=\"#28a745\", ax=ax_arr[1], markersize=1)\n",
    "denver_boundary.boundary.plot(ax=ax_arr[2], alpha = 0.2, color = \"black\", edgecolor='black')\n",
    "car_like_start_or_end_within.plot(color=\"#dc3545\", ax=ax_arr[2], markersize=1)"
   ]
  },
  {
   "cell_type": "markdown",
   "id": "32c65a3f",
   "metadata": {},
   "source": [
    "### Preparing for block/pixel analysis"
   ]
  },
  {
   "cell_type": "code",
   "execution_count": null,
   "id": "1cadcebf",
   "metadata": {},
   "outputs": [],
   "source": [
    "#read in block files\n",
    "denver_blocks = gpd.read_file(r\"muni_boundaries/denver_blocks.shp\")\n",
    "boulder_blocks= gpd.read_file(r\"muni_boundaries/boulder_blocks.shp\")\n",
    "fort_collins_blocks = gpd.read_file(r\"muni_boundaries/fort_collins_blocks.shp\")\n",
    "vail_blocks = gpd.read_file(r\"muni_boundaries/vail_blocks.shp\")\n",
    "durango_blocks = gpd.read_file(r\"muni_boundaries/durango_blocks.shp\")\n",
    "pueblo_blocks = gpd.read_file(r\"muni_boundaries/pueblo_blocks.shp\")"
   ]
  },
  {
   "cell_type": "code",
   "execution_count": null,
   "id": "40ae4477",
   "metadata": {},
   "outputs": [],
   "source": [
    "#read in pixel files\n",
    "denver_pixels = gpd.read_file(r\"muni_boundaries/denver_pixels_ca.shp\")\n",
    "boulder_pixels= gpd.read_file(r\"muni_boundaries/boulder_pixels.shp\")\n",
    "fort_collins_pixels = gpd.read_file(r\"muni_boundaries/fortcollins_pixels.shp\")\n",
    "vail_pixels= gpd.read_file(r\"muni_boundaries/vail_pixels.shp\")\n",
    "durango_pixels = gpd.read_file(r\"muni_boundaries/durango_pixels.shp\")\n",
    "pueblo_pixels = gpd.read_file(r\"muni_boundaries/pueblo_pixels.shp\")"
   ]
  },
  {
   "cell_type": "code",
   "execution_count": null,
   "id": "a76e4bc1",
   "metadata": {},
   "outputs": [],
   "source": [
    "## set up the get counts -- note the \"within place\" used to pull from -- denver's only inclueds smart commute\n",
    "\n",
    "#denver First, let's just make a dataframe with the three different counts: total, e-bike, car-like, for each polygon\n",
    "def get_counts(pixel_polygon):\n",
    "    all_trip_count = np.count_nonzero(all_sc_denver.within(pixel_polygon))\n",
    "    e_bike_trip_count = np.count_nonzero(e_bike_start_or_end_within_denver.within(pixel_polygon))\n",
    "    car_like_trip_count = np.count_nonzero(car_like_start_or_end_within_denver.within(pixel_polygon))\n",
    "    return pd.Series([all_trip_count, e_bike_trip_count, car_like_trip_count])\n",
    "\n",
    "# boulder First, let's just make a dataframe with the three different counts: total, e-bike, car-like, for each polygon\n",
    "def get_counts_boulder(pixel_polygon):\n",
    "    all_trip_count = np.count_nonzero(all_within_boulder.within(pixel_polygon))\n",
    "    e_bike_trip_count = np.count_nonzero(e_bike_start_or_end_within_boulder.within(pixel_polygon))\n",
    "    car_like_trip_count = np.count_nonzero(car_like_start_or_end_within_boulder.within(pixel_polygon))\n",
    "    return pd.Series([all_trip_count, e_bike_trip_count, car_like_trip_count])\n",
    "\n",
    "# fort collins First, let's just make a dataframe with the three different counts: total, e-bike, car-like, for each polygon\n",
    "def get_counts_fortcollins(pixel_polygon):\n",
    "    all_trip_count = np.count_nonzero(all_within_fortcollins.within(pixel_polygon))\n",
    "    e_bike_trip_count = np.count_nonzero(e_bike_start_or_end_within_fortcollins.within(pixel_polygon))\n",
    "    car_like_trip_count = np.count_nonzero(car_like_start_or_end_within_fortcollins.within(pixel_polygon))\n",
    "    return pd.Series([all_trip_count, e_bike_trip_count, car_like_trip_count])\n",
    "\n",
    "# vail First, let's just make a dataframe with the three different counts: total, e-bike, car-like, for each polygon\n",
    "def get_counts_vail(pixel_polygon):\n",
    "    all_trip_count = np.count_nonzero(all_within_vail.within(pixel_polygon))\n",
    "    e_bike_trip_count = np.count_nonzero(e_bike_start_or_end_within_vail.within(pixel_polygon))\n",
    "    car_like_trip_count = np.count_nonzero(car_like_start_or_end_within_vail.within(pixel_polygon))\n",
    "    return pd.Series([all_trip_count, e_bike_trip_count, car_like_trip_count])\n",
    "\n",
    "# Durango First, let's just make a dataframe with the three different counts: total, e-bike, car-like, for each polygon\n",
    "def get_counts_durango(pixel_polygon):\n",
    "    all_trip_count = np.count_nonzero(all_within_durango.within(pixel_polygon))\n",
    "    e_bike_trip_count = np.count_nonzero(e_bike_start_or_end_within_durango.within(pixel_polygon))\n",
    "    car_like_trip_count = np.count_nonzero(car_like_start_or_end_within_durango.within(pixel_polygon))\n",
    "    return pd.Series([all_trip_count, e_bike_trip_count, car_like_trip_count])\n",
    "\n",
    "# pueblo First, let's just make a dataframe with the three different counts: total, e-bike, car-like, for each polygon\n",
    "def get_counts_pueblo(pixel_polygon):\n",
    "    all_trip_count = np.count_nonzero(all_within_pueblo.within(pixel_polygon))\n",
    "    e_bike_trip_count = np.count_nonzero(e_bike_start_or_end_within_pueblo.within(pixel_polygon))\n",
    "    car_like_trip_count = np.count_nonzero(car_like_start_or_end_within_pueblo.within(pixel_polygon))\n",
    "    return pd.Series([all_trip_count, e_bike_trip_count, car_like_trip_count])"
   ]
  },
  {
   "cell_type": "markdown",
   "id": "308d68ab",
   "metadata": {},
   "source": [
    "### data processing for e-bike : cars ratios [pixels and blocks]"
   ]
  },
  {
   "cell_type": "code",
   "execution_count": null,
   "id": "8f71c816",
   "metadata": {},
   "outputs": [],
   "source": [
    "#get the counts (blocks)\n",
    "denver_blocks[[\"all_trip_count\", \"e_bike_trip_count\", \"car_like_trip_count\"]] = denver_blocks.geometry.apply(lambda pp: get_counts(pp))\n",
    "boulder_blocks[[\"all_trip_count\", \"e_bike_trip_count\", \"car_like_trip_count\"]] = boulder_blocks.geometry.apply(lambda pp: get_counts_boulder(pp))\n",
    "fort_collins_blocks[[\"all_trip_count\", \"e_bike_trip_count\", \"car_like_trip_count\"]] = fort_collins_blocks.geometry.apply(lambda pp: get_counts_fortcollins(pp))\n",
    "vail_blocks[[\"all_trip_count\", \"e_bike_trip_count\", \"car_like_trip_count\"]] = vail_blocks.geometry.apply(lambda pp: get_counts_vail(pp))\n",
    "durango_blocks[[\"all_trip_count\", \"e_bike_trip_count\", \"car_like_trip_count\"]] = durango_blocks.geometry.apply(lambda pp: get_counts_durango(pp))\n",
    "pueblo_blocks[[\"all_trip_count\", \"e_bike_trip_count\", \"car_like_trip_count\"]] = pueblo_blocks.geometry.apply(lambda pp: get_counts_pueblo(pp))"
   ]
  },
  {
   "cell_type": "code",
   "execution_count": null,
   "id": "7a62eb57",
   "metadata": {},
   "outputs": [],
   "source": [
    "#get the counts (pixels)\n",
    "denver_pixels[[\"all_trip_count\", \"e_bike_trip_count\", \"car_like_trip_count\"]] = denver_pixels.geometry.apply(lambda pp: get_counts(pp))\n",
    "boulder_pixels[[\"all_trip_count\", \"e_bike_trip_count\", \"car_like_trip_count\"]] = boulder_pixels.geometry.apply(lambda pp: get_counts_boulder(pp))\n",
    "fort_collins_pixels[[\"all_trip_count\", \"e_bike_trip_count\", \"car_like_trip_count\"]] = fort_collins_pixels.geometry.apply(lambda pp: get_counts_fortcollins(pp))\n",
    "vail_pixels[[\"all_trip_count\", \"e_bike_trip_count\", \"car_like_trip_count\"]] = vail_pixels.geometry.apply(lambda pp: get_counts_vail(pp))\n",
    "durango_pixels[[\"all_trip_count\", \"e_bike_trip_count\", \"car_like_trip_count\"]] = durango_pixels.geometry.apply(lambda pp: get_counts_durango(pp))\n",
    "pueblo_pixels[[\"all_trip_count\", \"e_bike_trip_count\", \"car_like_trip_count\"]] = pueblo_pixels.geometry.apply(lambda pp: get_counts_pueblo(pp))"
   ]
  },
  {
   "cell_type": "code",
   "execution_count": null,
   "id": "bc152866",
   "metadata": {},
   "outputs": [],
   "source": [
    "#get ratio of bikes to cars (blocks)\n",
    "denver_blocks[\"e_bike_2_car_like\"] = denver_blocks.e_bike_trip_count / denver_blocks.car_like_trip_count\n",
    "boulder_blocks[\"e_bike_2_car_like\"] = boulder_blocks.e_bike_trip_count / boulder_blocks.car_like_trip_count\n",
    "fort_collins_blocks[\"e_bike_2_car_like\"] = fort_collins_blocks.e_bike_trip_count / fort_collins_blocks.car_like_trip_count\n",
    "vail_blocks[\"e_bike_2_car_like\"] = vail_blocks.e_bike_trip_count / vail_blocks.car_like_trip_count\n",
    "durango_blocks[\"e_bike_2_car_like\"] = durango_blocks.e_bike_trip_count / durango_blocks.car_like_trip_count\n",
    "pueblo_blocks[\"e_bike_2_car_like\"] = pueblo_blocks.e_bike_trip_count / pueblo_blocks.car_like_trip_count"
   ]
  },
  {
   "cell_type": "code",
   "execution_count": null,
   "id": "5837debf",
   "metadata": {},
   "outputs": [],
   "source": [
    "#get ratio of bikes to cars (pixels)\n",
    "denver_pixels[\"e_bike_2_car_like\"] = denver_pixels.e_bike_trip_count / denver_pixels.car_like_trip_count\n",
    "boulder_pixels[\"e_bike_2_car_like\"] = boulder_pixels.e_bike_trip_count / boulder_pixels.car_like_trip_count\n",
    "fort_collins_pixels[\"e_bike_2_car_like\"] = fort_collins_pixels.e_bike_trip_count / fort_collins_pixels.car_like_trip_count\n",
    "vail_pixels[\"e_bike_2_car_like\"] = vail_pixels.e_bike_trip_count / vail_pixels.car_like_trip_count\n",
    "durango_pixels[\"e_bike_2_car_like\"] = durango_pixels.e_bike_trip_count / durango_pixels.car_like_trip_count\n",
    "pueblo_pixels[\"e_bike_2_car_like\"] = pueblo_pixels.e_bike_trip_count / pueblo_pixels.car_like_trip_count"
   ]
  },
  {
   "cell_type": "code",
   "execution_count": null,
   "id": "0e813e59",
   "metadata": {},
   "outputs": [],
   "source": [
    "#replacing infinity with max (blocks)\n",
    "denver_blocks.replace(np.inf, denver_blocks.replace(np.inf, 0).e_bike_2_car_like.max(), inplace=True)\n",
    "boulder_blocks.replace(np.inf, boulder_blocks.replace(np.inf, 0).e_bike_2_car_like.max(), inplace=True)\n",
    "fort_collins_blocks.replace(np.inf, fort_collins_blocks.replace(np.inf, 0).e_bike_2_car_like.max(), inplace=True)\n",
    "vail_blocks.replace(np.inf, vail_blocks.replace(np.inf, 0).e_bike_2_car_like.max(), inplace=True)\n",
    "durango_blocks.replace(np.inf, durango_blocks.replace(np.inf, 0).e_bike_2_car_like.max(), inplace=True)\n",
    "pueblo_blocks.replace(np.inf, pueblo_blocks.replace(np.inf, 0).e_bike_2_car_like.max(), inplace=True)"
   ]
  },
  {
   "cell_type": "code",
   "execution_count": null,
   "id": "979a1684",
   "metadata": {},
   "outputs": [],
   "source": [
    "#replacing infinity with max (blocks)\n",
    "denver_pixels.replace(np.inf, denver_pixels.replace(np.inf, 0).e_bike_2_car_like.max(), inplace=True)\n",
    "boulder_pixels.replace(np.inf, boulder_pixels.replace(np.inf, 0).e_bike_2_car_like.max(), inplace=True)\n",
    "fort_collins_pixels.replace(np.inf, fort_collins_pixels.replace(np.inf, 0).e_bike_2_car_like.max(), inplace=True)\n",
    "vail_pixels.replace(np.inf, vail_pixels.replace(np.inf, 0).e_bike_2_car_like.max(), inplace=True)\n",
    "durango_pixels.replace(np.inf, durango_pixels.replace(np.inf, 0).e_bike_2_car_like.max(), inplace=True)\n",
    "pueblo_pixels.replace(np.inf, pueblo_pixels.replace(np.inf, 0).e_bike_2_car_like.max(), inplace=True)"
   ]
  },
  {
   "cell_type": "code",
   "execution_count": null,
   "id": "cbaa4a65",
   "metadata": {},
   "outputs": [],
   "source": [
    "#calculate where e-bike > car (blocks) -- put in T/F\n",
    "denver_blocks[\"e_bike_better\"] = pd.Categorical(denver_blocks.e_bike_2_car_like >= 1)\n",
    "boulder_blocks[\"e_bike_better\"] = pd.Categorical(boulder_blocks.e_bike_2_car_like >= 1)\n",
    "fort_collins_blocks[\"e_bike_better\"] = pd.Categorical(fort_collins_blocks.e_bike_2_car_like >= 1)\n",
    "vail_blocks[\"e_bike_better\"] = pd.Categorical(vail_blocks.e_bike_2_car_like >= 1)\n",
    "durango_blocks[\"e_bike_better\"] = pd.Categorical(durango_blocks.e_bike_2_car_like >= 1)\n",
    "pueblo_blocks[\"e_bike_better\"] = pd.Categorical(pueblo_blocks.e_bike_2_car_like >= 1)"
   ]
  },
  {
   "cell_type": "code",
   "execution_count": null,
   "id": "651213a4",
   "metadata": {},
   "outputs": [],
   "source": [
    "#calculate where e-bike is > car (pixels) -- put in T/F\n",
    "denver_pixels[\"e_bike_better\"] = pd.Categorical(denver_pixels.e_bike_2_car_like >= 1)\n",
    "boulder_pixels[\"e_bike_better\"] = pd.Categorical(boulder_pixels.e_bike_2_car_like >= 1)\n",
    "fort_collins_pixels[\"e_bike_better\"] = pd.Categorical(fort_collins_pixels.e_bike_2_car_like >= 1)\n",
    "vail_pixels[\"e_bike_better\"] = pd.Categorical(vail_pixels.e_bike_2_car_like >= 1)\n",
    "durango_pixels[\"e_bike_better\"] = pd.Categorical(durango_pixels.e_bike_2_car_like >= 1)\n",
    "pueblo_pixels[\"e_bike_better\"] = pd.Categorical(pueblo_pixels.e_bike_2_car_like >= 1)"
   ]
  },
  {
   "cell_type": "code",
   "execution_count": null,
   "id": "51ff648b",
   "metadata": {},
   "outputs": [],
   "source": [
    "#remove nan ratios in blocks\n",
    "denver_blocks_2 = denver_blocks[denver_blocks['e_bike_2_car_like'].notna()]\n",
    "boulder_blocks_2 = boulder_blocks[boulder_blocks['e_bike_2_car_like'].notna()]\n",
    "fort_collins_blocks_2 = fort_collins_blocks[fort_collins_blocks['e_bike_2_car_like'].notna()]\n",
    "vail_blocks_2 = vail_blocks[vail_blocks['e_bike_2_car_like'].notna()]\n",
    "durango_blocks_2 = durango_blocks[durango_blocks['e_bike_2_car_like'].notna()]\n",
    "pueblo_blocks_2 = pueblo_blocks[pueblo_blocks['e_bike_2_car_like'].notna()]"
   ]
  },
  {
   "cell_type": "code",
   "execution_count": null,
   "id": "f6805721",
   "metadata": {},
   "outputs": [],
   "source": [
    "#remove nan ratios in pixels\n",
    "denver_pixels_2 = denver_pixels[denver_pixels['e_bike_2_car_like'].notna()]\n",
    "boulder_pixels_2 = boulder_pixels[boulder_pixels['e_bike_2_car_like'].notna()]\n",
    "fort_collins_pixels_2 = fort_collins_pixels[fort_collins_pixels['e_bike_2_car_like'].notna()]\n",
    "vail_pixels_2 = vail_pixels[vail_pixels['e_bike_2_car_like'].notna()]\n",
    "durango_pixels_2 = durango_pixels[durango_pixels['e_bike_2_car_like'].notna()]\n",
    "pueblo_pixels_2 = pueblo_pixels[pueblo_pixels['e_bike_2_car_like'].notna()]"
   ]
  },
  {
   "cell_type": "markdown",
   "id": "01fe9901",
   "metadata": {},
   "source": [
    "## Draw up the pixel plots"
   ]
  },
  {
   "cell_type": "code",
   "execution_count": null,
   "id": "9a060002",
   "metadata": {},
   "outputs": [],
   "source": [
    "#denver (smart commute only!!)\n",
    "ax = denver_boundary.boundary.plot()\n",
    "denver_pixels_2.replace({False: \"e-bike < car\", True: \"e-bike > car\"}, inplace=True)\n",
    "denver_pixels_2.plot(column = \"e_bike_better\", ax = ax, legend=True, legend_kwds={\"loc\": \"lower left\"}, categorical=True, cmap=\"Paired\", figsize=(12,6))"
   ]
  },
  {
   "cell_type": "code",
   "execution_count": null,
   "id": "a1e846f2",
   "metadata": {},
   "outputs": [],
   "source": [
    "#boulder\n",
    "ax = boulder_boundary.boundary.plot()\n",
    "boulder_pixels_2.replace({False: \"e-bike < car\", True: \"e-bike > car\"}, inplace=True)\n",
    "boulder_pixels_2.plot(column = \"e_bike_better\", ax = ax, legend=True, legend_kwds={\"loc\": \"lower left\"}, categorical=True, cmap=\"Paired\", figsize=(12,6))"
   ]
  },
  {
   "cell_type": "code",
   "execution_count": null,
   "id": "ecf115ad",
   "metadata": {},
   "outputs": [],
   "source": [
    "#fort collins\n",
    "ax = fort_collins_boundary.boundary.plot()\n",
    "fort_collins_pixels_2.replace({False: \"e-bike < car\", True: \"e-bike > car\"}, inplace=True)\n",
    "fort_collins_pixels_2.plot(column = \"e_bike_better\", ax = ax, legend=True, legend_kwds={\"loc\": \"lower left\"}, categorical=True, cmap=\"Paired\", figsize=(12,6))"
   ]
  },
  {
   "cell_type": "code",
   "execution_count": null,
   "id": "1a3245c1",
   "metadata": {},
   "outputs": [],
   "source": [
    "#vail\n",
    "ax = vail_boundary.boundary.plot()\n",
    "vail_pixels_2.replace({False: \"e-bike < car\", True: \"e-bike > car\"}, inplace=True)\n",
    "vail_pixels_2.plot(column = \"e_bike_better\", ax = ax, legend=True, legend_kwds={\"loc\": \"lower left\"}, categorical=True, cmap=\"Paired\", figsize=(12,6))"
   ]
  },
  {
   "cell_type": "code",
   "execution_count": null,
   "id": "38370ceb",
   "metadata": {},
   "outputs": [],
   "source": [
    "#durango\n",
    "ax = durango_boundary.boundary.plot()\n",
    "durango_pixels_2.replace({False: \"e-bike < car\", True: \"e-bike > car\"}, inplace=True)\n",
    "durango_pixels_2.plot(column = \"e_bike_better\", ax = ax, legend=True, legend_kwds={\"loc\": \"lower left\"}, categorical=True, cmap=\"Paired\", figsize=(12,6))"
   ]
  },
  {
   "cell_type": "code",
   "execution_count": null,
   "id": "266cd8a8",
   "metadata": {},
   "outputs": [],
   "source": [
    "#pueblo\n",
    "ax = pueblo_boundary.boundary.plot()\n",
    "pueblo_pixels_2.replace({False: \"e-bike < car\", True: \"e-bike > car\"}, inplace=True)\n",
    "pueblo_pixels_2.plot(column = \"e_bike_better\", ax = ax, legend=True, legend_kwds={\"loc\": \"lower left\"}, categorical=True, cmap=\"Paired\", figsize=(12,6))"
   ]
  }
 ],
 "metadata": {
  "kernelspec": {
   "display_name": "Python 3 (ipykernel)",
   "language": "python",
   "name": "python3"
  },
  "language_info": {
   "codemirror_mode": {
    "name": "ipython",
    "version": 3
   },
   "file_extension": ".py",
   "mimetype": "text/x-python",
   "name": "python",
   "nbconvert_exporter": "python",
   "pygments_lexer": "ipython3",
   "version": "3.9.18"
  }
 },
 "nbformat": 4,
 "nbformat_minor": 5
}

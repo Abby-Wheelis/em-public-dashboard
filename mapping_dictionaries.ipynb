{
 "cells": [
  {
   "cell_type": "code",
   "execution_count": null,
   "id": "manual-welding",
   "metadata": {},
   "outputs": [],
   "source": [
    "import pandas as pd"
   ]
  },
  {
   "cell_type": "code",
   "execution_count": null,
   "id": "improved-tribute",
   "metadata": {},
   "outputs": [],
   "source": [
    "df_pur= pd.read_csv(r'auxiliary_files/purpose_labels.csv')\n",
    "df_re = pd.read_csv(r'auxiliary_files/mode_labels.csv')\n",
    "df_ei = pd.read_csv(r'auxiliary_files/energy_intensity.csv')\n",
    "\n",
    "#dictionaries:\n",
    "dic_pur = dict(zip(df_pur.purpose_confirm,df_pur.bin_purpose)) # bin purpose\n",
    "dic_re  = dict(zip(df_re.replaced_mode,df_re.mode_clean)) # bin modes\n",
    "dic_ei  = dict(zip(df_ei.replaced_mode,df_ei.EI)) # EI values"
   ]
  },
  {
   "cell_type": "code",
   "execution_count": null,
   "id": "fatal-major",
   "metadata": {},
   "outputs": [],
   "source": [
    "df_pur"
   ]
  },
  {
   "cell_type": "code",
   "execution_count": null,
   "id": "failing-concrete",
   "metadata": {},
   "outputs": [],
   "source": [
    "# Cleaning the trip purpose attribute\n",
    "dic_pur"
   ]
  },
  {
   "cell_type": "code",
   "execution_count": null,
   "id": "necessary-inflation",
   "metadata": {},
   "outputs": [],
   "source": [
    "#Energy Intensity Values as per reference:\n",
    "dic_ei"
   ]
  },
  {
   "cell_type": "code",
   "execution_count": null,
   "id": "respected-saturday",
   "metadata": {},
   "outputs": [],
   "source": [
    "# Binning of the replaced_mode and mode_confirm\n",
    "dic_re"
   ]
  },
  {
   "cell_type": "code",
   "execution_count": null,
   "id": "informed-asthma",
   "metadata": {},
   "outputs": [],
   "source": [
    "%store dic_ei \n",
    "%store dic_re \n",
    "%store dic_pur "
   ]
  }
 ],
 "metadata": {
  "kernelspec": {
   "display_name": "Python 3",
   "language": "python",
   "name": "python3"
  },
  "language_info": {
   "codemirror_mode": {
    "name": "ipython",
    "version": 3
   },
   "file_extension": ".py",
   "mimetype": "text/x-python",
   "name": "python",
   "nbconvert_exporter": "python",
   "pygments_lexer": "ipython3",
   "version": "3.7.9"
  }
 },
 "nbformat": 4,
 "nbformat_minor": 5
}

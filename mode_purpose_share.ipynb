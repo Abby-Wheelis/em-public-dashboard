{
 "cells": [
  {
   "cell_type": "markdown",
   "id": "prerequisite-norwegian",
   "metadata": {},
   "source": [
    "## Generate Static Graphs"
   ]
  },
  {
   "cell_type": "markdown",
   "id": "colored-frost",
   "metadata": {},
   "source": [
    "These are the input parameters for the notebook. They will be automatically changed when the scripts to generate monthly statistics are run. You can modify them manually to generate multiple plots locally as well.\n",
    "\n",
    "Pass in `None` to remove the filters and plot all data. This is not recommended for production settings, but might be useful for reports based on data snapshots."
   ]
  },
  {
   "cell_type": "code",
   "execution_count": null,
   "id": "automotive-abuse",
   "metadata": {},
   "outputs": [],
   "source": [
    "year = 2021\n",
    "month = 9\n",
    "program = \"prepilot\"\n",
    "study_type = \"program\"\n",
    "mode_of_interest = \"Pilot ebike\""
   ]
  },
  {
   "cell_type": "code",
   "execution_count": null,
   "id": "traditional-queens",
   "metadata": {},
   "outputs": [],
   "source": [
    "from collections import defaultdict\n",
    "import datetime\n",
    "import matplotlib.pyplot as plt\n",
    "import numpy as np\n",
    "import pandas as pd\n",
    "import seaborn as sns\n",
    "\n",
    "import emission.core.get_database as edb\n",
    "import emission.core.wrapper.entry as ecwe\n",
    "import emission.storage.decorations.analysis_timeseries_queries as esda\n",
    "import emission.storage.decorations.trip_queries as esdt\n",
    "import emission.storage.decorations.timeline as esdl\n",
    "import emission.storage.timeseries.abstract_timeseries as esta\n",
    "import emission.storage.timeseries.timequery as estt\n",
    "from plots import *\n",
    "import scaffolding\n",
    "from uuid import UUID\n",
    "\n",
    "sns.set_style(\"whitegrid\")\n",
    "sns.set()\n",
    "%matplotlib inline"
   ]
  },
  {
   "cell_type": "code",
   "execution_count": null,
   "id": "fantastic-proposition",
   "metadata": {},
   "outputs": [],
   "source": [
    "# Loading mapping dictionaries from mapping_dictionaries notebook\n",
    "%store -r df_ei\n",
    "%store -r dic_re\n",
    "%store -r dic_pur\n",
    "%store -r dic_fuel\n",
    "\n",
    "# convert a dictionary to a defaultdict\n",
    "dic_re = defaultdict(lambda: 'Other',dic_re)\n",
    "dic_pur = defaultdict(lambda: 'Other',dic_pur)\n",
    "dic_fuel = defaultdict(lambda: 'Other',dic_fuel)"
   ]
  },
  {
   "cell_type": "markdown",
   "id": "prospective-reviewer",
   "metadata": {},
   "source": [
    "## Collect Data From Database"
   ]
  },
  {
   "cell_type": "code",
   "execution_count": null,
   "id": "unauthorized-miami",
   "metadata": {},
   "outputs": [],
   "source": [
    "tq = scaffolding.get_time_query(year, month)\n",
    "participant_ct_df = scaffolding.load_all_participant_trips(program, tq)\n",
    "labeled_ct = scaffolding.filter_labeled_trips(participant_ct_df)\n",
    "expanded_ct = scaffolding.expand_userinputs(labeled_ct)\n",
    "expanded_ct = scaffolding.data_quality_check(expanded_ct)"
   ]
  },
  {
   "cell_type": "code",
   "execution_count": null,
   "id": "dying-credit",
   "metadata": {},
   "outputs": [],
   "source": [
    "# Mapping new labels with dictionaries\n",
    "expanded_ct['Trip_purpose']= expanded_ct['purpose_confirm'].map(dic_pur)\n",
    "expanded_ct['Mode_confirm']= expanded_ct['mode_confirm'].map(dic_re)\n",
    "expanded_ct['Replaced_mode']= expanded_ct['replaced_mode'].map(dic_re)\n",
    "\n",
    "# Mapping fuel\n",
    "expanded_ct['Mode_confirm_fuel']= expanded_ct['Mode_confirm'].map(dic_fuel)\n",
    "expanded_ct['Replaced_mode_fuel']= expanded_ct['Replaced_mode'].map(dic_fuel)\n",
    "\n",
    "# Change meters to miles\n",
    "scaffolding.unit_conversions(expanded_ct)\n",
    "\n",
    "# Calculate energy impact\n",
    "expanded_ct = scaffolding.energy_intensity(expanded_ct, df_ei, 'distance_miles', 'Replaced_mode', 'Mode_confirm')\n",
    "expanded_ct = scaffolding.energy_impact_kWH(expanded_ct, 'distance_miles', 'Replaced_mode', 'Mode_confirm')\n",
    "expanded_ct = scaffolding.CO2_impact_lb(expanded_ct, 'distance_miles', 'Replaced_mode', 'Mode_confirm')"
   ]
  },
  {
   "cell_type": "code",
   "execution_count": null,
   "id": "continuous-authorization",
   "metadata": {},
   "outputs": [],
   "source": [
    "file_suffix = scaffolding.get_file_suffix(year, month, program)\n",
    "quality_text = scaffolding.get_quality_text(participant_ct_df, expanded_ct)"
   ]
  },
  {
   "cell_type": "markdown",
   "id": "partial-bangladesh",
   "metadata": {},
   "source": [
    "## Mode Shares"
   ]
  },
  {
   "cell_type": "code",
   "execution_count": null,
   "id": "induced-accused",
   "metadata": {},
   "outputs": [],
   "source": [
    "# Count of trips per mode\n",
    "mode_confirm_vals_df = pd.DataFrame(expanded_ct['mode_confirm'].value_counts())\n",
    "total_mode_confirms = mode_confirm_vals_df.sum()\n",
    "top_ten_mode_confirm = mode_confirm_vals_df.iloc[0:9].copy()\n",
    "\n",
    "# All modes not in top 10 are labeled misc\n",
    "misc_count = (total_mode_confirms - top_ten_mode_confirm.sum())\n",
    "top_ten_mode_confirm.loc[\"misc\"] = misc_count\n",
    "top_ten_mode_confirm"
   ]
  },
  {
   "cell_type": "code",
   "execution_count": null,
   "id": "guilty-resource",
   "metadata": {},
   "outputs": [],
   "source": [
    "pctFmt = lambda p: '%.1f%%'%p if p > 5 else None"
   ]
  },
  {
   "cell_type": "code",
   "execution_count": null,
   "id": "electronic-culture",
   "metadata": {},
   "outputs": [],
   "source": [
    "ax = top_ten_mode_confirm.mode_confirm.plot.pie(autopct=pctFmt)\n",
    "ax.set_ylabel(\"\")\n",
    "ax.set_title(\"Travel modes selected by users\\n%s\" % quality_text)"
   ]
  },
  {
   "cell_type": "code",
   "execution_count": null,
   "id": "tropical-pride",
   "metadata": {},
   "outputs": [],
   "source": [
    "ax.figure.savefig(\"/plots/mode_confirm%s.png\" % file_suffix)\n",
    "alt_text = scaffolding.store_alt_text_pie(top_ten_mode_confirm, 'mode_confirm', 'travel modes', './alt_text_lookup.json')"
   ]
  },
  {
   "cell_type": "code",
   "execution_count": null,
   "id": "promotional-trustee",
   "metadata": {},
   "outputs": [],
   "source": [
    "below_top_ten_mode_confirm = mode_confirm_vals_df.iloc[9:]\n",
    "below_top_ten_mode_confirm"
   ]
  },
  {
   "cell_type": "code",
   "execution_count": null,
   "id": "economic-galaxy",
   "metadata": {},
   "outputs": [],
   "source": [
    "ax = below_top_ten_mode_confirm.mode_confirm.plot.pie(autopct=pctFmt)\n",
    "ax.set_ylabel(\"\")\n",
    "ax.set_title(\"Expansion of the 'misc' travel modes\\n%s\" % quality_text)"
   ]
  },
  {
   "cell_type": "code",
   "execution_count": null,
   "id": "located-license",
   "metadata": {},
   "outputs": [],
   "source": [
    "ax.figure.savefig(\"/plots/mode_confirm_misc_expand%s.png\" % file_suffix)\n",
    "alt_text = scaffolding.store_alt_text_pie(below_top_ten_mode_confirm, 'mode_confirm_misc_expand', 'travel modes', './alt_text_lookup.json')"
   ]
  }
 ],
 "metadata": {
  "kernelspec": {
   "display_name": "Python 3",
   "language": "python",
   "name": "python3"
  },
  "language_info": {
   "codemirror_mode": {
    "name": "ipython",
    "version": 3
   },
   "file_extension": ".py",
   "mimetype": "text/x-python",
   "name": "python",
   "nbconvert_exporter": "python",
   "pygments_lexer": "ipython3",
   "version": "3.7.9"
  }
 },
 "nbformat": 4,
 "nbformat_minor": 5
}

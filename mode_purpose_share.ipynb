{
 "cells": [
  {
   "cell_type": "markdown",
   "id": "prerequisite-norwegian",
   "metadata": {},
   "source": [
    "This is a file that blah blah blah"
   ]
  },
  {
   "cell_type": "code",
   "execution_count": null,
   "id": "respiratory-gibraltar",
   "metadata": {},
   "outputs": [],
   "source": [
    "import emission.storage.timeseries.abstract_timeseries as esta"
   ]
  },
  {
   "cell_type": "code",
   "execution_count": null,
   "id": "upset-transition",
   "metadata": {},
   "outputs": [],
   "source": [
    "import pandas as pd"
   ]
  },
  {
   "cell_type": "code",
   "execution_count": null,
   "id": "opened-lithuania",
   "metadata": {},
   "outputs": [],
   "source": [
    "agg = esta.TimeSeries.get_aggregate_time_series()"
   ]
  },
  {
   "cell_type": "code",
   "execution_count": null,
   "id": "universal-tonight",
   "metadata": {},
   "outputs": [],
   "source": [
    "all_ct = agg.get_data_df(\"analysis/confirmed_trip\")"
   ]
  },
  {
   "cell_type": "code",
   "execution_count": null,
   "id": "current-primary",
   "metadata": {},
   "outputs": [],
   "source": [
    "all_ct.head()"
   ]
  },
  {
   "cell_type": "code",
   "execution_count": null,
   "id": "authorized-living",
   "metadata": {},
   "outputs": [],
   "source": [
    "confirmed_ct = all_ct[all_ct.user_input != {}]\n",
    "confirmed_ct.head()"
   ]
  },
  {
   "cell_type": "code",
   "execution_count": null,
   "id": "checked-thumb",
   "metadata": {},
   "outputs": [],
   "source": [
    "confirm_only = pd.DataFrame(confirmed_ct.user_input.to_list())\n",
    "confirm_only.head()"
   ]
  },
  {
   "cell_type": "code",
   "execution_count": null,
   "id": "special-tragedy",
   "metadata": {},
   "outputs": [],
   "source": [
    "confirm_only.mode_confirm.head()"
   ]
  },
  {
   "cell_type": "code",
   "execution_count": null,
   "id": "experimental-match",
   "metadata": {},
   "outputs": [],
   "source": [
    "mode_confirm_vals = confirm_only.mode_confirm.value_counts()\n",
    "mode_confirm_vals"
   ]
  },
  {
   "cell_type": "code",
   "execution_count": null,
   "id": "norwegian-eight",
   "metadata": {},
   "outputs": [],
   "source": [
    "mode_confirm_vals_df = pd.DataFrame(mode_confirm_vals)\n",
    "mode_confirm_vals_df"
   ]
  },
  {
   "cell_type": "code",
   "execution_count": null,
   "id": "exterior-pulse",
   "metadata": {},
   "outputs": [],
   "source": [
    "total_mode_confirms = mode_confirm_vals_df.mode_confirm.sum()\n",
    "mode_confirm_vals_df[\"quartile\"] = mode_confirm_vals.apply(lambda x: x/total_mode_confirms)\n",
    "large_chunk_mode_confirm = mode_confirm_vals_df.where(lambda x: x.quartile > 0.01).dropna()\n",
    "large_chunk_mode_confirm"
   ]
  },
  {
   "cell_type": "code",
   "execution_count": null,
   "id": "bound-reverse",
   "metadata": {},
   "outputs": [],
   "source": [
    "misc_count = (total_mode_confirms - large_chunk_mode_confirm.mode_confirm.sum())\n",
    "misc_count"
   ]
  },
  {
   "cell_type": "code",
   "execution_count": null,
   "id": "contemporary-lancaster",
   "metadata": {},
   "outputs": [],
   "source": [
    "large_chunk_mode_confirm.loc[\"misc\"] = pd.Series({\"mode_confirm\": misc_count , \"quartile\": misc_count/total_mode_confirms})"
   ]
  },
  {
   "cell_type": "code",
   "execution_count": null,
   "id": "black-shelter",
   "metadata": {},
   "outputs": [],
   "source": [
    "large_chunk_mode_confirm"
   ]
  },
  {
   "cell_type": "code",
   "execution_count": null,
   "id": "electronic-culture",
   "metadata": {},
   "outputs": [],
   "source": [
    "ax = large_chunk_mode_confirm.mode_confirm.plot.pie()"
   ]
  },
  {
   "cell_type": "code",
   "execution_count": null,
   "id": "tropical-pride",
   "metadata": {},
   "outputs": [],
   "source": [
    "ax.figure.savefig(\"/plots/mode_confirm.png\")"
   ]
  },
  {
   "cell_type": "code",
   "execution_count": null,
   "id": "promotional-trustee",
   "metadata": {},
   "outputs": [],
   "source": [
    "small_chunk_mode_confirm = mode_confirm_vals_df.where(lambda x: x.quartile < 0.01).dropna()\n",
    "small_chunk_mode_confirm"
   ]
  },
  {
   "cell_type": "code",
   "execution_count": null,
   "id": "economic-galaxy",
   "metadata": {},
   "outputs": [],
   "source": [
    "ax = small_chunk_mode_confirm.mode_confirm.plot.pie()"
   ]
  },
  {
   "cell_type": "code",
   "execution_count": null,
   "id": "located-license",
   "metadata": {},
   "outputs": [],
   "source": [
    "ax.figure.savefig(\"/plots/mode_confirm_misc_expand.png\")"
   ]
  },
  {
   "cell_type": "code",
   "execution_count": null,
   "id": "material-discovery",
   "metadata": {},
   "outputs": [],
   "source": []
  }
 ],
 "metadata": {
  "kernelspec": {
   "display_name": "Python 3",
   "language": "python",
   "name": "python3"
  },
  "language_info": {
   "codemirror_mode": {
    "name": "ipython",
    "version": 3
   },
   "file_extension": ".py",
   "mimetype": "text/x-python",
   "name": "python",
   "nbconvert_exporter": "python",
   "pygments_lexer": "ipython3",
   "version": "3.7.9"
  }
 },
 "nbformat": 4,
 "nbformat_minor": 5
}

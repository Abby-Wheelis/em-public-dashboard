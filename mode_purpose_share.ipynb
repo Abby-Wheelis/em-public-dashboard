{
 "cells": [
  {
   "cell_type": "markdown",
   "id": "prerequisite-norwegian",
   "metadata": {},
   "source": [
    "This is a file that blah blah blah"
   ]
  },
  {
   "cell_type": "code",
   "execution_count": null,
   "id": "automotive-abuse",
   "metadata": {},
   "outputs": [],
   "source": [
    "year = 2020\n",
    "month = 11\n",
    "program = \"prepilot\""
   ]
  },
  {
   "cell_type": "code",
   "execution_count": null,
   "id": "respiratory-gibraltar",
   "metadata": {},
   "outputs": [],
   "source": [
    "import emission.storage.timeseries.abstract_timeseries as esta\n",
    "import emission.storage.timeseries.tcquery as esttc\n",
    "import emission.core.wrapper.localdate as ecwl"
   ]
  },
  {
   "cell_type": "code",
   "execution_count": null,
   "id": "upset-transition",
   "metadata": {},
   "outputs": [],
   "source": [
    "import pandas as pd"
   ]
  },
  {
   "cell_type": "code",
   "execution_count": null,
   "id": "unauthorized-miami",
   "metadata": {},
   "outputs": [],
   "source": [
    "query_ld = ecwl.LocalDate({\"year\": year, \"month\": month})\n",
    "tq = esttc.TimeComponentQuery(\"data.start_local_dt\", query_ld, query_ld)"
   ]
  },
  {
   "cell_type": "code",
   "execution_count": null,
   "id": "opened-lithuania",
   "metadata": {},
   "outputs": [],
   "source": [
    "agg = esta.TimeSeries.get_aggregate_time_series()"
   ]
  },
  {
   "cell_type": "code",
   "execution_count": null,
   "id": "universal-tonight",
   "metadata": {},
   "outputs": [],
   "source": [
    "all_ct = agg.get_data_df(\"analysis/confirmed_trip\", tq)"
   ]
  },
  {
   "cell_type": "code",
   "execution_count": null,
   "id": "current-primary",
   "metadata": {},
   "outputs": [],
   "source": [
    "all_ct.head()"
   ]
  },
  {
   "cell_type": "code",
   "execution_count": null,
   "id": "authorized-living",
   "metadata": {},
   "outputs": [],
   "source": [
    "confirmed_ct = all_ct[all_ct.user_input != {}]\n",
    "confirmed_ct.head()"
   ]
  },
  {
   "cell_type": "code",
   "execution_count": null,
   "id": "checked-thumb",
   "metadata": {},
   "outputs": [],
   "source": [
    "confirm_only = pd.DataFrame(confirmed_ct.user_input.to_list())\n",
    "confirm_only.head()"
   ]
  },
  {
   "cell_type": "code",
   "execution_count": null,
   "id": "special-tragedy",
   "metadata": {},
   "outputs": [],
   "source": [
    "confirm_only.mode_confirm.head()"
   ]
  },
  {
   "cell_type": "code",
   "execution_count": null,
   "id": "experimental-match",
   "metadata": {},
   "outputs": [],
   "source": [
    "mode_confirm_vals = confirm_only.mode_confirm.value_counts()\n",
    "mode_confirm_vals"
   ]
  },
  {
   "cell_type": "code",
   "execution_count": null,
   "id": "norwegian-eight",
   "metadata": {},
   "outputs": [],
   "source": [
    "mode_confirm_vals_df = pd.DataFrame(mode_confirm_vals)\n",
    "mode_confirm_vals_df"
   ]
  },
  {
   "cell_type": "code",
   "execution_count": null,
   "id": "exterior-pulse",
   "metadata": {},
   "outputs": [],
   "source": [
    "total_mode_confirms = mode_confirm_vals.sum()\n",
    "top_ten_mode_confirm = mode_confirm_vals_df.iloc[0:9]\n",
    "top_ten_mode_confirm"
   ]
  },
  {
   "cell_type": "code",
   "execution_count": null,
   "id": "bound-reverse",
   "metadata": {},
   "outputs": [],
   "source": [
    "misc_count = (total_mode_confirms - top_ten_mode_confirm.mode_confirm.sum())\n",
    "misc_count"
   ]
  },
  {
   "cell_type": "code",
   "execution_count": null,
   "id": "contemporary-lancaster",
   "metadata": {},
   "outputs": [],
   "source": [
    "top_ten_mode_confirm.loc[\"misc\"] = misc_count"
   ]
  },
  {
   "cell_type": "code",
   "execution_count": null,
   "id": "black-shelter",
   "metadata": {},
   "outputs": [],
   "source": [
    "top_ten_mode_confirm"
   ]
  },
  {
   "cell_type": "code",
   "execution_count": null,
   "id": "electronic-culture",
   "metadata": {},
   "outputs": [],
   "source": [
    "ax = top_ten_mode_confirm.mode_confirm.plot.pie()\n",
    "ax.set_ylabel(\"\")\n",
    "ax.set_title(\"Travel modes selected by users\")"
   ]
  },
  {
   "cell_type": "code",
   "execution_count": null,
   "id": "tropical-pride",
   "metadata": {},
   "outputs": [],
   "source": [
    "ax.figure.savefig(\"/plots/mode_confirm_%04d_%02d_%s.png\" % (year, month, program))"
   ]
  },
  {
   "cell_type": "code",
   "execution_count": null,
   "id": "promotional-trustee",
   "metadata": {},
   "outputs": [],
   "source": [
    "below_top_ten_mode_confirm = mode_confirm_vals_df.iloc[9:]\n",
    "below_top_ten_mode_confirm"
   ]
  },
  {
   "cell_type": "code",
   "execution_count": null,
   "id": "economic-galaxy",
   "metadata": {},
   "outputs": [],
   "source": [
    "ax = below_top_ten_mode_confirm.mode_confirm.plot.pie()\n",
    "ax.set_ylabel(\"\")\n",
    "ax.set_title(\"Expansion of the 'misc' travel modes\")"
   ]
  },
  {
   "cell_type": "code",
   "execution_count": null,
   "id": "located-license",
   "metadata": {},
   "outputs": [],
   "source": [
    "ax.figure.savefig(\"/plots/mode_confirm_misc_expand_%04d_%02d_%s.png\" % (year, month, program))"
   ]
  },
  {
   "cell_type": "code",
   "execution_count": null,
   "id": "material-discovery",
   "metadata": {},
   "outputs": [],
   "source": []
  }
 ],
 "metadata": {
  "kernelspec": {
   "display_name": "Python 3",
   "language": "python",
   "name": "python3"
  },
  "language_info": {
   "codemirror_mode": {
    "name": "ipython",
    "version": 3
   },
   "file_extension": ".py",
   "mimetype": "text/x-python",
   "name": "python",
   "nbconvert_exporter": "python",
   "pygments_lexer": "ipython3",
   "version": "3.7.9"
  }
 },
 "nbformat": 4,
 "nbformat_minor": 5
}

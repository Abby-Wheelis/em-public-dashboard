{
 "cells": [
  {
   "cell_type": "markdown",
   "id": "e9684305",
   "metadata": {},
   "source": [
    "# Can Bike CO Data Cleaning\n",
    "\n",
    "This notebook performs the data treatments we outline in the paper, narrowing the dataset down from it's original size to the 122 users and 61,496 trips we analyze in the paper. The csv from TSDC can be inputted to the notebook as \"trip_program.csv\" and will be transformed and saved as \"filtered_and_merged_trips.csv\". This filtered and merged file is what can be used as input to the analysis notebook. "
   ]
  },
  {
   "cell_type": "markdown",
   "id": "7aee77d3",
   "metadata": {},
   "source": [
    "## Setup: dependencies and reading in raw file"
   ]
  },
  {
   "cell_type": "code",
   "execution_count": 1,
   "id": "6139da5c",
   "metadata": {},
   "outputs": [],
   "source": [
    "#dependencies\n",
    "\n",
    "import pandas as pd\n",
    "import numpy as np\n",
    "\n",
    "from collections import defaultdict"
   ]
  },
  {
   "cell_type": "code",
   "execution_count": 2,
   "id": "612c368d",
   "metadata": {},
   "outputs": [],
   "source": [
    "# Loading mapping dictionaries from mapping_dictionaries notebook\n",
    "%store -r df_ei\n",
    "%store -r dic_re\n",
    "%store -r dic_pur\n",
    "%store -r dic_fuel\n",
    "\n",
    "# convert a dictionary to a defaultdict\n",
    "dic_re = defaultdict(lambda: 'Other',dic_re)\n",
    "dic_pur = defaultdict(lambda: 'Other',dic_pur)\n",
    "dic_fuel = defaultdict(lambda: 'Other',dic_fuel)"
   ]
  },
  {
   "cell_type": "code",
   "execution_count": 3,
   "id": "b1606878",
   "metadata": {},
   "outputs": [
    {
     "name": "stdout",
     "output_type": "stream",
     "text": [
      "92395\n"
     ]
    },
    {
     "data": {
      "text/plain": [
       "235"
      ]
     },
     "execution_count": 3,
     "metadata": {},
     "output_type": "execute_result"
    }
   ],
   "source": [
    "#read in the raw csv -- all labeled trips?\n",
    "data = pd.read_csv(\"trip_program.csv\")\n",
    "print(len(data)) #92395\n",
    "data['user_id'].nunique() #235"
   ]
  },
  {
   "cell_type": "markdown",
   "id": "fc47f7c2",
   "metadata": {},
   "source": [
    "## Filter out stage & minipilot"
   ]
  },
  {
   "cell_type": "code",
   "execution_count": 4,
   "id": "ab83b18e",
   "metadata": {},
   "outputs": [
    {
     "name": "stdout",
     "output_type": "stream",
     "text": [
      "81568\n",
      "79194\n"
     ]
    }
   ],
   "source": [
    "#filter out stage and mini pilot users and trips from the full trip dataset\n",
    "data_non_stage = data[data.program != \"stage\"]\n",
    "print(len(data_non_stage))\n",
    "data_non_stage_non_mini = data_non_stage[data_non_stage.program != \"prepilot\"]\n",
    "print(len(data_non_stage_non_mini))"
   ]
  },
  {
   "cell_type": "code",
   "execution_count": 5,
   "id": "83703424",
   "metadata": {},
   "outputs": [
    {
     "data": {
      "text/plain": [
       "164"
      ]
     },
     "execution_count": 5,
     "metadata": {},
     "output_type": "execute_result"
    }
   ],
   "source": [
    "data_non_stage_non_mini['user_id'].nunique()"
   ]
  },
  {
   "cell_type": "code",
   "execution_count": 6,
   "id": "c254747b",
   "metadata": {},
   "outputs": [
    {
     "data": {
      "text/plain": [
       "array(['4c', 'cc', 'fc', 'pc', 'sc', 'vail'], dtype=object)"
      ]
     },
     "execution_count": 6,
     "metadata": {},
     "output_type": "execute_result"
    }
   ],
   "source": [
    "data_non_stage_non_mini['program'].unique()"
   ]
  },
  {
   "cell_type": "markdown",
   "id": "5821fcbe",
   "metadata": {},
   "source": [
    "## Merge with the Sociodemographic Data"
   ]
  },
  {
   "cell_type": "code",
   "execution_count": 7,
   "id": "79f074c1",
   "metadata": {},
   "outputs": [],
   "source": [
    "expanded_ct = data.copy()\n",
    "socio_data = pd.read_csv(\"Can Do Colorado eBike Program - en.csv\")\n",
    "socio_data.rename(columns={'Unique User ID (auto-filled, do not edit)':'user_id',\n",
    "                          'Please identify which category represents your total household income, before taxes, for last year.':'HHINC',\n",
    "                          'How many motor vehicles are owned, leased, or available for regular use by the people who currently live in your household?':'VEH',\n",
    "                           'In which year were you born?':'AGE',\n",
    "                          'Including yourself, how many people live in your home?':'HHSIZE',\n",
    "                          'How many children under age 18 live in your home?':'CHILDREN',\n",
    "                          'What is your gender?':'GENDER',\n",
    "                          'If you were unable to use your household vehicle(s), which of the following options would be available to you to get you from place to place?':'available_modes',\n",
    "                          'Are you a student?':'STUDENT'}, inplace=True)\n",
    "socio_data = socio_data[~socio_data.user_id.isnull()]"
   ]
  },
  {
   "cell_type": "code",
   "execution_count": 8,
   "id": "209a277b",
   "metadata": {},
   "outputs": [],
   "source": [
    "# socio_data.head() #use to check the data"
   ]
  },
  {
   "cell_type": "code",
   "execution_count": 9,
   "id": "ffc7e547",
   "metadata": {},
   "outputs": [],
   "source": [
    "# Deal with people who have multiple responses by using most recent\n",
    "socio_data = socio_data.sort_values(by=['user_id', 'Timestamp'])\n",
    "socio_data.drop_duplicates(subset=['user_id'], keep='last', inplace=True)\n",
    "socio_data['user_id_socio'] = socio_data.user_id\n",
    "socio_data = socio_data.drop(labels='user_id', axis=1)\n",
    "\n",
    "# socio_data.head()"
   ]
  },
  {
   "cell_type": "code",
   "execution_count": 10,
   "id": "66494032",
   "metadata": {},
   "outputs": [
    {
     "name": "stdout",
     "output_type": "stream",
     "text": [
      "81547\n"
     ]
    }
   ],
   "source": [
    "# Lose some trips due to people with no survey responses\n",
    "expanded_ct['user_id_socio'] = expanded_ct.user_id.astype(str)\n",
    "expanded_ct.user_id_socio = [i.replace('-','') for i in expanded_ct.user_id_socio] # remove all dashes from strings\n",
    "expanded_ct = expanded_ct.merge(socio_data, on='user_id_socio')\n",
    "print(len(expanded_ct))\n",
    "\n",
    "\n",
    "# expanded_ct.head()\n",
    "#optionally save the csv at this point\n",
    "#expanded_ct.to_csv(\"expanded_ct.csv\")"
   ]
  },
  {
   "cell_type": "markdown",
   "id": "33602cdc",
   "metadata": {},
   "source": [
    "## Filtering the whole dataset"
   ]
  },
  {
   "cell_type": "code",
   "execution_count": 11,
   "id": "0eb32fa4",
   "metadata": {},
   "outputs": [
    {
     "name": "stdout",
     "output_type": "stream",
     "text": [
      "74017\n"
     ]
    }
   ],
   "source": [
    "# Optionally initialize from saved dataset\n",
    "#data = pd.read_csv(\"expanded_ct.csv\")\n",
    "# Or continue from data loaded from the database\n",
    "data = expanded_ct.copy()\n",
    "\n",
    "# Get timestamp from known year/month/day aggregated to days\n",
    "data.rename(columns={'start_local_dt_year':'year','start_local_dt_month':'month','start_local_dt_day':'day'}, inplace=True)\n",
    "data['date_time'] = pd.to_datetime(data[['year','month','day']])\n",
    "\n",
    "# Fix age (birth year to age)\n",
    "data['AGE'] = 2022 - data['AGE']\n",
    "\n",
    "# Number of workers (size of HH - kids)\n",
    "data['WORKERS'] = data['HHSIZE'] - data['CHILDREN']\n",
    "\n",
    "# Duration in minutes (hours to minutes)\n",
    "data['duration'] = data['duration'] / 60\n",
    "\n",
    "# E-bike/not E-Bike variable\n",
    "data['is_ebike'] = \"E-Bike Trips\"\n",
    "data.loc[data['Mode_confirm']!=\"E-bike\", 'is_ebike'] = \"Non E-Bike Trips\"\n",
    "\n",
    "data = data[~data['HHINC'].isin(['Prefer not to say', '$150,000'])] # Side note why is 150k (n=7) its own bin?\n",
    "data['HHINC_NUM'] = data.HHINC.replace(['Less than $24,999',\n",
    "                                       '$25,000-$49,999',\n",
    "                                       '$50,000-$99,999',\n",
    "                                       '$100,000 -$149,999',\n",
    "                                       '$150,000-$199,999',\n",
    "                                       '$200,000 or more'], [12500,37500,75000,125000,175000,250000])\n",
    "\n",
    "# Calculate average income per adult in the household\n",
    "data['PINC'] = data['HHINC_NUM'] / data['WORKERS']\n",
    "\n",
    "# Combine variable categories\n",
    "data = data.replace('Gas Car, drove alone', 'Car')\n",
    "data = data.replace('Gas Car, with others', 'Shared Car')\n",
    "data = data.replace('Bikeshare', 'Shared Micromobility')\n",
    "data = data.replace('Scooter share', 'Shared Micromobility')\n",
    "data = data.replace('Regular Bike', 'Personal Micromobility')\n",
    "data = data.replace('Skate board', 'Personal Micromobility')\n",
    "data = data.replace('Train', 'Transit')\n",
    "data = data.replace('Free Shuttle', 'Transit')\n",
    "data = data.replace('Bus', 'Transit')\n",
    "data = data.replace('Walk', 'Walk')\n",
    "data = data.replace('Taxi/Uber/Lyft', 'Ridehail')\n",
    "data = data.replace('Pilot ebike', 'E-Bike')\n",
    "\n",
    "# Categorical type will include all days/modes in groupby even if there is no data for a particular tabulation\n",
    "data.user_id = pd.Categorical(data.user_id)\n",
    "data.date_time = pd.Categorical(data.date_time)\n",
    "data.mode_confirm = pd.Categorical(data.mode_confirm, ordered=True, categories=np.unique(list(dic_re.keys())))\n",
    "\n",
    "# Add order to categorical variables\n",
    "data.HHINC = pd.Categorical(data.HHINC, ordered=True, categories=['Less than $24,999',\n",
    "                                                                 '$25,000-$49,999',\n",
    "                                                                 '$50,000-$99,999'])\n",
    "data['Mode'] = pd.Categorical(data.Mode_confirm, ordered=True, categories=[\n",
    "    'E-bike',\n",
    "    'Car',\n",
    "    'Shared Car',\n",
    "    'Walk',\n",
    "    'Transit',\n",
    "    'Personal Micromobility',\n",
    "    'Shared Micromobility',\n",
    "    'Ridehail',\n",
    "    'Other'])\n",
    "data.VEH = pd.Categorical(data.VEH, ordered=True, categories=['0','1','2','3','4+'])\n",
    "data['PINC_NUM'] = data['PINC']\n",
    "data.PINC = pd.cut(data.PINC, bins=[0,10000,20000,30000,40000,50000,60000,70000,999999],\n",
    "                  labels=[\"$0-9\",\n",
    "                         \"$10-19\",\n",
    "                         \"$20-29\",\n",
    "                         \"$30-39\",\n",
    "                         \"$40-49\",\n",
    "                         \"$50-59\",\n",
    "                         \"$60-69\",\n",
    "                         \"$70+\"])\n",
    "\n",
    "# Vehicles per driver\n",
    "data['VEH_num'] = data['VEH'].replace(['1','2','3','4+'],[1,2,3,4]).astype(int)\n",
    "data['DRIVERS'] = data[\"Including yourself, how many people have a driver's license in your household?\"]\n",
    "data['DRIVERS_num'] = data['DRIVERS'].replace\n",
    "data['veh_per_driver'] = (data['VEH_num'] / data['DRIVERS']).fillna(0)\n",
    "data.loc[data['veh_per_driver']==np.inf, 'veh_per_driver'] = 0\n",
    "\n",
    "print(len(data))"
   ]
  },
  {
   "cell_type": "code",
   "execution_count": 12,
   "id": "57a92f6a",
   "metadata": {},
   "outputs": [
    {
     "name": "stdout",
     "output_type": "stream",
     "text": [
      "69848\n"
     ]
    }
   ],
   "source": [
    "#filtered out ages that were greater than 100\n",
    "data = data[data['AGE'] < 100]\n",
    "#filter out durations longer than 8 hours\n",
    "data = data[data['duration']<480]\n",
    "#distances more than 50 miles \n",
    "data = data[data['distance_miles']<50]\n",
    "#records that had ’prefer not to say’ as a response for household income, household vehicles, and other available modes\n",
    "data = data[~data['HHINC'].isin(['Prefer not to say','$100,000 -$149,999','$150,000','$150,000-$199,999','$200,000 or more'])] # Side note why is 150k (n=7) its own bin?\n",
    "data = data[~data['VEH'].isin(['Prefer not to say / Prefiero no decir.'])]\n",
    "data = data[~data['available_modes'].isin(['None', 'Prefer not to say'])]\n",
    "\n",
    "#filter household sizes smaller than the number of kids\n",
    "data = data[data['HHSIZE']>data['CHILDREN']]\n",
    "#filter out households greater than 10\n",
    "data = data[data['HHSIZE']<10]\n",
    "\n",
    "print(len(data))"
   ]
  },
  {
   "cell_type": "code",
   "execution_count": 13,
   "id": "043281f6",
   "metadata": {},
   "outputs": [
    {
     "name": "stdout",
     "output_type": "stream",
     "text": [
      "67686\n",
      "0\n"
     ]
    }
   ],
   "source": [
    "#filter out 'not a trip' trips\n",
    "data = data[~data['Mode_confirm'].isin(['Not a Trip'])]\n",
    "data = data[~data['Replaced_mode'].isin(['Not a Trip'])]\n",
    "data = data[~data['Trip_purpose'].isin(['not_a_trip'])]\n",
    "\n",
    "print(len(data))\n",
    "\n",
    "a = data[data['AGE']>100]\n",
    "print(len(a)) #should be 0"
   ]
  },
  {
   "cell_type": "markdown",
   "id": "b6bec354",
   "metadata": {},
   "source": [
    "## Filter out trips prior to user's 1st Ebike Trip - done by program\n"
   ]
  },
  {
   "cell_type": "code",
   "execution_count": 14,
   "id": "5f694b05",
   "metadata": {},
   "outputs": [
    {
     "name": "stdout",
     "output_type": "stream",
     "text": [
      "10\n",
      "43\n",
      "26\n",
      "32\n",
      "13\n",
      "8\n",
      "3356\n",
      "25409\n",
      "10952\n",
      "13072\n",
      "6886\n",
      "4321\n"
     ]
    }
   ],
   "source": [
    "#separating programs\n",
    "four_corners = data[data.program == \"4c\"]\n",
    "community_cycles = data[data.program == \"cc\"]\n",
    "fort_collins = data[data.program == \"fc\"]\n",
    "pueblo = data[data.program == \"pc\"]\n",
    "smart_commute = data[data.program == \"sc\"]\n",
    "vail = data[data.program == \"vail\"]\n",
    "\n",
    "print(four_corners['user_id'].nunique())\n",
    "print(community_cycles['user_id'].nunique())\n",
    "print(fort_collins['user_id'].nunique())\n",
    "print(pueblo['user_id'].nunique())\n",
    "print(smart_commute['user_id'].nunique())\n",
    "print(vail['user_id'].nunique())\n",
    "\n",
    "print(len(four_corners))\n",
    "print(len(community_cycles))\n",
    "print(len(fort_collins))\n",
    "print(len(pueblo))\n",
    "print(len(smart_commute))\n",
    "print(len(vail))"
   ]
  },
  {
   "cell_type": "code",
   "execution_count": 15,
   "id": "a9733292",
   "metadata": {},
   "outputs": [],
   "source": [
    "#filtering each of them\n",
    "from datetime import datetime"
   ]
  },
  {
   "cell_type": "code",
   "execution_count": 16,
   "id": "0c425ea7",
   "metadata": {},
   "outputs": [
    {
     "name": "stderr",
     "output_type": "stream",
     "text": [
      "/tmp/ipykernel_114/3643144510.py:4: SettingWithCopyWarning: \n",
      "A value is trying to be set on a copy of a slice from a DataFrame.\n",
      "Try using .loc[row_indexer,col_indexer] = value instead\n",
      "\n",
      "See the caveats in the documentation: https://pandas.pydata.org/pandas-docs/stable/user_guide/indexing.html#returning-a-view-versus-a-copy\n",
      "  smart_commute['start_ts']= pd.to_datetime(smart_commute['start_ts'], utc=True, unit='s')\n"
     ]
    },
    {
     "name": "stdout",
     "output_type": "stream",
     "text": [
      "13\n",
      "11\n",
      "11\n"
     ]
    }
   ],
   "source": [
    "#smart commute filtering\n",
    "\n",
    "#timestamp conversion\n",
    "smart_commute['start_ts']= pd.to_datetime(smart_commute['start_ts'], utc=True, unit='s')\n",
    "\n",
    "#grouping, counting unique users\n",
    "trip_sep=smart_commute.groupby(['user_id','Mode_confirm']).apply(lambda x:x[x.start_ts==min(x.start_ts)])\n",
    "print(trip_sep['user_id'].nunique())\n",
    "\n",
    "#consider only trips with E-bike (to get first e-bike trip)\n",
    "sc_ebike_first=trip_sep[trip_sep['Mode_confirm']=='E-bike']\n",
    "\n",
    "#get all the trips by ysers who ever had an e-bike trip\n",
    "sc_ebike_user_list= sc_ebike_first['user_id'].tolist()\n",
    "smart_commute_incl_ebike = smart_commute[smart_commute['user_id'].isin(sc_ebike_user_list)]\n",
    "print(smart_commute_incl_ebike['user_id'].nunique())\n",
    "\n",
    "#filter to the earliest ebike trip\n",
    "for unique_id in sc_ebike_first['user_id']:\n",
    "    for date in sc_ebike_first['start_ts']:\n",
    "        smart_commute_ebike_first=smart_commute_incl_ebike[(smart_commute_incl_ebike['start_ts'] >= date)]\n",
    "\n",
    "sc_unique_ebikefirst=smart_commute_ebike_first['user_id'].unique()\n",
    "print(smart_commute_ebike_first['user_id'].nunique()) #11"
   ]
  },
  {
   "cell_type": "code",
   "execution_count": 17,
   "id": "7ff39352",
   "metadata": {},
   "outputs": [
    {
     "name": "stderr",
     "output_type": "stream",
     "text": [
      "/tmp/ipykernel_114/4259660508.py:2: SettingWithCopyWarning: \n",
      "A value is trying to be set on a copy of a slice from a DataFrame.\n",
      "Try using .loc[row_indexer,col_indexer] = value instead\n",
      "\n",
      "See the caveats in the documentation: https://pandas.pydata.org/pandas-docs/stable/user_guide/indexing.html#returning-a-view-versus-a-copy\n",
      "  four_corners['start_ts']= pd.to_datetime(four_corners['start_ts'], utc=True, unit='s')\n"
     ]
    },
    {
     "name": "stdout",
     "output_type": "stream",
     "text": [
      "10\n",
      "10\n",
      "10\n"
     ]
    }
   ],
   "source": [
    "#filter four corners\n",
    "four_corners['start_ts']= pd.to_datetime(four_corners['start_ts'], utc=True, unit='s')\n",
    "\n",
    "trip_sep_fc=four_corners.groupby(['user_id','Mode_confirm']).apply(lambda x:x[x.start_ts==min(x.start_ts)])\n",
    "print(trip_sep_fc['user_id'].nunique())\n",
    "\n",
    "fc_ebike_first=trip_sep_fc[trip_sep_fc['Mode_confirm']=='E-bike']\n",
    "\n",
    "fc_ebike_user_list= fc_ebike_first['user_id'].tolist()\n",
    "four_corners_incl_ebike = four_corners[four_corners['user_id'].isin(fc_ebike_user_list)]\n",
    "print(four_corners_incl_ebike['user_id'].nunique())\n",
    "\n",
    "for unique_id in fc_ebike_first['user_id']:\n",
    "    for date in fc_ebike_first['start_ts']:\n",
    "        four_corners_ebike_first=four_corners_incl_ebike[(four_corners_incl_ebike['start_ts'] >= date)]\n",
    "        \n",
    "fc_unique_ebikefirst=four_corners_ebike_first['user_id'].unique()\n",
    "print(four_corners_ebike_first['user_id'].nunique())"
   ]
  },
  {
   "cell_type": "code",
   "execution_count": 18,
   "id": "d9e00678",
   "metadata": {},
   "outputs": [
    {
     "name": "stderr",
     "output_type": "stream",
     "text": [
      "/tmp/ipykernel_114/1138286727.py:2: SettingWithCopyWarning: \n",
      "A value is trying to be set on a copy of a slice from a DataFrame.\n",
      "Try using .loc[row_indexer,col_indexer] = value instead\n",
      "\n",
      "See the caveats in the documentation: https://pandas.pydata.org/pandas-docs/stable/user_guide/indexing.html#returning-a-view-versus-a-copy\n",
      "  community_cycles['start_ts']= pd.to_datetime(community_cycles['start_ts'], utc=True, unit='s')\n"
     ]
    },
    {
     "name": "stdout",
     "output_type": "stream",
     "text": [
      "43\n",
      "42\n",
      "42\n"
     ]
    }
   ],
   "source": [
    "#filtering community cycles\n",
    "community_cycles['start_ts']= pd.to_datetime(community_cycles['start_ts'], utc=True, unit='s')\n",
    "\n",
    "trip_sep_cc=community_cycles.groupby(['user_id','Mode_confirm']).apply(lambda x:x[x.start_ts==min(x.start_ts)])\n",
    "print(trip_sep_cc['user_id'].nunique())\n",
    "\n",
    "cc_ebike_first=trip_sep_cc[trip_sep_cc['Mode_confirm']=='E-bike']\n",
    "\n",
    "cc_ebike_user_list= cc_ebike_first['user_id'].tolist()\n",
    "community_cycles_incl_ebike = community_cycles[community_cycles['user_id'].isin(cc_ebike_user_list)]\n",
    "print(community_cycles_incl_ebike['user_id'].nunique())\n",
    "\n",
    "for unique_id in cc_ebike_first['user_id']:\n",
    "    for date in cc_ebike_first['start_ts']:\n",
    "        community_cycles_ebike_first=community_cycles_incl_ebike[(community_cycles_incl_ebike['start_ts'] >= date)]\n",
    "\n",
    "cc_unique_ebikefirst=community_cycles_ebike_first['user_id'].unique()\n",
    "print(community_cycles_ebike_first['user_id'].nunique())"
   ]
  },
  {
   "cell_type": "code",
   "execution_count": 19,
   "id": "ee513f85",
   "metadata": {},
   "outputs": [
    {
     "name": "stderr",
     "output_type": "stream",
     "text": [
      "/tmp/ipykernel_114/1774079327.py:2: SettingWithCopyWarning: \n",
      "A value is trying to be set on a copy of a slice from a DataFrame.\n",
      "Try using .loc[row_indexer,col_indexer] = value instead\n",
      "\n",
      "See the caveats in the documentation: https://pandas.pydata.org/pandas-docs/stable/user_guide/indexing.html#returning-a-view-versus-a-copy\n",
      "  fort_collins['start_ts']= pd.to_datetime(fort_collins['start_ts'], utc=True, unit='s')\n"
     ]
    },
    {
     "name": "stdout",
     "output_type": "stream",
     "text": [
      "26\n",
      "22\n",
      "22\n"
     ]
    }
   ],
   "source": [
    "#filtering fort collins\n",
    "fort_collins['start_ts']= pd.to_datetime(fort_collins['start_ts'], utc=True, unit='s')\n",
    "\n",
    "trip_sep_fc=fort_collins.groupby(['user_id','Mode_confirm']).apply(lambda x:x[x.start_ts==min(x.start_ts)])\n",
    "print(trip_sep_fc['user_id'].nunique())\n",
    "\n",
    "fc_ebike_first=trip_sep_fc[trip_sep_fc['Mode_confirm']=='E-bike']\n",
    "\n",
    "fc_ebike_user_list= fc_ebike_first['user_id'].tolist()\n",
    "fort_collins_incl_ebike = fort_collins[fort_collins['user_id'].isin(fc_ebike_user_list)]\n",
    "print(fort_collins_incl_ebike['user_id'].nunique())\n",
    "\n",
    "for unique_id in fc_ebike_first['user_id']:\n",
    "    for date in fc_ebike_first['start_ts']:\n",
    "        fort_collins_ebike_first=fort_collins_incl_ebike[(fort_collins_incl_ebike['start_ts'] >= date)]\n",
    "        \n",
    "fc_unique_ebikefirst=fort_collins_ebike_first['user_id'].unique()\n",
    "print(fort_collins_ebike_first['user_id'].nunique())"
   ]
  },
  {
   "cell_type": "code",
   "execution_count": 20,
   "id": "7f1a3bbe",
   "metadata": {},
   "outputs": [
    {
     "name": "stderr",
     "output_type": "stream",
     "text": [
      "/tmp/ipykernel_114/950012586.py:2: SettingWithCopyWarning: \n",
      "A value is trying to be set on a copy of a slice from a DataFrame.\n",
      "Try using .loc[row_indexer,col_indexer] = value instead\n",
      "\n",
      "See the caveats in the documentation: https://pandas.pydata.org/pandas-docs/stable/user_guide/indexing.html#returning-a-view-versus-a-copy\n",
      "  pueblo['start_ts']= pd.to_datetime(pueblo['start_ts'], utc=True, unit='s')\n"
     ]
    },
    {
     "name": "stdout",
     "output_type": "stream",
     "text": [
      "32\n",
      "29\n",
      "29\n"
     ]
    }
   ],
   "source": [
    "#filtering pueblo\n",
    "pueblo['start_ts']= pd.to_datetime(pueblo['start_ts'], utc=True, unit='s')\n",
    "\n",
    "trip_sep_pu=pueblo.groupby(['user_id','Mode_confirm']).apply(lambda x:x[x.start_ts==min(x.start_ts)])\n",
    "print(trip_sep_pu['user_id'].nunique())\n",
    "\n",
    "pu_ebike_first=trip_sep_pu[trip_sep_pu['Mode_confirm']=='E-bike']\n",
    "\n",
    "pu_ebike_user_list= pu_ebike_first['user_id'].tolist()\n",
    "pueblo_incl_ebike = pueblo[pueblo['user_id'].isin(pu_ebike_user_list)]\n",
    "print(pueblo_incl_ebike['user_id'].nunique())\n",
    "\n",
    "for unique_id in pu_ebike_first['user_id']:\n",
    "    for date in pu_ebike_first['start_ts']:\n",
    "        pueblo_ebike_first=pueblo_incl_ebike[(pueblo_incl_ebike['start_ts'] >= date)]\n",
    "        \n",
    "pu_unique_ebikefirst=pueblo_ebike_first['user_id'].unique()\n",
    "print(pueblo_ebike_first['user_id'].nunique())"
   ]
  },
  {
   "cell_type": "code",
   "execution_count": 21,
   "id": "31457b29",
   "metadata": {},
   "outputs": [
    {
     "name": "stderr",
     "output_type": "stream",
     "text": [
      "/tmp/ipykernel_114/3916199498.py:2: SettingWithCopyWarning: \n",
      "A value is trying to be set on a copy of a slice from a DataFrame.\n",
      "Try using .loc[row_indexer,col_indexer] = value instead\n",
      "\n",
      "See the caveats in the documentation: https://pandas.pydata.org/pandas-docs/stable/user_guide/indexing.html#returning-a-view-versus-a-copy\n",
      "  vail['start_ts']= pd.to_datetime(vail['start_ts'], utc=True, unit='s')\n"
     ]
    },
    {
     "name": "stdout",
     "output_type": "stream",
     "text": [
      "8\n",
      "8\n",
      "8\n"
     ]
    }
   ],
   "source": [
    "#filtering vail\n",
    "vail['start_ts']= pd.to_datetime(vail['start_ts'], utc=True, unit='s')\n",
    "\n",
    "trip_sep_va=vail.groupby(['user_id','Mode_confirm']).apply(lambda x:x[x.start_ts==min(x.start_ts)])\n",
    "print(trip_sep_va['user_id'].nunique())\n",
    "\n",
    "va_ebike_first=trip_sep_va[trip_sep_va['Mode_confirm']=='E-bike']\n",
    "\n",
    "va_ebike_user_list= va_ebike_first['user_id'].tolist()\n",
    "vail_incl_ebike = vail[vail['user_id'].isin(va_ebike_user_list)]\n",
    "print(vail_incl_ebike['user_id'].nunique())\n",
    "\n",
    "for unique_id in va_ebike_first['user_id']:\n",
    "    for date in va_ebike_first['start_ts']:\n",
    "        vail_ebike_first=vail_incl_ebike[(vail_incl_ebike['start_ts'] >= date)]\n",
    "        \n",
    "va_unique_ebikefirst=vail_ebike_first['user_id'].unique()\n",
    "print(vail_ebike_first['user_id'].nunique())"
   ]
  },
  {
   "cell_type": "code",
   "execution_count": 22,
   "id": "f1ba436d",
   "metadata": {},
   "outputs": [],
   "source": [
    "## Recombine the Filtered Programs"
   ]
  },
  {
   "cell_type": "code",
   "execution_count": 23,
   "id": "6c05dc74",
   "metadata": {},
   "outputs": [
    {
     "name": "stdout",
     "output_type": "stream",
     "text": [
      "10\n",
      "42\n",
      "22\n",
      "29\n",
      "11\n",
      "8\n",
      "2240\n",
      "25151\n",
      "10656\n",
      "12620\n",
      "6515\n",
      "4314\n"
     ]
    }
   ],
   "source": [
    "#checking num users and num trips in each program\n",
    "print(four_corners_ebike_first['user_id'].nunique())\n",
    "print(community_cycles_ebike_first['user_id'].nunique())\n",
    "print(fort_collins_ebike_first['user_id'].nunique())\n",
    "print(pueblo_ebike_first['user_id'].nunique())\n",
    "print(smart_commute_ebike_first['user_id'].nunique())\n",
    "print(vail_ebike_first['user_id'].nunique())\n",
    "\n",
    "print(len(four_corners_ebike_first))\n",
    "print(len(community_cycles_ebike_first))\n",
    "print(len(fort_collins_ebike_first))\n",
    "print(len(pueblo_ebike_first))\n",
    "print(len(smart_commute_ebike_first))\n",
    "print(len(vail_ebike_first))"
   ]
  },
  {
   "cell_type": "code",
   "execution_count": 24,
   "id": "3c25973d",
   "metadata": {},
   "outputs": [
    {
     "name": "stdout",
     "output_type": "stream",
     "text": [
      "61496\n",
      "122\n"
     ]
    }
   ],
   "source": [
    "#combining the filtered datasets\n",
    "filtered_merged = pd.concat([four_corners_ebike_first, community_cycles_ebike_first, fort_collins_ebike_first, \n",
    "                             pueblo_ebike_first, smart_commute_ebike_first,vail_ebike_first], axis=0)\n",
    "print(len(filtered_merged))\n",
    "print(filtered_merged['user_id'].nunique())"
   ]
  },
  {
   "cell_type": "markdown",
   "id": "17290400",
   "metadata": {},
   "source": [
    "## Save to CSV for use in Analysis Notebooks"
   ]
  },
  {
   "cell_type": "code",
   "execution_count": 25,
   "id": "d616fab4",
   "metadata": {},
   "outputs": [
    {
     "data": {
      "text/plain": [
       "Index(['source', 'end_ts', 'end_fmt_time', 'end_loc', 'raw_trip', 'start_ts',\n",
       "       'start_fmt_time', 'start_loc', 'duration', 'distance', 'start_place',\n",
       "       'end_place', 'cleaned_trip', 'inferred_labels', 'inferred_trip',\n",
       "       'expectation', 'confidence_threshold', 'expected_trip', 'user_input',\n",
       "       'year', 'month', 'day', 'start_local_dt_hour', 'start_local_dt_minute',\n",
       "       'start_local_dt_second', 'start_local_dt_weekday',\n",
       "       'start_local_dt_timezone', 'end_local_dt_year', 'end_local_dt_month',\n",
       "       'end_local_dt_day', 'end_local_dt_hour', 'end_local_dt_minute',\n",
       "       'end_local_dt_second', 'end_local_dt_weekday', 'end_local_dt_timezone',\n",
       "       '_id', 'user_id', 'metadata_write_ts', 'mode_confirm',\n",
       "       'purpose_confirm', 'replaced_mode', 'distance_miles', 'Mode_confirm',\n",
       "       'Replaced_mode', 'Trip_purpose', 'user_id_str', 'program', 'opcode',\n",
       "       'distance_km', 'user_id_socio', 'Timestamp', 'AGE', 'GENDER',\n",
       "       'Do you have a valid driver's license?', 'STUDENT',\n",
       "       'What is the highest grade or degree that you have completed?',\n",
       "       'Do you work for either pay or profit?',\n",
       "       'Do you have more than one job?',\n",
       "       'Do you work full-time or part-time at your primary job?',\n",
       "       'Which best describes your primary job?',\n",
       "       'How did you usually get to your primary job last week? ',\n",
       "       'Thinking about your daily commute to work last week, how many minutes did it usually take to get from home to the primary job/work place?',\n",
       "       'At your primary job, do you have the ability to set or change your own start time?',\n",
       "       'Do you have the option of working from home or an alternate location instead of going into your primary work place?',\n",
       "       'How many days per week do you usually work from home or an alternate location?',\n",
       "       'Which one below describe you best?',\n",
       "       'Do you own or rent your place of residence?',\n",
       "       'What is your home type?', 'HHINC', 'HHSIZE', 'CHILDREN',\n",
       "       'Including yourself, how many people have a driver's license in your household?',\n",
       "       'VEH', 'available_modes',\n",
       "       'Do you have a medical condition that makes it difficult to travel outside of the home?',\n",
       "       'How long have you had this condition?', 'date_time', 'WORKERS',\n",
       "       'is_ebike', 'HHINC_NUM', 'PINC', 'Mode', 'PINC_NUM', 'VEH_num',\n",
       "       'DRIVERS', 'DRIVERS_num', 'veh_per_driver'],\n",
       "      dtype='object')"
      ]
     },
     "execution_count": 25,
     "metadata": {},
     "output_type": "execute_result"
    }
   ],
   "source": [
    "filtered_merged.columns"
   ]
  },
  {
   "cell_type": "code",
   "execution_count": 26,
   "id": "ec980170",
   "metadata": {},
   "outputs": [],
   "source": [
    "#save as a csv, to be used as input to analysis!\n",
    "filtered_merged.to_csv(\"filtered_merged_trips.csv\")"
   ]
  },
  {
   "cell_type": "code",
   "execution_count": 32,
   "id": "40d77bc9",
   "metadata": {},
   "outputs": [
    {
     "name": "stdout",
     "output_type": "stream",
     "text": [
      "122\n"
     ]
    },
    {
     "data": {
      "text/html": [
       "<div>\n",
       "<style scoped>\n",
       "    .dataframe tbody tr th:only-of-type {\n",
       "        vertical-align: middle;\n",
       "    }\n",
       "\n",
       "    .dataframe tbody tr th {\n",
       "        vertical-align: top;\n",
       "    }\n",
       "\n",
       "    .dataframe thead th {\n",
       "        text-align: right;\n",
       "    }\n",
       "</style>\n",
       "<table border=\"1\" class=\"dataframe\">\n",
       "  <thead>\n",
       "    <tr style=\"text-align: right;\">\n",
       "      <th></th>\n",
       "      <th>distance_miles</th>\n",
       "      <th>duration</th>\n",
       "    </tr>\n",
       "  </thead>\n",
       "  <tbody>\n",
       "    <tr>\n",
       "      <th>count</th>\n",
       "      <td>61496.000000</td>\n",
       "      <td>61496.000000</td>\n",
       "    </tr>\n",
       "    <tr>\n",
       "      <th>mean</th>\n",
       "      <td>3.933690</td>\n",
       "      <td>24.145146</td>\n",
       "    </tr>\n",
       "    <tr>\n",
       "      <th>std</th>\n",
       "      <td>5.991457</td>\n",
       "      <td>30.691071</td>\n",
       "    </tr>\n",
       "    <tr>\n",
       "      <th>min</th>\n",
       "      <td>0.062013</td>\n",
       "      <td>0.000068</td>\n",
       "    </tr>\n",
       "    <tr>\n",
       "      <th>25%</th>\n",
       "      <td>0.721590</td>\n",
       "      <td>9.173613</td>\n",
       "    </tr>\n",
       "    <tr>\n",
       "      <th>50%</th>\n",
       "      <td>1.983511</td>\n",
       "      <td>15.289998</td>\n",
       "    </tr>\n",
       "    <tr>\n",
       "      <th>75%</th>\n",
       "      <td>4.342240</td>\n",
       "      <td>28.071609</td>\n",
       "    </tr>\n",
       "    <tr>\n",
       "      <th>max</th>\n",
       "      <td>49.929320</td>\n",
       "      <td>479.495935</td>\n",
       "    </tr>\n",
       "  </tbody>\n",
       "</table>\n",
       "</div>"
      ],
      "text/plain": [
       "       distance_miles      duration\n",
       "count    61496.000000  61496.000000\n",
       "mean         3.933690     24.145146\n",
       "std          5.991457     30.691071\n",
       "min          0.062013      0.000068\n",
       "25%          0.721590      9.173613\n",
       "50%          1.983511     15.289998\n",
       "75%          4.342240     28.071609\n",
       "max         49.929320    479.495935"
      ]
     },
     "execution_count": 32,
     "metadata": {},
     "output_type": "execute_result"
    }
   ],
   "source": []
  },
  {
   "cell_type": "code",
   "execution_count": null,
   "id": "6ebb4bba",
   "metadata": {},
   "outputs": [],
   "source": []
  }
 ],
 "metadata": {
  "kernelspec": {
   "display_name": "Python 3 (ipykernel)",
   "language": "python",
   "name": "python3"
  },
  "language_info": {
   "codemirror_mode": {
    "name": "ipython",
    "version": 3
   },
   "file_extension": ".py",
   "mimetype": "text/x-python",
   "name": "python",
   "nbconvert_exporter": "python",
   "pygments_lexer": "ipython3",
   "version": "3.9.18"
  }
 },
 "nbformat": 4,
 "nbformat_minor": 5
}

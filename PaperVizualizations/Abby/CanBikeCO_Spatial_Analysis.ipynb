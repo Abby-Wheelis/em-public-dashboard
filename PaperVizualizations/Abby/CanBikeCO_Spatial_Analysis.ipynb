{
 "cells": [
  {
   "cell_type": "markdown",
   "id": "5ad33745",
   "metadata": {},
   "source": [
    "# Spatial Analysis\n",
    "\n",
    "Data expected is the processed TSDC data, stored in a csv"
   ]
  },
  {
   "cell_type": "code",
   "execution_count": null,
   "id": "fd37ea51",
   "metadata": {},
   "outputs": [],
   "source": [
    "to_data_folder = \"../Data\" #data folder, where composite data was written from the TSDC_data file\n",
    "to_boundary_folder = \"../Data/muni_boundaries\" #where municipality boundary files are published"
   ]
  },
  {
   "cell_type": "code",
   "execution_count": null,
   "id": "fc5b7c01",
   "metadata": {},
   "outputs": [],
   "source": [
    "# Spatial Analysis\n",
    "import pandas as pd\n",
    "import numpy as np\n",
    "import matplotlib.pyplot as plt"
   ]
  },
  {
   "cell_type": "code",
   "execution_count": null,
   "id": "3c8bcf42",
   "metadata": {},
   "outputs": [],
   "source": [
    "trip_program_df = pd.read_csv(to_data_folder + \"/tsdc_filtered_merged_trips.csv\") #issues here with the columns and data formatting when coming from the TSDC..."
   ]
  },
  {
   "cell_type": "code",
   "execution_count": null,
   "id": "6e6f4b67",
   "metadata": {},
   "outputs": [],
   "source": [
    "trip_program_df.distance"
   ]
  },
  {
   "cell_type": "code",
   "execution_count": null,
   "id": "b4b49054",
   "metadata": {},
   "outputs": [],
   "source": [
    "trip_program_df[\"distance_km\"] = trip_program_df.distance / 1000"
   ]
  },
  {
   "cell_type": "code",
   "execution_count": null,
   "id": "dbee24b4",
   "metadata": {},
   "outputs": [],
   "source": [
    "trip_program_df.dtypes"
   ]
  },
  {
   "cell_type": "code",
   "execution_count": null,
   "id": "d283279f",
   "metadata": {},
   "outputs": [],
   "source": [
    "list(trip_program_df)"
   ]
  },
  {
   "cell_type": "code",
   "execution_count": null,
   "id": "76700957",
   "metadata": {},
   "outputs": [],
   "source": [
    "trip_program_df.sample(n=50, random_state=123)[[\"program\", \"perno\", \"_id\", \"data_start_fmt_time\", \"data_end_fmt_time\", \"distance_km\", \"Mode_confirm\", \"data_start_loc_coordinates\"]]"
   ]
  },
  {
   "cell_type": "code",
   "execution_count": null,
   "id": "d9ef5d2a",
   "metadata": {},
   "outputs": [],
   "source": [
    "%conda install geopandas"
   ]
  },
  {
   "cell_type": "code",
   "execution_count": null,
   "id": "e4ccc2be",
   "metadata": {},
   "outputs": [],
   "source": [
    "import geopandas as gpd\n",
    "import pandas as pd\n",
    "import numpy as np\n",
    "import json\n",
    "from shapely.geometry import shape\n",
    "from shapely.geometry import MultiPoint\n",
    "from shapely.geometry import Point\n",
    "\n",
    "def parse_geom(geom_str):\n",
    "    try:\n",
    "        return shape(json.loads(geom_str.replace(\"'\", '\"')))\n",
    "    except (TypeError, AttributeError):  # Handle NaN and empty strings\n",
    "        return None"
   ]
  },
  {
   "cell_type": "markdown",
   "id": "11f4e900",
   "metadata": {},
   "source": [
    "If, when importing geopandas, you get the error `ImportError: libtiff.so.5: cannot open shared object file: No such file or directory` you can resolve it by running the command `apt install libtiff5` in the root of the notebook container, if using docker desktop, you can access a terminal from the container, else use `docker exec -it [container id] /bin/sh`. You might need to run `apt-get update` before you can perform the install. "
   ]
  },
  {
   "cell_type": "code",
   "execution_count": null,
   "id": "71116730",
   "metadata": {},
   "outputs": [],
   "source": [
    "#assemble the points\n",
    "trip_program_df[\"start_loc\"] = \"{'type': 'Point', 'coordinates': \" + trip_program_df['data_start_loc_coordinates'] + \"}\"\n",
    "trip_program_df[\"end_loc\"] = \"{'type': 'Point', 'coordinates': \" + trip_program_df['data_end_loc_coordinates'] + \"}\""
   ]
  },
  {
   "cell_type": "code",
   "execution_count": null,
   "id": "094ef1f9",
   "metadata": {},
   "outputs": [],
   "source": [
    "trip_program_df[\"start_loc\"] = trip_program_df[\"start_loc\"].apply(parse_geom)\n",
    "trip_program_df[\"end_loc\"] = trip_program_df[\"end_loc\"].apply(parse_geom)\n",
    "print(trip_program_df.head())"
   ]
  },
  {
   "cell_type": "code",
   "execution_count": null,
   "id": "1e9da62d",
   "metadata": {},
   "outputs": [],
   "source": [
    "trip_program_df['start_end'] = trip_program_df.apply(lambda row: MultiPoint([row['start_loc'], row['end_loc']]), axis=1) #Create a multipoint column"
   ]
  },
  {
   "cell_type": "code",
   "execution_count": null,
   "id": "a26f027c",
   "metadata": {},
   "outputs": [],
   "source": [
    "trip_program_df_gdf = gpd.GeoDataFrame(trip_program_df, geometry=\"start_end\")"
   ]
  },
  {
   "cell_type": "code",
   "execution_count": null,
   "id": "657da42e",
   "metadata": {},
   "outputs": [],
   "source": [
    "trip_program_df_gdf.crs is None"
   ]
  },
  {
   "cell_type": "code",
   "execution_count": null,
   "id": "271c0927",
   "metadata": {},
   "outputs": [],
   "source": [
    "trip_program_df_gdf = trip_program_df_gdf.set_crs(4269, allow_override=True)"
   ]
  },
  {
   "cell_type": "code",
   "execution_count": null,
   "id": "b9a390e0",
   "metadata": {},
   "outputs": [],
   "source": [
    "trip_program_df_gdf.crs"
   ]
  },
  {
   "cell_type": "markdown",
   "id": "f7b2f6a8",
   "metadata": {},
   "source": [
    "## Data Preparation"
   ]
  },
  {
   "cell_type": "code",
   "execution_count": null,
   "id": "2180245a",
   "metadata": {},
   "outputs": [],
   "source": [
    "trip_program_df_gdf.data_user_input_mode_confirm"
   ]
  },
  {
   "cell_type": "code",
   "execution_count": null,
   "id": "af4a4ba6",
   "metadata": {},
   "outputs": [],
   "source": [
    "import shapely as shp"
   ]
  },
  {
   "cell_type": "code",
   "execution_count": null,
   "id": "2e613b21",
   "metadata": {},
   "outputs": [],
   "source": [
    "trip_program_df_gdf.rename(columns={\"data_user_input_mode_confirm\": \"mode_confirm\"}, inplace = True)"
   ]
  },
  {
   "cell_type": "code",
   "execution_count": null,
   "id": "6b6298af",
   "metadata": {},
   "outputs": [],
   "source": [
    "e_bike_trips = trip_program_df_gdf[trip_program_df_gdf.mode_confirm == 'pilot_ebike']\n",
    "print(len(e_bike_trips))\n",
    "\n",
    "denver_boundary = gpd.read_file(to_boundary_folder + \"/denver_uza_akcicek.shp\")\n",
    "\n",
    "e_bike_start_end_points = e_bike_trips.start_loc.append(e_bike_trips.end_loc); len(e_bike_start_end_points)\n",
    "e_bike_geo_start_end_points = gpd.GeoSeries(e_bike_start_end_points.apply(lambda p: shp.geometry.Point(p.coords)), crs=\"EPSG:4269\")\n",
    "e_bike_start_or_end_within = e_bike_geo_start_end_points[e_bike_geo_start_end_points.within(denver_boundary.geometry.iloc[0])]"
   ]
  },
  {
   "cell_type": "code",
   "execution_count": null,
   "id": "f54ef93c",
   "metadata": {},
   "outputs": [],
   "source": [
    "car_like_trips = trip_program_df_gdf.query('mode_confirm == \"drove_alone\" | mode_confirm == \"shared_ride\" | mode_confirm == \"taxi\"')\n",
    "print(len(car_like_trips))\n",
    "car_like_start_end_points = car_like_trips.start_loc.append(car_like_trips.end_loc)"
   ]
  },
  {
   "cell_type": "code",
   "execution_count": null,
   "id": "552e2e6a",
   "metadata": {},
   "outputs": [],
   "source": [
    "len(car_like_start_end_points)\n",
    "car_like_geo_start_end_points = gpd.GeoSeries(car_like_start_end_points.apply(lambda p: shp.geometry.Point(p.coords)), crs=\"EPSG:4269\")\n",
    "car_like_start_or_end_within = car_like_geo_start_end_points[car_like_geo_start_end_points.within(denver_boundary.geometry.iloc[0])]"
   ]
  },
  {
   "cell_type": "markdown",
   "id": "2f6a7b47",
   "metadata": {},
   "source": [
    "### preparing the boundaries"
   ]
  },
  {
   "cell_type": "code",
   "execution_count": null,
   "id": "ba6cb2f2",
   "metadata": {},
   "outputs": [],
   "source": [
    "boulder_boundary = gpd.read_file(to_boundary_folder + \"/boulder.shp\")\n",
    "boulder_boundary.plot()"
   ]
  },
  {
   "cell_type": "code",
   "execution_count": null,
   "id": "ef06dde2",
   "metadata": {},
   "outputs": [],
   "source": [
    "durango_boundary = gpd.read_file(to_boundary_folder + \"/durango.shp\")\n",
    "durango_boundary.plot()"
   ]
  },
  {
   "cell_type": "code",
   "execution_count": null,
   "id": "c7431509",
   "metadata": {},
   "outputs": [],
   "source": [
    "fort_collins_boundary = gpd.read_file(to_boundary_folder + \"/fort_collins.shp\")\n",
    "fort_collins_boundary.plot()"
   ]
  },
  {
   "cell_type": "code",
   "execution_count": null,
   "id": "d90288bd",
   "metadata": {},
   "outputs": [],
   "source": [
    "vail_boundary = gpd.read_file(to_boundary_folder + \"/vail.shp\")\n",
    "vail_boundary.plot()"
   ]
  },
  {
   "cell_type": "code",
   "execution_count": null,
   "id": "9aa38781",
   "metadata": {},
   "outputs": [],
   "source": [
    "pueblo_boundary = gpd.read_file(to_boundary_folder + \"/pueblo.shp\")\n",
    "pueblo_boundary.plot()"
   ]
  },
  {
   "cell_type": "code",
   "execution_count": null,
   "id": "a95222a6",
   "metadata": {},
   "outputs": [],
   "source": [
    "denver_boundary = gpd.read_file(to_boundary_folder + \"/denver_uza_akcicek.shp\")\n",
    "denver_boundary.plot()"
   ]
  },
  {
   "cell_type": "markdown",
   "id": "3d6a9181",
   "metadata": {},
   "source": [
    "### gathering data within the boundaries"
   ]
  },
  {
   "cell_type": "code",
   "execution_count": null,
   "id": "c8da2c96",
   "metadata": {},
   "outputs": [],
   "source": [
    "#denver is particular to smart commute - don't want to cloud with people who visited denver from other places\n",
    "all_sc_within_denver = trip_program_df_gdf[(trip_program_df_gdf.within(denver_boundary.geometry.iloc[0])) & (trip_program_df_gdf.program == \"sc\")]"
   ]
  },
  {
   "cell_type": "code",
   "execution_count": null,
   "id": "dc30ff2f",
   "metadata": {},
   "outputs": [],
   "source": [
    "all_within_boulder = trip_program_df_gdf[trip_program_df_gdf.within(boulder_boundary.geometry.iloc[0])]\n",
    "all_within_durango = trip_program_df_gdf[trip_program_df_gdf.within(durango_boundary.geometry.iloc[0])]\n",
    "all_within_fortcollins = trip_program_df_gdf[trip_program_df_gdf.within(fort_collins_boundary.geometry.iloc[0])]\n",
    "all_within_vail = trip_program_df_gdf[trip_program_df_gdf.within(vail_boundary.geometry.iloc[0])]\n",
    "all_within_pueblo = trip_program_df_gdf[trip_program_df_gdf.within(pueblo_boundary.geometry.iloc[0])]"
   ]
  },
  {
   "cell_type": "markdown",
   "id": "b1567784",
   "metadata": {},
   "source": [
    "### splitting out car trips and e-bike trips to compare"
   ]
  },
  {
   "cell_type": "code",
   "execution_count": null,
   "id": "a0c43cc3",
   "metadata": {},
   "outputs": [],
   "source": [
    "# car_like_trips"
   ]
  },
  {
   "cell_type": "code",
   "execution_count": null,
   "id": "681f775a",
   "metadata": {},
   "outputs": [],
   "source": [
    "#denver -- only Smart Commute data!!\n",
    "car_like_start_or_end_within_denver = all_sc_within_denver.query('mode_confirm == \"drove_alone\" | mode_confirm == \"shared_ride\" | mode_confirm == \"taxi\"')\n",
    "e_bike_start_or_end_within_denver = all_sc_within_denver[all_sc_within_denver.mode_confirm == 'pilot_ebike']\n",
    "\n",
    "#boulder\n",
    "car_like_start_or_end_within_boulder = car_like_trips[car_like_trips.within(boulder_boundary.geometry.iloc[0])]\n",
    "e_bike_start_or_end_within_boulder = e_bike_trips[e_bike_trips.within(boulder_boundary.geometry.iloc[0])]\n",
    "\n",
    "#durango\n",
    "car_like_start_or_end_within_durango = car_like_trips[car_like_trips.within(durango_boundary.geometry.iloc[0])]\n",
    "e_bike_start_or_end_within_durango = e_bike_trips[e_bike_trips.within(durango_boundary.geometry.iloc[0])]\n",
    "\n",
    "#fort collins\n",
    "car_like_start_or_end_within_fortcollins = car_like_trips[car_like_trips.within(fort_collins_boundary.geometry.iloc[0])]\n",
    "e_bike_start_or_end_within_fortcollins = e_bike_trips[e_bike_trips.within(fort_collins_boundary.geometry.iloc[0])]\n",
    "\n",
    "#vail\n",
    "car_like_start_or_end_within_vail = car_like_trips[car_like_trips.within(vail_boundary.geometry.iloc[0])]\n",
    "e_bike_start_or_end_within_vail = e_bike_trips[e_bike_trips.within(vail_boundary.geometry.iloc[0])]\n",
    "\n",
    "#pueblo\n",
    "car_like_start_or_end_within_pueblo = car_like_trips[car_like_trips.within(pueblo_boundary.geometry.iloc[0])]\n",
    "e_bike_start_or_end_within_pueblo = e_bike_trips[e_bike_trips.within(pueblo_boundary.geometry.iloc[0])]"
   ]
  },
  {
   "cell_type": "markdown",
   "id": "6ba2e870",
   "metadata": {},
   "source": [
    "### bonus plots [all, e-bike, car]"
   ]
  },
  {
   "cell_type": "code",
   "execution_count": null,
   "id": "d87aae85",
   "metadata": {},
   "outputs": [],
   "source": [
    "#boulder\n",
    "fig, ax_arr = plt.subplots(nrows=1, ncols=3, figsize=(15,15), sharex=True, sharey=True)\n",
    "boulder_boundary.boundary.plot(ax=ax_arr[0], alpha = 0.2, color = \"black\", edgecolor='black')\n",
    "all_within_boulder.plot(ax=ax_arr[0], markersize=1)\n",
    "boulder_boundary.boundary.plot(ax=ax_arr[1], alpha = 0.2, color = \"black\", edgecolor='black')\n",
    "e_bike_start_or_end_within_boulder.plot(color=\"#28a745\", ax=ax_arr[1], markersize=1)\n",
    "boulder_boundary.boundary.plot(ax=ax_arr[2], alpha = 0.2, color = \"black\", edgecolor='black')\n",
    "car_like_start_or_end_within_boulder.plot(color=\"#dc3545\", ax=ax_arr[2], markersize=1)"
   ]
  },
  {
   "cell_type": "code",
   "execution_count": null,
   "id": "5baef3f5",
   "metadata": {},
   "outputs": [],
   "source": [
    "#durango\n",
    "fig, ax_arr = plt.subplots(nrows=1, ncols=3, figsize=(15,15), sharex=True, sharey=True)\n",
    "durango_boundary.boundary.plot(ax=ax_arr[0], alpha = 0.2, color = \"black\", edgecolor='black')\n",
    "all_within_durango.plot(ax=ax_arr[0], markersize=1)\n",
    "durango_boundary.boundary.plot(ax=ax_arr[1], alpha = 0.2, color = \"black\", edgecolor='black')\n",
    "e_bike_start_or_end_within_durango.plot(color=\"#28a745\", ax=ax_arr[1], markersize=1)\n",
    "durango_boundary.boundary.plot(ax=ax_arr[2], alpha = 0.2, color = \"black\", edgecolor='black')\n",
    "car_like_start_or_end_within_durango.plot(color=\"#dc3545\", ax=ax_arr[2], markersize=1)"
   ]
  },
  {
   "cell_type": "code",
   "execution_count": null,
   "id": "6125491d",
   "metadata": {},
   "outputs": [],
   "source": [
    "#fort collins\n",
    "fig, ax_arr = plt.subplots(nrows=1, ncols=3, figsize=(15,15), sharex=True, sharey=True)\n",
    "fort_collins_boundary.boundary.plot(ax=ax_arr[0], alpha = 0.2, color = \"black\", edgecolor='black')\n",
    "all_within_fortcollins.plot(ax=ax_arr[0], markersize=1)\n",
    "fort_collins_boundary.boundary.plot(ax=ax_arr[1], alpha = 0.2, color = \"black\", edgecolor='black')\n",
    "e_bike_start_or_end_within_fortcollins.plot(color=\"#28a745\", ax=ax_arr[1], markersize=1)\n",
    "fort_collins_boundary.boundary.plot(ax=ax_arr[2], alpha = 0.2, color = \"black\", edgecolor='black')\n",
    "car_like_start_or_end_within_fortcollins.plot(color=\"#dc3545\", ax=ax_arr[2], markersize=1)"
   ]
  },
  {
   "cell_type": "code",
   "execution_count": null,
   "id": "0fa3bccf",
   "metadata": {},
   "outputs": [],
   "source": [
    "#vail\n",
    "fig, ax_arr = plt.subplots(nrows=1, ncols=3, figsize=(15,15), sharex=True, sharey=True)\n",
    "vail_boundary.boundary.plot(ax=ax_arr[0], alpha = 0.2, color = \"black\", edgecolor='black')\n",
    "all_within_vail.plot(ax=ax_arr[0], markersize=1)\n",
    "vail_boundary.boundary.plot(ax=ax_arr[1], alpha = 0.2, color = \"black\", edgecolor='black')\n",
    "e_bike_start_or_end_within_vail.plot(color=\"#28a745\", ax=ax_arr[1], markersize=1)\n",
    "vail_boundary.boundary.plot(ax=ax_arr[2], alpha = 0.2, color = \"black\", edgecolor='black')\n",
    "car_like_start_or_end_within_vail.plot(color=\"#dc3545\", ax=ax_arr[2], markersize=1)"
   ]
  },
  {
   "cell_type": "code",
   "execution_count": null,
   "id": "562090b3",
   "metadata": {},
   "outputs": [],
   "source": [
    "#pueblo\n",
    "fig, ax_arr = plt.subplots(nrows=1, ncols=3, figsize=(15,15), sharex=True, sharey=True)\n",
    "pueblo_boundary.boundary.plot(ax=ax_arr[0], alpha = 0.2, color = \"black\", edgecolor='black')\n",
    "all_within_pueblo.plot(ax=ax_arr[0], markersize=1)\n",
    "pueblo_boundary.boundary.plot(ax=ax_arr[1], alpha = 0.2, color = \"black\", edgecolor='black')\n",
    "e_bike_start_or_end_within_pueblo.plot(color=\"#28a745\", ax=ax_arr[1], markersize=1)\n",
    "pueblo_boundary.boundary.plot(ax=ax_arr[2], alpha = 0.2, color = \"black\", edgecolor='black')\n",
    "car_like_start_or_end_within_pueblo.plot(color=\"#dc3545\", ax=ax_arr[2], markersize=1)"
   ]
  },
  {
   "cell_type": "code",
   "execution_count": null,
   "id": "2327e55d",
   "metadata": {},
   "outputs": [],
   "source": [
    "#denver\n",
    "fig, ax_arr = plt.subplots(nrows=1, ncols=3, figsize=(15,15), sharex=True, sharey=True)\n",
    "denver_boundary.boundary.plot(ax=ax_arr[0], alpha = 0.2, color = \"black\", edgecolor='black')\n",
    "all_sc_within_denver.plot(ax=ax_arr[0], markersize=1)\n",
    "denver_boundary.boundary.plot(ax=ax_arr[1], alpha = 0.2, color = \"black\", edgecolor='black')\n",
    "e_bike_start_or_end_within_denver.plot(color=\"#28a745\", ax=ax_arr[1], markersize=1)\n",
    "denver_boundary.boundary.plot(ax=ax_arr[2], alpha = 0.2, color = \"black\", edgecolor='black')\n",
    "car_like_start_or_end_within_denver.plot(color=\"#dc3545\", ax=ax_arr[2], markersize=1)"
   ]
  },
  {
   "cell_type": "markdown",
   "id": "814b21a1",
   "metadata": {},
   "source": [
    "### Preparing for block/pixel analysis"
   ]
  },
  {
   "cell_type": "code",
   "execution_count": null,
   "id": "34efb4d4",
   "metadata": {},
   "outputs": [],
   "source": [
    "#read in block files\n",
    "denver_blocks = gpd.read_file(to_boundary_folder + \"/denver_blocks.shp\")\n",
    "boulder_blocks= gpd.read_file(to_boundary_folder + \"/boulder_blocks.shp\")\n",
    "fort_collins_blocks = gpd.read_file(to_boundary_folder + \"/fort_collins_blocks.shp\")\n",
    "vail_blocks = gpd.read_file(to_boundary_folder + \"/vail_blocks.shp\")\n",
    "durango_blocks = gpd.read_file(to_boundary_folder + \"/durango_blocks.shp\")\n",
    "pueblo_blocks = gpd.read_file(to_boundary_folder + \"/pueblo_blocks.shp\")"
   ]
  },
  {
   "cell_type": "code",
   "execution_count": null,
   "id": "55649b6c",
   "metadata": {},
   "outputs": [],
   "source": [
    "#read in pixel files\n",
    "denver_pixels = gpd.read_file(to_boundary_folder + \"/denver_pixels_ca.shp\")\n",
    "boulder_pixels= gpd.read_file(to_boundary_folder + \"/boulder_pixels.shp\")\n",
    "fort_collins_pixels = gpd.read_file(to_boundary_folder + \"/fortcollins_pixels.shp\")\n",
    "vail_pixels= gpd.read_file(to_boundary_folder + \"/vail_pixels.shp\")\n",
    "durango_pixels = gpd.read_file(to_boundary_folder + \"/durango_pixels.shp\")\n",
    "pueblo_pixels = gpd.read_file(to_boundary_folder + \"/pueblo_pixels.shp\")"
   ]
  },
  {
   "cell_type": "code",
   "execution_count": null,
   "id": "3d60d872",
   "metadata": {},
   "outputs": [],
   "source": [
    "## set up the get counts -- note the \"within place\" used to pull from -- denver's only inclueds smart commute\n",
    "\n",
    "#denver First, let's just make a dataframe with the three different counts: total, e-bike, car-like, for each polygon\n",
    "def get_counts(pixel_polygon):\n",
    "    all_trip_count = np.count_nonzero(all_sc_within_denver.within(pixel_polygon))\n",
    "    e_bike_trip_count = np.count_nonzero(e_bike_start_or_end_within_denver.within(pixel_polygon))\n",
    "    car_like_trip_count = np.count_nonzero(car_like_start_or_end_within_denver.within(pixel_polygon))\n",
    "    return pd.Series([all_trip_count, e_bike_trip_count, car_like_trip_count])\n",
    "\n",
    "# boulder First, let's just make a dataframe with the three different counts: total, e-bike, car-like, for each polygon\n",
    "def get_counts_boulder(pixel_polygon):\n",
    "    all_trip_count = np.count_nonzero(all_within_boulder.within(pixel_polygon))\n",
    "    e_bike_trip_count = np.count_nonzero(e_bike_start_or_end_within_boulder.within(pixel_polygon))\n",
    "    car_like_trip_count = np.count_nonzero(car_like_start_or_end_within_boulder.within(pixel_polygon))\n",
    "    return pd.Series([all_trip_count, e_bike_trip_count, car_like_trip_count])\n",
    "\n",
    "# fort collins First, let's just make a dataframe with the three different counts: total, e-bike, car-like, for each polygon\n",
    "def get_counts_fortcollins(pixel_polygon):\n",
    "    all_trip_count = np.count_nonzero(all_within_fortcollins.within(pixel_polygon))\n",
    "    e_bike_trip_count = np.count_nonzero(e_bike_start_or_end_within_fortcollins.within(pixel_polygon))\n",
    "    car_like_trip_count = np.count_nonzero(car_like_start_or_end_within_fortcollins.within(pixel_polygon))\n",
    "    return pd.Series([all_trip_count, e_bike_trip_count, car_like_trip_count])\n",
    "\n",
    "# vail First, let's just make a dataframe with the three different counts: total, e-bike, car-like, for each polygon\n",
    "def get_counts_vail(pixel_polygon):\n",
    "    all_trip_count = np.count_nonzero(all_within_vail.within(pixel_polygon))\n",
    "    e_bike_trip_count = np.count_nonzero(e_bike_start_or_end_within_vail.within(pixel_polygon))\n",
    "    car_like_trip_count = np.count_nonzero(car_like_start_or_end_within_vail.within(pixel_polygon))\n",
    "    return pd.Series([all_trip_count, e_bike_trip_count, car_like_trip_count])\n",
    "\n",
    "# Durango First, let's just make a dataframe with the three different counts: total, e-bike, car-like, for each polygon\n",
    "def get_counts_durango(pixel_polygon):\n",
    "    all_trip_count = np.count_nonzero(all_within_durango.within(pixel_polygon))\n",
    "    e_bike_trip_count = np.count_nonzero(e_bike_start_or_end_within_durango.within(pixel_polygon))\n",
    "    car_like_trip_count = np.count_nonzero(car_like_start_or_end_within_durango.within(pixel_polygon))\n",
    "    return pd.Series([all_trip_count, e_bike_trip_count, car_like_trip_count])\n",
    "\n",
    "# pueblo First, let's just make a dataframe with the three different counts: total, e-bike, car-like, for each polygon\n",
    "def get_counts_pueblo(pixel_polygon):\n",
    "    all_trip_count = np.count_nonzero(all_within_pueblo.within(pixel_polygon))\n",
    "    e_bike_trip_count = np.count_nonzero(e_bike_start_or_end_within_pueblo.within(pixel_polygon))\n",
    "    car_like_trip_count = np.count_nonzero(car_like_start_or_end_within_pueblo.within(pixel_polygon))\n",
    "    return pd.Series([all_trip_count, e_bike_trip_count, car_like_trip_count])"
   ]
  },
  {
   "cell_type": "markdown",
   "id": "7f781c51",
   "metadata": {},
   "source": [
    "### data processing for e-bike : cars ratios [pixels and blocks]"
   ]
  },
  {
   "cell_type": "code",
   "execution_count": null,
   "id": "d7a0aa69",
   "metadata": {},
   "outputs": [],
   "source": [
    "#get the counts (blocks)\n",
    "denver_blocks[[\"all_trip_count\", \"e_bike_trip_count\", \"car_like_trip_count\"]] = denver_blocks.geometry.apply(lambda pp: get_counts(pp))\n",
    "boulder_blocks[[\"all_trip_count\", \"e_bike_trip_count\", \"car_like_trip_count\"]] = boulder_blocks.geometry.apply(lambda pp: get_counts_boulder(pp))\n",
    "fort_collins_blocks[[\"all_trip_count\", \"e_bike_trip_count\", \"car_like_trip_count\"]] = fort_collins_blocks.geometry.apply(lambda pp: get_counts_fortcollins(pp))\n",
    "vail_blocks[[\"all_trip_count\", \"e_bike_trip_count\", \"car_like_trip_count\"]] = vail_blocks.geometry.apply(lambda pp: get_counts_vail(pp))\n",
    "durango_blocks[[\"all_trip_count\", \"e_bike_trip_count\", \"car_like_trip_count\"]] = durango_blocks.geometry.apply(lambda pp: get_counts_durango(pp))\n",
    "pueblo_blocks[[\"all_trip_count\", \"e_bike_trip_count\", \"car_like_trip_count\"]] = pueblo_blocks.geometry.apply(lambda pp: get_counts_pueblo(pp))"
   ]
  },
  {
   "cell_type": "code",
   "execution_count": null,
   "id": "08115020",
   "metadata": {},
   "outputs": [],
   "source": [
    "#get the counts (pixels)\n",
    "denver_pixels[[\"all_trip_count\", \"e_bike_trip_count\", \"car_like_trip_count\"]] = denver_pixels.geometry.apply(lambda pp: get_counts(pp))\n",
    "boulder_pixels[[\"all_trip_count\", \"e_bike_trip_count\", \"car_like_trip_count\"]] = boulder_pixels.geometry.apply(lambda pp: get_counts_boulder(pp))\n",
    "fort_collins_pixels[[\"all_trip_count\", \"e_bike_trip_count\", \"car_like_trip_count\"]] = fort_collins_pixels.geometry.apply(lambda pp: get_counts_fortcollins(pp))\n",
    "vail_pixels[[\"all_trip_count\", \"e_bike_trip_count\", \"car_like_trip_count\"]] = vail_pixels.geometry.apply(lambda pp: get_counts_vail(pp))\n",
    "durango_pixels[[\"all_trip_count\", \"e_bike_trip_count\", \"car_like_trip_count\"]] = durango_pixels.geometry.apply(lambda pp: get_counts_durango(pp))\n",
    "pueblo_pixels[[\"all_trip_count\", \"e_bike_trip_count\", \"car_like_trip_count\"]] = pueblo_pixels.geometry.apply(lambda pp: get_counts_pueblo(pp))"
   ]
  },
  {
   "cell_type": "code",
   "execution_count": null,
   "id": "c732238f",
   "metadata": {},
   "outputs": [],
   "source": [
    "#get ratio of bikes to cars (blocks)\n",
    "denver_blocks[\"e_bike_2_car_like\"] = denver_blocks.e_bike_trip_count / denver_blocks.car_like_trip_count\n",
    "boulder_blocks[\"e_bike_2_car_like\"] = boulder_blocks.e_bike_trip_count / boulder_blocks.car_like_trip_count\n",
    "fort_collins_blocks[\"e_bike_2_car_like\"] = fort_collins_blocks.e_bike_trip_count / fort_collins_blocks.car_like_trip_count\n",
    "vail_blocks[\"e_bike_2_car_like\"] = vail_blocks.e_bike_trip_count / vail_blocks.car_like_trip_count\n",
    "durango_blocks[\"e_bike_2_car_like\"] = durango_blocks.e_bike_trip_count / durango_blocks.car_like_trip_count\n",
    "pueblo_blocks[\"e_bike_2_car_like\"] = pueblo_blocks.e_bike_trip_count / pueblo_blocks.car_like_trip_count"
   ]
  },
  {
   "cell_type": "code",
   "execution_count": null,
   "id": "b3a74707",
   "metadata": {},
   "outputs": [],
   "source": [
    "#get ratio of bikes to cars (pixels)\n",
    "denver_pixels[\"e_bike_2_car_like\"] = denver_pixels.e_bike_trip_count / denver_pixels.car_like_trip_count\n",
    "boulder_pixels[\"e_bike_2_car_like\"] = boulder_pixels.e_bike_trip_count / boulder_pixels.car_like_trip_count\n",
    "fort_collins_pixels[\"e_bike_2_car_like\"] = fort_collins_pixels.e_bike_trip_count / fort_collins_pixels.car_like_trip_count\n",
    "vail_pixels[\"e_bike_2_car_like\"] = vail_pixels.e_bike_trip_count / vail_pixels.car_like_trip_count\n",
    "durango_pixels[\"e_bike_2_car_like\"] = durango_pixels.e_bike_trip_count / durango_pixels.car_like_trip_count\n",
    "pueblo_pixels[\"e_bike_2_car_like\"] = pueblo_pixels.e_bike_trip_count / pueblo_pixels.car_like_trip_count"
   ]
  },
  {
   "cell_type": "code",
   "execution_count": null,
   "id": "e790ad36",
   "metadata": {},
   "outputs": [],
   "source": [
    "#replacing infinity with max (blocks)\n",
    "denver_blocks.replace(np.inf, denver_blocks.replace(np.inf, 0).e_bike_2_car_like.max(), inplace=True)\n",
    "boulder_blocks.replace(np.inf, boulder_blocks.replace(np.inf, 0).e_bike_2_car_like.max(), inplace=True)\n",
    "fort_collins_blocks.replace(np.inf, fort_collins_blocks.replace(np.inf, 0).e_bike_2_car_like.max(), inplace=True)\n",
    "vail_blocks.replace(np.inf, vail_blocks.replace(np.inf, 0).e_bike_2_car_like.max(), inplace=True)\n",
    "durango_blocks.replace(np.inf, durango_blocks.replace(np.inf, 0).e_bike_2_car_like.max(), inplace=True)\n",
    "pueblo_blocks.replace(np.inf, pueblo_blocks.replace(np.inf, 0).e_bike_2_car_like.max(), inplace=True)"
   ]
  },
  {
   "cell_type": "code",
   "execution_count": null,
   "id": "319305e5",
   "metadata": {},
   "outputs": [],
   "source": [
    "#replacing infinity with max (blocks)\n",
    "denver_pixels.replace(np.inf, denver_pixels.replace(np.inf, 0).e_bike_2_car_like.max(), inplace=True)\n",
    "boulder_pixels.replace(np.inf, boulder_pixels.replace(np.inf, 0).e_bike_2_car_like.max(), inplace=True)\n",
    "fort_collins_pixels.replace(np.inf, fort_collins_pixels.replace(np.inf, 0).e_bike_2_car_like.max(), inplace=True)\n",
    "vail_pixels.replace(np.inf, vail_pixels.replace(np.inf, 0).e_bike_2_car_like.max(), inplace=True)\n",
    "durango_pixels.replace(np.inf, durango_pixels.replace(np.inf, 0).e_bike_2_car_like.max(), inplace=True)\n",
    "pueblo_pixels.replace(np.inf, pueblo_pixels.replace(np.inf, 0).e_bike_2_car_like.max(), inplace=True)"
   ]
  },
  {
   "cell_type": "code",
   "execution_count": null,
   "id": "a29f47cb",
   "metadata": {},
   "outputs": [],
   "source": [
    "#calculate where e-bike > car (blocks) -- put in T/F\n",
    "denver_blocks[\"e_bike_better\"] = pd.Categorical(denver_blocks.e_bike_2_car_like >= 1)\n",
    "boulder_blocks[\"e_bike_better\"] = pd.Categorical(boulder_blocks.e_bike_2_car_like >= 1)\n",
    "fort_collins_blocks[\"e_bike_better\"] = pd.Categorical(fort_collins_blocks.e_bike_2_car_like >= 1)\n",
    "vail_blocks[\"e_bike_better\"] = pd.Categorical(vail_blocks.e_bike_2_car_like >= 1)\n",
    "durango_blocks[\"e_bike_better\"] = pd.Categorical(durango_blocks.e_bike_2_car_like >= 1)\n",
    "pueblo_blocks[\"e_bike_better\"] = pd.Categorical(pueblo_blocks.e_bike_2_car_like >= 1)"
   ]
  },
  {
   "cell_type": "code",
   "execution_count": null,
   "id": "58b88df4",
   "metadata": {},
   "outputs": [],
   "source": [
    "#calculate where e-bike is > car (pixels) -- put in T/F\n",
    "denver_pixels[\"e_bike_better\"] = pd.Categorical(denver_pixels.e_bike_2_car_like >= 1)\n",
    "boulder_pixels[\"e_bike_better\"] = pd.Categorical(boulder_pixels.e_bike_2_car_like >= 1)\n",
    "fort_collins_pixels[\"e_bike_better\"] = pd.Categorical(fort_collins_pixels.e_bike_2_car_like >= 1)\n",
    "vail_pixels[\"e_bike_better\"] = pd.Categorical(vail_pixels.e_bike_2_car_like >= 1)\n",
    "durango_pixels[\"e_bike_better\"] = pd.Categorical(durango_pixels.e_bike_2_car_like >= 1)\n",
    "pueblo_pixels[\"e_bike_better\"] = pd.Categorical(pueblo_pixels.e_bike_2_car_like >= 1)"
   ]
  },
  {
   "cell_type": "code",
   "execution_count": null,
   "id": "e2d1f0ca",
   "metadata": {},
   "outputs": [],
   "source": [
    "#remove nan ratios in blocks\n",
    "denver_blocks_2 = denver_blocks[denver_blocks['e_bike_2_car_like'].notna()]\n",
    "boulder_blocks_2 = boulder_blocks[boulder_blocks['e_bike_2_car_like'].notna()]\n",
    "fort_collins_blocks_2 = fort_collins_blocks[fort_collins_blocks['e_bike_2_car_like'].notna()]\n",
    "vail_blocks_2 = vail_blocks[vail_blocks['e_bike_2_car_like'].notna()]\n",
    "durango_blocks_2 = durango_blocks[durango_blocks['e_bike_2_car_like'].notna()]\n",
    "pueblo_blocks_2 = pueblo_blocks[pueblo_blocks['e_bike_2_car_like'].notna()]"
   ]
  },
  {
   "cell_type": "code",
   "execution_count": null,
   "id": "53967d1f",
   "metadata": {},
   "outputs": [],
   "source": [
    "#remove nan ratios in pixels\n",
    "denver_pixels_2 = denver_pixels[denver_pixels['e_bike_2_car_like'].notna()]\n",
    "boulder_pixels_2 = boulder_pixels[boulder_pixels['e_bike_2_car_like'].notna()]\n",
    "fort_collins_pixels_2 = fort_collins_pixels[fort_collins_pixels['e_bike_2_car_like'].notna()]\n",
    "vail_pixels_2 = vail_pixels[vail_pixels['e_bike_2_car_like'].notna()]\n",
    "durango_pixels_2 = durango_pixels[durango_pixels['e_bike_2_car_like'].notna()]\n",
    "pueblo_pixels_2 = pueblo_pixels[pueblo_pixels['e_bike_2_car_like'].notna()]"
   ]
  },
  {
   "cell_type": "markdown",
   "id": "4bb65635",
   "metadata": {},
   "source": [
    "## Draw up the pixel plots\n",
    "\n",
    "Figure 21"
   ]
  },
  {
   "cell_type": "code",
   "execution_count": null,
   "id": "38c9edb1",
   "metadata": {},
   "outputs": [],
   "source": [
    "#denver (smart commute only!!)\n",
    "ax = denver_boundary.boundary.plot()\n",
    "denver_pixels_2.replace({False: \"e-bike < car\", True: \"e-bike > car\"}, inplace=True)\n",
    "denver_pixels_2.plot(column = \"e_bike_better\", ax = ax, legend=True, legend_kwds={\"loc\": \"lower left\"}, categorical=True, cmap=\"Paired\", figsize=(12,6))"
   ]
  },
  {
   "cell_type": "code",
   "execution_count": null,
   "id": "a173511b",
   "metadata": {},
   "outputs": [],
   "source": [
    "#boulder\n",
    "ax = boulder_boundary.boundary.plot()\n",
    "boulder_pixels_2.replace({False: \"e-bike < car\", True: \"e-bike > car\"}, inplace=True)\n",
    "boulder_pixels_2.plot(column = \"e_bike_better\", ax = ax, legend=True, legend_kwds={\"loc\": \"lower left\"}, categorical=True, cmap=\"Paired\", figsize=(12,6))"
   ]
  },
  {
   "cell_type": "code",
   "execution_count": null,
   "id": "498df2f6",
   "metadata": {},
   "outputs": [],
   "source": [
    "#fort collins\n",
    "ax = fort_collins_boundary.boundary.plot()\n",
    "fort_collins_pixels_2.replace({False: \"e-bike < car\", True: \"e-bike > car\"}, inplace=True)\n",
    "fort_collins_pixels_2.plot(column = \"e_bike_better\", ax = ax, legend=True, legend_kwds={\"loc\": \"lower left\"}, categorical=True, cmap=\"Paired\", figsize=(12,6))"
   ]
  },
  {
   "cell_type": "code",
   "execution_count": null,
   "id": "3464e09e",
   "metadata": {},
   "outputs": [],
   "source": [
    "#vail\n",
    "ax = vail_boundary.boundary.plot()\n",
    "vail_pixels_2.replace({False: \"e-bike < car\", True: \"e-bike > car\"}, inplace=True)\n",
    "vail_pixels_2.plot(column = \"e_bike_better\", ax = ax, legend=True, legend_kwds={\"loc\": \"lower left\"}, categorical=True, cmap=\"Paired\", figsize=(12,6))"
   ]
  },
  {
   "cell_type": "code",
   "execution_count": null,
   "id": "bfc96b61",
   "metadata": {},
   "outputs": [],
   "source": [
    "#durango\n",
    "ax = durango_boundary.boundary.plot()\n",
    "durango_pixels_2.replace({False: \"e-bike < car\", True: \"e-bike > car\"}, inplace=True)\n",
    "durango_pixels_2.plot(column = \"e_bike_better\", ax = ax, legend=True, legend_kwds={\"loc\": \"lower left\"}, categorical=True, cmap=\"Paired\", figsize=(12,6))"
   ]
  },
  {
   "cell_type": "code",
   "execution_count": null,
   "id": "435164df",
   "metadata": {},
   "outputs": [],
   "source": [
    "#pueblo\n",
    "ax = pueblo_boundary.boundary.plot()\n",
    "pueblo_pixels_2.replace({False: \"e-bike < car\", True: \"e-bike > car\"}, inplace=True)\n",
    "pueblo_pixels_2.plot(column = \"e_bike_better\", ax = ax, legend=True, legend_kwds={\"loc\": \"lower left\"}, categorical=True, cmap=\"Paired\", figsize=(12,6))"
   ]
  },
  {
   "cell_type": "markdown",
   "id": "815ff746",
   "metadata": {},
   "source": [
    "# Pixel Proportions\n",
    "\n",
    "Figure #22"
   ]
  },
  {
   "cell_type": "code",
   "execution_count": null,
   "id": "ab6fed03",
   "metadata": {},
   "outputs": [],
   "source": [
    "denver = denver_pixels_2.dropna().groupby(\"e_bike_better\").count()\n",
    "boulder = boulder_pixels_2.dropna().groupby(\"e_bike_better\").count()\n",
    "collins = fort_collins_pixels_2.dropna().groupby(\"e_bike_better\").count()\n",
    "durango = durango_pixels_2.dropna().groupby(\"e_bike_better\").count()\n",
    "vail = vail_pixels_2.dropna().groupby(\"e_bike_better\").count()\n",
    "pueblo = pueblo_pixels_2.dropna().groupby(\"e_bike_better\").count()"
   ]
  },
  {
   "cell_type": "code",
   "execution_count": null,
   "id": "840139e9",
   "metadata": {},
   "outputs": [],
   "source": [
    "denver['Smart Commute\\n(Denver North)'] = denver['id'] / sum(denver['id'])\n",
    "# denver['program'] = 'Smart Commute\\n(Denver North)'\n",
    "boulder['Comunity Cycles\\n(Boulder)'] = boulder['id'] / sum(boulder['id'])\n",
    "# boulder['program'] = 'Comunity Cycles\\n(Boulder)'\n",
    "collins['Fort Collins'] = collins['id'] / sum(collins['id'])\n",
    "# collins['program'] = 'Fort Collins'\n",
    "durango['Four Corners\\n(Durango)'] = durango['id'] / sum(durango['id'])\n",
    "# durango['program'] = 'Four Corners\\n(Durango)'\n",
    "vail['Vail'] = vail['id'] / sum(vail['id'])\n",
    "# vail['program'] = 'Vail'\n",
    "pueblo['Pueblo'] = pueblo['id'] / sum(pueblo['id'])\n",
    "# pueblo['program'] = 'Pueblo'\n",
    "\n",
    "pixels = pd.concat([denver, boulder, collins, durango, vail, pueblo], axis = 1)\n",
    "\n",
    "pixels = pixels.drop(columns = ['id', 'geometry', 'left', 'top', 'right', 'bottom', 'all_trip_count', 'e_bike_trip_count', 'car_like_trip_count', 'e_bike_2_car_like'])\n",
    "\n",
    "pixels = pixels.transpose()\n",
    "\n",
    "#convert to %\n",
    "pixels['e-bike < car'] = pixels['e-bike < car'] * 100\n",
    "pixels['e-bike > car'] = pixels['e-bike > car'] * 100\n",
    "\n",
    "pixels = pixels[['e-bike > car', 'e-bike < car']]\n",
    "\n",
    "pixels"
   ]
  },
  {
   "cell_type": "code",
   "execution_count": null,
   "id": "423fb692",
   "metadata": {},
   "outputs": [],
   "source": [
    "ax = pixels.plot.bar(stacked=True,\n",
    "                            title=\"Where E-bikes Used More Than Cars\", \n",
    "                            ylabel=\"Proportion of Pixels (%)\",\n",
    "                            xlabel = \"Program\",)\n",
    "for c in ax.containers:\n",
    "    labels = [f'{round(v.get_height(),1)}' for v in c]\n",
    "    ax.bar_label(c, labels=labels, label_type='center')\n",
    "    \n",
    "ax.set_xticklabels(pixels.index, rotation=45, ha='right')"
   ]
  },
  {
   "cell_type": "code",
   "execution_count": null,
   "id": "4c799d96",
   "metadata": {},
   "outputs": [],
   "source": []
  }
 ],
 "metadata": {
  "kernelspec": {
   "display_name": "Python 3 (ipykernel)",
   "language": "python",
   "name": "python3"
  },
  "language_info": {
   "codemirror_mode": {
    "name": "ipython",
    "version": 3
   },
   "file_extension": ".py",
   "mimetype": "text/x-python",
   "name": "python",
   "nbconvert_exporter": "python",
   "pygments_lexer": "ipython3",
   "version": "3.9.18"
  }
 },
 "nbformat": 4,
 "nbformat_minor": 5
}

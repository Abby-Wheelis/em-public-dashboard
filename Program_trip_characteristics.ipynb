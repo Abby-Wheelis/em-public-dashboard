{
 "cells": [
  {
   "cell_type": "code",
   "execution_count": null,
   "id": "cognitive-allergy",
   "metadata": {},
   "outputs": [],
   "source": [
    "year = None\n",
    "month = None\n",
    "program = \"prepilot\"\n",
    "include_replaced_modes_as_valid = False # Flip this when we want to get results versus generate the replaced_mode correction graphs\n",
    "input_dataset = \"ONLY_SENSED\" # \"ONLY_LABELED\", \"ONLY_SENSED\" or \"BEST_AVAILABLE\" for sensitivity analysis\n",
    "LABEL_ASSIST_THRESHOLD = 0.3"
   ]
  },
  {
   "cell_type": "code",
   "execution_count": null,
   "id": "recorded-simon",
   "metadata": {},
   "outputs": [],
   "source": [
    "import pandas as pd\n",
    "\n",
    "import emission.core.get_database as edb\n",
    "import emission.core.wrapper.entry as ecwe\n",
    "import emission.storage.decorations.analysis_timeseries_queries as esda\n",
    "import emission.storage.decorations.trip_queries as esdt\n",
    "import emission.storage.decorations.timeline as esdl\n",
    "import emission.storage.timeseries.abstract_timeseries as esta\n",
    "import emission.storage.timeseries.timequery as estt\n",
    "import scaffolding\n",
    "from uuid import UUID\n",
    "\n",
    "%matplotlib inline"
   ]
  },
  {
   "cell_type": "code",
   "execution_count": null,
   "id": "thermal-america",
   "metadata": {},
   "outputs": [],
   "source": [
    "# Split UUIDs by program\n",
    "program_uuid_map = {}\n",
    "for ue in edb.get_uuid_db().find():\n",
    "    program = ue['user_email'].split(\"_\")[0]\n",
    "    if program in program_uuid_map.keys():\n",
    "        program_uuid_map[program].append(str(ue['uuid']))\n",
    "    else:\n",
    "        print(f\"Found new program {program}, creating new list\")\n",
    "        program_uuid_map[program] = []\n",
    "        program_uuid_map[program].append(str(ue['uuid']))"
   ]
  },
  {
   "cell_type": "code",
   "execution_count": null,
   "id": "encouraging-surgeon",
   "metadata": {},
   "outputs": [],
   "source": [
    "uuid_program_list = []\n",
    "for ue in edb.get_uuid_db().find():\n",
    "    program = ue['user_email'].split(\"_\")[0]\n",
    "    uuid_program_list.append({\"program\": program, \"opcode\": ue[\"user_email\"], \"user_id_str\": str(ue['uuid'])})"
   ]
  },
  {
   "cell_type": "code",
   "execution_count": null,
   "id": "recognized-shade",
   "metadata": {},
   "outputs": [],
   "source": [
    "program_uuid_map.keys()"
   ]
  },
  {
   "cell_type": "code",
   "execution_count": null,
   "id": "egyptian-witch",
   "metadata": {},
   "outputs": [],
   "source": [
    "uuid_program_df = pd.DataFrame.from_dict(uuid_program_list)\n",
    "uuid_program_df.head()"
   ]
  },
  {
   "cell_type": "code",
   "execution_count": null,
   "id": "earned-lecture",
   "metadata": {},
   "outputs": [],
   "source": [
    "uuid_program_df.loc[uuid_program_df.groupby(\"program\").groups['4c']]"
   ]
  },
  {
   "cell_type": "code",
   "execution_count": null,
   "id": "contemporary-clothing",
   "metadata": {},
   "outputs": [],
   "source": [
    "program_uuid_map['4c']"
   ]
  },
  {
   "cell_type": "code",
   "execution_count": null,
   "id": "included-permission",
   "metadata": {},
   "outputs": [],
   "source": [
    "tq = scaffolding.get_time_query(year, month)\n",
    "participant_ct_df = scaffolding.load_all_participant_trips(program, tq)"
   ]
  },
  {
   "cell_type": "code",
   "execution_count": null,
   "id": "imperial-inspector",
   "metadata": {},
   "outputs": [],
   "source": [
    "participant_ct_df[\"user_id_str\"] = participant_ct_df.user_id.apply(lambda u: str(u))\n",
    "len(participant_ct_df.user_id_str.unique())"
   ]
  },
  {
   "cell_type": "code",
   "execution_count": null,
   "id": "naval-blake",
   "metadata": {},
   "outputs": [],
   "source": [
    "trip_program_df = participant_ct_df.merge(uuid_program_df, on=\"user_id_str\")"
   ]
  },
  {
   "cell_type": "code",
   "execution_count": null,
   "id": "brazilian-escape",
   "metadata": {},
   "outputs": [],
   "source": [
    "trip_program_df.sample(n=50, random_state=123)[[\"program\", \"user_id_str\", \"opcode\", \"_id\", \"start_fmt_time\", \"end_fmt_time\"]]"
   ]
  },
  {
   "cell_type": "code",
   "execution_count": null,
   "id": "acceptable-manhattan",
   "metadata": {},
   "outputs": [],
   "source": [
    "labeled_ct = scaffolding.filter_labeled_trips(trip_program_df)"
   ]
  },
  {
   "cell_type": "code",
   "execution_count": null,
   "id": "foreign-promise",
   "metadata": {},
   "outputs": [],
   "source": [
    "label_summary_df = pd.DataFrame({\"total_trips\": trip_program_df.groupby(\"program\").source.count(), \"labeled_trips\": labeled_ct.groupby(\"program\").source.count()})\n",
    "label_summary_df"
   ]
  },
  {
   "cell_type": "code",
   "execution_count": null,
   "id": "identical-glucose",
   "metadata": {},
   "outputs": [],
   "source": [
    "label_summary_df[\"label_pct\"] = (label_summary_df.labeled_trips / label_summary_df.total_trips) * 100"
   ]
  },
  {
   "cell_type": "code",
   "execution_count": null,
   "id": "persistent-holocaust",
   "metadata": {},
   "outputs": [],
   "source": [
    "label_summary_df"
   ]
  },
  {
   "cell_type": "code",
   "execution_count": null,
   "id": "qualified-success",
   "metadata": {},
   "outputs": [],
   "source": [
    "label_summary_df.label_pct.plot(kind=\"bar\", ylabel=\"% of labeled trips\", title=\"Variation in labeling percentage across programs\")"
   ]
  },
  {
   "cell_type": "code",
   "execution_count": null,
   "id": "enabling-slide",
   "metadata": {},
   "outputs": [],
   "source": [
    "label_user_summary_df = pd.DataFrame({\"total_trips\": trip_program_df.groupby([\"program\", \"user_id_str\"]).source.count(), \"labeled_trips\": labeled_ct.groupby([\"program\", \"user_id_str\"]).source.count()})"
   ]
  },
  {
   "cell_type": "code",
   "execution_count": null,
   "id": "fitting-bloom",
   "metadata": {},
   "outputs": [],
   "source": [
    "label_user_summary_df[\"label_pct\"] = (label_user_summary_df.labeled_trips / label_user_summary_df.total_trips) * 100\n",
    "label_user_summary_df"
   ]
  },
  {
   "cell_type": "code",
   "execution_count": null,
   "id": "banned-slovenia",
   "metadata": {},
   "outputs": [],
   "source": [
    "label_user_summary_df.label_pct.plot(kind=\"bar\", xticks=[])"
   ]
  },
  {
   "cell_type": "code",
   "execution_count": null,
   "id": "fifteen-complement",
   "metadata": {},
   "outputs": [],
   "source": [
    "flattened_label_user_summary_df = label_user_summary_df.reset_index()"
   ]
  },
  {
   "cell_type": "code",
   "execution_count": null,
   "id": "average-metadata",
   "metadata": {},
   "outputs": [],
   "source": [
    "flattened_label_user_summary_df"
   ]
  },
  {
   "cell_type": "code",
   "execution_count": null,
   "id": "suitable-lloyd",
   "metadata": {},
   "outputs": [],
   "source": [
    "ax = flattened_label_user_summary_df.boxplot(column=['label_pct'], by=\"program\")\n",
    "type(ax)\n",
    "ax.set_title(\"\")\n",
    "ax.set_ylabel(\"percentage of labeled trips\")\n",
    "ax.get_figure().suptitle(\"Labeling rate by program\")"
   ]
  },
  {
   "cell_type": "code",
   "execution_count": null,
   "id": "streaming-qatar",
   "metadata": {},
   "outputs": [],
   "source": [
    "flattened_label_user_summary_df.dropna().sort_values(by=\"label_pct\").plot.bar(y=\"label_pct\", xticks=[])"
   ]
  },
  {
   "cell_type": "code",
   "execution_count": null,
   "id": "statistical-nirvana",
   "metadata": {},
   "outputs": [],
   "source": [
    "import seaborn as sns"
   ]
  },
  {
   "cell_type": "code",
   "execution_count": null,
   "id": "simplified-indie",
   "metadata": {},
   "outputs": [],
   "source": [
    "sns.barplot(data=flattened_label_user_summary_df, x=\"program\", y=\"label_pct\")"
   ]
  },
  {
   "cell_type": "code",
   "execution_count": null,
   "id": "prescription-rocket",
   "metadata": {},
   "outputs": [],
   "source": []
  }
 ],
 "metadata": {
  "kernelspec": {
   "display_name": "Python 3",
   "language": "python",
   "name": "python3"
  },
  "language_info": {
   "codemirror_mode": {
    "name": "ipython",
    "version": 3
   },
   "file_extension": ".py",
   "mimetype": "text/x-python",
   "name": "python",
   "nbconvert_exporter": "python",
   "pygments_lexer": "ipython3",
   "version": "3.7.9"
  }
 },
 "nbformat": 4,
 "nbformat_minor": 5
}

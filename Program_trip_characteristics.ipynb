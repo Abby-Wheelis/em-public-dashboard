{
 "cells": [
  {
   "cell_type": "code",
   "execution_count": null,
   "id": "cognitive-allergy",
   "metadata": {},
   "outputs": [],
   "source": [
    "year = None\n",
    "month = None\n",
    "program = \"prepilot\"\n",
    "include_replaced_modes_as_valid = False # Flip this when we want to get results versus generate the replaced_mode correction graphs\n",
    "input_dataset = \"ONLY_SENSED\" # \"ONLY_LABELED\", \"ONLY_SENSED\" or \"BEST_AVAILABLE\" for sensitivity analysis\n",
    "LABEL_ASSIST_THRESHOLD = 0.3"
   ]
  },
  {
   "cell_type": "code",
   "execution_count": null,
   "id": "recorded-simon",
   "metadata": {},
   "outputs": [],
   "source": [
    "import pandas as pd\n",
    "\n",
    "import emission.core.get_database as edb\n",
    "import emission.core.wrapper.entry as ecwe\n",
    "import emission.storage.decorations.analysis_timeseries_queries as esda\n",
    "import emission.storage.decorations.trip_queries as esdt\n",
    "import emission.storage.decorations.timeline as esdl\n",
    "import emission.storage.timeseries.abstract_timeseries as esta\n",
    "import emission.storage.timeseries.timequery as estt\n",
    "import scaffolding\n",
    "from uuid import UUID\n",
    "\n",
    "%matplotlib inline"
   ]
  },
  {
   "cell_type": "markdown",
   "id": "southeast-nurse",
   "metadata": {},
   "source": [
    "### Load"
   ]
  },
  {
   "cell_type": "code",
   "execution_count": null,
   "id": "descending-brisbane",
   "metadata": {},
   "outputs": [],
   "source": [
    "def fix_minipilot_tokens():\n",
    "    minipilot_uuid_list = [\n",
    "        UUID(\"576e37c7-ab7e-4c03-add7-02486bc3f42e\"),\n",
    "        UUID(\"8b563348-52b3-4e3e-b046-a0aaf4fcea15\"),\n",
    "        UUID(\"5079bb93-c9cf-46d7-a643-dfc86bb05605\"),\n",
    "        UUID(\"feabfccd-dd6c-4e8e-8517-9d7177042483\"),\n",
    "        UUID(\"113aef67-400e-4e21-a29f-d04e50fc42ea\"),\n",
    "        UUID(\"c8b9fe22-86f8-449a-b64f-c18a8d20eefc\"),\n",
    "        UUID(\"e7b24d99-324d-4d6d-b247-9edc87d3c848\"),\n",
    "        UUID(\"1044195f-af9e-43d4-9407-60594e5e9938\"),\n",
    "        UUID(\"898b1a5e-cdd4-4a0c-90e4-942fa298e456\"),\n",
    "        UUID(\"1d292b85-c549-409a-a10d-746e957582a0\"),\n",
    "        UUID(\"cb3222a7-1e72-4a92-8b7b-2c4795402497\"),\n",
    "        UUID(\"efdbea3b-eef6-48fc-9558-7585f4ad6f24\"),\n",
    "        UUID(\"960835ac-9d8a-421d-8b8a-bf816f8a4b92\"),\n",
    "    ]\n",
    "    for uuid in minipilot_uuid_list:\n",
    "        curr_ue = edb.get_uuid_db().find_one({\"uuid\": uuid})\n",
    "        curr_token = curr_ue[\"user_email\"]\n",
    "        if curr_token.split(\"_\")[0] != \"prepilot\":\n",
    "            curr_update_result = edb.get_uuid_db().update_one({\"uuid\": uuid}, {\"$set\": {\"user_email\": \"prepilot_\"+curr_token}})\n",
    "            print(\"update result for %s is %s\" % (uuid, curr_update_result.raw_result))"
   ]
  },
  {
   "cell_type": "code",
   "execution_count": null,
   "id": "spatial-breach",
   "metadata": {},
   "outputs": [],
   "source": [
    "fix_minipilot_tokens()"
   ]
  },
  {
   "cell_type": "code",
   "execution_count": null,
   "id": "thermal-america",
   "metadata": {},
   "outputs": [],
   "source": [
    "# Split UUIDs by program\n",
    "program_uuid_map = {}\n",
    "for ue in edb.get_uuid_db().find():\n",
    "    program = ue['user_email'].split(\"_\")[0]\n",
    "    if program in program_uuid_map.keys():\n",
    "        program_uuid_map[program].append(str(ue['uuid']))\n",
    "    else:\n",
    "        print(f\"Found new program {program}, creating new list\")\n",
    "        program_uuid_map[program] = []\n",
    "        program_uuid_map[program].append(str(ue['uuid']))"
   ]
  },
  {
   "cell_type": "code",
   "execution_count": null,
   "id": "encouraging-surgeon",
   "metadata": {},
   "outputs": [],
   "source": [
    "uuid_program_list = []\n",
    "for ue in edb.get_uuid_db().find():\n",
    "    program = ue['user_email'].split(\"_\")[0]\n",
    "    uuid_program_list.append({\"program\": program, \"opcode\": ue[\"user_email\"], \"user_id_str\": str(ue['uuid'])})"
   ]
  },
  {
   "cell_type": "code",
   "execution_count": null,
   "id": "recognized-shade",
   "metadata": {},
   "outputs": [],
   "source": [
    "program_uuid_map.keys()"
   ]
  },
  {
   "cell_type": "code",
   "execution_count": null,
   "id": "egyptian-witch",
   "metadata": {},
   "outputs": [],
   "source": [
    "uuid_program_df = pd.DataFrame.from_dict(uuid_program_list)\n",
    "uuid_program_df.head()"
   ]
  },
  {
   "cell_type": "code",
   "execution_count": null,
   "id": "earned-lecture",
   "metadata": {},
   "outputs": [],
   "source": [
    "uuid_program_df.loc[uuid_program_df.groupby(\"program\").groups['4c']]"
   ]
  },
  {
   "cell_type": "code",
   "execution_count": null,
   "id": "contemporary-clothing",
   "metadata": {},
   "outputs": [],
   "source": [
    "program_uuid_map['4c']"
   ]
  },
  {
   "cell_type": "code",
   "execution_count": null,
   "id": "included-permission",
   "metadata": {},
   "outputs": [],
   "source": [
    "tq = scaffolding.get_time_query(year, month)\n",
    "participant_ct_df = scaffolding.load_all_participant_trips(program, tq)"
   ]
  },
  {
   "cell_type": "code",
   "execution_count": null,
   "id": "imperial-inspector",
   "metadata": {},
   "outputs": [],
   "source": [
    "participant_ct_df[\"user_id_str\"] = participant_ct_df.user_id.apply(lambda u: str(u))\n",
    "len(participant_ct_df.user_id_str.unique())"
   ]
  },
  {
   "cell_type": "markdown",
   "id": "dried-roller",
   "metadata": {},
   "source": [
    "### Transform"
   ]
  },
  {
   "cell_type": "code",
   "execution_count": null,
   "id": "naval-blake",
   "metadata": {},
   "outputs": [],
   "source": [
    "trip_program_df = participant_ct_df.merge(uuid_program_df, on=\"user_id_str\")"
   ]
  },
  {
   "cell_type": "code",
   "execution_count": null,
   "id": "brazilian-escape",
   "metadata": {},
   "outputs": [],
   "source": [
    "trip_program_df.sample(n=50, random_state=123)[[\"program\", \"user_id_str\", \"opcode\", \"_id\", \"start_fmt_time\", \"end_fmt_time\"]]"
   ]
  },
  {
   "cell_type": "code",
   "execution_count": null,
   "id": "acceptable-manhattan",
   "metadata": {},
   "outputs": [],
   "source": [
    "labeled_ct = scaffolding.filter_labeled_trips(trip_program_df)"
   ]
  },
  {
   "cell_type": "code",
   "execution_count": null,
   "id": "foreign-promise",
   "metadata": {},
   "outputs": [],
   "source": [
    "label_summary_df = pd.DataFrame({\"total_trips\": trip_program_df.groupby(\"program\").source.count(), \"labeled_trips\": labeled_ct.groupby(\"program\").source.count()})\n",
    "label_summary_df"
   ]
  },
  {
   "cell_type": "code",
   "execution_count": null,
   "id": "identical-glucose",
   "metadata": {},
   "outputs": [],
   "source": [
    "label_summary_df[\"label_pct\"] = (label_summary_df.labeled_trips / label_summary_df.total_trips) * 100"
   ]
  },
  {
   "cell_type": "code",
   "execution_count": null,
   "id": "persistent-holocaust",
   "metadata": {},
   "outputs": [],
   "source": [
    "label_summary_df"
   ]
  },
  {
   "cell_type": "code",
   "execution_count": null,
   "id": "enabling-slide",
   "metadata": {},
   "outputs": [],
   "source": [
    "label_user_summary_df = pd.DataFrame({\"total_trips\": trip_program_df.groupby([\"program\", \"user_id_str\"]).source.count(), \"labeled_trips\": labeled_ct.groupby([\"program\", \"user_id_str\"]).source.count()})"
   ]
  },
  {
   "cell_type": "code",
   "execution_count": null,
   "id": "fitting-bloom",
   "metadata": {},
   "outputs": [],
   "source": [
    "label_user_summary_df[\"label_pct\"] = (label_user_summary_df.labeled_trips / label_user_summary_df.total_trips) * 100\n",
    "label_user_summary_df"
   ]
  },
  {
   "cell_type": "code",
   "execution_count": null,
   "id": "intensive-mills",
   "metadata": {},
   "outputs": [],
   "source": [
    "label_summary_df.drop(\"prepilot\")"
   ]
  },
  {
   "cell_type": "code",
   "execution_count": null,
   "id": "nuclear-aquatic",
   "metadata": {},
   "outputs": [],
   "source": [
    "label_user_summary_df.drop(\"prepilot\")"
   ]
  },
  {
   "cell_type": "markdown",
   "id": "confused-retail",
   "metadata": {},
   "source": [
    "### Plot"
   ]
  },
  {
   "cell_type": "code",
   "execution_count": null,
   "id": "qualified-success",
   "metadata": {},
   "outputs": [],
   "source": [
    "label_summary_df.label_pct.plot(kind=\"bar\", ylabel=\"% of labeled trips\", title=\"Variation in labeling percentage across programs\")"
   ]
  },
  {
   "cell_type": "code",
   "execution_count": null,
   "id": "widespread-forward",
   "metadata": {},
   "outputs": [],
   "source": [
    "label_summary_df.drop(\"prepilot\").label_pct.plot(kind=\"bar\", ylabel=\"% of labeled trips\", title=\"Variation in labeling percentage across programs\")"
   ]
  },
  {
   "cell_type": "code",
   "execution_count": null,
   "id": "banned-slovenia",
   "metadata": {},
   "outputs": [],
   "source": [
    "ax=label_user_summary_df.label_pct.plot(kind=\"bar\", xticks=[])\n",
    "ax.set_xlabel(\"user\")\n",
    "ax.set_ylabel(\"Percentage of trips labeled\")\n",
    "ax.set_title(\"Percentage of trips labeled by each user\")"
   ]
  },
  {
   "cell_type": "code",
   "execution_count": null,
   "id": "pacific-blues",
   "metadata": {},
   "outputs": [],
   "source": [
    "ax=label_user_summary_df.drop(\"prepilot\").label_pct.plot(kind=\"bar\", xticks=[])\n",
    "ax.set_xlabel(\"user\")\n",
    "ax.set_ylabel(\"Percentage of trips labeled\")\n",
    "ax.set_title(\"Percentage of trips labeled by each user\")"
   ]
  },
  {
   "cell_type": "code",
   "execution_count": null,
   "id": "fifteen-complement",
   "metadata": {},
   "outputs": [],
   "source": [
    "flattened_label_user_summary_df = label_user_summary_df.reset_index()"
   ]
  },
  {
   "cell_type": "code",
   "execution_count": null,
   "id": "average-metadata",
   "metadata": {},
   "outputs": [],
   "source": [
    "flattened_label_user_summary_df"
   ]
  },
  {
   "cell_type": "code",
   "execution_count": null,
   "id": "disciplinary-shanghai",
   "metadata": {},
   "outputs": [],
   "source": [
    "no_prepilot_flattened_label_user_summary_df = label_user_summary_df.drop(\"prepilot\").reset_index()"
   ]
  },
  {
   "cell_type": "code",
   "execution_count": null,
   "id": "centered-solution",
   "metadata": {},
   "outputs": [],
   "source": [
    "no_prepilot_flattened_label_user_summary_df"
   ]
  },
  {
   "cell_type": "code",
   "execution_count": null,
   "id": "suitable-lloyd",
   "metadata": {},
   "outputs": [],
   "source": [
    "ax = flattened_label_user_summary_df.boxplot(column=['label_pct'], by=\"program\")\n",
    "type(ax)\n",
    "ax.set_title(\"\")\n",
    "ax.set_ylabel(\"percentage of labeled trips\")\n",
    "ax.get_figure().suptitle(\"Labeling rate by program\")"
   ]
  },
  {
   "cell_type": "code",
   "execution_count": null,
   "id": "suburban-hungarian",
   "metadata": {},
   "outputs": [],
   "source": [
    "ax = no_prepilot_flattened_label_user_summary_df.boxplot(column=['label_pct'], by=\"program\")\n",
    "type(ax)\n",
    "ax.set_title(\"\")\n",
    "ax.set_ylabel(\"percentage of labeled trips\")\n",
    "ax.get_figure().suptitle(\"Labeling rate by program\")"
   ]
  },
  {
   "cell_type": "code",
   "execution_count": null,
   "id": "streaming-qatar",
   "metadata": {},
   "outputs": [],
   "source": [
    "ax = flattened_label_user_summary_df.dropna().sort_values(by=\"label_pct\").label_pct.plot.bar(y=\"label_pct\", xticks=[])\n",
    "ax.set_xlabel(\"user\")\n",
    "ax.set_ylabel(\"Percentage of trips labeled\")\n",
    "ax.set_title(\"Percentage of trips labeled by user\")"
   ]
  },
  {
   "cell_type": "code",
   "execution_count": null,
   "id": "paperback-alarm",
   "metadata": {},
   "outputs": [],
   "source": [
    "ax = no_prepilot_flattened_label_user_summary_df.dropna().sort_values(by=\"label_pct\").label_pct.plot.bar(y=\"label_pct\", xticks=[])\n",
    "ax.set_xlabel(\"user\")\n",
    "ax.set_ylabel(\"Percentage of trips labeled\")\n",
    "ax.set_title(\"Percentage of trips labeled by user\")"
   ]
  },
  {
   "cell_type": "code",
   "execution_count": null,
   "id": "statistical-nirvana",
   "metadata": {},
   "outputs": [],
   "source": [
    "import seaborn as sns"
   ]
  },
  {
   "cell_type": "code",
   "execution_count": null,
   "id": "simplified-indie",
   "metadata": {},
   "outputs": [],
   "source": [
    "ax=sns.barplot(data=flattened_label_user_summary_df, x=\"program\", y=\"label_pct\")\n",
    "ax.set_ylabel(\"Percentage of trips labeled\")\n",
    "ax.set_title(\"Mean labeling rate and variance per program\")"
   ]
  },
  {
   "cell_type": "code",
   "execution_count": null,
   "id": "nuclear-uniform",
   "metadata": {},
   "outputs": [],
   "source": [
    "ax=sns.barplot(data=no_prepilot_flattened_label_user_summary_df, x=\"program\", y=\"label_pct\")\n",
    "ax.set_ylabel(\"Percentage of trips labeled\")\n",
    "ax.set_title(\"Mean labeling rate and variance per program\")"
   ]
  },
  {
   "cell_type": "markdown",
   "id": "light-offset",
   "metadata": {},
   "source": [
    "### Describe"
   ]
  },
  {
   "cell_type": "code",
   "execution_count": null,
   "id": "distributed-camcorder",
   "metadata": {},
   "outputs": [],
   "source": [
    "def describe_label_info(df):\n",
    "    print(f\"Total number of trips {len(df)} from {len(df.user_id.unique())} unique users\")\n",
    "    print(f\"Number of trips with at least one label {len(df[df.user_input != {}])} from {len(df[df.user_input != {}].user_id.unique())} unique users\")\n",
    "    no_user_label_ct_df = df[df.user_input == {}]\n",
    "    print(f\"Trips without user specified labels {len(no_user_label_ct_df)} from {len(no_user_label_ct_df.user_id.unique())} users\")\n",
    "    is_empty_check = lambda ll: len(ll) == 0 if type(ll) == list else True\n",
    "    print(f\"Trips without user label but with inferred label {len(no_user_label_ct_df[~no_user_label_ct_df.inferred_labels.apply(is_empty_check)])}\")\n",
    "    print(f\"Trips without user label or inferred label {len(no_user_label_ct_df[no_user_label_ct_df.inferred_labels.apply(is_empty_check)])}\")\n",
    "    stage_df = df[df.program == 'stage']\n",
    "    print(f\"Number of trips in stage = {len(df[df.program=='stage'])} from {len(df[df.program=='stage'].user_id.unique())} unique users\")\n",
    "    print(f\"Number of trips in real programs = {len(df[df.program!='stage'])} from {len(df[df.program!='stage'].user_id.unique())} unique users\")\n",
    "    trip_count_df = df.groupby(\"program\").source.count()\n",
    "    user_count_df = df.groupby(\"program\").user_id.unique().apply(lambda unique_list: len(unique_list))\n",
    "    # print(trip_count_df)\n",
    "    # print(user_count_df)\n",
    "    count_df = pd.DataFrame({\"trips\": trip_count_df, \"unique_users\": user_count_df})\n",
    "    # print(count_df)\n",
    "    print(f\"Program specific counts: \", count_df.to_dict())"
   ]
  },
  {
   "cell_type": "code",
   "execution_count": null,
   "id": "official-working",
   "metadata": {},
   "outputs": [],
   "source": [
    "# test_df = pd.DataFrame({\"inferred_labels\": [[], np.NaN, [1,2], [3.4]]})"
   ]
  },
  {
   "cell_type": "code",
   "execution_count": null,
   "id": "mexican-buying",
   "metadata": {},
   "outputs": [],
   "source": [
    "# test_df"
   ]
  },
  {
   "cell_type": "code",
   "execution_count": null,
   "id": "sophisticated-escape",
   "metadata": {},
   "outputs": [],
   "source": [
    "# is_empty_check = lambda ll: len(ll) == 0 if type(ll) == list else True\n",
    "# test_df.inferred_labels.apply(is_empty_check)"
   ]
  },
  {
   "cell_type": "code",
   "execution_count": null,
   "id": "fundamental-richards",
   "metadata": {},
   "outputs": [],
   "source": [
    "describe_label_info(trip_program_df)"
   ]
  },
  {
   "cell_type": "code",
   "execution_count": null,
   "id": "manufactured-technical",
   "metadata": {},
   "outputs": [],
   "source": [
    "describe_label_info(trip_program_df[trip_program_df.program != \"prepilot\"])"
   ]
  },
  {
   "cell_type": "code",
   "execution_count": null,
   "id": "unexpected-rendering",
   "metadata": {
    "scrolled": true
   },
   "outputs": [],
   "source": [
    "describe_label_info(labeled_ct)"
   ]
  },
  {
   "cell_type": "code",
   "execution_count": null,
   "id": "collective-atlanta",
   "metadata": {},
   "outputs": [],
   "source": [
    "describe_label_info(labeled_ct[labeled_ct.program != \"prepilot\"])"
   ]
  },
  {
   "cell_type": "code",
   "execution_count": null,
   "id": "indoor-jumping",
   "metadata": {},
   "outputs": [],
   "source": [
    "# Android versions"
   ]
  },
  {
   "cell_type": "code",
   "execution_count": null,
   "id": "f4b32c9e",
   "metadata": {},
   "outputs": [],
   "source": [
    "profile_df = pd.json_normalize(edb.get_profile_db().find())\n",
    "profile_df[\"user_id_str\"] = profile_df.user_id.apply(lambda u: str(u))\n",
    "profile_program_df = profile_df.merge(uuid_program_df, on=\"user_id_str\")"
   ]
  },
  {
   "cell_type": "code",
   "execution_count": null,
   "id": "8d5b5912",
   "metadata": {},
   "outputs": [],
   "source": [
    "profile_program_df.query(\"curr_platform == 'android' & program != 'stage'\").client_os_version.value_counts().plot(kind='pie')"
   ]
  },
  {
   "cell_type": "code",
   "execution_count": null,
   "id": "2b429646",
   "metadata": {},
   "outputs": [],
   "source": [
    "profile_program_df.query(\"curr_platform == 'ios'\").client_os_version.value_counts().plot(kind='pie')"
   ]
  },
  {
   "cell_type": "code",
   "execution_count": null,
   "id": "63cd80ec",
   "metadata": {},
   "outputs": [],
   "source": [
    "profile_program_df.query(\"curr_platform == 'ios' & program != 'stage'\").client_os_version.value_counts().plot(kind='pie')"
   ]
  },
  {
   "cell_type": "code",
   "execution_count": null,
   "id": "caafa0b0",
   "metadata": {},
   "outputs": [],
   "source": [
    "high_income_participants = [...]\n",
    "uuid_program_df[uuid_program_df.user_id_str.isin(high_income_participants)]"
   ]
  },
  {
   "cell_type": "code",
   "execution_count": null,
   "id": "a6c5a4f3",
   "metadata": {},
   "outputs": [],
   "source": [
    "participant_ct_df[\"start_ts_dt\"] = participant_ct_df.start_ts.apply(lambda st: arrow.get(st))"
   ]
  },
  {
   "cell_type": "code",
   "execution_count": null,
   "id": "88bc9d8f",
   "metadata": {},
   "outputs": [],
   "source": [
    "participant_ct_df[participant_ct_df.user_id_str.isin(high_income_participants)].groupby(\"user_id_str\").start_ts_dt.min()"
   ]
  },
  {
   "cell_type": "code",
   "execution_count": null,
   "id": "6b66013d",
   "metadata": {},
   "outputs": [],
   "source": [
    "participant_ct_df[participant_ct_df.user_id_str.isin(high_income_participants)].groupby(\"user_id_str\").start_ts_dt.max()"
   ]
  },
  {
   "cell_type": "code",
   "execution_count": null,
   "id": "488224cd",
   "metadata": {},
   "outputs": [],
   "source": [
    "participant_ct_df[participant_ct_df.user_id_str.isin(high_income_participants)].groupby('user_id_str').plot(x=\"start_ts_dt\", y=\"distance\", subplots=True)"
   ]
  },
  {
   "cell_type": "code",
   "execution_count": null,
   "id": "3ab27575",
   "metadata": {},
   "outputs": [],
   "source": [
    "en_survey = pd.read_csv(\"en_survey.csv\")"
   ]
  },
  {
   "cell_type": "code",
   "execution_count": null,
   "id": "6ee76343",
   "metadata": {},
   "outputs": [],
   "source": [
    "def convert_to_uuid_format(us):\n",
    "    try:\n",
    "        return str(UUID(us))\n",
    "    except ValueError as e:\n",
    "        return None\n",
    "    \n",
    "en_survey[\"user_id_str\"] = en_survey['Unique User ID (auto-filled, do not edit)'].dropna().apply(convert_to_uuid_format)"
   ]
  },
  {
   "cell_type": "code",
   "execution_count": null,
   "id": "7b9e219d",
   "metadata": {},
   "outputs": [],
   "source": [
    "en_survey[en_survey.user_id_str.isin(high_income_participants)]"
   ]
  },
  {
   "cell_type": "code",
   "execution_count": null,
   "id": "3c6149e4",
   "metadata": {},
   "outputs": [],
   "source": []
  }
 ],
 "metadata": {
  "kernelspec": {
   "display_name": "Python 3 (ipykernel)",
   "language": "python",
   "name": "python3"
  },
  "language_info": {
   "codemirror_mode": {
    "name": "ipython",
    "version": 3
   },
   "file_extension": ".py",
   "mimetype": "text/x-python",
   "name": "python",
   "nbconvert_exporter": "python",
   "pygments_lexer": "ipython3",
   "version": "3.7.12"
  }
 },
 "nbformat": 4,
 "nbformat_minor": 5
}
